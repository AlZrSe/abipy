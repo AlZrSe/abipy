{
 "metadata": {
  "name": ""
 },
 "nbformat": 3,
 "nbformat_minor": 0,
 "worksheets": [
  {
   "cells": [
    {
     "cell_type": "heading",
     "level": 1,
     "metadata": {},
     "source": [
      "TaskManager"
     ]
    },
    {
     "cell_type": "markdown",
     "metadata": {},
     "source": [
      "The `TaskManager` is responsible for the submission of the tasks (initialization of the environment, creation of the submission script) as well as for the optimization of the parameters used for the parallel executions (number of MPI processes, number of OpeMP threads). A typical configuration file for the `TaskManager` looks like:"
     ]
    },
    {
     "cell_type": "code",
     "collapsed": false,
     "input": [
      "qtype: slurm\n",
      "qparams:\n",
      "    ntasks: 2\n",
      "    time: 0:20:00\n",
      "    partition: Oban\n",
      "#setup=\"SetEnv intel13_intel\",\n",
      "modules:\n",
      "    - intel/compilerpro/13.0.1.117\n",
      "    - fftw3/intel/3.3\n",
      "shell_env:\n",
      "     PATH: /home/naps/ygillet/NAPS/src/abinit-7.4.3-public/tmp_intel13/src/98_main/:/home/naps/ygillet/NAPS/intel13/bin:$PATH\n",
      "     LD_LIBRARY_PATH: /home/naps/ygillet/NAPS/intel13/lib:$LD_LIBRARY_PATH\n",
      "mpi_runner: mpirun\n",
      "policy:\n",
      "    autoparal: 1\n",
      "    max_ncpus: 2"
     ],
     "language": "python",
     "metadata": {},
     "outputs": []
    },
    {
     "cell_type": "markdown",
     "metadata": {},
     "source": [
      "One can put this configuration either in the directory `$HOME/.abinit/abipy` or in the current working directory. The `TaskManager` can then be easily initialized by calling the class method `from_user_config`  "
     ]
    },
    {
     "cell_type": "code",
     "collapsed": false,
     "input": [
      "from abipy import abilab \n",
      "manager = abilab.TaskManager.from_user_config()\n",
      "print(manager)"
     ],
     "language": "python",
     "metadata": {},
     "outputs": [
      {
       "output_type": "stream",
       "stream": "stdout",
       "text": [
        "tot_ncpus 2, mpi_ncpus 2, omp_ncpus 1\n",
        "MPI_RUNNER <pymatgen.io.abinitio.qadapters.MpiRunner object at 0x102f3ea10>\n",
        "policy: TaskPolicy:\n",
        "max_ncpus: 2\n",
        "constraints: ()\n",
        "autoparal: 1\n",
        "mode: default\n",
        "use_fw: False\n"
       ]
      },
      {
       "output_type": "stream",
       "stream": "stdout",
       "text": [
        "tot_ncpus 2, mpi_ncpus 2, omp_ncpus 1\n",
        "MPI_RUNNER <pymatgen.io.abinitio.qadapters.MpiRunner object at 0x106935a10>\n",
        "policy: TaskPolicy:\n",
        "max_ncpus: 2\n",
        "constraints: ()\n",
        "autoparal: 1\n",
        "mode: default\n",
        "use_fw: False\n"
       ]
      }
     ],
     "prompt_number": 3
    }
   ],
   "metadata": {}
  }
 ]
}