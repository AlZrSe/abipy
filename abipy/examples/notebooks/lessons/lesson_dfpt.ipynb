{
 "metadata": {
  "name": "",
  "signature": "sha256:80b441210d35e41d196b9a9a01b5d403acb2581d6b90f8d81dbcef2d27233c0d"
 },
 "nbformat": 3,
 "nbformat_minor": 0,
 "worksheets": [
  {
   "cells": [
    {
     "cell_type": "markdown",
     "metadata": {},
     "source": [
      "Back to the main [Index](../index.ipynb)"
     ]
    },
    {
     "cell_type": "heading",
     "level": 1,
     "metadata": {},
     "source": [
      "Phonons and Born effective charges with Abinit and AbiPy"
     ]
    },
    {
     "cell_type": "markdown",
     "metadata": {},
     "source": [
      "This lesson shows how to compute phonon band structures, phonon DOSes \n",
      "and Born effective charges with Abinit and AbiPy.\n",
      "The dicussion closely follows the [second lesson](http://www.abinit.org/documentation/helpfiles/for-v7.10/tutorial/lesson_rf2.html)\n",
      "on response functions available on the Abinit web-site.  \n",
      "Let us assume that you have read the litterature relative to the [first lesson](http://www.abinit.org/documentation/helpfiles/for-v7.10/tutorial/lesson_rf1.html)\n",
      "on response functions.\n",
      "\n",
      "You might find additional material, related to the present section, in the following references: \n",
      "\n",
      "   * X. Gonze and C. Lee, Phys. Rev. B55, 10355 (1997), especially section IX \n",
      "   * C. Lee, X. Gonze, Phys. Rev. B 51, 8610 (1995) \n",
      "   * S. Baroni, S. de Gironcoli, A. Dal Corso, P. Giannozzi, Rev. Mod. Phys. 73, 515 (2001)."
     ]
    },
    {
     "cell_type": "heading",
     "level": 1,
     "metadata": {},
     "source": [
      "Creating the input for the SCF-GS run"
     ]
    },
    {
     "cell_type": "markdown",
     "metadata": {},
     "source": [
      "Before starting, we need to import the python modules and the functions we will need \n",
      "to perform our studies. In particular, we need the `make_scf_input` function defined\n",
      "in `abipy.lessons.lesson_dfpt`:"
     ]
    },
    {
     "cell_type": "code",
     "collapsed": false,
     "input": [
      "%matplotlib inline\n",
      "from __future__ import print_function, division\n",
      "\n",
      "from abipy import abilab\n",
      "from abipy.tools.notebooks import print_source\n",
      "\n",
      "from abipy.lessons.lesson_dfpt import make_scf_input"
     ],
     "language": "python",
     "metadata": {},
     "outputs": [],
     "prompt_number": 41
    },
    {
     "cell_type": "markdown",
     "metadata": {},
     "source": [
      "`make_scf_input` returns an `AbinitInput`, a python object with the Abinit variables\n",
      "needed to perform a ground-state calculation for crystalline $AlAs$.\n",
      "Let's have a look at the signature of the function:"
     ]
    },
    {
     "cell_type": "code",
     "collapsed": false,
     "input": [
      "help(make_scf_input)"
     ],
     "language": "python",
     "metadata": {},
     "outputs": [
      {
       "output_type": "stream",
       "stream": "stdout",
       "text": [
        "Help on function make_scf_input in module abipy.lessons.lesson_dfpt:\n",
        "\n",
        "make_scf_input(ecut=2, ngkpt=(4, 4, 4))\n",
        "    This function constructs an `AbinitInput` for performing a \n",
        "    GS-SCF calculation for crystalline AlAs.\n",
        "    \n",
        "    Args:\n",
        "        ecut: cutoff energy in Ha\n",
        "        ngkpt: 3 integers specifying the k-mesh.\n",
        "    \n",
        "    Return:\n",
        "        `AbinitInput` object\n",
        "\n"
       ]
      }
     ],
     "prompt_number": 2
    },
    {
     "cell_type": "markdown",
     "metadata": {},
     "source": [
      "The docstring tells us that if we call `make_scf_input` without arguments, we get a input object\n",
      "for computing the ground-state of $AlAs$ with `ecut=2` and `ngkpt=(4, 4, 4)`.\n",
      "Let's try:"
     ]
    },
    {
     "cell_type": "code",
     "collapsed": false,
     "input": [
      "scf_input = make_scf_input()"
     ],
     "language": "python",
     "metadata": {},
     "outputs": [],
     "prompt_number": 3
    },
    {
     "cell_type": "code",
     "collapsed": false,
     "input": [
      "print(scf_input)"
     ],
     "language": "python",
     "metadata": {},
     "outputs": [
      {
       "output_type": "stream",
       "stream": "stdout",
       "text": [
        "############################################################################################\n",
        "#                                      SECTION: varbas                                      \n",
        "############################################################################################\n",
        "# <Energy CUToff>\n",
        " ecut 2\n",
        "# <SHIFT for K points>\n",
        " shiftk\n",
        "    0.0    0.0    0.5\n",
        "    0.0    0.5    0.0\n",
        "    0.5    0.0    0.0\n",
        "    0.5    0.5    0.5\n",
        "# <Number of Grid points for K PoinTs generation>\n",
        " ngkpt 4 4 4\n",
        "# <Number of BANDs>\n",
        " nband 4\n",
        "# <TOLerance on the potential V(r) ReSidual>\n",
        " tolvrs 1e-10\n",
        "# <Integer for eXchange-Correlation choice>\n",
        " ixc 1\n",
        "# <Number of (non-)self-consistent field STEPS>\n",
        " nstep 25\n",
        "# <Number of SHIFTs for K point grids>\n",
        " nshiftk 4\n",
        "############################################################################################\n",
        "#                                       SECTION: vargs                                      \n",
        "############################################################################################\n",
        "# <model DIElectric MACroscopic constant>\n",
        " diemac 9.0\n",
        "############################################################################################\n",
        "#                                         STRUCTURE                                         \n",
        "############################################################################################\n",
        "# <CELL lattice vector scaling>\n",
        " acell    1.0    1.0    1.0\n",
        "# <vectors (X) of atom positions in REDuced coordinates>\n",
        " xred\n",
        "    0.0000000000    0.0000000000    0.0000000000\n",
        "    0.2500000000    0.2500000000    0.2500000000\n",
        "# <Real space PRIMitive translations>\n",
        " rprim\n",
        "    0.0000000000    5.3050000000    5.3050000000\n",
        "    5.3050000000    0.0000000000    5.3050000000\n",
        "    5.3050000000    5.3050000000    0.0000000000\n",
        "# <TYPE of atoms>\n",
        " typat 1 2\n",
        "# <Number of ATOMs>\n",
        " natom 2\n",
        "# <Number of TYPEs of atoms>\n",
        " ntypat 2\n",
        "# <charge -Z- of the NUCLeus>\n",
        " znucl 13 33\n",
        "\n",
        "\n",
        "#<JSON>\n",
        "#{\n",
        "#    \"pseudos\": [\n",
        "#        {\n",
        "#            \"l_max\": 2, \n",
        "#            \"Z_val\": 3.0, \n",
        "#            \"filepath\": \"/Users/gmatteo/Coding/git_branches/abipy/abipy/data/pseudos/13al.981214.fhi\", \n",
        "#            \"symbol\": \"Al\", \n",
        "#            \"Z\": 13, \n",
        "#            \"type\": \"NcAbinitPseudo\", \n",
        "#            \"basename\": \"13al.981214.fhi\", \n",
        "#            \"@class\": \"NcAbinitPseudo\", \n",
        "#            \"@module\": \"pymatgen.io.abinitio.pseudos\"\n",
        "#        }, \n",
        "#        {\n",
        "#            \"l_max\": 1, \n",
        "#            \"Z_val\": 5.0, \n",
        "#            \"filepath\": \"/Users/gmatteo/Coding/git_branches/abipy/abipy/data/pseudos/33as.pspnc\", \n",
        "#            \"symbol\": \"As\", \n",
        "#            \"Z\": 33, \n",
        "#            \"type\": \"NcAbinitPseudo\", \n",
        "#            \"basename\": \"33as.pspnc\", \n",
        "#            \"@class\": \"NcAbinitPseudo\", \n",
        "#            \"@module\": \"pymatgen.io.abinitio.pseudos\"\n",
        "#        }\n",
        "#    ]\n",
        "#}\n",
        "#</JSON>\n"
       ]
      }
     ],
     "prompt_number": 4
    },
    {
     "cell_type": "markdown",
     "metadata": {},
     "source": [
      "Note that `make_scf_input` makes some assumption for important parameters such as the\n",
      "the crystalline structure and the pseudos to be used. \n",
      "If you want to change these parameters (e.g. the pseudos), you have to write your version of `make_scf_input`.\n",
      "\n",
      "It's less complicated than you think. Let's have a look at the code:"
     ]
    },
    {
     "cell_type": "code",
     "collapsed": false,
     "input": [
      "print_source(make_scf_input)"
     ],
     "language": "python",
     "metadata": {},
     "outputs": [
      {
       "html": [
        "<!DOCTYPE html PUBLIC \"-//W3C//DTD HTML 4.01//EN\"\n",
        "   \"http://www.w3.org/TR/html4/strict.dtd\">\n",
        "\n",
        "<html>\n",
        "<head>\n",
        "  <title></title>\n",
        "  <meta http-equiv=\"content-type\" content=\"text/html; charset=None\">\n",
        "  <style type=\"text/css\">\n",
        "td.linenos { background-color: #f0f0f0; padding-right: 10px; }\n",
        "span.lineno { background-color: #f0f0f0; padding: 0 5px 0 5px; }\n",
        "pre { line-height: 125%; }\n",
        "body .hll { background-color: #ffffcc }\n",
        "body  { background: #f8f8f8; }\n",
        "body .c { color: #408080; font-style: italic } /* Comment */\n",
        "body .err { border: 1px solid #FF0000 } /* Error */\n",
        "body .k { color: #008000; font-weight: bold } /* Keyword */\n",
        "body .o { color: #666666 } /* Operator */\n",
        "body .cm { color: #408080; font-style: italic } /* Comment.Multiline */\n",
        "body .cp { color: #BC7A00 } /* Comment.Preproc */\n",
        "body .c1 { color: #408080; font-style: italic } /* Comment.Single */\n",
        "body .cs { color: #408080; font-style: italic } /* Comment.Special */\n",
        "body .gd { color: #A00000 } /* Generic.Deleted */\n",
        "body .ge { font-style: italic } /* Generic.Emph */\n",
        "body .gr { color: #FF0000 } /* Generic.Error */\n",
        "body .gh { color: #000080; font-weight: bold } /* Generic.Heading */\n",
        "body .gi { color: #00A000 } /* Generic.Inserted */\n",
        "body .go { color: #888888 } /* Generic.Output */\n",
        "body .gp { color: #000080; font-weight: bold } /* Generic.Prompt */\n",
        "body .gs { font-weight: bold } /* Generic.Strong */\n",
        "body .gu { color: #800080; font-weight: bold } /* Generic.Subheading */\n",
        "body .gt { color: #0044DD } /* Generic.Traceback */\n",
        "body .kc { color: #008000; font-weight: bold } /* Keyword.Constant */\n",
        "body .kd { color: #008000; font-weight: bold } /* Keyword.Declaration */\n",
        "body .kn { color: #008000; font-weight: bold } /* Keyword.Namespace */\n",
        "body .kp { color: #008000 } /* Keyword.Pseudo */\n",
        "body .kr { color: #008000; font-weight: bold } /* Keyword.Reserved */\n",
        "body .kt { color: #B00040 } /* Keyword.Type */\n",
        "body .m { color: #666666 } /* Literal.Number */\n",
        "body .s { color: #BA2121 } /* Literal.String */\n",
        "body .na { color: #7D9029 } /* Name.Attribute */\n",
        "body .nb { color: #008000 } /* Name.Builtin */\n",
        "body .nc { color: #0000FF; font-weight: bold } /* Name.Class */\n",
        "body .no { color: #880000 } /* Name.Constant */\n",
        "body .nd { color: #AA22FF } /* Name.Decorator */\n",
        "body .ni { color: #999999; font-weight: bold } /* Name.Entity */\n",
        "body .ne { color: #D2413A; font-weight: bold } /* Name.Exception */\n",
        "body .nf { color: #0000FF } /* Name.Function */\n",
        "body .nl { color: #A0A000 } /* Name.Label */\n",
        "body .nn { color: #0000FF; font-weight: bold } /* Name.Namespace */\n",
        "body .nt { color: #008000; font-weight: bold } /* Name.Tag */\n",
        "body .nv { color: #19177C } /* Name.Variable */\n",
        "body .ow { color: #AA22FF; font-weight: bold } /* Operator.Word */\n",
        "body .w { color: #bbbbbb } /* Text.Whitespace */\n",
        "body .mf { color: #666666 } /* Literal.Number.Float */\n",
        "body .mh { color: #666666 } /* Literal.Number.Hex */\n",
        "body .mi { color: #666666 } /* Literal.Number.Integer */\n",
        "body .mo { color: #666666 } /* Literal.Number.Oct */\n",
        "body .sb { color: #BA2121 } /* Literal.String.Backtick */\n",
        "body .sc { color: #BA2121 } /* Literal.String.Char */\n",
        "body .sd { color: #BA2121; font-style: italic } /* Literal.String.Doc */\n",
        "body .s2 { color: #BA2121 } /* Literal.String.Double */\n",
        "body .se { color: #BB6622; font-weight: bold } /* Literal.String.Escape */\n",
        "body .sh { color: #BA2121 } /* Literal.String.Heredoc */\n",
        "body .si { color: #BB6688; font-weight: bold } /* Literal.String.Interpol */\n",
        "body .sx { color: #008000 } /* Literal.String.Other */\n",
        "body .sr { color: #BB6688 } /* Literal.String.Regex */\n",
        "body .s1 { color: #BA2121 } /* Literal.String.Single */\n",
        "body .ss { color: #19177C } /* Literal.String.Symbol */\n",
        "body .bp { color: #008000 } /* Name.Builtin.Pseudo */\n",
        "body .vc { color: #19177C } /* Name.Variable.Class */\n",
        "body .vg { color: #19177C } /* Name.Variable.Global */\n",
        "body .vi { color: #19177C } /* Name.Variable.Instance */\n",
        "body .il { color: #666666 } /* Literal.Number.Integer.Long */\n",
        "\n",
        "  </style>\n",
        "</head>\n",
        "<body>\n",
        "<h2></h2>\n",
        "\n",
        "<div class=\"highlight\"><pre><span class=\"k\">def</span> <span class=\"nf\">make_scf_input</span><span class=\"p\">(</span><span class=\"n\">ecut</span><span class=\"o\">=</span><span class=\"mi\">2</span><span class=\"p\">,</span> <span class=\"n\">ngkpt</span><span class=\"o\">=</span><span class=\"p\">(</span><span class=\"mi\">4</span><span class=\"p\">,</span> <span class=\"mi\">4</span><span class=\"p\">,</span> <span class=\"mi\">4</span><span class=\"p\">)):</span>\n",
        "    <span class=\"sd\">&quot;&quot;&quot;</span>\n",
        "<span class=\"sd\">    This function constructs an `AbinitInput` for performing a </span>\n",
        "<span class=\"sd\">    GS-SCF calculation for crystalline AlAs.</span>\n",
        "\n",
        "<span class=\"sd\">    Args:</span>\n",
        "<span class=\"sd\">        ecut: cutoff energy in Ha</span>\n",
        "<span class=\"sd\">        ngkpt: 3 integers specifying the k-mesh.</span>\n",
        "\n",
        "<span class=\"sd\">    Return:</span>\n",
        "<span class=\"sd\">        `AbinitInput` object </span>\n",
        "<span class=\"sd\">    &quot;&quot;&quot;</span>\n",
        "    <span class=\"c\"># Initialize the AlAs structure from an internal database. Use the pseudos shipped with AbiPy.</span>\n",
        "    <span class=\"n\">gs_inp</span> <span class=\"o\">=</span> <span class=\"n\">abilab</span><span class=\"o\">.</span><span class=\"n\">AbinitInput</span><span class=\"p\">(</span><span class=\"n\">structure</span><span class=\"o\">=</span><span class=\"n\">abidata</span><span class=\"o\">.</span><span class=\"n\">structure_from_ucell</span><span class=\"p\">(</span><span class=\"s\">&quot;AlAs&quot;</span><span class=\"p\">),</span>\n",
        "                                <span class=\"n\">pseudos</span><span class=\"o\">=</span><span class=\"n\">abidata</span><span class=\"o\">.</span><span class=\"n\">pseudos</span><span class=\"p\">(</span><span class=\"s\">&quot;13al.981214.fhi&quot;</span><span class=\"p\">,</span> <span class=\"s\">&quot;33as.pspnc&quot;</span><span class=\"p\">))</span>\n",
        "    \n",
        "    <span class=\"c\"># Set the value of the Abinit variables needed for GS runs.</span>\n",
        "    <span class=\"n\">gs_inp</span><span class=\"o\">.</span><span class=\"n\">set_vars</span><span class=\"p\">(</span>\n",
        "        <span class=\"n\">nband</span><span class=\"o\">=</span><span class=\"mi\">4</span><span class=\"p\">,</span>             \n",
        "        <span class=\"n\">ecut</span><span class=\"o\">=</span><span class=\"n\">ecut</span><span class=\"p\">,</span>         \n",
        "        <span class=\"n\">ngkpt</span><span class=\"o\">=</span><span class=\"n\">ngkpt</span><span class=\"p\">,</span>\n",
        "        <span class=\"n\">nshiftk</span><span class=\"o\">=</span><span class=\"mi\">4</span><span class=\"p\">,</span>\n",
        "        <span class=\"n\">shiftk</span><span class=\"o\">=</span><span class=\"p\">[</span><span class=\"mf\">0.0</span><span class=\"p\">,</span> <span class=\"mf\">0.0</span><span class=\"p\">,</span> <span class=\"mf\">0.5</span><span class=\"p\">,</span>   <span class=\"c\"># This gives the usual fcc Monkhorst-Pack grid</span>\n",
        "                <span class=\"mf\">0.0</span><span class=\"p\">,</span> <span class=\"mf\">0.5</span><span class=\"p\">,</span> <span class=\"mf\">0.0</span><span class=\"p\">,</span>\n",
        "                <span class=\"mf\">0.5</span><span class=\"p\">,</span> <span class=\"mf\">0.0</span><span class=\"p\">,</span> <span class=\"mf\">0.0</span><span class=\"p\">,</span>\n",
        "                <span class=\"mf\">0.5</span><span class=\"p\">,</span> <span class=\"mf\">0.5</span><span class=\"p\">,</span> <span class=\"mf\">0.5</span><span class=\"p\">],</span>\n",
        "        <span class=\"n\">ixc</span><span class=\"o\">=</span><span class=\"mi\">1</span><span class=\"p\">,</span>\n",
        "        <span class=\"n\">nstep</span><span class=\"o\">=</span><span class=\"mi\">25</span><span class=\"p\">,</span>\n",
        "        <span class=\"n\">diemac</span><span class=\"o\">=</span><span class=\"mf\">9.0</span><span class=\"p\">,</span>\n",
        "        <span class=\"n\">tolvrs</span><span class=\"o\">=</span><span class=\"mf\">1.0e-10</span><span class=\"p\">,</span>\n",
        "    <span class=\"p\">)</span>\n",
        "    \n",
        "    <span class=\"n\">gs_inp</span><span class=\"o\">.</span><span class=\"n\">set_mnemonics</span><span class=\"p\">(</span><span class=\"bp\">True</span><span class=\"p\">)</span>\n",
        "    <span class=\"k\">return</span> <span class=\"n\">gs_inp</span>\n",
        "</pre></div>\n",
        "</body>\n",
        "</html>\n"
       ],
       "metadata": {},
       "output_type": "pyout",
       "prompt_number": 5,
       "text": [
        "<IPython.core.display.HTML at 0x10ea74750>"
       ]
      }
     ],
     "prompt_number": 5
    },
    {
     "cell_type": "markdown",
     "metadata": {},
     "source": [
      "As you can see, `make_scf_input` is just initializing the `AbinitInput` object \n",
      "with a hardcoded list of pseudos and lattice parameters taken from an internal database.\n",
      "\n",
      "`AbinitInput` is a dict-like object and the `set_vars` function sets the values of the \n",
      "Abinit variables needed for the GS-SCF run. \n",
      "It should not be so difficult to generalize the code to take into account other cases.\n",
      "\n",
      "In the next paragraphs, we will show how to use `scf_input` to generate more complicated \n",
      "flows for DFPT calculations. \n",
      "More specifically, we'll discuss how to\n",
      "\n",
      "   * Perform a converge study for the phonon frequencies at $\\Gamma$ as function of `ecut`\n",
      "   * Compute the full phonon band structure of `AlAs` with the inclusion of Born \n",
      "     effective charges"
     ]
    },
    {
     "cell_type": "heading",
     "level": 1,
     "metadata": {},
     "source": [
      "Convergence study for the phonon frequencies at $\\Gamma$ as function of `ecut`"
     ]
    },
    {
     "cell_type": "markdown",
     "metadata": {},
     "source": [
      "In this section, we use `scf_input` as a starting point to build more \n",
      "complicated DFPT calculations. \n",
      "AbiPy, indeed, provides several factory functions to costruct flows from an \n",
      "initial `AbinitInput` object.\n",
      "\n",
      "These factory functions accept optional parameters that can be used to customize the flow \n",
      "(a `Flow` is a set of Abinit `Tasks` connected by dependencies).\n",
      "The function `phonon_conv_flow`, for example, builds and returns a `Flow` that performs \n",
      "a phonon calculation on a given set of $q$-points.\n",
      "\n",
      "Let's use `scf_input` and `phonon_conv_flow`, to perform a convergence study for \n",
      "the phonons at `qpt=(0,0,0)` for different values of `ecut`: "
     ]
    },
    {
     "cell_type": "code",
     "collapsed": false,
     "input": [
      "flow = abilab.phonon_conv_flow(\"flow_alas_ecut_conv\", scf_input, qpoints=(0, 0, 0), \n",
      "                                params=[\"ecut\", [4, 6, 8]])\n",
      "\n",
      "flow.plot_networkx(with_edge_labels=True)"
     ],
     "language": "python",
     "metadata": {},
     "outputs": [
      {
       "metadata": {},
       "output_type": "display_data",
       "png": "[encoded data removed]",
       "text": [
        "<matplotlib.figure.Figure at 0x10fb17ed0>"
       ]
      }
     ],
     "prompt_number": 6
    },
    {
     "cell_type": "markdown",
     "metadata": {},
     "source": [
      "The flow generated by `phonon_conv_flow` contains three independent groups of tasks, one group per each value of `ecut` specified in `params`.\n",
      "Each group consists of one `ScfTask` that solves the `KS` equations self-consistently and produces a WFK file.\n",
      "This `ScfTask` is the parent of two `PhononTasks` that will use the WFK file produced by `ScfTask`\n",
      "to compute the first-order change of the wavefunctions due to one of the *irreducible* atomic pertubations.\n",
      "This explains why we have two `PhononTasks` per $q$-point instead of the total number of phonon modes that equals $3*N_{atom}=6$. \n",
      "Note that `phonon_conv_flow` invokes Abinit under the hood to get the list of irreducible perturbations and uses this information to build the flow."
     ]
    },
    {
     "cell_type": "markdown",
     "metadata": {},
     "source": [
      "Now we can start the calculation with the scheduler.\n"
     ]
    },
    {
     "cell_type": "code",
     "collapsed": false,
     "input": [
      "%%capture\n",
      "# discards the output in ipython notebooks\n",
      "flow.make_scheduler().start()"
     ],
     "language": "python",
     "metadata": {},
     "outputs": [
      {
       "metadata": {},
       "output_type": "pyout",
       "prompt_number": 7,
       "text": [
        "0"
       ]
      }
     ],
     "prompt_number": 7
    },
    {
     "cell_type": "markdown",
     "metadata": {},
     "source": [
      "The scheduler blocks until the entire `Flow` is completed.\n",
      "You will have to wait a bit before proceeding with the next steps!"
     ]
    },
    {
     "cell_type": "code",
     "collapsed": false,
     "input": [
      "flow.show_summary()"
     ],
     "language": "python",
     "metadata": {},
     "outputs": [
      {
       "output_type": "stream",
       "stream": "stdout",
       "text": [
        "<Flow, node_id=33060, workdir=flow_alas_ecut_conv>, num_tasks=9, all_ok=True\n",
        "    Completed: 9\n"
       ]
      }
     ],
     "prompt_number": 8
    },
    {
     "cell_type": "markdown",
     "metadata": {},
     "source": [
      "The calculation is completed and there are several output files located inside the \n",
      "`outdata` directories.\n",
      "Let's print a table with all the DDB files (a.k.a. Derivative Database) that have been \n",
      "produced by our `Flow`:"
     ]
    },
    {
     "cell_type": "code",
     "collapsed": false,
     "input": [
      "flow.listext(\"DDB\")"
     ],
     "language": "python",
     "metadata": {},
     "outputs": [
      {
       "output_type": "stream",
       "stream": "stdout",
       "text": [
        "Found 6 files with extension DDB produced by the flow\n",
        "+-------------------------------------------+-----------+---------+------------+\n",
        "|                    File                   | Size [Mb] | Node_ID | Node Class |\n",
        "+-------------------------------------------+-----------+---------+------------+\n",
        "| flow_alas_ecut_conv/w0/t0/outdata/out_DDB |    0.01   |  33062  |  ScfTask   |\n",
        "|   flow_alas_ecut_conv/w1/outdata/out_DDB  |    0.02   |  33063  | PhononWork |\n",
        "| flow_alas_ecut_conv/w2/t0/outdata/out_DDB |    0.01   |  33068  |  ScfTask   |\n",
        "|   flow_alas_ecut_conv/w3/outdata/out_DDB  |    0.02   |  33069  | PhononWork |\n",
        "| flow_alas_ecut_conv/w4/t0/outdata/out_DDB |    0.01   |  33074  |  ScfTask   |\n",
        "|   flow_alas_ecut_conv/w5/outdata/out_DDB  |    0.02   |  33075  | PhononWork |\n",
        "+-------------------------------------------+-----------+---------+------------+\n"
       ]
      }
     ],
     "prompt_number": 9
    },
    {
     "cell_type": "markdown",
     "metadata": {},
     "source": [
      "We are mainly interested in the DDB files located in the `outdata` directories of the `PhononWorks`.\n",
      "These are indeed the DDB files with all the information needed to reconstruct the \n",
      "dynamical matrix at $\\Gamma$ and to compute the phonon frequencies (AbiPy calls `mrgddb`\n",
      "to merge the DDB files when all the perturbations in the `PhononWork` have been computed).\n",
      "\n",
      "Remember that our goal is to analyze the convergence of the phonon frequencies at $\\Gamma$ \n",
      "as function of `ecut`. \n",
      "In principle, one should run `anaddb` with the different DDB files, extract the data from the output files, gather the results in another file and finally plot the results.\n",
      "This is the lengthy procedure we have been using for years but now we have the abipy robots that\n",
      "will do most of the boring work in a semi-automated way.\n",
      "\n",
      "The code below tells our robot that we would like to analyze all the DDB files located in the output directories of the works:"
     ]
    },
    {
     "cell_type": "code",
     "collapsed": false,
     "input": [
      "robot = abilab.DdbRobot.from_flow(flow, outdirs=\"work\")\n",
      "robot"
     ],
     "language": "python",
     "metadata": {},
     "outputs": [
      {
       "metadata": {},
       "output_type": "pyout",
       "prompt_number": 10,
       "text": [
        "DdbRobot with 3 files in memory\n",
        "\t[0]  flow_alas_ecut_conv/w1/outdata/out_DDB\n",
        "\t[1]  flow_alas_ecut_conv/w3/outdata/out_DDB\n",
        "\t[2]  flow_alas_ecut_conv/w5/outdata/out_DDB"
       ]
      }
     ],
     "prompt_number": 10
    },
    {
     "cell_type": "markdown",
     "metadata": {},
     "source": [
      "At this point we can ask the `DdbRobot` to create a `Pandas` table (a.k.a. `DataFrame`) \n",
      "with the phonon frequencies and the parameters of the calculations in tabular form: "
     ]
    },
    {
     "cell_type": "code",
     "collapsed": false,
     "input": [
      "frame = robot.get_dataframe_at_qpoint((0, 0, 0))"
     ],
     "language": "python",
     "metadata": {},
     "outputs": [],
     "prompt_number": 11
    },
    {
     "cell_type": "markdown",
     "metadata": {},
     "source": [
      "For a quick introduction to Pandas, see:\n",
      "\n",
      "   * [A practical introduction to IPython Notebook & pandas](http://nbviewer.ipython.org/github/jvns/talks/blob/master/pydatanyc2013/PyData%20NYC%202013%20tutorial.ipynb)\n",
      "   * [Diving into Open Data with IPython Notebook & Pandas](http://nbviewer.ipython.org/github/jvns/talks/blob/master/pyconca2013/pistes-cyclables.ipynb)\n"
     ]
    },
    {
     "cell_type": "markdown",
     "metadata": {},
     "source": [
      "The `DataFrame` is a dict-like object whose keys are the name of the colums in the table"
     ]
    },
    {
     "cell_type": "code",
     "collapsed": false,
     "input": [
      "print(list(frame.keys()))"
     ],
     "language": "python",
     "metadata": {},
     "outputs": [
      {
       "output_type": "stream",
       "stream": "stdout",
       "text": [
        "['a', u'mode4', u'mode5', u'mode2', u'mode3', u'mode0', u'mode1', u'ixc', 'angle2', 'c', u'nsppol', 'volume', u'ecut', 'angle1', 'angle0', u'nkpt', 'formula', 'b', u'tsmear']\n"
       ]
      }
     ],
     "prompt_number": 12
    },
    {
     "cell_type": "markdown",
     "metadata": {},
     "source": [
      "To show the data in tabular form:"
     ]
    },
    {
     "cell_type": "code",
     "collapsed": false,
     "input": [
      "frame"
     ],
     "language": "python",
     "metadata": {},
     "outputs": [
      {
       "html": [
        "<div style=\"max-height:1000px;max-width:1500px;overflow:auto;\">\n",
        "<table border=\"1\" class=\"dataframe\">\n",
        "  <thead>\n",
        "    <tr style=\"text-align: right;\">\n",
        "      <th></th>\n",
        "      <th>a</th>\n",
        "      <th>mode4</th>\n",
        "      <th>mode5</th>\n",
        "      <th>mode2</th>\n",
        "      <th>mode3</th>\n",
        "      <th>mode0</th>\n",
        "      <th>mode1</th>\n",
        "      <th>ixc</th>\n",
        "      <th>angle2</th>\n",
        "      <th>c</th>\n",
        "      <th>nsppol</th>\n",
        "      <th>volume</th>\n",
        "      <th>ecut</th>\n",
        "      <th>angle1</th>\n",
        "      <th>angle0</th>\n",
        "      <th>nkpt</th>\n",
        "      <th>formula</th>\n",
        "      <th>b</th>\n",
        "      <th>tsmear</th>\n",
        "    </tr>\n",
        "  </thead>\n",
        "  <tbody>\n",
        "    <tr>\n",
        "      <th>flow_alas_ecut_conv/w1/outdata/out_DDB</th>\n",
        "      <td> 3.970101</td>\n",
        "      <td> 0.043641</td>\n",
        "      <td> 0.043641</td>\n",
        "      <td> 0</td>\n",
        "      <td> 0.043641</td>\n",
        "      <td> 0</td>\n",
        "      <td> 0</td>\n",
        "      <td> 1</td>\n",
        "      <td> 60</td>\n",
        "      <td> 3.970101</td>\n",
        "      <td> 1</td>\n",
        "      <td> 44.247583</td>\n",
        "      <td> 4</td>\n",
        "      <td> 60</td>\n",
        "      <td> 60</td>\n",
        "      <td> 128</td>\n",
        "      <td> Al1 As1</td>\n",
        "      <td> 3.970101</td>\n",
        "      <td> 0.04</td>\n",
        "    </tr>\n",
        "    <tr>\n",
        "      <th>flow_alas_ecut_conv/w3/outdata/out_DDB</th>\n",
        "      <td> 3.970101</td>\n",
        "      <td> 0.044485</td>\n",
        "      <td> 0.044485</td>\n",
        "      <td> 0</td>\n",
        "      <td> 0.044485</td>\n",
        "      <td> 0</td>\n",
        "      <td> 0</td>\n",
        "      <td> 1</td>\n",
        "      <td> 60</td>\n",
        "      <td> 3.970101</td>\n",
        "      <td> 1</td>\n",
        "      <td> 44.247583</td>\n",
        "      <td> 6</td>\n",
        "      <td> 60</td>\n",
        "      <td> 60</td>\n",
        "      <td> 128</td>\n",
        "      <td> Al1 As1</td>\n",
        "      <td> 3.970101</td>\n",
        "      <td> 0.04</td>\n",
        "    </tr>\n",
        "    <tr>\n",
        "      <th>flow_alas_ecut_conv/w5/outdata/out_DDB</th>\n",
        "      <td> 3.970101</td>\n",
        "      <td> 0.044625</td>\n",
        "      <td> 0.044625</td>\n",
        "      <td> 0</td>\n",
        "      <td> 0.044625</td>\n",
        "      <td> 0</td>\n",
        "      <td> 0</td>\n",
        "      <td> 1</td>\n",
        "      <td> 60</td>\n",
        "      <td> 3.970101</td>\n",
        "      <td> 1</td>\n",
        "      <td> 44.247583</td>\n",
        "      <td> 8</td>\n",
        "      <td> 60</td>\n",
        "      <td> 60</td>\n",
        "      <td> 128</td>\n",
        "      <td> Al1 As1</td>\n",
        "      <td> 3.970101</td>\n",
        "      <td> 0.04</td>\n",
        "    </tr>\n",
        "  </tbody>\n",
        "</table>\n",
        "</div>"
       ],
       "metadata": {},
       "output_type": "pyout",
       "prompt_number": 13,
       "text": [
        "                                               a     mode4     mode5  mode2  \\\n",
        "flow_alas_ecut_conv/w1/outdata/out_DDB  3.970101  0.043641  0.043641      0   \n",
        "flow_alas_ecut_conv/w3/outdata/out_DDB  3.970101  0.044485  0.044485      0   \n",
        "flow_alas_ecut_conv/w5/outdata/out_DDB  3.970101  0.044625  0.044625      0   \n",
        "\n",
        "                                           mode3  mode0  mode1  ixc  angle2  \\\n",
        "flow_alas_ecut_conv/w1/outdata/out_DDB  0.043641      0      0    1      60   \n",
        "flow_alas_ecut_conv/w3/outdata/out_DDB  0.044485      0      0    1      60   \n",
        "flow_alas_ecut_conv/w5/outdata/out_DDB  0.044625      0      0    1      60   \n",
        "\n",
        "                                               c  nsppol     volume  ecut  \\\n",
        "flow_alas_ecut_conv/w1/outdata/out_DDB  3.970101       1  44.247583     4   \n",
        "flow_alas_ecut_conv/w3/outdata/out_DDB  3.970101       1  44.247583     6   \n",
        "flow_alas_ecut_conv/w5/outdata/out_DDB  3.970101       1  44.247583     8   \n",
        "\n",
        "                                        angle1  angle0  nkpt  formula  \\\n",
        "flow_alas_ecut_conv/w1/outdata/out_DDB      60      60   128  Al1 As1   \n",
        "flow_alas_ecut_conv/w3/outdata/out_DDB      60      60   128  Al1 As1   \n",
        "flow_alas_ecut_conv/w5/outdata/out_DDB      60      60   128  Al1 As1   \n",
        "\n",
        "                                               b  tsmear  \n",
        "flow_alas_ecut_conv/w1/outdata/out_DDB  3.970101    0.04  \n",
        "flow_alas_ecut_conv/w3/outdata/out_DDB  3.970101    0.04  \n",
        "flow_alas_ecut_conv/w5/outdata/out_DDB  3.970101    0.04  "
       ]
      }
     ],
     "prompt_number": 13
    },
    {
     "cell_type": "markdown",
     "metadata": {},
     "source": [
      "where `mode[i]` is the frequency in eV of the i-th phonon mode.\n",
      "\n",
      "The frame created by the robot contains several columns.\n",
      "Many of them are not useful in this case since \n",
      "we are mainly interested in the convergence of the frequencies with respect to `ecut`. \n",
      "Fortunately, we can use the powerful interface provided by `Pandas` dataframes to select only \n",
      "the columns we are interested in.\n",
      "\n",
      "For example, we can select the columns associated to `ecut` and `mode3` with:"
     ]
    },
    {
     "cell_type": "code",
     "collapsed": false,
     "input": [
      "frame[[\"ecut\", \"mode3\"]]"
     ],
     "language": "python",
     "metadata": {},
     "outputs": [
      {
       "html": [
        "<div style=\"max-height:1000px;max-width:1500px;overflow:auto;\">\n",
        "<table border=\"1\" class=\"dataframe\">\n",
        "  <thead>\n",
        "    <tr style=\"text-align: right;\">\n",
        "      <th></th>\n",
        "      <th>ecut</th>\n",
        "      <th>mode3</th>\n",
        "    </tr>\n",
        "  </thead>\n",
        "  <tbody>\n",
        "    <tr>\n",
        "      <th>flow_alas_ecut_conv/w1/outdata/out_DDB</th>\n",
        "      <td> 4</td>\n",
        "      <td> 0.043641</td>\n",
        "    </tr>\n",
        "    <tr>\n",
        "      <th>flow_alas_ecut_conv/w3/outdata/out_DDB</th>\n",
        "      <td> 6</td>\n",
        "      <td> 0.044485</td>\n",
        "    </tr>\n",
        "    <tr>\n",
        "      <th>flow_alas_ecut_conv/w5/outdata/out_DDB</th>\n",
        "      <td> 8</td>\n",
        "      <td> 0.044625</td>\n",
        "    </tr>\n",
        "  </tbody>\n",
        "</table>\n",
        "</div>"
       ],
       "metadata": {},
       "output_type": "pyout",
       "prompt_number": 14,
       "text": [
        "                                        ecut     mode3\n",
        "flow_alas_ecut_conv/w1/outdata/out_DDB     4  0.043641\n",
        "flow_alas_ecut_conv/w3/outdata/out_DDB     6  0.044485\n",
        "flow_alas_ecut_conv/w5/outdata/out_DDB     8  0.044625"
       ]
      }
     ],
     "prompt_number": 14
    },
    {
     "cell_type": "markdown",
     "metadata": {},
     "source": [
      "To select all columns whose name starts with `mode`:"
     ]
    },
    {
     "cell_type": "code",
     "collapsed": false,
     "input": [
      "frame[[\"ecut\"] + [k for k in frame if k.startswith(\"mode\")]]"
     ],
     "language": "python",
     "metadata": {},
     "outputs": [
      {
       "html": [
        "<div style=\"max-height:1000px;max-width:1500px;overflow:auto;\">\n",
        "<table border=\"1\" class=\"dataframe\">\n",
        "  <thead>\n",
        "    <tr style=\"text-align: right;\">\n",
        "      <th></th>\n",
        "      <th>ecut</th>\n",
        "      <th>mode4</th>\n",
        "      <th>mode5</th>\n",
        "      <th>mode2</th>\n",
        "      <th>mode3</th>\n",
        "      <th>mode0</th>\n",
        "      <th>mode1</th>\n",
        "    </tr>\n",
        "  </thead>\n",
        "  <tbody>\n",
        "    <tr>\n",
        "      <th>flow_alas_ecut_conv/w1/outdata/out_DDB</th>\n",
        "      <td> 4</td>\n",
        "      <td> 0.043641</td>\n",
        "      <td> 0.043641</td>\n",
        "      <td> 0</td>\n",
        "      <td> 0.043641</td>\n",
        "      <td> 0</td>\n",
        "      <td> 0</td>\n",
        "    </tr>\n",
        "    <tr>\n",
        "      <th>flow_alas_ecut_conv/w3/outdata/out_DDB</th>\n",
        "      <td> 6</td>\n",
        "      <td> 0.044485</td>\n",
        "      <td> 0.044485</td>\n",
        "      <td> 0</td>\n",
        "      <td> 0.044485</td>\n",
        "      <td> 0</td>\n",
        "      <td> 0</td>\n",
        "    </tr>\n",
        "    <tr>\n",
        "      <th>flow_alas_ecut_conv/w5/outdata/out_DDB</th>\n",
        "      <td> 8</td>\n",
        "      <td> 0.044625</td>\n",
        "      <td> 0.044625</td>\n",
        "      <td> 0</td>\n",
        "      <td> 0.044625</td>\n",
        "      <td> 0</td>\n",
        "      <td> 0</td>\n",
        "    </tr>\n",
        "  </tbody>\n",
        "</table>\n",
        "</div>"
       ],
       "metadata": {},
       "output_type": "pyout",
       "prompt_number": 15,
       "text": [
        "                                        ecut     mode4     mode5  mode2  \\\n",
        "flow_alas_ecut_conv/w1/outdata/out_DDB     4  0.043641  0.043641      0   \n",
        "flow_alas_ecut_conv/w3/outdata/out_DDB     6  0.044485  0.044485      0   \n",
        "flow_alas_ecut_conv/w5/outdata/out_DDB     8  0.044625  0.044625      0   \n",
        "\n",
        "                                           mode3  mode0  mode1  \n",
        "flow_alas_ecut_conv/w1/outdata/out_DDB  0.043641      0      0  \n",
        "flow_alas_ecut_conv/w3/outdata/out_DDB  0.044485      0      0  \n",
        "flow_alas_ecut_conv/w5/outdata/out_DDB  0.044625      0      0  "
       ]
      }
     ],
     "prompt_number": 15
    },
    {
     "cell_type": "markdown",
     "metadata": {},
     "source": [
      "This table seems OK, but we would prefer to have the phonon modes ordered from left to right. \n",
      "Let's fix it:"
     ]
    },
    {
     "cell_type": "code",
     "collapsed": false,
     "input": [
      "frame = frame[[\"ecut\"] + sorted([k for k in frame if k.startswith(\"mode\")])]\n",
      "frame "
     ],
     "language": "python",
     "metadata": {},
     "outputs": [
      {
       "html": [
        "<div style=\"max-height:1000px;max-width:1500px;overflow:auto;\">\n",
        "<table border=\"1\" class=\"dataframe\">\n",
        "  <thead>\n",
        "    <tr style=\"text-align: right;\">\n",
        "      <th></th>\n",
        "      <th>ecut</th>\n",
        "      <th>mode0</th>\n",
        "      <th>mode1</th>\n",
        "      <th>mode2</th>\n",
        "      <th>mode3</th>\n",
        "      <th>mode4</th>\n",
        "      <th>mode5</th>\n",
        "    </tr>\n",
        "  </thead>\n",
        "  <tbody>\n",
        "    <tr>\n",
        "      <th>flow_alas_ecut_conv/w1/outdata/out_DDB</th>\n",
        "      <td> 4</td>\n",
        "      <td> 0</td>\n",
        "      <td> 0</td>\n",
        "      <td> 0</td>\n",
        "      <td> 0.043641</td>\n",
        "      <td> 0.043641</td>\n",
        "      <td> 0.043641</td>\n",
        "    </tr>\n",
        "    <tr>\n",
        "      <th>flow_alas_ecut_conv/w3/outdata/out_DDB</th>\n",
        "      <td> 6</td>\n",
        "      <td> 0</td>\n",
        "      <td> 0</td>\n",
        "      <td> 0</td>\n",
        "      <td> 0.044485</td>\n",
        "      <td> 0.044485</td>\n",
        "      <td> 0.044485</td>\n",
        "    </tr>\n",
        "    <tr>\n",
        "      <th>flow_alas_ecut_conv/w5/outdata/out_DDB</th>\n",
        "      <td> 8</td>\n",
        "      <td> 0</td>\n",
        "      <td> 0</td>\n",
        "      <td> 0</td>\n",
        "      <td> 0.044625</td>\n",
        "      <td> 0.044625</td>\n",
        "      <td> 0.044625</td>\n",
        "    </tr>\n",
        "  </tbody>\n",
        "</table>\n",
        "</div>"
       ],
       "metadata": {},
       "output_type": "pyout",
       "prompt_number": 16,
       "text": [
        "                                        ecut  mode0  mode1  mode2     mode3  \\\n",
        "flow_alas_ecut_conv/w1/outdata/out_DDB     4      0      0      0  0.043641   \n",
        "flow_alas_ecut_conv/w3/outdata/out_DDB     6      0      0      0  0.044485   \n",
        "flow_alas_ecut_conv/w5/outdata/out_DDB     8      0      0      0  0.044625   \n",
        "\n",
        "                                           mode4     mode5  \n",
        "flow_alas_ecut_conv/w1/outdata/out_DDB  0.043641  0.043641  \n",
        "flow_alas_ecut_conv/w3/outdata/out_DDB  0.044485  0.044485  \n",
        "flow_alas_ecut_conv/w5/outdata/out_DDB  0.044625  0.044625  "
       ]
      }
     ],
     "prompt_number": 16
    },
    {
     "cell_type": "markdown",
     "metadata": {},
     "source": [
      "To have a summary statistics of our data:"
     ]
    },
    {
     "cell_type": "code",
     "collapsed": false,
     "input": [
      "frame.describe()"
     ],
     "language": "python",
     "metadata": {},
     "outputs": [
      {
       "html": [
        "<div style=\"max-height:1000px;max-width:1500px;overflow:auto;\">\n",
        "<table border=\"1\" class=\"dataframe\">\n",
        "  <thead>\n",
        "    <tr style=\"text-align: right;\">\n",
        "      <th></th>\n",
        "      <th>ecut</th>\n",
        "      <th>mode0</th>\n",
        "      <th>mode1</th>\n",
        "      <th>mode2</th>\n",
        "      <th>mode3</th>\n",
        "      <th>mode4</th>\n",
        "      <th>mode5</th>\n",
        "    </tr>\n",
        "  </thead>\n",
        "  <tbody>\n",
        "    <tr>\n",
        "      <th>count</th>\n",
        "      <td> 3</td>\n",
        "      <td> 3</td>\n",
        "      <td> 3</td>\n",
        "      <td> 3</td>\n",
        "      <td> 3.000000</td>\n",
        "      <td> 3.000000</td>\n",
        "      <td> 3.000000</td>\n",
        "    </tr>\n",
        "    <tr>\n",
        "      <th>mean</th>\n",
        "      <td> 6</td>\n",
        "      <td> 0</td>\n",
        "      <td> 0</td>\n",
        "      <td> 0</td>\n",
        "      <td> 0.044250</td>\n",
        "      <td> 0.044250</td>\n",
        "      <td> 0.044250</td>\n",
        "    </tr>\n",
        "    <tr>\n",
        "      <th>std</th>\n",
        "      <td> 2</td>\n",
        "      <td> 0</td>\n",
        "      <td> 0</td>\n",
        "      <td> 0</td>\n",
        "      <td> 0.000533</td>\n",
        "      <td> 0.000533</td>\n",
        "      <td> 0.000533</td>\n",
        "    </tr>\n",
        "    <tr>\n",
        "      <th>min</th>\n",
        "      <td> 4</td>\n",
        "      <td> 0</td>\n",
        "      <td> 0</td>\n",
        "      <td> 0</td>\n",
        "      <td> 0.043641</td>\n",
        "      <td> 0.043641</td>\n",
        "      <td> 0.043641</td>\n",
        "    </tr>\n",
        "    <tr>\n",
        "      <th>25%</th>\n",
        "      <td> 5</td>\n",
        "      <td> 0</td>\n",
        "      <td> 0</td>\n",
        "      <td> 0</td>\n",
        "      <td> 0.044063</td>\n",
        "      <td> 0.044063</td>\n",
        "      <td> 0.044063</td>\n",
        "    </tr>\n",
        "    <tr>\n",
        "      <th>50%</th>\n",
        "      <td> 6</td>\n",
        "      <td> 0</td>\n",
        "      <td> 0</td>\n",
        "      <td> 0</td>\n",
        "      <td> 0.044485</td>\n",
        "      <td> 0.044485</td>\n",
        "      <td> 0.044485</td>\n",
        "    </tr>\n",
        "    <tr>\n",
        "      <th>75%</th>\n",
        "      <td> 7</td>\n",
        "      <td> 0</td>\n",
        "      <td> 0</td>\n",
        "      <td> 0</td>\n",
        "      <td> 0.044555</td>\n",
        "      <td> 0.044555</td>\n",
        "      <td> 0.044555</td>\n",
        "    </tr>\n",
        "    <tr>\n",
        "      <th>max</th>\n",
        "      <td> 8</td>\n",
        "      <td> 0</td>\n",
        "      <td> 0</td>\n",
        "      <td> 0</td>\n",
        "      <td> 0.044625</td>\n",
        "      <td> 0.044625</td>\n",
        "      <td> 0.044625</td>\n",
        "    </tr>\n",
        "  </tbody>\n",
        "</table>\n",
        "</div>"
       ],
       "metadata": {},
       "output_type": "pyout",
       "prompt_number": 17,
       "text": [
        "       ecut  mode0  mode1  mode2     mode3     mode4     mode5\n",
        "count     3      3      3      3  3.000000  3.000000  3.000000\n",
        "mean      6      0      0      0  0.044250  0.044250  0.044250\n",
        "std       2      0      0      0  0.000533  0.000533  0.000533\n",
        "min       4      0      0      0  0.043641  0.043641  0.043641\n",
        "25%       5      0      0      0  0.044063  0.044063  0.044063\n",
        "50%       6      0      0      0  0.044485  0.044485  0.044485\n",
        "75%       7      0      0      0  0.044555  0.044555  0.044555\n",
        "max       8      0      0      0  0.044625  0.044625  0.044625"
       ]
      }
     ],
     "prompt_number": 17
    },
    {
     "cell_type": "markdown",
     "metadata": {},
     "source": [
      "Pandas tables are extremly powerful and the `describe` method already gives some useful info \n",
      "about the convergence of the phonon modes. \n",
      "Sometimes, however, we would like to plot the data to have a better understanding of what's happening.\n",
      "Fortunately, pandas `DataFrame` provide a `plot` method that allows us to plot the values \n",
      "in one colums as function of another column. \n",
      "\n",
      "The syntax is very simple:"
     ]
    },
    {
     "cell_type": "code",
     "collapsed": false,
     "input": [
      "frame.plot(x=\"ecut\", y=\"mode3\")"
     ],
     "language": "python",
     "metadata": {},
     "outputs": [
      {
       "metadata": {},
       "output_type": "pyout",
       "prompt_number": 18,
       "text": [
        "<matplotlib.axes._subplots.AxesSubplot at 0x10fb63a10>"
       ]
      },
      {
       "metadata": {},
       "output_type": "display_data",
       "png": "[encoded data removed]",
       "text": [
        "<matplotlib.figure.Figure at 0x10fb66f10>"
       ]
      }
     ],
     "prompt_number": 18
    },
    {
     "cell_type": "markdown",
     "metadata": {},
     "source": [
      "At this point, we can call `frame.plot` inside a `for` loop to analyze \n",
      "all the phonon modes at the $\\Gamma$ point:  "
     ]
    },
    {
     "cell_type": "code",
     "collapsed": false,
     "input": [
      "for key in sorted(frame.keys()): \n",
      "    if not key.startswith(\"mode\"): continue\n",
      "    frame.plot(x=\"ecut\", y=key, title=key, legend=False)"
     ],
     "language": "python",
     "metadata": {},
     "outputs": [
      {
       "metadata": {},
       "output_type": "display_data",
       "png": "[encoded data removed]",
       "text": [
        "<matplotlib.figure.Figure at 0x102192210>"
       ]
      },
      {
       "metadata": {},
       "output_type": "display_data",
       "png": "[encoded data removed]",
       "text": [
        "<matplotlib.figure.Figure at 0x1101e7890>"
       ]
      },
      {
       "metadata": {},
       "output_type": "display_data",
       "png": "[encoded data removed]",
       "text": [
        "<matplotlib.figure.Figure at 0x110388f50>"
       ]
      },
      {
       "metadata": {},
       "output_type": "display_data",
       "png": "[encoded data removed]",
       "text": [
        "<matplotlib.figure.Figure at 0x1101cff10>"
       ]
      },
      {
       "metadata": {},
       "output_type": "display_data",
       "png": "[encoded data removed]",
       "text": [
        "<matplotlib.figure.Figure at 0x1103b3990>"
       ]
      },
      {
       "metadata": {},
       "output_type": "display_data",
       "png": "[encoded data removed]",
       "text": [
        "<matplotlib.figure.Figure at 0x1103d0f90>"
       ]
      }
     ],
     "prompt_number": 19
    },
    {
     "cell_type": "markdown",
     "metadata": {},
     "source": [
      "This convergence study at $\\Gamma$ has thus revealed that our pseudos requires \n",
      "an $ecut >= 6 Ha$ to get reasonably converged phonon frequencies at $\\Gamma$.\n",
      "In what follows, we assume that also the modes at the other $q$-points present a similar\n",
      "convergence behaviour and we use $ecut=6$ to keep the computational cost low. "
     ]
    },
    {
     "cell_type": "heading",
     "level": 1,
     "metadata": {},
     "source": [
      "Computing the phonon band structure of $AlAs$"
     ]
    },
    {
     "cell_type": "markdown",
     "metadata": {},
     "source": [
      "Let's use AbiPy to do a full phonon band structure calculation on a homogeneous $q$-mesh.\n",
      "First of all, we have to generate an `AbinitInput` for the GS-SCF step with the value of `ecut` found in the previous convergence study:"
     ]
    },
    {
     "cell_type": "code",
     "collapsed": false,
     "input": [
      "scf_input = make_scf_input(ecut=6, ngkpt=(4, 4, 4))"
     ],
     "language": "python",
     "metadata": {},
     "outputs": [],
     "prompt_number": 20
    },
    {
     "cell_type": "markdown",
     "metadata": {},
     "source": [
      "Now we call the factory function `PhononFlow.from_scf_input`\n",
      "to build a `Flow` that computes all the independent atomic perturbations on a (2, 2, 2) $q$-mesh.\n",
      "The optional argument `with_becs` instructs the code to include the response to a \n",
      "macroscopic electric field so that we will have access to the Born effective charges:"
     ]
    },
    {
     "cell_type": "code",
     "collapsed": false,
     "input": [
      "flow_phbands = abilab.PhononFlow.from_scf_input(\"flow_alas_phonons\", scf_input, \n",
      "                                                ph_ngqpt=(2, 2, 2), with_becs=True)\n",
      "#flow_phbands = abilab.Flow.pickle_load(\"flow_alas_phonons\")"
     ],
     "language": "python",
     "metadata": {},
     "outputs": [],
     "prompt_number": 21
    },
    {
     "cell_type": "markdown",
     "metadata": {},
     "source": [
      "Note that there are a lot of things happening under the hood here.\n",
      "\n",
      "First of all, AbiPy generates `PhononTasks` only for the $q$-points in the \n",
      "irreducible wedge of the Brillouin zone corresponding to `ph_ngqpt`.\n",
      "Moreover, for a given $q$-point, only the irreducible atomic perturbations are explictly computed\n",
      "since the other atomic perturbations can be recostructed by symmetry.\n",
      "Fortunately you don't have to care about all these technical details as AbiPy and Abinit \n",
      "will automate the whole procedure.\n",
      "\n",
      "Remember that the $q$-point mesh cannot be chosen arbitrarily\n",
      "since all $q$ wavevectors should connect two $k$ points of the grid used for the electrons.\n",
      "\n",
      "Now we can finally plot our `PhononFlow`:"
     ]
    },
    {
     "cell_type": "code",
     "collapsed": false,
     "input": [
      "flow_phbands.plot_networkx()"
     ],
     "language": "python",
     "metadata": {},
     "outputs": [
      {
       "metadata": {},
       "output_type": "display_data",
       "png": "[encoded data removed]",
       "text": [
        "<matplotlib.figure.Figure at 0x1114368d0>"
       ]
      }
     ],
     "prompt_number": 22
    },
    {
     "cell_type": "markdown",
     "metadata": {},
     "source": [
      "and run it with:"
     ]
    },
    {
     "cell_type": "code",
     "collapsed": false,
     "input": [
      "%%capture \n",
      "# The previous line discards the output in ipython notebooks\n",
      "flow_phbands.make_scheduler().start()"
     ],
     "language": "python",
     "metadata": {},
     "outputs": [
      {
       "metadata": {},
       "output_type": "pyout",
       "prompt_number": 42,
       "text": [
        "0"
       ]
      }
     ],
     "prompt_number": 42
    },
    {
     "cell_type": "code",
     "collapsed": false,
     "input": [
      "flow.show_summary()"
     ],
     "language": "python",
     "metadata": {},
     "outputs": [
      {
       "output_type": "stream",
       "stream": "stdout",
       "text": [
        "<Flow, node_id=33060, workdir=flow_alas_ecut_conv>, num_tasks=9, all_ok=True\n",
        "    Completed: 9\n"
       ]
      }
     ],
     "prompt_number": 24
    },
    {
     "cell_type": "markdown",
     "metadata": {},
     "source": [
      "Our flow is completed and we have the final DDB file with all the $q$-points and all the independent atomic perturbations. \n",
      "Let's open this DDB file with:"
     ]
    },
    {
     "cell_type": "code",
     "collapsed": false,
     "input": [
      "ddb = flow_phbands.open_final_ddb()\n",
      "ddb"
     ],
     "language": "python",
     "metadata": {},
     "outputs": [
      {
       "metadata": {},
       "output_type": "pyout",
       "prompt_number": 25,
       "text": [
        "<DdbFile, flow_alas_phonons/outdata/out_DDB>"
       ]
      }
     ],
     "prompt_number": 25
    },
    {
     "cell_type": "markdown",
     "metadata": {},
     "source": [
      "The `DdbFile` object provides an easy-to-use interface that invokes `anaddb` to post-process\n",
      "the data stored in the DDB file.\n",
      "\n",
      "`anacompare_phdos`, for example, computes the phonon DOS with different $q$-meshes.\n",
      "Each mesh is defined by a single integer, `nqsmall`, that gives the number of \n",
      "divisions used to sample the smallest reciprocal lattice vector. \n",
      "The number of divisions along the other directions are chosen so that proportions are preserved:"
     ]
    },
    {
     "cell_type": "code",
     "collapsed": false,
     "input": [
      "c = ddb.anacompare_phdos(nqsmalls=[8, 10, 12, 14, 16])\n",
      "figure = c.plotter.plot()"
     ],
     "language": "python",
     "metadata": {},
     "outputs": [
      {
       "output_type": "stream",
       "stream": "stdout",
       "text": [
        "Computing 5 phonon DOS with 4 threads\n",
        " Delta(Phdos[0] - Phdos[5]) / Phdos[5]: 0.955367"
       ]
      },
      {
       "output_type": "stream",
       "stream": "stdout",
       "text": [
        "\n",
        " Delta(Phdos[1] - Phdos[5]) / Phdos[5]: 0.694487\n",
        " Delta(Phdos[2] - Phdos[5]) / Phdos[5]: 0.419208\n",
        " Delta(Phdos[3] - Phdos[5]) / Phdos[5]: 0.240976\n"
       ]
      },
      {
       "metadata": {},
       "output_type": "display_data",
       "png": "[encoded data removed]",
       "text": [
        "<matplotlib.figure.Figure at 0x11062df90>"
       ]
      }
     ],
     "prompt_number": 26
    },
    {
     "cell_type": "markdown",
     "metadata": {},
     "source": [
      "A 16x16x16 $q$-mesh with the tethraedron method gives a well converged phonon DOS."
     ]
    },
    {
     "cell_type": "markdown",
     "metadata": {},
     "source": [
      "To function `anaget_phbst_and_phdos_files` allows one to compute the phonon band structure on an automatically defined $q$-path as well as the the phonon DOS:"
     ]
    },
    {
     "cell_type": "code",
     "collapsed": false,
     "input": [
      "phbst_file, phdos_file = ddb.anaget_phbst_and_phdos_files(ndivsm=10, nqsmall=16)\n",
      "\n",
      "# Extract the phonon bands and the phonon DOS from phbst_file and phdos_file\n",
      "phbands = phbst_file.phbands \n",
      "phdos = phdos_file.phdos"
     ],
     "language": "python",
     "metadata": {},
     "outputs": [],
     "prompt_number": 27
    },
    {
     "cell_type": "markdown",
     "metadata": {},
     "source": [
      "To plot the bands with matplotlib:"
     ]
    },
    {
     "cell_type": "code",
     "collapsed": false,
     "input": [
      "figure = phbands.plot()"
     ],
     "language": "python",
     "metadata": {},
     "outputs": [
      {
       "metadata": {},
       "output_type": "display_data",
       "png": "[encoded data removed]",
       "text": [
        "<matplotlib.figure.Figure at 0x1113b4910>"
       ]
      }
     ],
     "prompt_number": 43
    },
    {
     "cell_type": "markdown",
     "metadata": {},
     "source": [
      "There are two strange dips for the highest phonon band, at the $\\Gamma$ point.\n",
      "This is due to the lack of LO-TO splitting for the ANADDB treatment of the first list of vector. \n",
      "See also the discussion in the [second lesson](http://www.abinit.org/documentation/helpfiles/for-v7.10/tutorial/lesson_rf2.html)."
     ]
    },
    {
     "cell_type": "markdown",
     "metadata": {},
     "source": [
      "To plot bands and DOS on the same figure:"
     ]
    },
    {
     "cell_type": "code",
     "collapsed": false,
     "input": [
      "figure = phbands.plot_with_phdos(phdos)"
     ],
     "language": "python",
     "metadata": {},
     "outputs": [
      {
       "metadata": {},
       "output_type": "display_data",
       "png": "[encoded data removed]",
       "text": [
        "<matplotlib.figure.Figure at 0x110393890>"
       ]
      }
     ],
     "prompt_number": 29
    },
    {
     "cell_type": "markdown",
     "metadata": {},
     "source": [
      "The `PhdosFile` contains the phonon frequencies, the displacement vectors\n",
      "as well as the decomposition of the total DOS in terms of the contributions due to \n",
      "the different types of atom in the unit cell.\n",
      "To plot the type-projected phonon DOS:"
     ]
    },
    {
     "cell_type": "code",
     "collapsed": false,
     "input": [
      "figure = phdos_file.plot_pjdos_type(title=\"AlAs type-projected phonon DOS\")"
     ],
     "language": "python",
     "metadata": {},
     "outputs": [
      {
       "metadata": {},
       "output_type": "display_data",
       "png": "[encoded data removed]",
       "text": [
        "<matplotlib.figure.Figure at 0x1103b08d0>"
       ]
      }
     ],
     "prompt_number": 30
    },
    {
     "cell_type": "heading",
     "level": 2,
     "metadata": {},
     "source": [
      "Macroscopic dielectric tensor and Born effective charges"
     ]
    },
    {
     "cell_type": "markdown",
     "metadata": {},
     "source": [
      "Our calculations includes the response to the system to the electric field.\n",
      "The code below extracts the macroscopic dielectric tensor (`emacro`)\n",
      "and the Born effective charges (`BECS`) from the DDB file:"
     ]
    },
    {
     "cell_type": "code",
     "collapsed": false,
     "input": [
      "emacro, becs = ddb.anaget_emacro_and_becs()"
     ],
     "language": "python",
     "metadata": {},
     "outputs": [],
     "prompt_number": 31
    },
    {
     "cell_type": "code",
     "collapsed": false,
     "input": [
      "emacro"
     ],
     "language": "python",
     "metadata": {},
     "outputs": [
      {
       "metadata": {},
       "output_type": "pyout",
       "prompt_number": 32,
       "text": [
        "(Tensor in r space.\n",
        " \n",
        " Cartesian coordinates:\n",
        " [[ 10.39616519   0.           0.        ]\n",
        "  [  0.          10.39616519   0.        ]\n",
        "  [  0.           0.          10.39616519]],)"
       ]
      }
     ],
     "prompt_number": 32
    },
    {
     "cell_type": "code",
     "collapsed": false,
     "input": [
      "becs"
     ],
     "language": "python",
     "metadata": {},
     "outputs": [
      {
       "metadata": {},
       "output_type": "pyout",
       "prompt_number": 33,
       "text": [
        "Born effective charges computed with chneut: 1\n",
        "bec at site: [ 0.  0.  0.] Al\n",
        "[[  2.16805280e+00   0.00000000e+00   0.00000000e+00]\n",
        " [  0.00000000e+00   2.16805280e+00   0.00000000e+00]\n",
        " [ -3.28326163e-19  -3.28326163e-19   2.16805280e+00]]\n",
        "\n",
        "bec at site: [ 1.40364255  1.40364255  1.40364255] As\n",
        "[[ -2.16805280e+00   0.00000000e+00   0.00000000e+00]\n",
        " [  0.00000000e+00  -2.16805280e+00   0.00000000e+00]\n",
        " [  3.28326163e-19   3.28326163e-19  -2.16805280e+00]]\n",
        "\n",
        "Born effective charge neutrality sum-rule with chneut: 1\n",
        "[[ 0.  0.  0.]\n",
        " [ 0.  0.  0.]\n",
        " [ 0.  0.  0.]]"
       ]
      }
     ],
     "prompt_number": 33
    },
    {
     "cell_type": "markdown",
     "metadata": {},
     "source": [
      "As explained in the references, the Born effective charges must fulfill \n",
      "the charge neutrality sum-rule.\n",
      "This rule is usually broken due to the dicretization of the FFT mesh, and `anaddb` will enforce \n",
      "it if `chneut` is set to 1 (default behaviour). Let's check it out!"
     ]
    },
    {
     "cell_type": "code",
     "collapsed": false,
     "input": [
      "becs.check_sumrule()"
     ],
     "language": "python",
     "metadata": {},
     "outputs": [
      {
       "output_type": "stream",
       "stream": "stdout",
       "text": [
        "Born effective charge neutrality sum-rule with chneut: 1\n",
        "[[ 0.  0.  0.]\n",
        " [ 0.  0.  0.]\n",
        " [ 0.  0.  0.]]"
       ]
      }
     ],
     "prompt_number": 34
    },
    {
     "cell_type": "markdown",
     "metadata": {},
     "source": [
      "Let's repeat the same calculation but now without enforcing the sum-rule:"
     ]
    },
    {
     "cell_type": "code",
     "collapsed": false,
     "input": [
      "emacro, becs_chneut0 = ddb.anaget_emacro_and_becs(chneut=0)\n",
      "print(becs_chneut0)"
     ],
     "language": "python",
     "metadata": {},
     "outputs": [
      {
       "output_type": "stream",
       "stream": "stdout",
       "text": [
        "Born effective charges computed with chneut: 0\n",
        "bec at site: [ 0.  0.  0.] Al\n",
        "[[  2.12729461e+00   0.00000000e+00   0.00000000e+00]\n",
        " [  0.00000000e+00   2.12729461e+00   0.00000000e+00]\n",
        " [ -1.14228782e-20  -1.14228782e-20   2.12729461e+00]]\n",
        "\n",
        "bec at site: [ 1.40364255  1.40364255  1.40364255] As\n",
        "[[ -2.20881100e+00   0.00000000e+00   0.00000000e+00]\n",
        " [  0.00000000e+00  -2.20881100e+00   0.00000000e+00]\n",
        " [  6.45229448e-19   6.45229448e-19  -2.20881100e+00]]\n",
        "\n",
        "Born effective charge neutrality sum-rule with chneut: 0\n",
        "[[ -8.15163891e-02   0.00000000e+00   0.00000000e+00]\n",
        " [  0.00000000e+00  -8.15163891e-02   0.00000000e+00]\n",
        " [  6.33806570e-19   6.33806570e-19  -8.15163891e-02]]\n"
       ]
      }
     ],
     "prompt_number": 35
    },
    {
     "cell_type": "code",
     "collapsed": false,
     "input": [
      "becs_chneut0.check_sumrule()"
     ],
     "language": "python",
     "metadata": {},
     "outputs": [
      {
       "output_type": "stream",
       "stream": "stdout",
       "text": [
        "Born effective charge neutrality sum-rule with chneut: 0\n",
        "[[ -8.15163891e-02   0.00000000e+00   0.00000000e+00]\n",
        " [  0.00000000e+00  -8.15163891e-02   0.00000000e+00]\n",
        " [  6.33806570e-19   6.33806570e-19  -8.15163891e-02]]"
       ]
      }
     ],
     "prompt_number": 36
    },
    {
     "cell_type": "heading",
     "level": 2,
     "metadata": {},
     "source": [
      "Exercises"
     ]
    },
    {
     "cell_type": "markdown",
     "metadata": {},
     "source": [
      "    \n",
      "   * Our first phonon band structure has been computed with a `(4, 4, 4)` $k$-mesh \n",
      "     for the electrons and a `(2, 2, 2)` $q$-mesh for phonons. \n",
      "     You may try to increase the density of $k$-points/$q$-points\n",
      "     to see if this change affects the final results.\n",
      "        \n",
      "   * Why do you get an error from AbiPy if you try `ngkpt=(4, 4, 4,)` and `ngqpt=(3, 3, 3)`?\n"
     ]
    }
   ],
   "metadata": {}
  }
 ]
}