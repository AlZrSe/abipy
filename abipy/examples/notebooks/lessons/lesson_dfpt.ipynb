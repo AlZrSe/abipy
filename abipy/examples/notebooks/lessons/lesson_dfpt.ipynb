{
 "metadata": {
  "name": "",
  "signature": "sha256:b7e08c5183100b277300f422e1bd2dfa55fe87f84a9b3faf6af17296ddad96c0"
 },
 "nbformat": 3,
 "nbformat_minor": 0,
 "worksheets": [
  {
   "cells": [
    {
     "cell_type": "markdown",
     "metadata": {},
     "source": [
      "This lesson aims at showing how to get the following physical properties, for periodic solids:\n",
      "\n",
      "   * Interatomic forces constants\n",
      "   * Phonon band structures\n",
      "   * Thermodynamical properties \n",
      "   \n",
      "http://www.abinit.org/documentation/helpfiles/for-v7.10/tutorial/lesson_rf2.html"
     ]
    },
    {
     "cell_type": "heading",
     "level": 1,
     "metadata": {},
     "source": [
      "Creating the input for the SCF-GS run"
     ]
    },
    {
     "cell_type": "markdown",
     "metadata": {},
     "source": [
      "Before starting, we need to import the modules and the functions we'll need to perform our studies:"
     ]
    },
    {
     "cell_type": "code",
     "collapsed": false,
     "input": [
      "from __future__ import print_function, division\n",
      "\n",
      "from abipy import abilab\n",
      "from abipy import data as abidata\n",
      "from abipy.abilab import abiopen\n",
      "from abipy.tools.notebooks import print_source\n",
      "\n",
      "from abipy.data.runs.run_alas import *\n",
      "%matplotlib inline"
     ],
     "language": "python",
     "metadata": {},
     "outputs": [],
     "prompt_number": 13
    },
    {
     "cell_type": "markdown",
     "metadata": {},
     "source": [
      "The `make_scf_input` function returns a `AbinitInput`, a python object with the Abinit variables\n",
      "needed to perform a standard GS-SCF calculation for $AlAs$."
     ]
    },
    {
     "cell_type": "code",
     "collapsed": false,
     "input": [
      "scf_input = make_scf_input()"
     ],
     "language": "python",
     "metadata": {},
     "outputs": [],
     "prompt_number": 4
    },
    {
     "cell_type": "markdown",
     "metadata": {},
     "source": [
      "To print the \"standard\" Abinit input with all the variables contained in scf_input, we use:"
     ]
    },
    {
     "cell_type": "code",
     "collapsed": false,
     "input": [
      "print(scf_input)"
     ],
     "language": "python",
     "metadata": {},
     "outputs": [
      {
       "output_type": "stream",
       "stream": "stdout",
       "text": [
        "############################################################################################\n",
        "#                                      SECTION: varbas                                      \n",
        "############################################################################################\n",
        "# <Energy CUToff>\n",
        " ecut 2\n",
        "# <SHIFT for K points>\n",
        " shiftk\n",
        "    0.0    0.0    0.5\n",
        "    0.0    0.5    0.0\n",
        "    0.5    0.0    0.0\n",
        "    0.5    0.5    0.5\n",
        "# <Number of Grid points for K PoinTs generation>\n",
        " ngkpt 4 4 4\n",
        "# <Number of BANDs>\n",
        " nband 4\n",
        "# <TOLerance on the potential V(r) ReSidual>\n",
        " tolvrs 1e-10\n",
        "# <Integer for eXchange-Correlation choice>\n",
        " ixc 1\n",
        "# <Number of (non-)self-consistent field STEPS>\n",
        " nstep 25\n",
        "# <Number of SHIFTs for K point grids>\n",
        " nshiftk 4\n",
        "############################################################################################\n",
        "#                                       SECTION: vargs                                      \n",
        "############################################################################################\n",
        "# <model DIElectric MACroscopic constant>\n",
        " diemac 9.0\n",
        "############################################################################################\n",
        "#                                      SECTION: varpar                                      \n",
        "############################################################################################\n",
        "# <activate PARALelization over K-point, G-vectors and Bands>\n",
        " paral_kgb 0\n",
        "############################################################################################\n",
        "#                                         STRUCTURE                                         \n",
        "############################################################################################\n",
        "# <CELL lattice vector scaling>\n",
        " acell    1.0    1.0    1.0\n",
        "# <vectors (X) of atom positions in REDuced coordinates>\n",
        " xred\n",
        "    0.0000000000    0.0000000000    0.0000000000\n",
        "    0.2500000000    0.2500000000    0.2500000000\n",
        "# <Real space PRIMitive translations>\n",
        " rprim\n",
        "    0.0000000000    5.3050000000    5.3050000000\n",
        "    5.3050000000    0.0000000000    5.3050000000\n",
        "    5.3050000000    5.3050000000    0.0000000000\n",
        "# <TYPE of atoms>\n",
        " typat 1 2\n",
        "# <Number of ATOMs>\n",
        " natom 2\n",
        "# <Number of TYPEs of atoms>\n",
        " ntypat 2\n",
        "# <charge -Z- of the NUCLeus>\n",
        " znucl 13 33\n",
        "\n",
        "\n",
        "#<JSON>\n",
        "#{\n",
        "#    \"pseudos\": [\n",
        "#        {\n",
        "#            \"l_max\": 2, \n",
        "#            \"Z_val\": 3.0, \n",
        "#            \"filepath\": \"/Users/gmatteo/Coding/git_branches/abipy/abipy/data/pseudos/13al.981214.fhi\", \n",
        "#            \"symbol\": \"Al\", \n",
        "#            \"Z\": 13, \n",
        "#            \"type\": \"NcAbinitPseudo\", \n",
        "#            \"basename\": \"13al.981214.fhi\", \n",
        "#            \"@class\": \"NcAbinitPseudo\", \n",
        "#            \"@module\": \"pymatgen.io.abinitio.pseudos\"\n",
        "#        }, \n",
        "#        {\n",
        "#            \"l_max\": 1, \n",
        "#            \"Z_val\": 5.0, \n",
        "#            \"filepath\": \"/Users/gmatteo/Coding/git_branches/abipy/abipy/data/pseudos/33as.pspnc\", \n",
        "#            \"symbol\": \"As\", \n",
        "#            \"Z\": 33, \n",
        "#            \"type\": \"NcAbinitPseudo\", \n",
        "#            \"basename\": \"33as.pspnc\", \n",
        "#            \"@class\": \"NcAbinitPseudo\", \n",
        "#            \"@module\": \"pymatgen.io.abinitio.pseudos\"\n",
        "#        }\n",
        "#    ]\n",
        "#}\n",
        "#</JSON>\n"
       ]
      }
     ],
     "prompt_number": 5
    },
    {
     "cell_type": "markdown",
     "metadata": {},
     "source": [
      "`make_scf_input` makes some assumption for important parameters such as the\n",
      "the crystalline structure and the set of pseudos to be used. \n",
      "If you want to change these parameters (e.g. the pseudos), you have to write \n",
      "your own version of make_scf_input."
     ]
    },
    {
     "cell_type": "code",
     "collapsed": false,
     "input": [
      "print_source(make_scf_input)"
     ],
     "language": "python",
     "metadata": {},
     "outputs": [
      {
       "html": [
        "<!DOCTYPE html PUBLIC \"-//W3C//DTD HTML 4.01//EN\"\n",
        "   \"http://www.w3.org/TR/html4/strict.dtd\">\n",
        "\n",
        "<html>\n",
        "<head>\n",
        "  <title></title>\n",
        "  <meta http-equiv=\"content-type\" content=\"text/html; charset=None\">\n",
        "  <style type=\"text/css\">\n",
        "td.linenos { background-color: #f0f0f0; padding-right: 10px; }\n",
        "span.lineno { background-color: #f0f0f0; padding: 0 5px 0 5px; }\n",
        "pre { line-height: 125%; }\n",
        "body .hll { background-color: #ffffcc }\n",
        "body  { background: #f8f8f8; }\n",
        "body .c { color: #408080; font-style: italic } /* Comment */\n",
        "body .err { border: 1px solid #FF0000 } /* Error */\n",
        "body .k { color: #008000; font-weight: bold } /* Keyword */\n",
        "body .o { color: #666666 } /* Operator */\n",
        "body .cm { color: #408080; font-style: italic } /* Comment.Multiline */\n",
        "body .cp { color: #BC7A00 } /* Comment.Preproc */\n",
        "body .c1 { color: #408080; font-style: italic } /* Comment.Single */\n",
        "body .cs { color: #408080; font-style: italic } /* Comment.Special */\n",
        "body .gd { color: #A00000 } /* Generic.Deleted */\n",
        "body .ge { font-style: italic } /* Generic.Emph */\n",
        "body .gr { color: #FF0000 } /* Generic.Error */\n",
        "body .gh { color: #000080; font-weight: bold } /* Generic.Heading */\n",
        "body .gi { color: #00A000 } /* Generic.Inserted */\n",
        "body .go { color: #888888 } /* Generic.Output */\n",
        "body .gp { color: #000080; font-weight: bold } /* Generic.Prompt */\n",
        "body .gs { font-weight: bold } /* Generic.Strong */\n",
        "body .gu { color: #800080; font-weight: bold } /* Generic.Subheading */\n",
        "body .gt { color: #0044DD } /* Generic.Traceback */\n",
        "body .kc { color: #008000; font-weight: bold } /* Keyword.Constant */\n",
        "body .kd { color: #008000; font-weight: bold } /* Keyword.Declaration */\n",
        "body .kn { color: #008000; font-weight: bold } /* Keyword.Namespace */\n",
        "body .kp { color: #008000 } /* Keyword.Pseudo */\n",
        "body .kr { color: #008000; font-weight: bold } /* Keyword.Reserved */\n",
        "body .kt { color: #B00040 } /* Keyword.Type */\n",
        "body .m { color: #666666 } /* Literal.Number */\n",
        "body .s { color: #BA2121 } /* Literal.String */\n",
        "body .na { color: #7D9029 } /* Name.Attribute */\n",
        "body .nb { color: #008000 } /* Name.Builtin */\n",
        "body .nc { color: #0000FF; font-weight: bold } /* Name.Class */\n",
        "body .no { color: #880000 } /* Name.Constant */\n",
        "body .nd { color: #AA22FF } /* Name.Decorator */\n",
        "body .ni { color: #999999; font-weight: bold } /* Name.Entity */\n",
        "body .ne { color: #D2413A; font-weight: bold } /* Name.Exception */\n",
        "body .nf { color: #0000FF } /* Name.Function */\n",
        "body .nl { color: #A0A000 } /* Name.Label */\n",
        "body .nn { color: #0000FF; font-weight: bold } /* Name.Namespace */\n",
        "body .nt { color: #008000; font-weight: bold } /* Name.Tag */\n",
        "body .nv { color: #19177C } /* Name.Variable */\n",
        "body .ow { color: #AA22FF; font-weight: bold } /* Operator.Word */\n",
        "body .w { color: #bbbbbb } /* Text.Whitespace */\n",
        "body .mf { color: #666666 } /* Literal.Number.Float */\n",
        "body .mh { color: #666666 } /* Literal.Number.Hex */\n",
        "body .mi { color: #666666 } /* Literal.Number.Integer */\n",
        "body .mo { color: #666666 } /* Literal.Number.Oct */\n",
        "body .sb { color: #BA2121 } /* Literal.String.Backtick */\n",
        "body .sc { color: #BA2121 } /* Literal.String.Char */\n",
        "body .sd { color: #BA2121; font-style: italic } /* Literal.String.Doc */\n",
        "body .s2 { color: #BA2121 } /* Literal.String.Double */\n",
        "body .se { color: #BB6622; font-weight: bold } /* Literal.String.Escape */\n",
        "body .sh { color: #BA2121 } /* Literal.String.Heredoc */\n",
        "body .si { color: #BB6688; font-weight: bold } /* Literal.String.Interpol */\n",
        "body .sx { color: #008000 } /* Literal.String.Other */\n",
        "body .sr { color: #BB6688 } /* Literal.String.Regex */\n",
        "body .s1 { color: #BA2121 } /* Literal.String.Single */\n",
        "body .ss { color: #19177C } /* Literal.String.Symbol */\n",
        "body .bp { color: #008000 } /* Name.Builtin.Pseudo */\n",
        "body .vc { color: #19177C } /* Name.Variable.Class */\n",
        "body .vg { color: #19177C } /* Name.Variable.Global */\n",
        "body .vi { color: #19177C } /* Name.Variable.Instance */\n",
        "body .il { color: #666666 } /* Literal.Number.Integer.Long */\n",
        "\n",
        "  </style>\n",
        "</head>\n",
        "<body>\n",
        "<h2></h2>\n",
        "\n",
        "<div class=\"highlight\"><pre><span class=\"k\">def</span> <span class=\"nf\">make_scf_input</span><span class=\"p\">(</span><span class=\"n\">ecut</span><span class=\"o\">=</span><span class=\"mi\">2</span><span class=\"p\">,</span> <span class=\"n\">paral_kgb</span><span class=\"o\">=</span><span class=\"mi\">0</span><span class=\"p\">):</span>\n",
        "    <span class=\"sd\">&quot;&quot;&quot;</span>\n",
        "<span class=\"sd\">    This function constructs the input files for the phonon calculation: </span>\n",
        "<span class=\"sd\">    GS input + the input files for the phonon calculation.</span>\n",
        "<span class=\"sd\">    &quot;&quot;&quot;</span>\n",
        "    <span class=\"c\"># Crystalline AlAs: computation of the second derivative of the total energy</span>\n",
        "    <span class=\"n\">gs_inp</span> <span class=\"o\">=</span> <span class=\"n\">abilab</span><span class=\"o\">.</span><span class=\"n\">AbinitInput</span><span class=\"p\">(</span><span class=\"n\">structure</span><span class=\"o\">=</span><span class=\"n\">abidata</span><span class=\"o\">.</span><span class=\"n\">structure_from_ucell</span><span class=\"p\">(</span><span class=\"s\">&quot;AlAs&quot;</span><span class=\"p\">),</span>\n",
        "                                <span class=\"n\">pseudos</span><span class=\"o\">=</span><span class=\"n\">abidata</span><span class=\"o\">.</span><span class=\"n\">pseudos</span><span class=\"p\">(</span><span class=\"s\">&quot;13al.981214.fhi&quot;</span><span class=\"p\">,</span> <span class=\"s\">&quot;33as.pspnc&quot;</span><span class=\"p\">))</span>\n",
        "    \n",
        "    <span class=\"n\">gs_inp</span><span class=\"o\">.</span><span class=\"n\">set_vars</span><span class=\"p\">(</span>\n",
        "        <span class=\"n\">nband</span><span class=\"o\">=</span><span class=\"mi\">4</span><span class=\"p\">,</span>             \n",
        "        <span class=\"n\">ecut</span><span class=\"o\">=</span><span class=\"n\">ecut</span><span class=\"p\">,</span>         \n",
        "        <span class=\"n\">ngkpt</span><span class=\"o\">=</span><span class=\"p\">[</span><span class=\"mi\">4</span><span class=\"p\">,</span> <span class=\"mi\">4</span><span class=\"p\">,</span> <span class=\"mi\">4</span><span class=\"p\">],</span>\n",
        "        <span class=\"n\">nshiftk</span><span class=\"o\">=</span><span class=\"mi\">4</span><span class=\"p\">,</span>\n",
        "        <span class=\"n\">shiftk</span><span class=\"o\">=</span><span class=\"p\">[</span><span class=\"mf\">0.0</span><span class=\"p\">,</span> <span class=\"mf\">0.0</span><span class=\"p\">,</span> <span class=\"mf\">0.5</span><span class=\"p\">,</span>   <span class=\"c\"># This gives the usual fcc Monkhorst-Pack grid</span>\n",
        "                <span class=\"mf\">0.0</span><span class=\"p\">,</span> <span class=\"mf\">0.5</span><span class=\"p\">,</span> <span class=\"mf\">0.0</span><span class=\"p\">,</span>\n",
        "                <span class=\"mf\">0.5</span><span class=\"p\">,</span> <span class=\"mf\">0.0</span><span class=\"p\">,</span> <span class=\"mf\">0.0</span><span class=\"p\">,</span>\n",
        "                <span class=\"mf\">0.5</span><span class=\"p\">,</span> <span class=\"mf\">0.5</span><span class=\"p\">,</span> <span class=\"mf\">0.5</span><span class=\"p\">],</span>\n",
        "        <span class=\"c\">#shiftk=[0, 0, 0],</span>\n",
        "        <span class=\"n\">paral_kgb</span><span class=\"o\">=</span><span class=\"n\">paral_kgb</span><span class=\"p\">,</span>\n",
        "        <span class=\"n\">ixc</span><span class=\"o\">=</span><span class=\"mi\">1</span><span class=\"p\">,</span>\n",
        "        <span class=\"n\">nstep</span><span class=\"o\">=</span><span class=\"mi\">25</span><span class=\"p\">,</span>\n",
        "        <span class=\"n\">diemac</span><span class=\"o\">=</span><span class=\"mf\">9.0</span><span class=\"p\">,</span>\n",
        "        <span class=\"n\">tolvrs</span><span class=\"o\">=</span><span class=\"mf\">1.0e-10</span><span class=\"p\">,</span>\n",
        "    <span class=\"p\">)</span>\n",
        "\n",
        "    <span class=\"k\">return</span> <span class=\"n\">gs_inp</span>\n",
        "</pre></div>\n",
        "</body>\n",
        "</html>\n"
       ],
       "metadata": {},
       "output_type": "pyout",
       "prompt_number": 14,
       "text": [
        "<IPython.core.display.HTML at 0x1107b2e90>"
       ]
      }
     ],
     "prompt_number": 14
    },
    {
     "cell_type": "markdown",
     "metadata": {},
     "source": [
      "In the next paragraphs, we will show how to use `scf_input` to generate \n",
      "more complicated flows for DFPT calculations. \n",
      "More specifically, we'll discuss how to\n",
      "\n",
      "   * Perform a converge study for the phonon frequencies at $\\Gamma$ as function of `ecut`\n",
      "   * How to perform a full phonon band structure calculations with the inclusion of Born \n",
      "     effective charges"
     ]
    },
    {
     "cell_type": "heading",
     "level": 1,
     "metadata": {},
     "source": [
      "Converge study for the phonon frequencies at $\\Gamma$ as function of `ecut`"
     ]
    },
    {
     "cell_type": "markdown",
     "metadata": {},
     "source": [
      "In the next sections, we'll be using `scf_input` as a starting point to build more \n",
      "complicated DFPT calculations. \n",
      "AbiPy, indeed, provides several functions to costruct flows from an intial scf_input\n",
      "object and a list of additional parameters used to customize the flow.\n",
      "\n",
      "The function `phonon_conv_flow`, for example, builds and returns a `Flow` that performs \n",
      "a DFPT calculation at `qpt=(0,0,0)` for different values of `ecuts`. "
     ]
    },
    {
     "cell_type": "code",
     "collapsed": false,
     "input": [
      "flow = abilab.phonon_conv_flow(\"flow_alas_qconv\", scf_input, qpoints=(0, 0, 0), \n",
      "                                params=[\"ecut\", [2, 4, 6, 8]])\n",
      "flow.rmtree()\n",
      "flow.build()"
     ],
     "language": "python",
     "metadata": {},
     "outputs": [],
     "prompt_number": 21
    },
    {
     "cell_type": "code",
     "collapsed": false,
     "input": [
      "#print(flow.show_inpvars(\"ecut\"))"
     ],
     "language": "python",
     "metadata": {},
     "outputs": [],
     "prompt_number": 14
    },
    {
     "cell_type": "markdown",
     "metadata": {},
     "source": [
      "A Flow is a set of Abinit `Tasks` that are connected by dependencies.\n",
      "To visualize the connection among the `Tasks` use:"
     ]
    },
    {
     "cell_type": "code",
     "collapsed": false,
     "input": [
      "flow.plot_networkx()"
     ],
     "language": "python",
     "metadata": {},
     "outputs": [
      {
       "metadata": {},
       "output_type": "display_data",
       "png": "[encoded data removed]",
       "text": [
        "<matplotlib.figure.Figure at 0x10eecc110>"
       ]
      }
     ],
     "prompt_number": 22
    },
    {
     "cell_type": "markdown",
     "metadata": {},
     "source": [
      "In this case we have four independent set of tasks. Each group has its own value of `ecut`.\n",
      "Each group consists of a `ScfTask` that computes the WFF file self-consistently (`ScfTask`).\n",
      "The WFK produced by `ScfTask` is then used by its children (the `PhononTasks`) \n",
      "to compute the first-order change of the wavefunctions due to one of the irreducible atomic pertubations."
     ]
    },
    {
     "cell_type": "code",
     "collapsed": false,
     "input": [
      "help(abilab.phonon_conv_flow)"
     ],
     "language": "python",
     "metadata": {},
     "outputs": [
      {
       "output_type": "stream",
       "stream": "stdout",
       "text": [
        "Help on function phonon_conv_flow in module pymatgen.io.abinitio.flows:\n",
        "\n",
        "phonon_conv_flow(workdir, scf_input, qpoints, params, manager=None, allocate=True)\n",
        "    Create a :class:`Flow` to perform convergence studies for phonon calculations.\n",
        "    \n",
        "    Args:\n",
        "        workdir: Working directory of the flow.\n",
        "        scf_input: :class:`AbinitInput` object defining a GS-SCF calculation.\n",
        "        qpoints: List of list of lists with the reduced coordinates of the q-point(s).\n",
        "        params: \n",
        "            To perform a converge study wrt ecut: params=[\"ecut\", [2, 4, 6]]\n",
        "        manager: :class:`TaskManager` object responsible for the submission of the jobs.\n",
        "            If manager is None, the object is initialized from the yaml file\n",
        "            located either in the working directory or in the user configuration dir.\n",
        "        allocate: True if the flow should be allocated before returning.\n",
        "    \n",
        "    Return:\n",
        "        :class:`Flow` object.\n",
        "\n"
       ]
      }
     ],
     "prompt_number": 13
    },
    {
     "cell_type": "code",
     "collapsed": false,
     "input": [
      "flow.show_status()"
     ],
     "language": "python",
     "metadata": {},
     "outputs": []
    },
    {
     "cell_type": "code",
     "collapsed": false,
     "input": [
      "%%capture\n",
      "# discards the output in ipython notebooks\n",
      "flow.make_scheduler().start()"
     ],
     "language": "python",
     "metadata": {},
     "outputs": [
      {
       "metadata": {},
       "output_type": "pyout",
       "prompt_number": 23,
       "text": [
        "0"
       ]
      }
     ],
     "prompt_number": 23
    },
    {
     "cell_type": "code",
     "collapsed": false,
     "input": [
      "flow.show_status(verbose=1)"
     ],
     "language": "python",
     "metadata": {},
     "outputs": [
      {
       "output_type": "stream",
       "stream": "stdout",
       "text": [
        "\n",
        "Work #0: <Work, node_id=31681, workdir=flow_alas_qconv/w0>, Finalized=\u001b[32mTrue\u001b[0m\n",
        "+------+-----------+----------+--------------+--------------+---------+---------------+----------+---------+\n",
        "| Task |   Status  |  Queue   |  MPI|Omp|Gb  | Err|Warn|Com |  Class  | Rest|Sub|Corr |   Time   | Node_ID |\n",
        "+------+-----------+----------+--------------+--------------+---------+---------------+----------+---------+\n",
        "|  t0  | \u001b[32mCompleted\u001b[0m | 478@gmac |    2|  1|2.0 |   0|   7|  0 | ScfTask |   (0, 1, 0)   | 0:00:01R |  31682  |\n",
        "+------+-----------+----------+--------------+--------------+---------+---------------+----------+---------+\n",
        "\n",
        "\n",
        "Work #1: <PhononWork, node_id=31683, workdir=flow_alas_qconv/w1>, Finalized=\u001b[32mTrue\u001b[0m\n",
        "+------+-----------+----------+--------------+--------------+------------+---------------+----------+---------+\n",
        "| Task |   Status  |  Queue   |  MPI|Omp|Gb  | Err|Warn|Com |   Class    | Rest|Sub|Corr |   Time   | Node_ID |\n",
        "+------+-----------+----------+--------------+--------------+------------+---------------+----------+---------+\n",
        "|  t0  | \u001b[32mCompleted\u001b[0m | 496@gmac |    2|  1|2.0 |   0|   9|  0 | PhononTask |   (0, 1, 0)   | 0:00:03R |  31685  |\n",
        "|  t1  | \u001b[32mCompleted\u001b[0m | 505@gmac |    2|  1|2.0 |   0|   9|  0 | PhononTask |   (0, 1, 0)   | 0:00:02R |  31686  |\n",
        "+------+-----------+----------+--------------+--------------+------------+---------------+----------+---------+"
       ]
      },
      {
       "output_type": "stream",
       "stream": "stdout",
       "text": [
        "\n",
        "\n",
        "\n",
        "Work #2: <Work, node_id=31687, workdir=flow_alas_qconv/w2>, Finalized=\u001b[32mTrue\u001b[0m\n",
        "+------+-----------+----------+--------------+--------------+---------+---------------+----------+---------+\n",
        "| Task |   Status  |  Queue   |  MPI|Omp|Gb  | Err|Warn|Com |  Class  | Rest|Sub|Corr |   Time   | Node_ID |\n",
        "+------+-----------+----------+--------------+--------------+---------+---------------+----------+---------+\n",
        "|  t0  | \u001b[32mCompleted\u001b[0m | 487@gmac |    2|  1|2.0 |   0|   7|  0 | ScfTask |   (0, 1, 0)   | 0:00:00R |  31688  |\n",
        "+------+-----------+----------+--------------+--------------+---------+---------------+----------+---------+\n",
        "\n",
        "\n",
        "Work #3: <PhononWork, node_id=31689, workdir=flow_alas_qconv/w3>, Finalized=\u001b[32mTrue\u001b[0m\n",
        "+------+-----------+----------+--------------+--------------+------------+---------------+----------+---------+\n",
        "| Task |   Status  |  Queue   |  MPI|Omp|Gb  | Err|Warn|Com |   Class    | Rest|Sub|Corr |   Time   | Node_ID |\n",
        "+------+-----------+----------+--------------+--------------+------------+---------------+----------+---------+\n",
        "|  t0  | \u001b[32mCompleted\u001b[0m | 518@gmac |    2|  1|2.0 |   0|   9|  0 | PhononTask |   (0, 1, 0)   | 0:00:02R |  31691  |\n",
        "|  t1  | \u001b[32mCompleted\u001b[0m | 527@gmac |    2|  1|2.0 |   0|   9|  0 | PhononTask |   (0, 1, 0)   | 0:00:03R |  31692  |\n",
        "+------+-----------+----------+--------------+--------------+------------+---------------+----------+---------+"
       ]
      },
      {
       "output_type": "stream",
       "stream": "stdout",
       "text": [
        "\n",
        "\n",
        "\n",
        "Work #4: <Work, node_id=31693, workdir=flow_alas_qconv/w4>, Finalized=\u001b[32mTrue\u001b[0m\n",
        "+------+-----------+----------+--------------+--------------+---------+---------------+----------+---------+\n",
        "| Task |   Status  |  Queue   |  MPI|Omp|Gb  | Err|Warn|Com |  Class  | Rest|Sub|Corr |   Time   | Node_ID |\n",
        "+------+-----------+----------+--------------+--------------+---------+---------------+----------+---------+\n",
        "|  t0  | \u001b[32mCompleted\u001b[0m | 540@gmac |    2|  1|2.0 |   0|   7|  0 | ScfTask |   (0, 1, 0)   | 0:00:02R |  31694  |\n",
        "+------+-----------+----------+--------------+--------------+---------+---------------+----------+---------+\n",
        "\n",
        "\n",
        "Work #5: <PhononWork, node_id=31695, workdir=flow_alas_qconv/w5>, Finalized=\u001b[32mTrue\u001b[0m\n",
        "+------+-----------+----------+--------------+--------------+------------+---------------+----------+---------+\n",
        "| Task |   Status  |  Queue   |  MPI|Omp|Gb  | Err|Warn|Com |   Class    | Rest|Sub|Corr |   Time   | Node_ID |\n",
        "+------+-----------+----------+--------------+--------------+------------+---------------+----------+---------+\n",
        "|  t0  | \u001b[32mCompleted\u001b[0m | 558@gmac |    2|  1|2.0 |   0|   9|  0 | PhononTask |   (0, 1, 0)   | 0:00:08R |  31697  |\n",
        "|  t1  | \u001b[32mCompleted\u001b[0m | 567@gmac |    2|  1|2.0 |   0|   9|  0 | PhononTask |   (0, 1, 0)   | 0:00:08R |  31698  |\n",
        "+------+-----------+----------+--------------+--------------+------------+---------------+----------+---------+"
       ]
      },
      {
       "output_type": "stream",
       "stream": "stdout",
       "text": [
        "\n",
        "\n",
        "\n",
        "Work #6: <Work, node_id=31699, workdir=flow_alas_qconv/w6>, Finalized=\u001b[32mTrue\u001b[0m\n",
        "+------+-----------+----------+--------------+--------------+---------+---------------+----------+---------+\n",
        "| Task |   Status  |  Queue   |  MPI|Omp|Gb  | Err|Warn|Com |  Class  | Rest|Sub|Corr |   Time   | Node_ID |\n",
        "+------+-----------+----------+--------------+--------------+---------+---------------+----------+---------+\n",
        "|  t0  | \u001b[32mCompleted\u001b[0m | 549@gmac |    2|  1|2.0 |   0|   7|  0 | ScfTask |   (0, 1, 0)   | 0:00:01R |  31700  |\n",
        "+------+-----------+----------+--------------+--------------+---------+---------------+----------+---------+\n",
        "\n",
        "\n",
        "Work #7: <PhononWork, node_id=31701, workdir=flow_alas_qconv/w7>, Finalized=\u001b[32mTrue\u001b[0m\n",
        "+------+-----------+----------+--------------+--------------+------------+---------------+----------+---------+\n",
        "| Task |   Status  |  Queue   |  MPI|Omp|Gb  | Err|Warn|Com |   Class    | Rest|Sub|Corr |   Time   | Node_ID |\n",
        "+------+-----------+----------+--------------+--------------+------------+---------------+----------+---------+\n",
        "|  t0  | \u001b[32mCompleted\u001b[0m | 576@gmac |    2|  1|2.0 |   0|   9|  0 | PhononTask |   (0, 1, 0)   | 0:00:06R |  31703  |\n",
        "|  t1  | \u001b[32mCompleted\u001b[0m | 585@gmac |    2|  1|2.0 |   0|   9|  0 | PhononTask |   (0, 1, 0)   | 0:00:06R |  31704  |\n",
        "+------+-----------+----------+--------------+--------------+------------+---------------+----------+---------+"
       ]
      },
      {
       "output_type": "stream",
       "stream": "stdout",
       "text": [
        "\n",
        "\n",
        "\n",
        "all_ok reached\n",
        "\n"
       ]
      }
     ],
     "prompt_number": 9
    },
    {
     "cell_type": "markdown",
     "metadata": {},
     "source": [
      "The calculation is completed and there are several output files located inside the \n",
      "workdir of the `Flow`.\n",
      "We are mainly interested in the DDB files and, in particular, to the DDB files located in the outdir \n",
      "of the `Works` since these are the files that contain all the information neede to reconstruct the \n",
      "dynamical matrix and to compute the phonon frequencies"
     ]
    },
    {
     "cell_type": "code",
     "collapsed": false,
     "input": [
      "flow.listext(\"DDB\")"
     ],
     "language": "python",
     "metadata": {},
     "outputs": [
      {
       "output_type": "stream",
       "stream": "stdout",
       "text": [
        "Found 16 files with extension DDB produced by the flow\n",
        "+---------------------------------------+-----------+---------+------------+\n",
        "|                  File                 | Size [Mb] | Node_ID | Node Class |\n",
        "+---------------------------------------+-----------+---------+------------+\n",
        "| flow_alas_qconv/w0/t0/outdata/out_DDB |    0.01   |  32151  |  ScfTask   |\n",
        "|   flow_alas_qconv/w1/outdata/out_DDB  |    0.02   |  32152  | PhononWork |\n",
        "| flow_alas_qconv/w1/t0/outdata/out_DDB |    0.02   |  32154  | PhononTask |\n",
        "| flow_alas_qconv/w1/t1/outdata/out_DDB |    0.02   |  32155  | PhononTask |\n",
        "| flow_alas_qconv/w2/t0/outdata/out_DDB |    0.01   |  32157  |  ScfTask   |\n",
        "|   flow_alas_qconv/w3/outdata/out_DDB  |    0.02   |  32158  | PhononWork |\n",
        "| flow_alas_qconv/w3/t0/outdata/out_DDB |    0.02   |  32160  | PhononTask |\n",
        "| flow_alas_qconv/w3/t1/outdata/out_DDB |    0.02   |  32161  | PhononTask |\n",
        "| flow_alas_qconv/w4/t0/outdata/out_DDB |    0.01   |  32163  |  ScfTask   |\n",
        "|   flow_alas_qconv/w5/outdata/out_DDB  |    0.02   |  32164  | PhononWork |\n",
        "| flow_alas_qconv/w5/t0/outdata/out_DDB |    0.02   |  32166  | PhononTask |\n",
        "| flow_alas_qconv/w5/t1/outdata/out_DDB |    0.02   |  32167  | PhononTask |\n",
        "| flow_alas_qconv/w6/t0/outdata/out_DDB |    0.01   |  32169  |  ScfTask   |\n",
        "|   flow_alas_qconv/w7/outdata/out_DDB  |    0.02   |  32170  | PhononWork |\n",
        "| flow_alas_qconv/w7/t0/outdata/out_DDB |    0.02   |  32172  | PhononTask |\n",
        "| flow_alas_qconv/w7/t1/outdata/out_DDB |    0.02   |  32173  | PhononTask |\n",
        "+---------------------------------------+-----------+---------+------------+\n"
       ]
      }
     ],
     "prompt_number": 24
    },
    {
     "cell_type": "markdown",
     "metadata": {},
     "source": [
      "Remember that our goal is to analyze the convergence of the phonon frequencies at $\\Gamma$ \n",
      "as function of `ecut`. In principle, one should run anaddb with the different DDB files, extract the data from the output file, gather the results in another file and finally plot the results.\n",
      "This is the lengthy approach we have been using for years but now we have the abipy robots that\n",
      "will do most of the boring work in a semi-automated way.\n",
      "\n",
      "To tell our robot that we would like to analyze all the DDB files that are located in the output directories of the works, we use:"
     ]
    },
    {
     "cell_type": "code",
     "collapsed": false,
     "input": [
      "robot = abilab.DdbRobot.from_flow(flow, outdirs=\"work\")\n",
      "robot"
     ],
     "language": "python",
     "metadata": {},
     "outputs": [
      {
       "metadata": {},
       "output_type": "pyout",
       "prompt_number": 25,
       "text": [
        "DdbRobot with 4 files in memory\n",
        "\t[0]  flow_alas_qconv/w1/outdata/out_DDB\n",
        "\t[1]  flow_alas_qconv/w3/outdata/out_DDB\n",
        "\t[2]  flow_alas_qconv/w5/outdata/out_DDB\n",
        "\t[3]  flow_alas_qconv/w7/outdata/out_DDB"
       ]
      }
     ],
     "prompt_number": 25
    },
    {
     "cell_type": "markdown",
     "metadata": {},
     "source": [
      "At this point we can ask the `DdbRobot` to create a `Pandas` table (a.k.a. `DataFrame`) \n",
      "with the phonon frequencies and the parameters of the calculations in tabular form. "
     ]
    },
    {
     "cell_type": "code",
     "collapsed": false,
     "input": [
      "# There's no need to specify the q-point because all the DDB files contain the same q\n",
      "frame = robot.get_dataframe_at_qpoint()"
     ],
     "language": "python",
     "metadata": {},
     "outputs": [],
     "prompt_number": 26
    },
    {
     "cell_type": "markdown",
     "metadata": {},
     "source": [
      "The `DataFrame` is a dict-like object whose keys are the name of the colums in the table"
     ]
    },
    {
     "cell_type": "code",
     "collapsed": false,
     "input": [
      "print(list(frame.keys()))"
     ],
     "language": "python",
     "metadata": {},
     "outputs": [
      {
       "output_type": "stream",
       "stream": "stdout",
       "text": [
        "['a', u'mode4', u'mode5', u'mode2', u'mode3', u'mode0', u'mode1', u'ixc', 'angle2', 'c', u'nsppol', 'volume', u'ecut', 'angle1', 'angle0', u'nkpt', 'formula', 'b', u'tsmear']\n"
       ]
      }
     ],
     "prompt_number": 27
    },
    {
     "cell_type": "markdown",
     "metadata": {},
     "source": [
      "To show the data in tabular form:"
     ]
    },
    {
     "cell_type": "code",
     "collapsed": false,
     "input": [
      "frame"
     ],
     "language": "python",
     "metadata": {},
     "outputs": [
      {
       "html": [
        "<div style=\"max-height:1000px;max-width:1500px;overflow:auto;\">\n",
        "<table border=\"1\" class=\"dataframe\">\n",
        "  <thead>\n",
        "    <tr style=\"text-align: right;\">\n",
        "      <th></th>\n",
        "      <th>a</th>\n",
        "      <th>mode4</th>\n",
        "      <th>mode5</th>\n",
        "      <th>mode2</th>\n",
        "      <th>mode3</th>\n",
        "      <th>mode0</th>\n",
        "      <th>mode1</th>\n",
        "      <th>ixc</th>\n",
        "      <th>angle2</th>\n",
        "      <th>c</th>\n",
        "      <th>nsppol</th>\n",
        "      <th>volume</th>\n",
        "      <th>ecut</th>\n",
        "      <th>angle1</th>\n",
        "      <th>angle0</th>\n",
        "      <th>nkpt</th>\n",
        "      <th>formula</th>\n",
        "      <th>b</th>\n",
        "      <th>tsmear</th>\n",
        "    </tr>\n",
        "  </thead>\n",
        "  <tbody>\n",
        "    <tr>\n",
        "      <th>flow_alas_qconv/w1/outdata/out_DDB</th>\n",
        "      <td> 3.970101</td>\n",
        "      <td> 0.046806</td>\n",
        "      <td> 0.046806</td>\n",
        "      <td> 0</td>\n",
        "      <td> 0.046806</td>\n",
        "      <td> 0</td>\n",
        "      <td> 0</td>\n",
        "      <td> 1</td>\n",
        "      <td> 60</td>\n",
        "      <td> 3.970101</td>\n",
        "      <td> 1</td>\n",
        "      <td> 44.247583</td>\n",
        "      <td> 2</td>\n",
        "      <td> 60</td>\n",
        "      <td> 60</td>\n",
        "      <td> 128</td>\n",
        "      <td> Al1 As1</td>\n",
        "      <td> 3.970101</td>\n",
        "      <td> 0.04</td>\n",
        "    </tr>\n",
        "    <tr>\n",
        "      <th>flow_alas_qconv/w3/outdata/out_DDB</th>\n",
        "      <td> 3.970101</td>\n",
        "      <td> 0.043641</td>\n",
        "      <td> 0.043641</td>\n",
        "      <td> 0</td>\n",
        "      <td> 0.043641</td>\n",
        "      <td> 0</td>\n",
        "      <td> 0</td>\n",
        "      <td> 1</td>\n",
        "      <td> 60</td>\n",
        "      <td> 3.970101</td>\n",
        "      <td> 1</td>\n",
        "      <td> 44.247583</td>\n",
        "      <td> 4</td>\n",
        "      <td> 60</td>\n",
        "      <td> 60</td>\n",
        "      <td> 128</td>\n",
        "      <td> Al1 As1</td>\n",
        "      <td> 3.970101</td>\n",
        "      <td> 0.04</td>\n",
        "    </tr>\n",
        "    <tr>\n",
        "      <th>flow_alas_qconv/w5/outdata/out_DDB</th>\n",
        "      <td> 3.970101</td>\n",
        "      <td> 0.044485</td>\n",
        "      <td> 0.044485</td>\n",
        "      <td> 0</td>\n",
        "      <td> 0.044485</td>\n",
        "      <td> 0</td>\n",
        "      <td> 0</td>\n",
        "      <td> 1</td>\n",
        "      <td> 60</td>\n",
        "      <td> 3.970101</td>\n",
        "      <td> 1</td>\n",
        "      <td> 44.247583</td>\n",
        "      <td> 6</td>\n",
        "      <td> 60</td>\n",
        "      <td> 60</td>\n",
        "      <td> 128</td>\n",
        "      <td> Al1 As1</td>\n",
        "      <td> 3.970101</td>\n",
        "      <td> 0.04</td>\n",
        "    </tr>\n",
        "    <tr>\n",
        "      <th>flow_alas_qconv/w7/outdata/out_DDB</th>\n",
        "      <td> 3.970101</td>\n",
        "      <td> 0.044625</td>\n",
        "      <td> 0.044625</td>\n",
        "      <td> 0</td>\n",
        "      <td> 0.044625</td>\n",
        "      <td> 0</td>\n",
        "      <td> 0</td>\n",
        "      <td> 1</td>\n",
        "      <td> 60</td>\n",
        "      <td> 3.970101</td>\n",
        "      <td> 1</td>\n",
        "      <td> 44.247583</td>\n",
        "      <td> 8</td>\n",
        "      <td> 60</td>\n",
        "      <td> 60</td>\n",
        "      <td> 128</td>\n",
        "      <td> Al1 As1</td>\n",
        "      <td> 3.970101</td>\n",
        "      <td> 0.04</td>\n",
        "    </tr>\n",
        "  </tbody>\n",
        "</table>\n",
        "</div>"
       ],
       "metadata": {},
       "output_type": "pyout",
       "prompt_number": 28,
       "text": [
        "                                           a     mode4     mode5  mode2  \\\n",
        "flow_alas_qconv/w1/outdata/out_DDB  3.970101  0.046806  0.046806      0   \n",
        "flow_alas_qconv/w3/outdata/out_DDB  3.970101  0.043641  0.043641      0   \n",
        "flow_alas_qconv/w5/outdata/out_DDB  3.970101  0.044485  0.044485      0   \n",
        "flow_alas_qconv/w7/outdata/out_DDB  3.970101  0.044625  0.044625      0   \n",
        "\n",
        "                                       mode3  mode0  mode1  ixc  angle2  \\\n",
        "flow_alas_qconv/w1/outdata/out_DDB  0.046806      0      0    1      60   \n",
        "flow_alas_qconv/w3/outdata/out_DDB  0.043641      0      0    1      60   \n",
        "flow_alas_qconv/w5/outdata/out_DDB  0.044485      0      0    1      60   \n",
        "flow_alas_qconv/w7/outdata/out_DDB  0.044625      0      0    1      60   \n",
        "\n",
        "                                           c  nsppol     volume  ecut  angle1  \\\n",
        "flow_alas_qconv/w1/outdata/out_DDB  3.970101       1  44.247583     2      60   \n",
        "flow_alas_qconv/w3/outdata/out_DDB  3.970101       1  44.247583     4      60   \n",
        "flow_alas_qconv/w5/outdata/out_DDB  3.970101       1  44.247583     6      60   \n",
        "flow_alas_qconv/w7/outdata/out_DDB  3.970101       1  44.247583     8      60   \n",
        "\n",
        "                                    angle0  nkpt  formula         b  tsmear  \n",
        "flow_alas_qconv/w1/outdata/out_DDB      60   128  Al1 As1  3.970101    0.04  \n",
        "flow_alas_qconv/w3/outdata/out_DDB      60   128  Al1 As1  3.970101    0.04  \n",
        "flow_alas_qconv/w5/outdata/out_DDB      60   128  Al1 As1  3.970101    0.04  \n",
        "flow_alas_qconv/w7/outdata/out_DDB      60   128  Al1 As1  3.970101    0.04  "
       ]
      }
     ],
     "prompt_number": 28
    },
    {
     "cell_type": "markdown",
     "metadata": {},
     "source": [
      "The frame contains several columns, many of them are not useful in this case since \n",
      "we are mainly interested in the convergence of the frequencies with respect to `ecut` \n",
      "Fortunately, we can use the powerful interface provided by `Pandas` dataframes to select only \n",
      "the columns we are interested in.\n",
      "\n",
      "For example, we can select the columns associated to `ecut` and `mode3` with:"
     ]
    },
    {
     "cell_type": "code",
     "collapsed": false,
     "input": [
      "frame[[\"ecut\", \"mode3\"]]"
     ],
     "language": "python",
     "metadata": {},
     "outputs": [
      {
       "html": [
        "<div style=\"max-height:1000px;max-width:1500px;overflow:auto;\">\n",
        "<table border=\"1\" class=\"dataframe\">\n",
        "  <thead>\n",
        "    <tr style=\"text-align: right;\">\n",
        "      <th></th>\n",
        "      <th>ecut</th>\n",
        "      <th>mode3</th>\n",
        "    </tr>\n",
        "  </thead>\n",
        "  <tbody>\n",
        "    <tr>\n",
        "      <th>flow_alas_qconv/w1/outdata/out_DDB</th>\n",
        "      <td> 2</td>\n",
        "      <td> 0.046806</td>\n",
        "    </tr>\n",
        "    <tr>\n",
        "      <th>flow_alas_qconv/w3/outdata/out_DDB</th>\n",
        "      <td> 4</td>\n",
        "      <td> 0.043641</td>\n",
        "    </tr>\n",
        "    <tr>\n",
        "      <th>flow_alas_qconv/w5/outdata/out_DDB</th>\n",
        "      <td> 6</td>\n",
        "      <td> 0.044485</td>\n",
        "    </tr>\n",
        "    <tr>\n",
        "      <th>flow_alas_qconv/w7/outdata/out_DDB</th>\n",
        "      <td> 8</td>\n",
        "      <td> 0.044625</td>\n",
        "    </tr>\n",
        "  </tbody>\n",
        "</table>\n",
        "</div>"
       ],
       "metadata": {},
       "output_type": "pyout",
       "prompt_number": 14,
       "text": [
        "                                    ecut     mode3\n",
        "flow_alas_qconv/w1/outdata/out_DDB     2  0.046806\n",
        "flow_alas_qconv/w3/outdata/out_DDB     4  0.043641\n",
        "flow_alas_qconv/w5/outdata/out_DDB     6  0.044485\n",
        "flow_alas_qconv/w7/outdata/out_DDB     8  0.044625"
       ]
      }
     ],
     "prompt_number": 14
    },
    {
     "cell_type": "markdown",
     "metadata": {},
     "source": [
      "To select all columns whose name starts with `mode`:"
     ]
    },
    {
     "cell_type": "code",
     "collapsed": false,
     "input": [
      "frame[[\"ecut\"] + [k for k in frame if k.startswith(\"mode\")]]"
     ],
     "language": "python",
     "metadata": {},
     "outputs": [
      {
       "html": [
        "<div style=\"max-height:1000px;max-width:1500px;overflow:auto;\">\n",
        "<table border=\"1\" class=\"dataframe\">\n",
        "  <thead>\n",
        "    <tr style=\"text-align: right;\">\n",
        "      <th></th>\n",
        "      <th>ecut</th>\n",
        "      <th>mode4</th>\n",
        "      <th>mode5</th>\n",
        "      <th>mode2</th>\n",
        "      <th>mode3</th>\n",
        "      <th>mode0</th>\n",
        "      <th>mode1</th>\n",
        "    </tr>\n",
        "  </thead>\n",
        "  <tbody>\n",
        "    <tr>\n",
        "      <th>flow_alas_qconv/w1/outdata/out_DDB</th>\n",
        "      <td> 2</td>\n",
        "      <td> 0.046806</td>\n",
        "      <td> 0.046806</td>\n",
        "      <td> 0</td>\n",
        "      <td> 0.046806</td>\n",
        "      <td> 0</td>\n",
        "      <td> 0</td>\n",
        "    </tr>\n",
        "    <tr>\n",
        "      <th>flow_alas_qconv/w3/outdata/out_DDB</th>\n",
        "      <td> 4</td>\n",
        "      <td> 0.043641</td>\n",
        "      <td> 0.043641</td>\n",
        "      <td> 0</td>\n",
        "      <td> 0.043641</td>\n",
        "      <td> 0</td>\n",
        "      <td> 0</td>\n",
        "    </tr>\n",
        "    <tr>\n",
        "      <th>flow_alas_qconv/w5/outdata/out_DDB</th>\n",
        "      <td> 6</td>\n",
        "      <td> 0.044485</td>\n",
        "      <td> 0.044485</td>\n",
        "      <td> 0</td>\n",
        "      <td> 0.044485</td>\n",
        "      <td> 0</td>\n",
        "      <td> 0</td>\n",
        "    </tr>\n",
        "    <tr>\n",
        "      <th>flow_alas_qconv/w7/outdata/out_DDB</th>\n",
        "      <td> 8</td>\n",
        "      <td> 0.044625</td>\n",
        "      <td> 0.044625</td>\n",
        "      <td> 0</td>\n",
        "      <td> 0.044625</td>\n",
        "      <td> 0</td>\n",
        "      <td> 0</td>\n",
        "    </tr>\n",
        "  </tbody>\n",
        "</table>\n",
        "</div>"
       ],
       "metadata": {},
       "output_type": "pyout",
       "prompt_number": 58,
       "text": [
        "                                    ecut     mode4     mode5  mode2     mode3  \\\n",
        "flow_alas_qconv/w1/outdata/out_DDB     2  0.046806  0.046806      0  0.046806   \n",
        "flow_alas_qconv/w3/outdata/out_DDB     4  0.043641  0.043641      0  0.043641   \n",
        "flow_alas_qconv/w5/outdata/out_DDB     6  0.044485  0.044485      0  0.044485   \n",
        "flow_alas_qconv/w7/outdata/out_DDB     8  0.044625  0.044625      0  0.044625   \n",
        "\n",
        "                                    mode0  mode1  \n",
        "flow_alas_qconv/w1/outdata/out_DDB      0      0  \n",
        "flow_alas_qconv/w3/outdata/out_DDB      0      0  \n",
        "flow_alas_qconv/w5/outdata/out_DDB      0      0  \n",
        "flow_alas_qconv/w7/outdata/out_DDB      0      0  "
       ]
      }
     ],
     "prompt_number": 58
    },
    {
     "cell_type": "markdown",
     "metadata": {},
     "source": [
      "The table is OK but we would like to have the modes ordered from left to right:"
     ]
    },
    {
     "cell_type": "code",
     "collapsed": false,
     "input": [
      "frame = frame[[\"ecut\"] + sorted([k for k in frame if k.startswith(\"mode\")])]\n",
      "frame "
     ],
     "language": "python",
     "metadata": {},
     "outputs": [
      {
       "html": [
        "<div style=\"max-height:1000px;max-width:1500px;overflow:auto;\">\n",
        "<table border=\"1\" class=\"dataframe\">\n",
        "  <thead>\n",
        "    <tr style=\"text-align: right;\">\n",
        "      <th></th>\n",
        "      <th>ecut</th>\n",
        "      <th>mode0</th>\n",
        "      <th>mode1</th>\n",
        "      <th>mode2</th>\n",
        "      <th>mode3</th>\n",
        "      <th>mode4</th>\n",
        "      <th>mode5</th>\n",
        "    </tr>\n",
        "  </thead>\n",
        "  <tbody>\n",
        "    <tr>\n",
        "      <th>flow_alas_qconv/w1/outdata/out_DDB</th>\n",
        "      <td> 2</td>\n",
        "      <td> 0</td>\n",
        "      <td> 0</td>\n",
        "      <td> 0</td>\n",
        "      <td> 0.046806</td>\n",
        "      <td> 0.046806</td>\n",
        "      <td> 0.046806</td>\n",
        "    </tr>\n",
        "    <tr>\n",
        "      <th>flow_alas_qconv/w3/outdata/out_DDB</th>\n",
        "      <td> 4</td>\n",
        "      <td> 0</td>\n",
        "      <td> 0</td>\n",
        "      <td> 0</td>\n",
        "      <td> 0.043641</td>\n",
        "      <td> 0.043641</td>\n",
        "      <td> 0.043641</td>\n",
        "    </tr>\n",
        "    <tr>\n",
        "      <th>flow_alas_qconv/w5/outdata/out_DDB</th>\n",
        "      <td> 6</td>\n",
        "      <td> 0</td>\n",
        "      <td> 0</td>\n",
        "      <td> 0</td>\n",
        "      <td> 0.044485</td>\n",
        "      <td> 0.044485</td>\n",
        "      <td> 0.044485</td>\n",
        "    </tr>\n",
        "    <tr>\n",
        "      <th>flow_alas_qconv/w7/outdata/out_DDB</th>\n",
        "      <td> 8</td>\n",
        "      <td> 0</td>\n",
        "      <td> 0</td>\n",
        "      <td> 0</td>\n",
        "      <td> 0.044625</td>\n",
        "      <td> 0.044625</td>\n",
        "      <td> 0.044625</td>\n",
        "    </tr>\n",
        "  </tbody>\n",
        "</table>\n",
        "</div>"
       ],
       "metadata": {},
       "output_type": "pyout",
       "prompt_number": 29,
       "text": [
        "                                    ecut  mode0  mode1  mode2     mode3  \\\n",
        "flow_alas_qconv/w1/outdata/out_DDB     2      0      0      0  0.046806   \n",
        "flow_alas_qconv/w3/outdata/out_DDB     4      0      0      0  0.043641   \n",
        "flow_alas_qconv/w5/outdata/out_DDB     6      0      0      0  0.044485   \n",
        "flow_alas_qconv/w7/outdata/out_DDB     8      0      0      0  0.044625   \n",
        "\n",
        "                                       mode4     mode5  \n",
        "flow_alas_qconv/w1/outdata/out_DDB  0.046806  0.046806  \n",
        "flow_alas_qconv/w3/outdata/out_DDB  0.043641  0.043641  \n",
        "flow_alas_qconv/w5/outdata/out_DDB  0.044485  0.044485  \n",
        "flow_alas_qconv/w7/outdata/out_DDB  0.044625  0.044625  "
       ]
      }
     ],
     "prompt_number": 29
    },
    {
     "cell_type": "markdown",
     "metadata": {},
     "source": [
      "To have a summary statistics of our data:"
     ]
    },
    {
     "cell_type": "code",
     "collapsed": false,
     "input": [
      "frame.describe()"
     ],
     "language": "python",
     "metadata": {},
     "outputs": [
      {
       "html": [
        "<div style=\"max-height:1000px;max-width:1500px;overflow:auto;\">\n",
        "<table border=\"1\" class=\"dataframe\">\n",
        "  <thead>\n",
        "    <tr style=\"text-align: right;\">\n",
        "      <th></th>\n",
        "      <th>ecut</th>\n",
        "      <th>mode0</th>\n",
        "      <th>mode1</th>\n",
        "      <th>mode2</th>\n",
        "      <th>mode3</th>\n",
        "      <th>mode4</th>\n",
        "      <th>mode5</th>\n",
        "    </tr>\n",
        "  </thead>\n",
        "  <tbody>\n",
        "    <tr>\n",
        "      <th>count</th>\n",
        "      <td> 4.000000</td>\n",
        "      <td> 4</td>\n",
        "      <td> 4</td>\n",
        "      <td> 4</td>\n",
        "      <td> 4.000000</td>\n",
        "      <td> 4.000000</td>\n",
        "      <td> 4.000000</td>\n",
        "    </tr>\n",
        "    <tr>\n",
        "      <th>mean</th>\n",
        "      <td> 5.000000</td>\n",
        "      <td> 0</td>\n",
        "      <td> 0</td>\n",
        "      <td> 0</td>\n",
        "      <td> 0.044889</td>\n",
        "      <td> 0.044889</td>\n",
        "      <td> 0.044889</td>\n",
        "    </tr>\n",
        "    <tr>\n",
        "      <th>std</th>\n",
        "      <td> 2.581989</td>\n",
        "      <td> 0</td>\n",
        "      <td> 0</td>\n",
        "      <td> 0</td>\n",
        "      <td> 0.001350</td>\n",
        "      <td> 0.001350</td>\n",
        "      <td> 0.001350</td>\n",
        "    </tr>\n",
        "    <tr>\n",
        "      <th>min</th>\n",
        "      <td> 2.000000</td>\n",
        "      <td> 0</td>\n",
        "      <td> 0</td>\n",
        "      <td> 0</td>\n",
        "      <td> 0.043641</td>\n",
        "      <td> 0.043641</td>\n",
        "      <td> 0.043641</td>\n",
        "    </tr>\n",
        "    <tr>\n",
        "      <th>25%</th>\n",
        "      <td> 3.500000</td>\n",
        "      <td> 0</td>\n",
        "      <td> 0</td>\n",
        "      <td> 0</td>\n",
        "      <td> 0.044274</td>\n",
        "      <td> 0.044274</td>\n",
        "      <td> 0.044274</td>\n",
        "    </tr>\n",
        "    <tr>\n",
        "      <th>50%</th>\n",
        "      <td> 5.000000</td>\n",
        "      <td> 0</td>\n",
        "      <td> 0</td>\n",
        "      <td> 0</td>\n",
        "      <td> 0.044555</td>\n",
        "      <td> 0.044555</td>\n",
        "      <td> 0.044555</td>\n",
        "    </tr>\n",
        "    <tr>\n",
        "      <th>75%</th>\n",
        "      <td> 6.500000</td>\n",
        "      <td> 0</td>\n",
        "      <td> 0</td>\n",
        "      <td> 0</td>\n",
        "      <td> 0.045170</td>\n",
        "      <td> 0.045170</td>\n",
        "      <td> 0.045170</td>\n",
        "    </tr>\n",
        "    <tr>\n",
        "      <th>max</th>\n",
        "      <td> 8.000000</td>\n",
        "      <td> 0</td>\n",
        "      <td> 0</td>\n",
        "      <td> 0</td>\n",
        "      <td> 0.046806</td>\n",
        "      <td> 0.046806</td>\n",
        "      <td> 0.046806</td>\n",
        "    </tr>\n",
        "  </tbody>\n",
        "</table>\n",
        "</div>"
       ],
       "metadata": {},
       "output_type": "pyout",
       "prompt_number": 30,
       "text": [
        "           ecut  mode0  mode1  mode2     mode3     mode4     mode5\n",
        "count  4.000000      4      4      4  4.000000  4.000000  4.000000\n",
        "mean   5.000000      0      0      0  0.044889  0.044889  0.044889\n",
        "std    2.581989      0      0      0  0.001350  0.001350  0.001350\n",
        "min    2.000000      0      0      0  0.043641  0.043641  0.043641\n",
        "25%    3.500000      0      0      0  0.044274  0.044274  0.044274\n",
        "50%    5.000000      0      0      0  0.044555  0.044555  0.044555\n",
        "75%    6.500000      0      0      0  0.045170  0.045170  0.045170\n",
        "max    8.000000      0      0      0  0.046806  0.046806  0.046806"
       ]
      }
     ],
     "prompt_number": 30
    },
    {
     "cell_type": "markdown",
     "metadata": {},
     "source": [
      "Pandas table are extremly powerful and `describe` already gives some useful info \n",
      "about the convergence of the phonon modes. \n",
      "Sometimes, however, we would like to plot the data to have a better understanding of what's happening.\n",
      "Fortunately, pandas `DataFrame` provide a `plot` method that allows us to plot the values \n",
      "in one colums as function of another column. \n",
      "\n",
      "The syntax is very simple:"
     ]
    },
    {
     "cell_type": "code",
     "collapsed": false,
     "input": [
      "frame.plot(x=\"ecut\", y=\"mode3\")"
     ],
     "language": "python",
     "metadata": {},
     "outputs": [
      {
       "metadata": {},
       "output_type": "pyout",
       "prompt_number": 31,
       "text": [
        "<matplotlib.axes._subplots.AxesSubplot at 0x1112df050>"
       ]
      },
      {
       "metadata": {},
       "output_type": "display_data",
       "png": "[encoded data removed]",
       "text": [
        "<matplotlib.figure.Figure at 0x1112b9a50>"
       ]
      }
     ],
     "prompt_number": 31
    },
    {
     "cell_type": "markdown",
     "metadata": {},
     "source": [
      "At this point, we can call `frame.plot` inside a `for` loop to analyze \n",
      "all the phonon modes at $\\Gamma$:  "
     ]
    },
    {
     "cell_type": "code",
     "collapsed": false,
     "input": [
      "for key in sorted(frame.keys()): \n",
      "    if not key.startswith(\"mode\"): continue\n",
      "    frame.plot(x=\"ecut\", y=key, title=key, legend=False)"
     ],
     "language": "python",
     "metadata": {},
     "outputs": [
      {
       "metadata": {},
       "output_type": "display_data",
       "png": "[encoded data removed]",
       "text": [
        "<matplotlib.figure.Figure at 0x10fbdf050>"
       ]
      },
      {
       "metadata": {},
       "output_type": "display_data",
       "png": "[encoded data removed]",
       "text": [
        "<matplotlib.figure.Figure at 0x11167c750>"
       ]
      },
      {
       "metadata": {},
       "output_type": "display_data",
       "png": "[encoded data removed]",
       "text": [
        "<matplotlib.figure.Figure at 0x111499710>"
       ]
      },
      {
       "metadata": {},
       "output_type": "display_data",
       "png": "[encoded data removed]",
       "text": [
        "<matplotlib.figure.Figure at 0x1114b4550>"
       ]
      },
      {
       "metadata": {},
       "output_type": "display_data",
       "png": "[encoded data removed]",
       "text": [
        "<matplotlib.figure.Figure at 0x111235d50>"
       ]
      },
      {
       "metadata": {},
       "output_type": "display_data",
       "png": "[encoded data removed]",
       "text": [
        "<matplotlib.figure.Figure at 0x10fbcd7d0>"
       ]
      }
     ],
     "prompt_number": 32
    },
    {
     "cell_type": "code",
     "collapsed": false,
     "input": [
      "#robot.plot_conv_phfreqs_qpoint(x_vars=[\"ecut\"], size=1, aspect=.5)"
     ],
     "language": "python",
     "metadata": {},
     "outputs": []
    },
    {
     "cell_type": "code",
     "collapsed": false,
     "input": [
      "# It's always a good idea to close all the files \n",
      "# robot.close()"
     ],
     "language": "python",
     "metadata": {},
     "outputs": []
    },
    {
     "cell_type": "heading",
     "level": 1,
     "metadata": {},
     "source": [
      "Computing the phonon band structure of $AlAs$"
     ]
    },
    {
     "cell_type": "markdown",
     "metadata": {},
     "source": [
      "In the previous paragraph, we found that a cutoff energy of ?? Hartree is needed to converge \n",
      "the phonons at $\\Gamma$. Let's assume that also the modes at the other q-points present a similar\n",
      "convergence behaviour and let's do a full phonon band structure calculation on a homogeneous\n",
      "$q$-mesh:\n",
      "\n",
      "First of all, we have to generate an `AbinitInput` object for GS-SCF with the value of `ecut` found in the previous study"
     ]
    },
    {
     "cell_type": "code",
     "collapsed": false,
     "input": [
      "scf_input = make_scf_input(ecut=4)"
     ],
     "language": "python",
     "metadata": {},
     "outputs": [],
     "prompt_number": 4
    },
    {
     "cell_type": "markdown",
     "metadata": {},
     "source": [
      "and now we call the factory function `PhononFlow.from_scf_input`\n",
      "to build a flow that computes all the intependent atomic perturbations on a 2x2x2 Q-mesh:"
     ]
    },
    {
     "cell_type": "code",
     "collapsed": false,
     "input": [
      "#flow_phbands = abilab.PhononFlow.from_scf_input(\"flow_alas_phonons\", scf_input, ph_ngqpt=(2, 2, 2))\n",
      "#flow_phbands.rmtree()\n",
      "flow_phbands = abilab.Flow.pickle_load(\"flow_alas_phonons\")"
     ],
     "language": "python",
     "metadata": {},
     "outputs": [],
     "prompt_number": 5
    },
    {
     "cell_type": "markdown",
     "metadata": {},
     "source": [
      "Note that there are a lot of things happening under the hood here.\n",
      "First of all, AbiPy generates DFPT tasks only for the q-points in the \n",
      "irreducible wedge of the Brillouin zone.\n",
      "Moreover, for a given q-points, only the irreducible atomic perturbations are explictly computed\n",
      "since the other perturbations can be recostructed by symmetry.\n",
      "Fortunately you don't have to care about all these technical details, as python will take \n",
      "care of it and will generate the phonon flow represented in the picture below:"
     ]
    },
    {
     "cell_type": "code",
     "collapsed": false,
     "input": [
      "flow_phbands.plot_networkx()"
     ],
     "language": "python",
     "metadata": {},
     "outputs": [
      {
       "metadata": {},
       "output_type": "display_data",
       "png": "[encoded data removed]",
       "text": [
        "<matplotlib.figure.Figure at 0x11016cc10>"
       ]
      }
     ],
     "prompt_number": 21
    },
    {
     "cell_type": "code",
     "collapsed": false,
     "input": [
      "print_source(abilab.PhononFlow.from_scf_input)"
     ],
     "language": "python",
     "metadata": {},
     "outputs": [
      {
       "html": [
        "<!DOCTYPE html PUBLIC \"-//W3C//DTD HTML 4.01//EN\"\n",
        "   \"http://www.w3.org/TR/html4/strict.dtd\">\n",
        "\n",
        "<html>\n",
        "<head>\n",
        "  <title></title>\n",
        "  <meta http-equiv=\"content-type\" content=\"text/html; charset=None\">\n",
        "  <style type=\"text/css\">\n",
        "td.linenos { background-color: #f0f0f0; padding-right: 10px; }\n",
        "span.lineno { background-color: #f0f0f0; padding: 0 5px 0 5px; }\n",
        "pre { line-height: 125%; }\n",
        "body .hll { background-color: #ffffcc }\n",
        "body  { background: #f8f8f8; }\n",
        "body .c { color: #408080; font-style: italic } /* Comment */\n",
        "body .err { border: 1px solid #FF0000 } /* Error */\n",
        "body .k { color: #008000; font-weight: bold } /* Keyword */\n",
        "body .o { color: #666666 } /* Operator */\n",
        "body .cm { color: #408080; font-style: italic } /* Comment.Multiline */\n",
        "body .cp { color: #BC7A00 } /* Comment.Preproc */\n",
        "body .c1 { color: #408080; font-style: italic } /* Comment.Single */\n",
        "body .cs { color: #408080; font-style: italic } /* Comment.Special */\n",
        "body .gd { color: #A00000 } /* Generic.Deleted */\n",
        "body .ge { font-style: italic } /* Generic.Emph */\n",
        "body .gr { color: #FF0000 } /* Generic.Error */\n",
        "body .gh { color: #000080; font-weight: bold } /* Generic.Heading */\n",
        "body .gi { color: #00A000 } /* Generic.Inserted */\n",
        "body .go { color: #888888 } /* Generic.Output */\n",
        "body .gp { color: #000080; font-weight: bold } /* Generic.Prompt */\n",
        "body .gs { font-weight: bold } /* Generic.Strong */\n",
        "body .gu { color: #800080; font-weight: bold } /* Generic.Subheading */\n",
        "body .gt { color: #0044DD } /* Generic.Traceback */\n",
        "body .kc { color: #008000; font-weight: bold } /* Keyword.Constant */\n",
        "body .kd { color: #008000; font-weight: bold } /* Keyword.Declaration */\n",
        "body .kn { color: #008000; font-weight: bold } /* Keyword.Namespace */\n",
        "body .kp { color: #008000 } /* Keyword.Pseudo */\n",
        "body .kr { color: #008000; font-weight: bold } /* Keyword.Reserved */\n",
        "body .kt { color: #B00040 } /* Keyword.Type */\n",
        "body .m { color: #666666 } /* Literal.Number */\n",
        "body .s { color: #BA2121 } /* Literal.String */\n",
        "body .na { color: #7D9029 } /* Name.Attribute */\n",
        "body .nb { color: #008000 } /* Name.Builtin */\n",
        "body .nc { color: #0000FF; font-weight: bold } /* Name.Class */\n",
        "body .no { color: #880000 } /* Name.Constant */\n",
        "body .nd { color: #AA22FF } /* Name.Decorator */\n",
        "body .ni { color: #999999; font-weight: bold } /* Name.Entity */\n",
        "body .ne { color: #D2413A; font-weight: bold } /* Name.Exception */\n",
        "body .nf { color: #0000FF } /* Name.Function */\n",
        "body .nl { color: #A0A000 } /* Name.Label */\n",
        "body .nn { color: #0000FF; font-weight: bold } /* Name.Namespace */\n",
        "body .nt { color: #008000; font-weight: bold } /* Name.Tag */\n",
        "body .nv { color: #19177C } /* Name.Variable */\n",
        "body .ow { color: #AA22FF; font-weight: bold } /* Operator.Word */\n",
        "body .w { color: #bbbbbb } /* Text.Whitespace */\n",
        "body .mf { color: #666666 } /* Literal.Number.Float */\n",
        "body .mh { color: #666666 } /* Literal.Number.Hex */\n",
        "body .mi { color: #666666 } /* Literal.Number.Integer */\n",
        "body .mo { color: #666666 } /* Literal.Number.Oct */\n",
        "body .sb { color: #BA2121 } /* Literal.String.Backtick */\n",
        "body .sc { color: #BA2121 } /* Literal.String.Char */\n",
        "body .sd { color: #BA2121; font-style: italic } /* Literal.String.Doc */\n",
        "body .s2 { color: #BA2121 } /* Literal.String.Double */\n",
        "body .se { color: #BB6622; font-weight: bold } /* Literal.String.Escape */\n",
        "body .sh { color: #BA2121 } /* Literal.String.Heredoc */\n",
        "body .si { color: #BB6688; font-weight: bold } /* Literal.String.Interpol */\n",
        "body .sx { color: #008000 } /* Literal.String.Other */\n",
        "body .sr { color: #BB6688 } /* Literal.String.Regex */\n",
        "body .s1 { color: #BA2121 } /* Literal.String.Single */\n",
        "body .ss { color: #19177C } /* Literal.String.Symbol */\n",
        "body .bp { color: #008000 } /* Name.Builtin.Pseudo */\n",
        "body .vc { color: #19177C } /* Name.Variable.Class */\n",
        "body .vg { color: #19177C } /* Name.Variable.Global */\n",
        "body .vi { color: #19177C } /* Name.Variable.Instance */\n",
        "body .il { color: #666666 } /* Literal.Number.Integer.Long */\n",
        "\n",
        "  </style>\n",
        "</head>\n",
        "<body>\n",
        "<h2></h2>\n",
        "\n",
        "<div class=\"highlight\"><pre>    <span class=\"nd\">@classmethod</span>\n",
        "    <span class=\"k\">def</span> <span class=\"nf\">from_scf_input</span><span class=\"p\">(</span><span class=\"n\">cls</span><span class=\"p\">,</span> <span class=\"n\">workdir</span><span class=\"p\">,</span> <span class=\"n\">scf_input</span><span class=\"p\">,</span> <span class=\"n\">ph_ngqpt</span><span class=\"p\">,</span> <span class=\"n\">with_becs</span><span class=\"o\">=</span><span class=\"bp\">True</span><span class=\"p\">,</span> <span class=\"n\">manager</span><span class=\"o\">=</span><span class=\"bp\">None</span><span class=\"p\">,</span> <span class=\"n\">allocate</span><span class=\"o\">=</span><span class=\"bp\">True</span><span class=\"p\">):</span>\n",
        "        <span class=\"sd\">&quot;&quot;&quot;</span>\n",
        "<span class=\"sd\">        Create a `PhononFlow` for phonon calculations from an Abinit ground-state input </span>\n",
        "\n",
        "<span class=\"sd\">        Args:</span>\n",
        "<span class=\"sd\">            workdir: Working directory of the flow.</span>\n",
        "<span class=\"sd\">            scf_input: :class:`AbinitInput` object with the parameters for the GS-SCF run.</span>\n",
        "<span class=\"sd\">            ph_ngqpt: q-mesh for phonons. Must be a sub-mesh of the k-mesh used for </span>\n",
        "<span class=\"sd\">                electrons. e.g if ngkpt = (8, 8, 8). ph_ngqpt = (4, 4, 4) is a valid choice</span>\n",
        "<span class=\"sd\">                whereas ph_ngqpt = (3, 3, 3) is not!</span>\n",
        "<span class=\"sd\">            with_becs: True if Born effective charges are wanted.</span>\n",
        "<span class=\"sd\">            manager: :class:`TaskManager` object.</span>\n",
        "<span class=\"sd\">            allocate: True if the flow should be allocated before returning.</span>\n",
        "\n",
        "<span class=\"sd\">        Return:</span>\n",
        "<span class=\"sd\">            :class:`PhononFlow` object.</span>\n",
        "<span class=\"sd\">        &quot;&quot;&quot;</span>\n",
        "        <span class=\"n\">flow</span> <span class=\"o\">=</span> <span class=\"n\">cls</span><span class=\"p\">(</span><span class=\"n\">workdir</span><span class=\"p\">,</span> <span class=\"n\">manager</span><span class=\"o\">=</span><span class=\"n\">manager</span><span class=\"p\">)</span>\n",
        "\n",
        "        <span class=\"c\"># Register the SCF task</span>\n",
        "        <span class=\"n\">flow</span><span class=\"o\">.</span><span class=\"n\">register_scf_task</span><span class=\"p\">(</span><span class=\"n\">scf_input</span><span class=\"p\">)</span>\n",
        "        <span class=\"n\">scf_task</span> <span class=\"o\">=</span> <span class=\"n\">flow</span><span class=\"p\">[</span><span class=\"mi\">0</span><span class=\"p\">][</span><span class=\"mi\">0</span><span class=\"p\">]</span>\n",
        "\n",
        "        <span class=\"c\"># Make sure k-mesh and q-mesh are compatible.</span>\n",
        "        <span class=\"n\">scf_ngkpt</span><span class=\"p\">,</span> <span class=\"n\">ph_ngqpt</span> <span class=\"o\">=</span> <span class=\"n\">np</span><span class=\"o\">.</span><span class=\"n\">array</span><span class=\"p\">(</span><span class=\"n\">scf_input</span><span class=\"p\">[</span><span class=\"s\">&quot;ngkpt&quot;</span><span class=\"p\">]),</span> <span class=\"n\">np</span><span class=\"o\">.</span><span class=\"n\">array</span><span class=\"p\">(</span><span class=\"n\">ph_ngqpt</span><span class=\"p\">)</span>\n",
        "\n",
        "        <span class=\"k\">if</span> <span class=\"nb\">any</span><span class=\"p\">(</span><span class=\"n\">scf_ngkpt</span> <span class=\"o\">%</span> <span class=\"n\">ph_ngqpt</span> <span class=\"o\">!=</span> <span class=\"mi\">0</span><span class=\"p\">):</span>\n",
        "            <span class=\"k\">raise</span> <span class=\"ne\">ValueError</span><span class=\"p\">(</span><span class=\"s\">&quot;ph_ngqpt </span><span class=\"si\">%s</span><span class=\"s\"> should be a sub-mesh of scf_ngkpt </span><span class=\"si\">%s</span><span class=\"s\">&quot;</span> <span class=\"o\">%</span> <span class=\"p\">(</span><span class=\"n\">ph_ngqpt</span><span class=\"p\">,</span> <span class=\"n\">scf_ngkpt</span><span class=\"p\">))</span>\n",
        "\n",
        "        <span class=\"c\"># Get the q-points in the IBZ from Abinit </span>\n",
        "        <span class=\"n\">qpoints</span> <span class=\"o\">=</span> <span class=\"n\">scf_input</span><span class=\"o\">.</span><span class=\"n\">abiget_ibz</span><span class=\"p\">(</span><span class=\"n\">ngkpt</span><span class=\"o\">=</span><span class=\"n\">ph_ngqpt</span><span class=\"p\">,</span> <span class=\"n\">shiftk</span><span class=\"o\">=</span><span class=\"p\">(</span><span class=\"mi\">0</span><span class=\"p\">,</span><span class=\"mi\">0</span><span class=\"p\">,</span><span class=\"mi\">0</span><span class=\"p\">),</span> <span class=\"n\">kptopt</span><span class=\"o\">=</span><span class=\"mi\">1</span><span class=\"p\">)</span><span class=\"o\">.</span><span class=\"n\">points</span>\n",
        "\n",
        "        <span class=\"c\"># Create a PhononWork for each q-point. Add DDK and E-field if q == Gamma and with_becs.</span>\n",
        "        <span class=\"k\">for</span> <span class=\"n\">qpt</span> <span class=\"ow\">in</span> <span class=\"n\">qpoints</span><span class=\"p\">:</span>\n",
        "            <span class=\"k\">if</span> <span class=\"n\">np</span><span class=\"o\">.</span><span class=\"n\">allclose</span><span class=\"p\">(</span><span class=\"n\">qpt</span><span class=\"p\">,</span> <span class=\"mi\">0</span><span class=\"p\">)</span> <span class=\"ow\">and</span> <span class=\"n\">with_becs</span><span class=\"p\">:</span>\n",
        "                <span class=\"n\">ph_work</span> <span class=\"o\">=</span> <span class=\"n\">BecWork</span><span class=\"o\">.</span><span class=\"n\">from_scf_task</span><span class=\"p\">(</span><span class=\"n\">scf_task</span><span class=\"p\">)</span>\n",
        "            <span class=\"k\">else</span><span class=\"p\">:</span>\n",
        "                <span class=\"n\">ph_work</span> <span class=\"o\">=</span> <span class=\"n\">PhononWork</span><span class=\"o\">.</span><span class=\"n\">from_scf_task</span><span class=\"p\">(</span><span class=\"n\">scf_task</span><span class=\"p\">,</span> <span class=\"n\">qpt</span><span class=\"o\">=</span><span class=\"n\">qpt</span><span class=\"p\">)</span>\n",
        "\n",
        "            <span class=\"n\">flow</span><span class=\"o\">.</span><span class=\"n\">register_work</span><span class=\"p\">(</span><span class=\"n\">ph_work</span><span class=\"p\">)</span>\n",
        "\n",
        "        <span class=\"k\">if</span> <span class=\"n\">allocate</span><span class=\"p\">:</span> <span class=\"n\">flow</span><span class=\"o\">.</span><span class=\"n\">allocate</span><span class=\"p\">()</span>\n",
        "\n",
        "        <span class=\"k\">return</span> <span class=\"n\">flow</span>\n",
        "</pre></div>\n",
        "</body>\n",
        "</html>\n"
       ],
       "metadata": {},
       "output_type": "pyout",
       "prompt_number": 13,
       "text": [
        "<IPython.core.display.HTML at 0x1101bad50>"
       ]
      }
     ],
     "prompt_number": 13
    },
    {
     "cell_type": "code",
     "collapsed": false,
     "input": [
      "%%capture \n",
      "#flow.rmtree()\n",
      "# discards the output in ipython notebooks\n",
      "flow_phbands.make_scheduler().start()"
     ],
     "language": "python",
     "metadata": {},
     "outputs": [
      {
       "metadata": {},
       "output_type": "pyout",
       "prompt_number": 22,
       "text": [
        "0"
       ]
      },
      {
       "output_type": "stream",
       "stream": "stderr",
       "text": [
        "WARNING:apscheduler.scheduler:Execution of job \"PyFlowScheduler.callback (trigger: interval[0:00:05], next run at: 2015-04-03 19:40:35.362472)\" skipped: maximum number of running instances reached (1)\n",
        "WARNING:apscheduler.scheduler:Execution of job \"PyFlowScheduler.callback (trigger: interval[0:00:05], next run at: 2015-04-03 19:40:50.362472)\" skipped: maximum number of running instances reached (1)\n"
       ]
      }
     ],
     "prompt_number": 22
    },
    {
     "cell_type": "code",
     "collapsed": false,
     "input": [
      "flow.show_status(verbose=1)"
     ],
     "language": "python",
     "metadata": {},
     "outputs": [
      {
       "output_type": "stream",
       "stream": "stdout",
       "text": [
        "\n",
        "Work #0: <Work, node_id=31681, workdir=flow_alas_qconv/w0>, Finalized=\u001b[32mTrue\u001b[0m\n",
        "+------+-----------+----------+--------------+--------------+---------+---------------+----------+---------+\n",
        "| Task |   Status  |  Queue   |  MPI|Omp|Gb  | Err|Warn|Com |  Class  | Rest|Sub|Corr |   Time   | Node_ID |\n",
        "+------+-----------+----------+--------------+--------------+---------+---------------+----------+---------+\n",
        "|  t0  | \u001b[32mCompleted\u001b[0m | 478@gmac |    2|  1|2.0 |   0|   7|  0 | ScfTask |   (0, 1, 0)   | 0:00:01R |  31682  |\n",
        "+------+-----------+----------+--------------+--------------+---------+---------------+----------+---------+\n",
        "\n",
        "\n",
        "Work #1: <PhononWork, node_id=31683, workdir=flow_alas_qconv/w1>, Finalized=\u001b[32mTrue\u001b[0m\n",
        "+------+-----------+----------+--------------+--------------+------------+---------------+----------+---------+\n",
        "| Task |   Status  |  Queue   |  MPI|Omp|Gb  | Err|Warn|Com |   Class    | Rest|Sub|Corr |   Time   | Node_ID |\n",
        "+------+-----------+----------+--------------+--------------+------------+---------------+----------+---------+\n",
        "|  t0  | \u001b[32mCompleted\u001b[0m | 496@gmac |    2|  1|2.0 |   0|   9|  0 | PhononTask |   (0, 1, 0)   | 0:00:03R |  31685  |\n",
        "|  t1  | \u001b[32mCompleted\u001b[0m | 505@gmac |    2|  1|2.0 |   0|   9|  0 | PhononTask |   (0, 1, 0)   | 0:00:02R |  31686  |\n",
        "+------+-----------+----------+--------------+--------------+------------+---------------+----------+---------+"
       ]
      },
      {
       "output_type": "stream",
       "stream": "stdout",
       "text": [
        "\n",
        "\n",
        "\n",
        "Work #2: <Work, node_id=31687, workdir=flow_alas_qconv/w2>, Finalized=\u001b[32mTrue\u001b[0m\n",
        "+------+-----------+----------+--------------+--------------+---------+---------------+----------+---------+\n",
        "| Task |   Status  |  Queue   |  MPI|Omp|Gb  | Err|Warn|Com |  Class  | Rest|Sub|Corr |   Time   | Node_ID |\n",
        "+------+-----------+----------+--------------+--------------+---------+---------------+----------+---------+\n",
        "|  t0  | \u001b[32mCompleted\u001b[0m | 487@gmac |    2|  1|2.0 |   0|   7|  0 | ScfTask |   (0, 1, 0)   | 0:00:00R |  31688  |\n",
        "+------+-----------+----------+--------------+--------------+---------+---------------+----------+---------+\n",
        "\n",
        "\n",
        "Work #3: <PhononWork, node_id=31689, workdir=flow_alas_qconv/w3>, Finalized=\u001b[32mTrue\u001b[0m\n",
        "+------+-----------+----------+--------------+--------------+------------+---------------+----------+---------+\n",
        "| Task |   Status  |  Queue   |  MPI|Omp|Gb  | Err|Warn|Com |   Class    | Rest|Sub|Corr |   Time   | Node_ID |\n",
        "+------+-----------+----------+--------------+--------------+------------+---------------+----------+---------+\n",
        "|  t0  | \u001b[32mCompleted\u001b[0m | 518@gmac |    2|  1|2.0 |   0|   9|  0 | PhononTask |   (0, 1, 0)   | 0:00:02R |  31691  |\n",
        "|  t1  | \u001b[32mCompleted\u001b[0m | 527@gmac |    2|  1|2.0 |   0|   9|  0 | PhononTask |   (0, 1, 0)   | 0:00:03R |  31692  |\n",
        "+------+-----------+----------+--------------+--------------+------------+---------------+----------+---------+\n",
        "\n",
        "\n",
        "Work #4: <Work, node_id=31693, workdir=flow_alas_qconv/w4>, Finalized=\u001b[32mTrue\u001b[0m\n",
        "+------+-----------+----------+--------------+--------------+---------+---------------+----------+---------+\n",
        "| Task |   Status  |  Queue   |  MPI|Omp|Gb  | Err|Warn|Com |  Class  | Rest|Sub|Corr |   Time   | Node_ID |\n",
        "+------+-----------+----------+--------------+--------------+---------+---------------+----------+---------+\n",
        "|  t0  | \u001b[32mCompleted\u001b[0m | 540@gmac |    2|  1|2.0 |   0|   7|  0 | ScfTask |   (0, 1, 0)   | 0:00:02R |  31694  |\n",
        "+------+-----------+----------+--------------+--------------+---------+---------------+----------+---------+"
       ]
      },
      {
       "output_type": "stream",
       "stream": "stdout",
       "text": [
        "\n",
        "\n",
        "\n",
        "Work #5: <PhononWork, node_id=31695, workdir=flow_alas_qconv/w5>, Finalized=\u001b[32mTrue\u001b[0m\n",
        "+------+-----------+----------+--------------+--------------+------------+---------------+----------+---------+\n",
        "| Task |   Status  |  Queue   |  MPI|Omp|Gb  | Err|Warn|Com |   Class    | Rest|Sub|Corr |   Time   | Node_ID |\n",
        "+------+-----------+----------+--------------+--------------+------------+---------------+----------+---------+\n",
        "|  t0  | \u001b[32mCompleted\u001b[0m | 558@gmac |    2|  1|2.0 |   0|   9|  0 | PhononTask |   (0, 1, 0)   | 0:00:08R |  31697  |\n",
        "|  t1  | \u001b[32mCompleted\u001b[0m | 567@gmac |    2|  1|2.0 |   0|   9|  0 | PhononTask |   (0, 1, 0)   | 0:00:08R |  31698  |\n",
        "+------+-----------+----------+--------------+--------------+------------+---------------+----------+---------+\n",
        "\n",
        "\n",
        "Work #6: <Work, node_id=31699, workdir=flow_alas_qconv/w6>, Finalized=\u001b[32mTrue\u001b[0m\n",
        "+------+-----------+----------+--------------+--------------+---------+---------------+----------+---------+\n",
        "| Task |   Status  |  Queue   |  MPI|Omp|Gb  | Err|Warn|Com |  Class  | Rest|Sub|Corr |   Time   | Node_ID |\n",
        "+------+-----------+----------+--------------+--------------+---------+---------------+----------+---------+\n",
        "|  t0  | \u001b[32mCompleted\u001b[0m | 549@gmac |    2|  1|2.0 |   0|   7|  0 | ScfTask |   (0, 1, 0)   | 0:00:01R |  31700  |\n",
        "+------+-----------+----------+--------------+--------------+---------+---------------+----------+---------+\n",
        "\n",
        "\n",
        "Work #7: <PhononWork, node_id=31701, workdir=flow_alas_qconv/w7>, Finalized=\u001b[32mTrue\u001b[0m\n",
        "+------+-----------+----------+--------------+--------------+------------+---------------+----------+---------+\n",
        "| Task |   Status  |  Queue   |  MPI|Omp|Gb  | Err|Warn|Com |   Class    | Rest|Sub|Corr |   Time   | Node_ID |\n",
        "+------+-----------+----------+--------------+--------------+------------+---------------+----------+---------+\n",
        "|  t0  | \u001b[32mCompleted\u001b[0m | 576@gmac |    2|  1|2.0 |   0|   9|  0 | PhononTask |   (0, 1, 0)   | 0:00:06R |  31703  |\n",
        "|  t1  | \u001b[32mCompleted\u001b[0m | 585@gmac |    2|  1|2.0 |   0|   9|  0 | PhononTask |   (0, 1, 0)   | 0:00:06R |  31704  |\n",
        "+------+-----------+----------+--------------+--------------+------------+---------------+----------+---------+"
       ]
      },
      {
       "output_type": "stream",
       "stream": "stdout",
       "text": [
        "\n",
        "\n",
        "\n",
        "all_ok reached\n",
        "\n"
       ]
      }
     ],
     "prompt_number": 17
    },
    {
     "cell_type": "markdown",
     "metadata": {},
     "source": [
      "Our flow is completed and we have the final DDB file\n",
      "with all the q-points and all the independent atomic perturbations in the outdir. \n",
      "The function below returns the path of the DDB file"
     ]
    },
    {
     "cell_type": "code",
     "collapsed": false,
     "input": [
      "ddb = flow_phbands.open_final_ddb()\n",
      "ddb"
     ],
     "language": "python",
     "metadata": {},
     "outputs": [
      {
       "metadata": {},
       "output_type": "pyout",
       "prompt_number": 6,
       "text": [
        "<DdbFile, flow_alas_phonons/outdata/out_DDB>"
       ]
      }
     ],
     "prompt_number": 6
    },
    {
     "cell_type": "markdown",
     "metadata": {},
     "source": [
      "The `DdbFile` object provides an easy-to-use interface that allows us to invoke anaddb \n",
      "to analyze and postprocess the results. \n",
      "Let's compute, for example, the phonon DOS for different $q$-meshes: "
     ]
    },
    {
     "cell_type": "code",
     "collapsed": false,
     "input": [
      "c = ddb.anacompare_phdos(nqsmalls=[8, 10, 12, 14, 16])\n",
      "figure = c.plotter.plot()"
     ],
     "language": "python",
     "metadata": {},
     "outputs": [
      {
       "output_type": "stream",
       "stream": "stdout",
       "text": [
        "int diff: 0.955275958869\n",
        "int diff: 0.697646443355\n",
        "int diff: 0.484459035053\n",
        "int diff: 0.290024547621\n"
       ]
      },
      {
       "metadata": {},
       "output_type": "display_data",
       "png": "[encoded data removed]",
       "text": [
        "<matplotlib.figure.Figure at 0x111231fd0>"
       ]
      }
     ],
     "prompt_number": 33
    },
    {
     "cell_type": "markdown",
     "metadata": {},
     "source": [
      "As you can seen a 16x16x16 with the tethraedron methods gives a nice and well converged DOS.\n",
      "\n",
      "To plot bands and DOS on the same graph, use:"
     ]
    },
    {
     "cell_type": "code",
     "collapsed": false,
     "input": [
      "phbst_file, phdos_file = ddb.anaget_phbst_and_phdos_files(nqsmall=16)\n",
      "\n",
      "print(phbst_file.basename, phdos_file.basename)"
     ],
     "language": "python",
     "metadata": {},
     "outputs": [
      {
       "output_type": "stream",
       "stream": "stdout",
       "text": [
        "run.abo_PHBST.nc run.abo_PHDOS.nc\n"
       ]
      }
     ],
     "prompt_number": 39
    },
    {
     "cell_type": "code",
     "collapsed": false,
     "input": [
      "phbands = phbst_file.phbands \n",
      "phdos = phdos_file.phdos"
     ],
     "language": "python",
     "metadata": {},
     "outputs": [],
     "prompt_number": 35
    },
    {
     "cell_type": "code",
     "collapsed": false,
     "input": [
      "figure = phbands.plot_with_phdos(phdos)"
     ],
     "language": "python",
     "metadata": {},
     "outputs": []
    },
    {
     "cell_type": "code",
     "collapsed": false,
     "input": [
      "figure = phdos_file.plot_pjdos_type(title=\"AlAs type-projected phonon DOS\")"
     ],
     "language": "python",
     "metadata": {},
     "outputs": [
      {
       "metadata": {},
       "output_type": "display_data",
       "png": "[encoded data removed]",
       "text": [
        "<matplotlib.figure.Figure at 0x10fbd9150>"
       ]
      }
     ],
     "prompt_number": 10
    },
    {
     "cell_type": "code",
     "collapsed": false,
     "input": [
      "#phdos = ddb.get_phdos(self, nqsmalls, num_cpus=None): "
     ],
     "language": "python",
     "metadata": {},
     "outputs": []
    },
    {
     "cell_type": "markdown",
     "metadata": {},
     "source": [
      "Our calculations includes that response to the system to the electric field and\n",
      "therefore we can extract from DDB file the macroscopic dielectric tensor (`emacro`)\n",
      "and the Born effective charges (`BECS`)"
     ]
    },
    {
     "cell_type": "code",
     "collapsed": false,
     "input": [
      "emacro, becs = ddb.anaget_emacro_and_becs()"
     ],
     "language": "python",
     "metadata": {},
     "outputs": [],
     "prompt_number": 30
    },
    {
     "cell_type": "code",
     "collapsed": false,
     "input": [
      "emacro"
     ],
     "language": "python",
     "metadata": {},
     "outputs": [
      {
       "metadata": {},
       "output_type": "pyout",
       "prompt_number": 66,
       "text": [
        "(Tensor in r space. Reference system:\n",
        " \n",
        " Cartesian coordinates:\n",
        " [[  1.00888558e+01  -1.77635684e-15  -8.88178420e-16]\n",
        "  [ -1.77635684e-15   1.00888558e+01   2.66453526e-15]\n",
        "  [ -8.88178420e-16   1.77635684e-15   1.00888558e+01]],)"
       ]
      }
     ],
     "prompt_number": 66
    },
    {
     "cell_type": "code",
     "collapsed": false,
     "input": [
      "becs"
     ],
     "language": "python",
     "metadata": {},
     "outputs": [
      {
       "metadata": {},
       "output_type": "pyout",
       "prompt_number": 67,
       "text": [
        "Full Formula (Al1 As1)\n",
        "Reduced Formula: AlAs\n",
        "abc   :   3.970101   3.970101   3.970101\n",
        "angles:  60.000000  60.000000  60.000000\n",
        "Sites (2)\n",
        "0 Al     0.000000     0.000000     0.000000\n",
        "1 As     0.250000     0.250000     0.250000\n",
        "Born effective charges computed with chneut: 1\n",
        "bec at site: [ 0.  0.  0.] Al\n",
        "[[  2.14615047e+00   0.00000000e+00   0.00000000e+00]\n",
        " [  0.00000000e+00   2.14615047e+00   0.00000000e+00]\n",
        " [  3.41397743e-19   3.41397743e-19   2.14615047e+00]]\n",
        "\n",
        "bec at site: [ 1.40364255  1.40364255  1.40364255] As\n",
        "[[ -2.14615047e+00   0.00000000e+00   0.00000000e+00]\n",
        " [  0.00000000e+00  -2.14615047e+00   0.00000000e+00]\n",
        " [ -3.41397743e-19  -3.41397743e-19  -2.14615047e+00]]\n",
        "\n",
        "Born effective charge neutrality sum-rule with chneut: 1[[  0.00000000e+00   0.00000000e+00   0.00000000e+00]\n",
        " [  0.00000000e+00   0.00000000e+00   0.00000000e+00]\n",
        " [  4.81482486e-35   4.81482486e-35   0.00000000e+00]]"
       ]
      }
     ],
     "prompt_number": 67
    },
    {
     "cell_type": "code",
     "collapsed": false,
     "input": [
      "becs.check_sumrule()"
     ],
     "language": "python",
     "metadata": {},
     "outputs": [
      {
       "output_type": "stream",
       "stream": "stdout",
       "text": [
        "Born effective charge neutrality sum-rule with chneut: 1[[  0.00000000e+00   0.00000000e+00   0.00000000e+00]\n",
        " [  0.00000000e+00   0.00000000e+00   0.00000000e+00]\n",
        " [  4.81482486e-35   4.81482486e-35   0.00000000e+00]]"
       ]
      }
     ],
     "prompt_number": 68
    },
    {
     "cell_type": "heading",
     "level": 1,
     "metadata": {},
     "source": [
      "Thermodinamical properties in the Harmonic Approximation:"
     ]
    },
    {
     "cell_type": "code",
     "collapsed": false,
     "input": [
      "ht = phdos.get_harmonic_thermo(tstart=1, tstop=50, num=50)\n",
      "figure = ht.plot()"
     ],
     "language": "python",
     "metadata": {},
     "outputs": [
      {
       "metadata": {},
       "output_type": "display_data",
       "png": "[encoded data removed]",
       "text": [
        "<matplotlib.figure.Figure at 0x110177390>"
       ]
      }
     ],
     "prompt_number": 11
    }
   ],
   "metadata": {}
  }
 ]
}