{
 "metadata": {
  "name": "",
  "signature": "sha256:896ff695259eb70d749cbbe3ceb4136b57ddb8cd9aeef1f82fc8eedb71098cde"
 },
 "nbformat": 3,
 "nbformat_minor": 0,
 "worksheets": [
  {
   "cells": [
    {
     "cell_type": "markdown",
     "metadata": {},
     "source": [
      "This lesson aims at showing how to get the following physical properties, for periodic solids:\n",
      "\n",
      "   * Interatomic forces constants\n",
      "   * Phonon band structures\n",
      "   * Thermodynamical properties \n",
      "   \n",
      "This lesson presents the analysis of the DDB files (a.k.a Derivative Database files), the computation of the interatomic forces, phonon band structures and phonon DOSes.\n",
      "The computation of Born effective charges and of the thermodynamical properties \n",
      "is an outcome of this lesson.\n",
      "http://www.abinit.org/documentation/helpfiles/for-v7.10/tutorial/lesson_rf2.html\n",
      "\n",
      "Let us assume that you have read the litterature relative to the [first lesson]( \n",
      "http://www.abinit.org/documentation/helpfiles/for-v7.10/tutorial/lesson_rf1.html)\n",
      "on response functions\n",
      "You might find additional material, related to the present section, in the following references: \n",
      "\n",
      "   * X. Gonze and C. Lee, Phys. Rev. B55, 10355 (1997), especially section IX \n",
      "   * C. Lee, X. Gonze, Phys. Rev. B 51, 8610 (1995) \n",
      "   * S. Baroni, S. de Gironcoli, A. Dal Corso, P. Giannozzi, Rev. Mod. Phys. 73, 515 (2001)."
     ]
    },
    {
     "cell_type": "heading",
     "level": 1,
     "metadata": {},
     "source": [
      "Creating the input for the SCF-GS run"
     ]
    },
    {
     "cell_type": "markdown",
     "metadata": {},
     "source": [
      "Before starting, we need to import the python modules and the functions we will need \n",
      "to perform our studies:"
     ]
    },
    {
     "cell_type": "code",
     "collapsed": false,
     "input": [
      "%matplotlib inline\n",
      "from __future__ import print_function, division\n",
      "\n",
      "from abipy import abilab\n",
      "from abipy.tools.notebooks import print_source\n",
      "\n",
      "from abipy.lessons.lesson_dfpt import make_scf_input"
     ],
     "language": "python",
     "metadata": {},
     "outputs": [],
     "prompt_number": 37
    },
    {
     "cell_type": "markdown",
     "metadata": {},
     "source": [
      "The `make_scf_input` function returns a `AbinitInput`, a python object with the Abinit variables\n",
      "needed to perform a standard ground-state calculation for crystalline $AlAs$."
     ]
    },
    {
     "cell_type": "code",
     "collapsed": false,
     "input": [
      "scf_input = make_scf_input()"
     ],
     "language": "python",
     "metadata": {},
     "outputs": [],
     "prompt_number": 3
    },
    {
     "cell_type": "markdown",
     "metadata": {},
     "source": [
      "To print the \"standard\" Abinit input with all the variables contained in scf_input, we use:"
     ]
    },
    {
     "cell_type": "code",
     "collapsed": false,
     "input": [
      "print(scf_input)"
     ],
     "language": "python",
     "metadata": {},
     "outputs": [
      {
       "output_type": "stream",
       "stream": "stdout",
       "text": [
        "############################################################################################\n",
        "#                                      SECTION: varbas                                      \n",
        "############################################################################################\n",
        "# <Energy CUToff>\n",
        " ecut 2\n",
        "# <SHIFT for K points>\n",
        " shiftk\n",
        "    0.0    0.0    0.5\n",
        "    0.0    0.5    0.0\n",
        "    0.5    0.0    0.0\n",
        "    0.5    0.5    0.5\n",
        "# <Number of Grid points for K PoinTs generation>\n",
        " ngkpt 4 4 4\n",
        "# <Number of BANDs>\n",
        " nband 4\n",
        "# <TOLerance on the potential V(r) ReSidual>\n",
        " tolvrs 1e-10\n",
        "# <Integer for eXchange-Correlation choice>\n",
        " ixc 1\n",
        "# <Number of (non-)self-consistent field STEPS>\n",
        " nstep 25\n",
        "# <Number of SHIFTs for K point grids>\n",
        " nshiftk 4\n",
        "############################################################################################\n",
        "#                                       SECTION: vargs                                      \n",
        "############################################################################################\n",
        "# <model DIElectric MACroscopic constant>\n",
        " diemac 9.0\n",
        "############################################################################################\n",
        "#                                      SECTION: varpar                                      \n",
        "############################################################################################\n",
        "# <activate PARALelization over K-point, G-vectors and Bands>\n",
        " paral_kgb 0\n",
        "############################################################################################\n",
        "#                                         STRUCTURE                                         \n",
        "############################################################################################\n",
        "# <CELL lattice vector scaling>\n",
        " acell    1.0    1.0    1.0\n",
        "# <vectors (X) of atom positions in REDuced coordinates>\n",
        " xred\n",
        "    0.0000000000    0.0000000000    0.0000000000\n",
        "    0.2500000000    0.2500000000    0.2500000000\n",
        "# <Real space PRIMitive translations>\n",
        " rprim\n",
        "    0.0000000000    5.3050000000    5.3050000000\n",
        "    5.3050000000    0.0000000000    5.3050000000\n",
        "    5.3050000000    5.3050000000    0.0000000000\n",
        "# <TYPE of atoms>\n",
        " typat 1 2\n",
        "# <Number of ATOMs>\n",
        " natom 2\n",
        "# <Number of TYPEs of atoms>\n",
        " ntypat 2\n",
        "# <charge -Z- of the NUCLeus>\n",
        " znucl 13 33\n",
        "\n",
        "\n",
        "#<JSON>\n",
        "#{\n",
        "#    \"pseudos\": [\n",
        "#        {\n",
        "#            \"l_max\": 2, \n",
        "#            \"Z_val\": 3.0, \n",
        "#            \"filepath\": \"/Users/gmatteo/Coding/git_branches/abipy/abipy/data/pseudos/13al.981214.fhi\", \n",
        "#            \"symbol\": \"Al\", \n",
        "#            \"Z\": 13, \n",
        "#            \"type\": \"NcAbinitPseudo\", \n",
        "#            \"basename\": \"13al.981214.fhi\", \n",
        "#            \"@class\": \"NcAbinitPseudo\", \n",
        "#            \"@module\": \"pymatgen.io.abinitio.pseudos\"\n",
        "#        }, \n",
        "#        {\n",
        "#            \"l_max\": 1, \n",
        "#            \"Z_val\": 5.0, \n",
        "#            \"filepath\": \"/Users/gmatteo/Coding/git_branches/abipy/abipy/data/pseudos/33as.pspnc\", \n",
        "#            \"symbol\": \"As\", \n",
        "#            \"Z\": 33, \n",
        "#            \"type\": \"NcAbinitPseudo\", \n",
        "#            \"basename\": \"33as.pspnc\", \n",
        "#            \"@class\": \"NcAbinitPseudo\", \n",
        "#            \"@module\": \"pymatgen.io.abinitio.pseudos\"\n",
        "#        }\n",
        "#    ]\n",
        "#}\n",
        "#</JSON>\n"
       ]
      }
     ],
     "prompt_number": 4
    },
    {
     "cell_type": "markdown",
     "metadata": {},
     "source": [
      "`make_scf_input` makes some assumption for important parameters such as the\n",
      "the crystalline structure and the set of pseudos to be used. \n",
      "If you want to change these parameters (e.g. the pseudos), you have to write \n",
      "your own version of make_scf_input."
     ]
    },
    {
     "cell_type": "code",
     "collapsed": false,
     "input": [
      "print_source(make_scf_input)"
     ],
     "language": "python",
     "metadata": {},
     "outputs": [
      {
       "html": [
        "<!DOCTYPE html PUBLIC \"-//W3C//DTD HTML 4.01//EN\"\n",
        "   \"http://www.w3.org/TR/html4/strict.dtd\">\n",
        "\n",
        "<html>\n",
        "<head>\n",
        "  <title></title>\n",
        "  <meta http-equiv=\"content-type\" content=\"text/html; charset=None\">\n",
        "  <style type=\"text/css\">\n",
        "td.linenos { background-color: #f0f0f0; padding-right: 10px; }\n",
        "span.lineno { background-color: #f0f0f0; padding: 0 5px 0 5px; }\n",
        "pre { line-height: 125%; }\n",
        "body .hll { background-color: #ffffcc }\n",
        "body  { background: #f8f8f8; }\n",
        "body .c { color: #408080; font-style: italic } /* Comment */\n",
        "body .err { border: 1px solid #FF0000 } /* Error */\n",
        "body .k { color: #008000; font-weight: bold } /* Keyword */\n",
        "body .o { color: #666666 } /* Operator */\n",
        "body .cm { color: #408080; font-style: italic } /* Comment.Multiline */\n",
        "body .cp { color: #BC7A00 } /* Comment.Preproc */\n",
        "body .c1 { color: #408080; font-style: italic } /* Comment.Single */\n",
        "body .cs { color: #408080; font-style: italic } /* Comment.Special */\n",
        "body .gd { color: #A00000 } /* Generic.Deleted */\n",
        "body .ge { font-style: italic } /* Generic.Emph */\n",
        "body .gr { color: #FF0000 } /* Generic.Error */\n",
        "body .gh { color: #000080; font-weight: bold } /* Generic.Heading */\n",
        "body .gi { color: #00A000 } /* Generic.Inserted */\n",
        "body .go { color: #888888 } /* Generic.Output */\n",
        "body .gp { color: #000080; font-weight: bold } /* Generic.Prompt */\n",
        "body .gs { font-weight: bold } /* Generic.Strong */\n",
        "body .gu { color: #800080; font-weight: bold } /* Generic.Subheading */\n",
        "body .gt { color: #0044DD } /* Generic.Traceback */\n",
        "body .kc { color: #008000; font-weight: bold } /* Keyword.Constant */\n",
        "body .kd { color: #008000; font-weight: bold } /* Keyword.Declaration */\n",
        "body .kn { color: #008000; font-weight: bold } /* Keyword.Namespace */\n",
        "body .kp { color: #008000 } /* Keyword.Pseudo */\n",
        "body .kr { color: #008000; font-weight: bold } /* Keyword.Reserved */\n",
        "body .kt { color: #B00040 } /* Keyword.Type */\n",
        "body .m { color: #666666 } /* Literal.Number */\n",
        "body .s { color: #BA2121 } /* Literal.String */\n",
        "body .na { color: #7D9029 } /* Name.Attribute */\n",
        "body .nb { color: #008000 } /* Name.Builtin */\n",
        "body .nc { color: #0000FF; font-weight: bold } /* Name.Class */\n",
        "body .no { color: #880000 } /* Name.Constant */\n",
        "body .nd { color: #AA22FF } /* Name.Decorator */\n",
        "body .ni { color: #999999; font-weight: bold } /* Name.Entity */\n",
        "body .ne { color: #D2413A; font-weight: bold } /* Name.Exception */\n",
        "body .nf { color: #0000FF } /* Name.Function */\n",
        "body .nl { color: #A0A000 } /* Name.Label */\n",
        "body .nn { color: #0000FF; font-weight: bold } /* Name.Namespace */\n",
        "body .nt { color: #008000; font-weight: bold } /* Name.Tag */\n",
        "body .nv { color: #19177C } /* Name.Variable */\n",
        "body .ow { color: #AA22FF; font-weight: bold } /* Operator.Word */\n",
        "body .w { color: #bbbbbb } /* Text.Whitespace */\n",
        "body .mf { color: #666666 } /* Literal.Number.Float */\n",
        "body .mh { color: #666666 } /* Literal.Number.Hex */\n",
        "body .mi { color: #666666 } /* Literal.Number.Integer */\n",
        "body .mo { color: #666666 } /* Literal.Number.Oct */\n",
        "body .sb { color: #BA2121 } /* Literal.String.Backtick */\n",
        "body .sc { color: #BA2121 } /* Literal.String.Char */\n",
        "body .sd { color: #BA2121; font-style: italic } /* Literal.String.Doc */\n",
        "body .s2 { color: #BA2121 } /* Literal.String.Double */\n",
        "body .se { color: #BB6622; font-weight: bold } /* Literal.String.Escape */\n",
        "body .sh { color: #BA2121 } /* Literal.String.Heredoc */\n",
        "body .si { color: #BB6688; font-weight: bold } /* Literal.String.Interpol */\n",
        "body .sx { color: #008000 } /* Literal.String.Other */\n",
        "body .sr { color: #BB6688 } /* Literal.String.Regex */\n",
        "body .s1 { color: #BA2121 } /* Literal.String.Single */\n",
        "body .ss { color: #19177C } /* Literal.String.Symbol */\n",
        "body .bp { color: #008000 } /* Name.Builtin.Pseudo */\n",
        "body .vc { color: #19177C } /* Name.Variable.Class */\n",
        "body .vg { color: #19177C } /* Name.Variable.Global */\n",
        "body .vi { color: #19177C } /* Name.Variable.Instance */\n",
        "body .il { color: #666666 } /* Literal.Number.Integer.Long */\n",
        "\n",
        "  </style>\n",
        "</head>\n",
        "<body>\n",
        "<h2></h2>\n",
        "\n",
        "<div class=\"highlight\"><pre><span class=\"k\">def</span> <span class=\"nf\">make_scf_input</span><span class=\"p\">(</span><span class=\"n\">ecut</span><span class=\"o\">=</span><span class=\"mi\">2</span><span class=\"p\">,</span> <span class=\"n\">paral_kgb</span><span class=\"o\">=</span><span class=\"mi\">0</span><span class=\"p\">):</span>\n",
        "    <span class=\"sd\">&quot;&quot;&quot;</span>\n",
        "<span class=\"sd\">    This function constructs the input files for the phonon calculation: </span>\n",
        "<span class=\"sd\">    GS input + the input files for the phonon calculation.</span>\n",
        "<span class=\"sd\">    &quot;&quot;&quot;</span>\n",
        "    <span class=\"c\"># Crystalline AlAs: computation of the second derivative of the total energy</span>\n",
        "    <span class=\"n\">gs_inp</span> <span class=\"o\">=</span> <span class=\"n\">abilab</span><span class=\"o\">.</span><span class=\"n\">AbinitInput</span><span class=\"p\">(</span><span class=\"n\">structure</span><span class=\"o\">=</span><span class=\"n\">abidata</span><span class=\"o\">.</span><span class=\"n\">structure_from_ucell</span><span class=\"p\">(</span><span class=\"s\">&quot;AlAs&quot;</span><span class=\"p\">),</span>\n",
        "                                <span class=\"n\">pseudos</span><span class=\"o\">=</span><span class=\"n\">abidata</span><span class=\"o\">.</span><span class=\"n\">pseudos</span><span class=\"p\">(</span><span class=\"s\">&quot;13al.981214.fhi&quot;</span><span class=\"p\">,</span> <span class=\"s\">&quot;33as.pspnc&quot;</span><span class=\"p\">))</span>\n",
        "    \n",
        "    <span class=\"n\">gs_inp</span><span class=\"o\">.</span><span class=\"n\">set_vars</span><span class=\"p\">(</span>\n",
        "        <span class=\"n\">nband</span><span class=\"o\">=</span><span class=\"mi\">4</span><span class=\"p\">,</span>             \n",
        "        <span class=\"n\">ecut</span><span class=\"o\">=</span><span class=\"n\">ecut</span><span class=\"p\">,</span>         \n",
        "        <span class=\"n\">ngkpt</span><span class=\"o\">=</span><span class=\"p\">[</span><span class=\"mi\">4</span><span class=\"p\">,</span> <span class=\"mi\">4</span><span class=\"p\">,</span> <span class=\"mi\">4</span><span class=\"p\">],</span>\n",
        "        <span class=\"n\">nshiftk</span><span class=\"o\">=</span><span class=\"mi\">4</span><span class=\"p\">,</span>\n",
        "        <span class=\"n\">shiftk</span><span class=\"o\">=</span><span class=\"p\">[</span><span class=\"mf\">0.0</span><span class=\"p\">,</span> <span class=\"mf\">0.0</span><span class=\"p\">,</span> <span class=\"mf\">0.5</span><span class=\"p\">,</span>   <span class=\"c\"># This gives the usual fcc Monkhorst-Pack grid</span>\n",
        "                <span class=\"mf\">0.0</span><span class=\"p\">,</span> <span class=\"mf\">0.5</span><span class=\"p\">,</span> <span class=\"mf\">0.0</span><span class=\"p\">,</span>\n",
        "                <span class=\"mf\">0.5</span><span class=\"p\">,</span> <span class=\"mf\">0.0</span><span class=\"p\">,</span> <span class=\"mf\">0.0</span><span class=\"p\">,</span>\n",
        "                <span class=\"mf\">0.5</span><span class=\"p\">,</span> <span class=\"mf\">0.5</span><span class=\"p\">,</span> <span class=\"mf\">0.5</span><span class=\"p\">],</span>\n",
        "        <span class=\"c\">#shiftk=[0, 0, 0],</span>\n",
        "        <span class=\"n\">paral_kgb</span><span class=\"o\">=</span><span class=\"n\">paral_kgb</span><span class=\"p\">,</span>\n",
        "        <span class=\"n\">ixc</span><span class=\"o\">=</span><span class=\"mi\">1</span><span class=\"p\">,</span>\n",
        "        <span class=\"n\">nstep</span><span class=\"o\">=</span><span class=\"mi\">25</span><span class=\"p\">,</span>\n",
        "        <span class=\"n\">diemac</span><span class=\"o\">=</span><span class=\"mf\">9.0</span><span class=\"p\">,</span>\n",
        "        <span class=\"n\">tolvrs</span><span class=\"o\">=</span><span class=\"mf\">1.0e-10</span><span class=\"p\">,</span>\n",
        "    <span class=\"p\">)</span>\n",
        "    \n",
        "    <span class=\"n\">gs_inp</span><span class=\"o\">.</span><span class=\"n\">set_mnemonics</span><span class=\"p\">(</span><span class=\"bp\">True</span><span class=\"p\">)</span>\n",
        "    <span class=\"k\">return</span> <span class=\"n\">gs_inp</span>\n",
        "</pre></div>\n",
        "</body>\n",
        "</html>\n"
       ],
       "metadata": {},
       "output_type": "pyout",
       "prompt_number": 5,
       "text": [
        "<IPython.core.display.HTML at 0x10f174890>"
       ]
      }
     ],
     "prompt_number": 5
    },
    {
     "cell_type": "markdown",
     "metadata": {},
     "source": [
      "In the next paragraphs, we will show how to use `scf_input` to generate more complicated \n",
      "flows for DFPT calculations. \n",
      "\n",
      "More specifically, we'll discuss how to\n",
      "\n",
      "   * Perform a converge study for the phonon frequencies at $\\Gamma$ as function of `ecut`\n",
      "   * How to perform a full phonon band structure calculations with the inclusion of the Born \n",
      "     effective charges"
     ]
    },
    {
     "cell_type": "heading",
     "level": 1,
     "metadata": {},
     "source": [
      "Convergence study for the phonon frequencies at $\\Gamma$ as function of `ecut`"
     ]
    },
    {
     "cell_type": "markdown",
     "metadata": {},
     "source": [
      "In this section, we use `scf_input` as a starting point to build more \n",
      "complicated DFPT calculations with Abinit. \n",
      "AbiPy, indeed, provides several functions to costruct flows from an intial scf_input\n",
      "object and a list of additional parameters that can be used to customize the flow \n",
      "(a `Flow` is a set of Abinit `Tasks` connected by dependencies).\n",
      "\n",
      "The function `phonon_conv_flow`, for example, builds and returns a `Flow` that performs \n",
      "a DFPT calculation on a given set of $q$-point for different values of `ecuts`.\n",
      "\n",
      "Let's use this function, to perform a convergence study for the phonons at `qpt=(0,0,0)`\n",
      "for `ecut` in 2, 4, 6, 8 Hartree: "
     ]
    },
    {
     "cell_type": "code",
     "collapsed": false,
     "input": [
      "flow = abilab.phonon_conv_flow(\"flow_alas_ecut_conv\", scf_input, qpoints=(0, 0, 0), \n",
      "                                params=[\"ecut\", [2, 4, 6, 8]])\n",
      "flow.rmtree()\n",
      "flow.build()\n",
      "#flow = abilab.Flow.pickle_load(\"flow_alas_ecut_conv\")"
     ],
     "language": "python",
     "metadata": {},
     "outputs": [],
     "prompt_number": 6
    },
    {
     "cell_type": "code",
     "collapsed": false,
     "input": [
      "flow.show_info()"
     ],
     "language": "python",
     "metadata": {},
     "outputs": [
      {
       "output_type": "stream",
       "stream": "stdout",
       "text": [
        "<Flow, node_id=33060, workdir=flow_alas_ecut_conv>\n",
        "Number of works: 8, total number of tasks: 12\n",
        "Number of tasks with a given class:\n",
        "+------------+--------+\n",
        "| Task Class | Number |\n",
        "+------------+--------+\n",
        "|  ScfTask   |   4    |\n",
        "| PhononTask |   8    |\n",
        "+------------+--------+"
       ]
      }
     ],
     "prompt_number": 7
    },
    {
     "cell_type": "markdown",
     "metadata": {},
     "source": [
      "To visualize the connection among the `Tasks`, one can use:"
     ]
    },
    {
     "cell_type": "code",
     "collapsed": false,
     "input": [
      "flow.plot_networkx(with_edge_labels=False)"
     ],
     "language": "python",
     "metadata": {},
     "outputs": [
      {
       "metadata": {},
       "output_type": "display_data",
       "png": "[encoded data removed]",
       "text": [
        "<matplotlib.figure.Figure at 0x10e71df50>"
       ]
      }
     ],
     "prompt_number": 9
    },
    {
     "cell_type": "markdown",
     "metadata": {},
     "source": [
      "In this case we have four independent set of tasks. Each group has its own value of `ecut`.\n",
      "Each group consists of one `ScfTask` that solves the `KS` equations self-consistenly and produces \n",
      "a WFK file.\n",
      "The WFK file produced by the `ScfTask` is then used by its children (the `PhononTasks`) \n",
      "to compute the first-order change of the wavefunctions due to one of the irreducible atomic pertubations."
     ]
    },
    {
     "cell_type": "code",
     "collapsed": false,
     "input": [
      "help(abilab.phonon_conv_flow)"
     ],
     "language": "python",
     "metadata": {},
     "outputs": []
    },
    {
     "cell_type": "code",
     "collapsed": false,
     "input": [
      "flow.show_status()"
     ],
     "language": "python",
     "metadata": {},
     "outputs": [
      {
       "output_type": "stream",
       "stream": "stdout",
       "text": [
        "\n",
        "Work #0: <Work, node_id=33061, workdir=flow_alas_ecut_conv/w0>, Finalized=False\n",
        "+------+-------------+-------+--------------+--------------+---------+---------------+------+---------+\n",
        "| Task |    Status   | Queue |  MPI|Omp|Gb  | Err|Warn|Com |  Class  | Rest|Sub|Corr | Time | Node_ID |\n",
        "+------+-------------+-------+--------------+--------------+---------+---------------+------+---------+\n",
        "|  t0  | Initialized\u001b[0m |  None |    1|  1|2.0 |   NA|NA|NA   | ScfTask |   (0, 0, 0)   | None |  33062  |\n",
        "+------+-------------+-------+--------------+--------------+---------+---------------+------+---------+\n",
        "\n",
        "\n",
        "Work #1: <PhononWork, node_id=33063, workdir=flow_alas_ecut_conv/w1>, Finalized=False\n",
        "+------+-------------+-------+--------------+--------------+------------+---------------+------+---------+\n",
        "| Task |    Status   | Queue |  MPI|Omp|Gb  | Err|Warn|Com |   Class    | Rest|Sub|Corr | Time | Node_ID |\n",
        "+------+-------------+-------+--------------+--------------+------------+---------------+------+---------+\n",
        "|  t0  | Initialized\u001b[0m |  None |    1|  1|2.0 |   NA|NA|NA   | PhononTask |   (0, 0, 0)   | None |  33065  |\n",
        "|  t1  | Initialized\u001b[0m |  None |    1|  1|2.0 |   NA|NA|NA   | PhononTask |   (0, 0, 0)   | None |  33066  |\n",
        "+------+-------------+-------+--------------+--------------+------------+---------------+------+---------+\n",
        "\n",
        "\n",
        "Work #2: <Work, node_id=33067, workdir=flow_alas_ecut_conv/w2>, Finalized=False\n",
        "+------+-------------+-------+--------------+--------------+---------+---------------+------+---------+\n",
        "| Task |    Status   | Queue |  MPI|Omp|Gb  | Err|Warn|Com |  Class  | Rest|Sub|Corr | Time | Node_ID |\n",
        "+------+-------------+-------+--------------+--------------+---------+---------------+------+---------+\n",
        "|  t0  | Initialized\u001b[0m |  None |    1|  1|2.0 |   NA|NA|NA   | ScfTask |   (0, 0, 0)   | None |  33068  |\n",
        "+------+-------------+-------+--------------+--------------+---------+---------------+------+---------+\n",
        "\n",
        "\n",
        "Work #3: <PhononWork, node_id=33069, workdir=flow_alas_ecut_conv/w3>, Finalized=False\n",
        "+------+-------------+-------+--------------+--------------+------------+---------------+------+---------+\n",
        "| Task |    Status   | Queue |  MPI|Omp|Gb  | Err|Warn|Com |   Class    | Rest|Sub|Corr | Time | Node_ID |\n",
        "+------+-------------+-------+--------------+--------------+------------+---------------+------+---------+\n",
        "|  t0  | Initialized\u001b[0m |  None |    1|  1|2.0 |   NA|NA|NA   | PhononTask |   (0, 0, 0)   | None |  33071  |\n",
        "|  t1  | Initialized\u001b[0m |  None |    1|  1|2.0 |   NA|NA|NA   | PhononTask |   (0, 0, 0)   | None |  33072  |\n",
        "+------+-------------+-------+--------------+--------------+------------+---------------+------+---------+\n",
        "\n",
        "\n",
        "Work #4: <Work, node_id=33073, workdir=flow_alas_ecut_conv/w4>, Finalized=False\n",
        "+------+-------------+-------+--------------+--------------+---------+---------------+------+---------+\n",
        "| Task |    Status   | Queue |  MPI|Omp|Gb  | Err|Warn|Com |  Class  | Rest|Sub|Corr | Time | Node_ID |\n",
        "+------+-------------+-------+--------------+--------------+---------+---------------+------+---------+\n",
        "|  t0  | Initialized\u001b[0m |  None |    1|  1|2.0 |   NA|NA|NA   | ScfTask |   (0, 0, 0)   | None |  33074  |\n",
        "+------+-------------+-------+--------------+--------------+---------+---------------+------+---------+\n",
        "\n",
        "\n",
        "Work #5: <PhononWork, node_id=33075, workdir=flow_alas_ecut_conv/w5>, Finalized=False\n",
        "+------+-------------+-------+--------------+--------------+------------+---------------+------+---------+\n",
        "| Task |    Status   | Queue |  MPI|Omp|Gb  | Err|Warn|Com |   Class    | Rest|Sub|Corr | Time | Node_ID |\n",
        "+------+-------------+-------+--------------+--------------+------------+---------------+------+---------+\n",
        "|  t0  | Initialized\u001b[0m |  None |    1|  1|2.0 |   NA|NA|NA   | PhononTask |   (0, 0, 0)   | None |  33077  |\n",
        "|  t1  | Initialized\u001b[0m |  None |    1|  1|2.0 |   NA|NA|NA   | PhononTask |   (0, 0, 0)   | None |  33078  |\n",
        "+------+-------------+-------+--------------+--------------+------------+---------------+------+---------+\n",
        "\n",
        "\n",
        "Work #6: <Work, node_id=33079, workdir=flow_alas_ecut_conv/w6>, Finalized=False\n",
        "+------+-------------+-------+--------------+--------------+---------+---------------+------+---------+\n",
        "| Task |    Status   | Queue |  MPI|Omp|Gb  | Err|Warn|Com |  Class  | Rest|Sub|Corr | Time | Node_ID |\n",
        "+------+-------------+-------+--------------+--------------+---------+---------------+------+---------+\n",
        "|  t0  | Initialized\u001b[0m |  None |    1|  1|2.0 |   NA|NA|NA   | ScfTask |   (0, 0, 0)   | None |  33080  |\n",
        "+------+-------------+-------+--------------+--------------+---------+---------------+------+---------+\n",
        "\n",
        "\n",
        "Work #7: <PhononWork, node_id=33081, workdir=flow_alas_ecut_conv/w7>, Finalized=False\n",
        "+------+-------------+-------+--------------+--------------+------------+---------------+------+---------+\n",
        "| Task |    Status   | Queue |  MPI|Omp|Gb  | Err|Warn|Com |   Class    | Rest|Sub|Corr | Time | Node_ID |\n",
        "+------+-------------+-------+--------------+--------------+------------+---------------+------+---------+\n",
        "|  t0  | Initialized\u001b[0m |  None |    1|  1|2.0 |   NA|NA|NA   | PhononTask |   (0, 0, 0)   | None |  33083  |\n",
        "|  t1  | Initialized\u001b[0m |  None |    1|  1|2.0 |   NA|NA|NA   | PhononTask |   (0, 0, 0)   | None |  33084  |\n",
        "+------+-------------+-------+--------------+--------------+------------+---------------+------+---------+\n",
        "\n"
       ]
      }
     ],
     "prompt_number": 10
    },
    {
     "cell_type": "markdown",
     "metadata": {},
     "source": [
      "To start the calculation with a scheduler, one uses:"
     ]
    },
    {
     "cell_type": "code",
     "collapsed": false,
     "input": [
      "%%capture\n",
      "# discards the output in ipython notebooks\n",
      "flow.make_scheduler().start()"
     ],
     "language": "python",
     "metadata": {},
     "outputs": [
      {
       "metadata": {},
       "output_type": "pyout",
       "prompt_number": 11,
       "text": [
        "0"
       ]
      }
     ],
     "prompt_number": 11
    },
    {
     "cell_type": "markdown",
     "metadata": {},
     "source": [
      "Remember: The scheduler blocks until the entire `Flow` is completed. \n",
      "You will have to wait a bit before proceeding with the next steps"
     ]
    },
    {
     "cell_type": "code",
     "collapsed": false,
     "input": [
      "flow.show_status(verbose=1)"
     ],
     "language": "python",
     "metadata": {},
     "outputs": []
    },
    {
     "cell_type": "markdown",
     "metadata": {},
     "source": [
      "The calculation is completed and there are several output files located inside the \n",
      "workdir of the `Flow`.\n",
      "Let's ask the flow to print a table with all the DDB files that have been produced:"
     ]
    },
    {
     "cell_type": "code",
     "collapsed": false,
     "input": [
      "flow.listext(\"DDB\")"
     ],
     "language": "python",
     "metadata": {},
     "outputs": [
      {
       "output_type": "stream",
       "stream": "stdout",
       "text": [
        "Found 16 files with extension DDB produced by the flow\n",
        "+-------------------------------------------+-----------+---------+------------+\n",
        "|                    File                   | Size [Mb] | Node_ID | Node Class |\n",
        "+-------------------------------------------+-----------+---------+------------+\n",
        "| flow_alas_ecut_conv/w0/t0/outdata/out_DDB |    0.01   |  33062  |  ScfTask   |\n",
        "|   flow_alas_ecut_conv/w1/outdata/out_DDB  |    0.02   |  33063  | PhononWork |\n",
        "| flow_alas_ecut_conv/w1/t0/outdata/out_DDB |    0.02   |  33065  | PhononTask |\n",
        "| flow_alas_ecut_conv/w1/t1/outdata/out_DDB |    0.02   |  33066  | PhononTask |\n",
        "| flow_alas_ecut_conv/w2/t0/outdata/out_DDB |    0.01   |  33068  |  ScfTask   |\n",
        "|   flow_alas_ecut_conv/w3/outdata/out_DDB  |    0.02   |  33069  | PhononWork |\n",
        "| flow_alas_ecut_conv/w3/t0/outdata/out_DDB |    0.02   |  33071  | PhononTask |\n",
        "| flow_alas_ecut_conv/w3/t1/outdata/out_DDB |    0.02   |  33072  | PhononTask |\n",
        "| flow_alas_ecut_conv/w4/t0/outdata/out_DDB |    0.01   |  33074  |  ScfTask   |\n",
        "|   flow_alas_ecut_conv/w5/outdata/out_DDB  |    0.02   |  33075  | PhononWork |\n",
        "| flow_alas_ecut_conv/w5/t0/outdata/out_DDB |    0.02   |  33077  | PhononTask |\n",
        "| flow_alas_ecut_conv/w5/t1/outdata/out_DDB |    0.02   |  33078  | PhononTask |\n",
        "| flow_alas_ecut_conv/w6/t0/outdata/out_DDB |    0.01   |  33080  |  ScfTask   |\n",
        "|   flow_alas_ecut_conv/w7/outdata/out_DDB  |    0.02   |  33081  | PhononWork |\n",
        "| flow_alas_ecut_conv/w7/t0/outdata/out_DDB |    0.02   |  33083  | PhononTask |\n",
        "| flow_alas_ecut_conv/w7/t1/outdata/out_DDB |    0.02   |  33084  | PhononTask |\n",
        "+-------------------------------------------+-----------+---------+------------+\n"
       ]
      }
     ],
     "prompt_number": 12
    },
    {
     "cell_type": "markdown",
     "metadata": {},
     "source": [
      "When all the pertubation in the `PhononWork` are computed, the scheduler merges\n",
      "all the `DDB` files produced by the tasks in a `PhononWork` and writes the results in \n",
      "the outdir of the `PhononWork`.\n",
      "\n",
      "The file `w1/outdata/out_DDB`, for example, is the DDB file obtained by merging \n",
      "`w1/t0/outdata/out_DDB` and `w1/t1/outdata/out_DDB`. \n",
      "\n",
      "We are mainly interested in the DDB files and, in particular, to the DDB files located in the outdir of the `Works`.\n",
      "These are indeed the DDB files with all the information needed to reconstruct the \n",
      "dynamical matrix and to compute the phonon frequencies."
     ]
    },
    {
     "cell_type": "markdown",
     "metadata": {},
     "source": [
      "Remember that our goal is to analyze the convergence of the phonon frequencies at $\\Gamma$ \n",
      "as function of `ecut`. \n",
      "In principle, one should run anaddb with the different DDB files, extract the data from the output file, gather the results in another file and finally plot the results.\n",
      "This is the lengthy approach we have been using for years but now we have the abipy robots that\n",
      "will do most of the boring work in a semi-automated way.\n",
      "\n",
      "To tell our robot that we would like to analyze all the DDB files located in the output directories of the works, we use:"
     ]
    },
    {
     "cell_type": "code",
     "collapsed": false,
     "input": [
      "robot = abilab.DdbRobot.from_flow(flow, outdirs=\"work\")\n",
      "robot"
     ],
     "language": "python",
     "metadata": {},
     "outputs": [
      {
       "metadata": {},
       "output_type": "pyout",
       "prompt_number": 13,
       "text": [
        "DdbRobot with 4 files in memory\n",
        "\t[0]  flow_alas_ecut_conv/w1/outdata/out_DDB\n",
        "\t[1]  flow_alas_ecut_conv/w3/outdata/out_DDB\n",
        "\t[2]  flow_alas_ecut_conv/w5/outdata/out_DDB\n",
        "\t[3]  flow_alas_ecut_conv/w7/outdata/out_DDB"
       ]
      }
     ],
     "prompt_number": 13
    },
    {
     "cell_type": "markdown",
     "metadata": {},
     "source": [
      "At this point we can ask the `DdbRobot` to create a `Pandas` table (a.k.a. `DataFrame`) \n",
      "with the phonon frequencies and the parameters of the calculations in tabular form: "
     ]
    },
    {
     "cell_type": "code",
     "collapsed": false,
     "input": [
      "frame = robot.get_dataframe_at_qpoint((0, 0, 0))"
     ],
     "language": "python",
     "metadata": {},
     "outputs": [],
     "prompt_number": 15
    },
    {
     "cell_type": "markdown",
     "metadata": {},
     "source": [
      "For a quick introduction to Pandas, see:\n",
      "\n",
      "   * [A practical introduction to IPython Notebook & pandas](http://nbviewer.ipython.org/github/jvns/talks/blob/master/pydatanyc2013/PyData%20NYC%202013%20tutorial.ipynb)\n",
      "   * [Diving into Open Data with IPython Notebook & Pandas](http://nbviewer.ipython.org/github/jvns/talks/blob/master/pyconca2013/pistes-cyclables.ipynb)\n"
     ]
    },
    {
     "cell_type": "markdown",
     "metadata": {},
     "source": [
      "The `DataFrame` is a dict-like object whose keys are the name of the colums in the table"
     ]
    },
    {
     "cell_type": "code",
     "collapsed": false,
     "input": [
      "print(list(frame.keys()))"
     ],
     "language": "python",
     "metadata": {},
     "outputs": [
      {
       "output_type": "stream",
       "stream": "stdout",
       "text": [
        "['a', u'mode4', u'mode5', u'mode2', u'mode3', u'mode0', u'mode1', u'ixc', 'angle2', 'c', u'nsppol', 'volume', u'ecut', 'angle1', 'angle0', u'nkpt', 'formula', 'b', u'tsmear']\n"
       ]
      }
     ],
     "prompt_number": 16
    },
    {
     "cell_type": "markdown",
     "metadata": {},
     "source": [
      "To show the data in tabular form:"
     ]
    },
    {
     "cell_type": "code",
     "collapsed": false,
     "input": [
      "frame"
     ],
     "language": "python",
     "metadata": {},
     "outputs": [
      {
       "html": [
        "<div style=\"max-height:1000px;max-width:1500px;overflow:auto;\">\n",
        "<table border=\"1\" class=\"dataframe\">\n",
        "  <thead>\n",
        "    <tr style=\"text-align: right;\">\n",
        "      <th></th>\n",
        "      <th>a</th>\n",
        "      <th>mode4</th>\n",
        "      <th>mode5</th>\n",
        "      <th>mode2</th>\n",
        "      <th>mode3</th>\n",
        "      <th>mode0</th>\n",
        "      <th>mode1</th>\n",
        "      <th>ixc</th>\n",
        "      <th>angle2</th>\n",
        "      <th>c</th>\n",
        "      <th>nsppol</th>\n",
        "      <th>volume</th>\n",
        "      <th>ecut</th>\n",
        "      <th>angle1</th>\n",
        "      <th>angle0</th>\n",
        "      <th>nkpt</th>\n",
        "      <th>formula</th>\n",
        "      <th>b</th>\n",
        "      <th>tsmear</th>\n",
        "    </tr>\n",
        "  </thead>\n",
        "  <tbody>\n",
        "    <tr>\n",
        "      <th>flow_alas_ecut_conv/w1/outdata/out_DDB</th>\n",
        "      <td> 3.970101</td>\n",
        "      <td> 0.046806</td>\n",
        "      <td> 0.046806</td>\n",
        "      <td> 0</td>\n",
        "      <td> 0.046806</td>\n",
        "      <td> 0</td>\n",
        "      <td> 0</td>\n",
        "      <td> 1</td>\n",
        "      <td> 60</td>\n",
        "      <td> 3.970101</td>\n",
        "      <td> 1</td>\n",
        "      <td> 44.247583</td>\n",
        "      <td> 2</td>\n",
        "      <td> 60</td>\n",
        "      <td> 60</td>\n",
        "      <td> 128</td>\n",
        "      <td> Al1 As1</td>\n",
        "      <td> 3.970101</td>\n",
        "      <td> 0.04</td>\n",
        "    </tr>\n",
        "    <tr>\n",
        "      <th>flow_alas_ecut_conv/w3/outdata/out_DDB</th>\n",
        "      <td> 3.970101</td>\n",
        "      <td> 0.043641</td>\n",
        "      <td> 0.043641</td>\n",
        "      <td> 0</td>\n",
        "      <td> 0.043641</td>\n",
        "      <td> 0</td>\n",
        "      <td> 0</td>\n",
        "      <td> 1</td>\n",
        "      <td> 60</td>\n",
        "      <td> 3.970101</td>\n",
        "      <td> 1</td>\n",
        "      <td> 44.247583</td>\n",
        "      <td> 4</td>\n",
        "      <td> 60</td>\n",
        "      <td> 60</td>\n",
        "      <td> 128</td>\n",
        "      <td> Al1 As1</td>\n",
        "      <td> 3.970101</td>\n",
        "      <td> 0.04</td>\n",
        "    </tr>\n",
        "    <tr>\n",
        "      <th>flow_alas_ecut_conv/w5/outdata/out_DDB</th>\n",
        "      <td> 3.970101</td>\n",
        "      <td> 0.044485</td>\n",
        "      <td> 0.044485</td>\n",
        "      <td> 0</td>\n",
        "      <td> 0.044485</td>\n",
        "      <td> 0</td>\n",
        "      <td> 0</td>\n",
        "      <td> 1</td>\n",
        "      <td> 60</td>\n",
        "      <td> 3.970101</td>\n",
        "      <td> 1</td>\n",
        "      <td> 44.247583</td>\n",
        "      <td> 6</td>\n",
        "      <td> 60</td>\n",
        "      <td> 60</td>\n",
        "      <td> 128</td>\n",
        "      <td> Al1 As1</td>\n",
        "      <td> 3.970101</td>\n",
        "      <td> 0.04</td>\n",
        "    </tr>\n",
        "    <tr>\n",
        "      <th>flow_alas_ecut_conv/w7/outdata/out_DDB</th>\n",
        "      <td> 3.970101</td>\n",
        "      <td> 0.044625</td>\n",
        "      <td> 0.044625</td>\n",
        "      <td> 0</td>\n",
        "      <td> 0.044625</td>\n",
        "      <td> 0</td>\n",
        "      <td> 0</td>\n",
        "      <td> 1</td>\n",
        "      <td> 60</td>\n",
        "      <td> 3.970101</td>\n",
        "      <td> 1</td>\n",
        "      <td> 44.247583</td>\n",
        "      <td> 8</td>\n",
        "      <td> 60</td>\n",
        "      <td> 60</td>\n",
        "      <td> 128</td>\n",
        "      <td> Al1 As1</td>\n",
        "      <td> 3.970101</td>\n",
        "      <td> 0.04</td>\n",
        "    </tr>\n",
        "  </tbody>\n",
        "</table>\n",
        "</div>"
       ],
       "metadata": {},
       "output_type": "pyout",
       "prompt_number": 17,
       "text": [
        "                                               a     mode4     mode5  mode2  \\\n",
        "flow_alas_ecut_conv/w1/outdata/out_DDB  3.970101  0.046806  0.046806      0   \n",
        "flow_alas_ecut_conv/w3/outdata/out_DDB  3.970101  0.043641  0.043641      0   \n",
        "flow_alas_ecut_conv/w5/outdata/out_DDB  3.970101  0.044485  0.044485      0   \n",
        "flow_alas_ecut_conv/w7/outdata/out_DDB  3.970101  0.044625  0.044625      0   \n",
        "\n",
        "                                           mode3  mode0  mode1  ixc  angle2  \\\n",
        "flow_alas_ecut_conv/w1/outdata/out_DDB  0.046806      0      0    1      60   \n",
        "flow_alas_ecut_conv/w3/outdata/out_DDB  0.043641      0      0    1      60   \n",
        "flow_alas_ecut_conv/w5/outdata/out_DDB  0.044485      0      0    1      60   \n",
        "flow_alas_ecut_conv/w7/outdata/out_DDB  0.044625      0      0    1      60   \n",
        "\n",
        "                                               c  nsppol     volume  ecut  \\\n",
        "flow_alas_ecut_conv/w1/outdata/out_DDB  3.970101       1  44.247583     2   \n",
        "flow_alas_ecut_conv/w3/outdata/out_DDB  3.970101       1  44.247583     4   \n",
        "flow_alas_ecut_conv/w5/outdata/out_DDB  3.970101       1  44.247583     6   \n",
        "flow_alas_ecut_conv/w7/outdata/out_DDB  3.970101       1  44.247583     8   \n",
        "\n",
        "                                        angle1  angle0  nkpt  formula  \\\n",
        "flow_alas_ecut_conv/w1/outdata/out_DDB      60      60   128  Al1 As1   \n",
        "flow_alas_ecut_conv/w3/outdata/out_DDB      60      60   128  Al1 As1   \n",
        "flow_alas_ecut_conv/w5/outdata/out_DDB      60      60   128  Al1 As1   \n",
        "flow_alas_ecut_conv/w7/outdata/out_DDB      60      60   128  Al1 As1   \n",
        "\n",
        "                                               b  tsmear  \n",
        "flow_alas_ecut_conv/w1/outdata/out_DDB  3.970101    0.04  \n",
        "flow_alas_ecut_conv/w3/outdata/out_DDB  3.970101    0.04  \n",
        "flow_alas_ecut_conv/w5/outdata/out_DDB  3.970101    0.04  \n",
        "flow_alas_ecut_conv/w7/outdata/out_DDB  3.970101    0.04  "
       ]
      }
     ],
     "prompt_number": 17
    },
    {
     "cell_type": "markdown",
     "metadata": {},
     "source": [
      "The frame contains several columns, many of them are not useful in this case since \n",
      "we are mainly interested in the convergence of the frequencies with respect to `ecut`. \n",
      "Fortunately, we can use the powerful interface provided by `Pandas` dataframes to select only \n",
      "the columns we are interested in.\n",
      "\n",
      "For example, we can select the columns associated to `ecut` and `mode3` with:"
     ]
    },
    {
     "cell_type": "code",
     "collapsed": false,
     "input": [
      "frame[[\"ecut\", \"mode3\"]]"
     ],
     "language": "python",
     "metadata": {},
     "outputs": [
      {
       "html": [
        "<div style=\"max-height:1000px;max-width:1500px;overflow:auto;\">\n",
        "<table border=\"1\" class=\"dataframe\">\n",
        "  <thead>\n",
        "    <tr style=\"text-align: right;\">\n",
        "      <th></th>\n",
        "      <th>ecut</th>\n",
        "      <th>mode3</th>\n",
        "    </tr>\n",
        "  </thead>\n",
        "  <tbody>\n",
        "    <tr>\n",
        "      <th>flow_alas_ecut_conv/w1/outdata/out_DDB</th>\n",
        "      <td> 2</td>\n",
        "      <td> 0.046806</td>\n",
        "    </tr>\n",
        "    <tr>\n",
        "      <th>flow_alas_ecut_conv/w3/outdata/out_DDB</th>\n",
        "      <td> 4</td>\n",
        "      <td> 0.043641</td>\n",
        "    </tr>\n",
        "    <tr>\n",
        "      <th>flow_alas_ecut_conv/w5/outdata/out_DDB</th>\n",
        "      <td> 6</td>\n",
        "      <td> 0.044485</td>\n",
        "    </tr>\n",
        "    <tr>\n",
        "      <th>flow_alas_ecut_conv/w7/outdata/out_DDB</th>\n",
        "      <td> 8</td>\n",
        "      <td> 0.044625</td>\n",
        "    </tr>\n",
        "  </tbody>\n",
        "</table>\n",
        "</div>"
       ],
       "metadata": {},
       "output_type": "pyout",
       "prompt_number": 18,
       "text": [
        "                                        ecut     mode3\n",
        "flow_alas_ecut_conv/w1/outdata/out_DDB     2  0.046806\n",
        "flow_alas_ecut_conv/w3/outdata/out_DDB     4  0.043641\n",
        "flow_alas_ecut_conv/w5/outdata/out_DDB     6  0.044485\n",
        "flow_alas_ecut_conv/w7/outdata/out_DDB     8  0.044625"
       ]
      }
     ],
     "prompt_number": 18
    },
    {
     "cell_type": "markdown",
     "metadata": {},
     "source": [
      "To select all columns whose name starts with `mode`:"
     ]
    },
    {
     "cell_type": "code",
     "collapsed": false,
     "input": [
      "frame[[\"ecut\"] + [k for k in frame if k.startswith(\"mode\")]]"
     ],
     "language": "python",
     "metadata": {},
     "outputs": [
      {
       "html": [
        "<div style=\"max-height:1000px;max-width:1500px;overflow:auto;\">\n",
        "<table border=\"1\" class=\"dataframe\">\n",
        "  <thead>\n",
        "    <tr style=\"text-align: right;\">\n",
        "      <th></th>\n",
        "      <th>ecut</th>\n",
        "      <th>mode4</th>\n",
        "      <th>mode5</th>\n",
        "      <th>mode2</th>\n",
        "      <th>mode3</th>\n",
        "      <th>mode0</th>\n",
        "      <th>mode1</th>\n",
        "    </tr>\n",
        "  </thead>\n",
        "  <tbody>\n",
        "    <tr>\n",
        "      <th>flow_alas_ecut_conv/w1/outdata/out_DDB</th>\n",
        "      <td> 2</td>\n",
        "      <td> 0.046806</td>\n",
        "      <td> 0.046806</td>\n",
        "      <td> 0</td>\n",
        "      <td> 0.046806</td>\n",
        "      <td> 0</td>\n",
        "      <td> 0</td>\n",
        "    </tr>\n",
        "    <tr>\n",
        "      <th>flow_alas_ecut_conv/w3/outdata/out_DDB</th>\n",
        "      <td> 4</td>\n",
        "      <td> 0.043641</td>\n",
        "      <td> 0.043641</td>\n",
        "      <td> 0</td>\n",
        "      <td> 0.043641</td>\n",
        "      <td> 0</td>\n",
        "      <td> 0</td>\n",
        "    </tr>\n",
        "    <tr>\n",
        "      <th>flow_alas_ecut_conv/w5/outdata/out_DDB</th>\n",
        "      <td> 6</td>\n",
        "      <td> 0.044485</td>\n",
        "      <td> 0.044485</td>\n",
        "      <td> 0</td>\n",
        "      <td> 0.044485</td>\n",
        "      <td> 0</td>\n",
        "      <td> 0</td>\n",
        "    </tr>\n",
        "    <tr>\n",
        "      <th>flow_alas_ecut_conv/w7/outdata/out_DDB</th>\n",
        "      <td> 8</td>\n",
        "      <td> 0.044625</td>\n",
        "      <td> 0.044625</td>\n",
        "      <td> 0</td>\n",
        "      <td> 0.044625</td>\n",
        "      <td> 0</td>\n",
        "      <td> 0</td>\n",
        "    </tr>\n",
        "  </tbody>\n",
        "</table>\n",
        "</div>"
       ],
       "metadata": {},
       "output_type": "pyout",
       "prompt_number": 19,
       "text": [
        "                                        ecut     mode4     mode5  mode2  \\\n",
        "flow_alas_ecut_conv/w1/outdata/out_DDB     2  0.046806  0.046806      0   \n",
        "flow_alas_ecut_conv/w3/outdata/out_DDB     4  0.043641  0.043641      0   \n",
        "flow_alas_ecut_conv/w5/outdata/out_DDB     6  0.044485  0.044485      0   \n",
        "flow_alas_ecut_conv/w7/outdata/out_DDB     8  0.044625  0.044625      0   \n",
        "\n",
        "                                           mode3  mode0  mode1  \n",
        "flow_alas_ecut_conv/w1/outdata/out_DDB  0.046806      0      0  \n",
        "flow_alas_ecut_conv/w3/outdata/out_DDB  0.043641      0      0  \n",
        "flow_alas_ecut_conv/w5/outdata/out_DDB  0.044485      0      0  \n",
        "flow_alas_ecut_conv/w7/outdata/out_DDB  0.044625      0      0  "
       ]
      }
     ],
     "prompt_number": 19
    },
    {
     "cell_type": "markdown",
     "metadata": {},
     "source": [
      "This table is OK but we would prefer to have the phonon modes ordered from left to right. \n",
      "Let's fix it:"
     ]
    },
    {
     "cell_type": "code",
     "collapsed": false,
     "input": [
      "frame = frame[[\"ecut\"] + sorted([k for k in frame if k.startswith(\"mode\")])]\n",
      "frame "
     ],
     "language": "python",
     "metadata": {},
     "outputs": [
      {
       "html": [
        "<div style=\"max-height:1000px;max-width:1500px;overflow:auto;\">\n",
        "<table border=\"1\" class=\"dataframe\">\n",
        "  <thead>\n",
        "    <tr style=\"text-align: right;\">\n",
        "      <th></th>\n",
        "      <th>ecut</th>\n",
        "      <th>mode0</th>\n",
        "      <th>mode1</th>\n",
        "      <th>mode2</th>\n",
        "      <th>mode3</th>\n",
        "      <th>mode4</th>\n",
        "      <th>mode5</th>\n",
        "    </tr>\n",
        "  </thead>\n",
        "  <tbody>\n",
        "    <tr>\n",
        "      <th>flow_alas_ecut_conv/w1/outdata/out_DDB</th>\n",
        "      <td> 2</td>\n",
        "      <td> 0</td>\n",
        "      <td> 0</td>\n",
        "      <td> 0</td>\n",
        "      <td> 0.046806</td>\n",
        "      <td> 0.046806</td>\n",
        "      <td> 0.046806</td>\n",
        "    </tr>\n",
        "    <tr>\n",
        "      <th>flow_alas_ecut_conv/w3/outdata/out_DDB</th>\n",
        "      <td> 4</td>\n",
        "      <td> 0</td>\n",
        "      <td> 0</td>\n",
        "      <td> 0</td>\n",
        "      <td> 0.043641</td>\n",
        "      <td> 0.043641</td>\n",
        "      <td> 0.043641</td>\n",
        "    </tr>\n",
        "    <tr>\n",
        "      <th>flow_alas_ecut_conv/w5/outdata/out_DDB</th>\n",
        "      <td> 6</td>\n",
        "      <td> 0</td>\n",
        "      <td> 0</td>\n",
        "      <td> 0</td>\n",
        "      <td> 0.044485</td>\n",
        "      <td> 0.044485</td>\n",
        "      <td> 0.044485</td>\n",
        "    </tr>\n",
        "    <tr>\n",
        "      <th>flow_alas_ecut_conv/w7/outdata/out_DDB</th>\n",
        "      <td> 8</td>\n",
        "      <td> 0</td>\n",
        "      <td> 0</td>\n",
        "      <td> 0</td>\n",
        "      <td> 0.044625</td>\n",
        "      <td> 0.044625</td>\n",
        "      <td> 0.044625</td>\n",
        "    </tr>\n",
        "  </tbody>\n",
        "</table>\n",
        "</div>"
       ],
       "metadata": {},
       "output_type": "pyout",
       "prompt_number": 20,
       "text": [
        "                                        ecut  mode0  mode1  mode2     mode3  \\\n",
        "flow_alas_ecut_conv/w1/outdata/out_DDB     2      0      0      0  0.046806   \n",
        "flow_alas_ecut_conv/w3/outdata/out_DDB     4      0      0      0  0.043641   \n",
        "flow_alas_ecut_conv/w5/outdata/out_DDB     6      0      0      0  0.044485   \n",
        "flow_alas_ecut_conv/w7/outdata/out_DDB     8      0      0      0  0.044625   \n",
        "\n",
        "                                           mode4     mode5  \n",
        "flow_alas_ecut_conv/w1/outdata/out_DDB  0.046806  0.046806  \n",
        "flow_alas_ecut_conv/w3/outdata/out_DDB  0.043641  0.043641  \n",
        "flow_alas_ecut_conv/w5/outdata/out_DDB  0.044485  0.044485  \n",
        "flow_alas_ecut_conv/w7/outdata/out_DDB  0.044625  0.044625  "
       ]
      }
     ],
     "prompt_number": 20
    },
    {
     "cell_type": "markdown",
     "metadata": {},
     "source": [
      "To have a summary statistics of our data:"
     ]
    },
    {
     "cell_type": "code",
     "collapsed": false,
     "input": [
      "frame.describe()"
     ],
     "language": "python",
     "metadata": {},
     "outputs": [
      {
       "html": [
        "<div style=\"max-height:1000px;max-width:1500px;overflow:auto;\">\n",
        "<table border=\"1\" class=\"dataframe\">\n",
        "  <thead>\n",
        "    <tr style=\"text-align: right;\">\n",
        "      <th></th>\n",
        "      <th>ecut</th>\n",
        "      <th>mode0</th>\n",
        "      <th>mode1</th>\n",
        "      <th>mode2</th>\n",
        "      <th>mode3</th>\n",
        "      <th>mode4</th>\n",
        "      <th>mode5</th>\n",
        "    </tr>\n",
        "  </thead>\n",
        "  <tbody>\n",
        "    <tr>\n",
        "      <th>count</th>\n",
        "      <td> 4.000000</td>\n",
        "      <td> 4</td>\n",
        "      <td> 4</td>\n",
        "      <td> 4</td>\n",
        "      <td> 4.000000</td>\n",
        "      <td> 4.000000</td>\n",
        "      <td> 4.000000</td>\n",
        "    </tr>\n",
        "    <tr>\n",
        "      <th>mean</th>\n",
        "      <td> 5.000000</td>\n",
        "      <td> 0</td>\n",
        "      <td> 0</td>\n",
        "      <td> 0</td>\n",
        "      <td> 0.044889</td>\n",
        "      <td> 0.044889</td>\n",
        "      <td> 0.044889</td>\n",
        "    </tr>\n",
        "    <tr>\n",
        "      <th>std</th>\n",
        "      <td> 2.581989</td>\n",
        "      <td> 0</td>\n",
        "      <td> 0</td>\n",
        "      <td> 0</td>\n",
        "      <td> 0.001350</td>\n",
        "      <td> 0.001350</td>\n",
        "      <td> 0.001350</td>\n",
        "    </tr>\n",
        "    <tr>\n",
        "      <th>min</th>\n",
        "      <td> 2.000000</td>\n",
        "      <td> 0</td>\n",
        "      <td> 0</td>\n",
        "      <td> 0</td>\n",
        "      <td> 0.043641</td>\n",
        "      <td> 0.043641</td>\n",
        "      <td> 0.043641</td>\n",
        "    </tr>\n",
        "    <tr>\n",
        "      <th>25%</th>\n",
        "      <td> 3.500000</td>\n",
        "      <td> 0</td>\n",
        "      <td> 0</td>\n",
        "      <td> 0</td>\n",
        "      <td> 0.044274</td>\n",
        "      <td> 0.044274</td>\n",
        "      <td> 0.044274</td>\n",
        "    </tr>\n",
        "    <tr>\n",
        "      <th>50%</th>\n",
        "      <td> 5.000000</td>\n",
        "      <td> 0</td>\n",
        "      <td> 0</td>\n",
        "      <td> 0</td>\n",
        "      <td> 0.044555</td>\n",
        "      <td> 0.044555</td>\n",
        "      <td> 0.044555</td>\n",
        "    </tr>\n",
        "    <tr>\n",
        "      <th>75%</th>\n",
        "      <td> 6.500000</td>\n",
        "      <td> 0</td>\n",
        "      <td> 0</td>\n",
        "      <td> 0</td>\n",
        "      <td> 0.045170</td>\n",
        "      <td> 0.045170</td>\n",
        "      <td> 0.045170</td>\n",
        "    </tr>\n",
        "    <tr>\n",
        "      <th>max</th>\n",
        "      <td> 8.000000</td>\n",
        "      <td> 0</td>\n",
        "      <td> 0</td>\n",
        "      <td> 0</td>\n",
        "      <td> 0.046806</td>\n",
        "      <td> 0.046806</td>\n",
        "      <td> 0.046806</td>\n",
        "    </tr>\n",
        "  </tbody>\n",
        "</table>\n",
        "</div>"
       ],
       "metadata": {},
       "output_type": "pyout",
       "prompt_number": 21,
       "text": [
        "           ecut  mode0  mode1  mode2     mode3     mode4     mode5\n",
        "count  4.000000      4      4      4  4.000000  4.000000  4.000000\n",
        "mean   5.000000      0      0      0  0.044889  0.044889  0.044889\n",
        "std    2.581989      0      0      0  0.001350  0.001350  0.001350\n",
        "min    2.000000      0      0      0  0.043641  0.043641  0.043641\n",
        "25%    3.500000      0      0      0  0.044274  0.044274  0.044274\n",
        "50%    5.000000      0      0      0  0.044555  0.044555  0.044555\n",
        "75%    6.500000      0      0      0  0.045170  0.045170  0.045170\n",
        "max    8.000000      0      0      0  0.046806  0.046806  0.046806"
       ]
      }
     ],
     "prompt_number": 21
    },
    {
     "cell_type": "markdown",
     "metadata": {},
     "source": [
      "Pandas table are extremly powerful and `describe` already gives some useful info \n",
      "about the convergence of the phonon modes. \n",
      "Sometimes, however, we would like to plot the data to have a better understanding of what's happening.\n",
      "Fortunately, pandas `DataFrame` provide a `plot` method that allows us to plot the values \n",
      "in one colums as function of another column. \n",
      "\n",
      "The syntax is very simple:"
     ]
    },
    {
     "cell_type": "code",
     "collapsed": false,
     "input": [
      "frame.plot(x=\"ecut\", y=\"mode3\")"
     ],
     "language": "python",
     "metadata": {},
     "outputs": [
      {
       "metadata": {},
       "output_type": "pyout",
       "prompt_number": 22,
       "text": [
        "<matplotlib.axes._subplots.AxesSubplot at 0x110361690>"
       ]
      },
      {
       "metadata": {},
       "output_type": "display_data",
       "png": "[encoded data removed]",
       "text": [
        "<matplotlib.figure.Figure at 0x110928c90>"
       ]
      }
     ],
     "prompt_number": 22
    },
    {
     "cell_type": "markdown",
     "metadata": {},
     "source": [
      "At this point, we can call `frame.plot` inside a `for` loop to analyze \n",
      "all the phonon modes at the $\\Gamma$ point:  "
     ]
    },
    {
     "cell_type": "code",
     "collapsed": false,
     "input": [
      "for key in sorted(frame.keys()): \n",
      "    if not key.startswith(\"mode\"): continue\n",
      "    frame.plot(x=\"ecut\", y=key, title=key, legend=False)"
     ],
     "language": "python",
     "metadata": {},
     "outputs": [
      {
       "metadata": {},
       "output_type": "display_data",
       "png": "[encoded data removed]",
       "text": [
        "<matplotlib.figure.Figure at 0x1101cbc50>"
       ]
      },
      {
       "metadata": {},
       "output_type": "display_data",
       "png": "[encoded data removed]",
       "text": [
        "<matplotlib.figure.Figure at 0x1101b3c50>"
       ]
      },
      {
       "metadata": {},
       "output_type": "display_data",
       "png": "[encoded data removed]",
       "text": [
        "<matplotlib.figure.Figure at 0x1101b33d0>"
       ]
      },
      {
       "metadata": {},
       "output_type": "display_data",
       "png": "[encoded data removed]",
       "text": [
        "<matplotlib.figure.Figure at 0x11013b990>"
       ]
      },
      {
       "metadata": {},
       "output_type": "display_data",
       "png": "[encoded data removed]",
       "text": [
        "<matplotlib.figure.Figure at 0x1101de890>"
       ]
      },
      {
       "metadata": {},
       "output_type": "display_data",
       "png": "[encoded data removed]",
       "text": [
        "<matplotlib.figure.Figure at 0x11061c0d0>"
       ]
      }
     ],
     "prompt_number": 36
    },
    {
     "cell_type": "code",
     "collapsed": false,
     "input": [
      "#robot.plot_conv_phfreqs_qpoint(x_vars=[\"ecut\"], size=1, aspect=.5)"
     ],
     "language": "python",
     "metadata": {},
     "outputs": []
    },
    {
     "cell_type": "code",
     "collapsed": false,
     "input": [
      "# Remember to close all the files open by the robot when you are done with it \n",
      "# robot.close()"
     ],
     "language": "python",
     "metadata": {},
     "outputs": []
    },
    {
     "cell_type": "heading",
     "level": 1,
     "metadata": {},
     "source": [
      "Computing the phonon band structure of $AlAs$"
     ]
    },
    {
     "cell_type": "markdown",
     "metadata": {},
     "source": [
      "In the previous paragraph, we found that a cutoff energy of ?? Hartree is needed to converge \n",
      "the phonons at $\\Gamma$. Let's assume that also the modes at the other $q$-points present a similar\n",
      "convergence behaviour and let's do a full phonon band structure calculation on a homogeneous\n",
      "$q$-mesh:\n",
      "\n",
      "First of all, we have to generate an `AbinitInput` for the GS-SCF step with the value of `ecut` found in the previous study:"
     ]
    },
    {
     "cell_type": "code",
     "collapsed": false,
     "input": [
      "scf_input = make_scf_input(ecut=4)"
     ],
     "language": "python",
     "metadata": {},
     "outputs": [],
     "prompt_number": 23
    },
    {
     "cell_type": "markdown",
     "metadata": {},
     "source": [
      "Now we call the factory function `PhononFlow.from_scf_input`\n",
      "to build a `Flow` that computes all the independent atomic perturbations on a (2, 2, 2) $q$-mesh:"
     ]
    },
    {
     "cell_type": "code",
     "collapsed": false,
     "input": [
      "flow_phbands = abilab.PhononFlow.from_scf_input(\"flow_alas_phonons\", scf_input, ph_ngqpt=(2, 2, 2))\n",
      "#flow_phbands.rmtree()\n",
      "#flow_phbands = abilab.Flow.pickle_load(\"flow_alas_phonons\")"
     ],
     "language": "python",
     "metadata": {},
     "outputs": [],
     "prompt_number": 25
    },
    {
     "cell_type": "markdown",
     "metadata": {},
     "source": [
      "Note that there are a lot of things happening under the hood here.\n",
      "First of all, AbiPy generates DFPT tasks only for the $q$-points in the \n",
      "irreducible wedge of the Brillouin zone.\n",
      "\n",
      "Moreover, for a given $q$-point, only the irreducible atomic perturbations are explictly computed\n",
      "since the other perturbations can be recostructed by symmetry.\n",
      "Fortunately you don't have to care about all these technical details, as AbiPy will take \n",
      "care of it and will generate the phonon flow represented in the picture below:\n",
      "\n",
      "Many input parameters are also quite similar, both at the level of the description of the unit cell, as for the choice of cut-off energy and k point grid.\n",
      "\n",
      "Still, this input file is rather complex: in one single run, one produces the (Derivative Databases) DDBs needed for the rest of this tutorial. So, it starts with a ground-state calculation (dataset 1), followed by the computation of the response to the d/dk perturbation (dataset 2), and the response to electric fields, and phonons at Gamma (dataset 3). Datasets 4 to 10 generate the dynamical matrices at 7 q wavevectors, other than Gamma. At present (v4.6), one can only compute one q point per dataset, that is why so many datasets are needed.\n",
      "\n",
      "Also, the values of these q wavevectors are not determined automatically. They must correspond to the q wavevectors needed by the ANADDB utility (see later), that is, they should form a reduced set of symmetry-inequivalent wavevectors, corresponding to a regularly spaced grid. In principle, they ought not include the Gamma point, but it is recommended to have it in the set, in order for the Fourier interpolation not to introduce errors at that important point. In order to minimize the number of preliminary non-self-consistent calculations, it is advised to take a q point mesh that is adjusted to the k point mesh used for the electronic structure: all q wavevectors should connect two k point wavevectors from this grid."
     ]
    },
    {
     "cell_type": "code",
     "collapsed": false,
     "input": [
      "flow_phbands.plot_networkx()"
     ],
     "language": "python",
     "metadata": {},
     "outputs": [
      {
       "metadata": {},
       "output_type": "display_data",
       "png": "[encoded data removed]",
       "text": [
        "<matplotlib.figure.Figure at 0x1103b6cd0>"
       ]
      }
     ],
     "prompt_number": 27
    },
    {
     "cell_type": "code",
     "collapsed": false,
     "input": [
      "print_source(abilab.PhononFlow.from_scf_input)"
     ],
     "language": "python",
     "metadata": {},
     "outputs": []
    },
    {
     "cell_type": "code",
     "collapsed": false,
     "input": [
      "%%capture \n",
      "#flow.rmtree()\n",
      "# discards the output in ipython notebooks\n",
      "flow_phbands.make_scheduler().start()"
     ],
     "language": "python",
     "metadata": {},
     "outputs": [
      {
       "metadata": {},
       "output_type": "pyout",
       "prompt_number": 28,
       "text": [
        "0"
       ]
      }
     ],
     "prompt_number": 28
    },
    {
     "cell_type": "code",
     "collapsed": false,
     "input": [
      "flow.show_status(verbose=1)"
     ],
     "language": "python",
     "metadata": {},
     "outputs": []
    },
    {
     "cell_type": "markdown",
     "metadata": {},
     "source": [
      "Our flow is completed and we have the final DDB file\n",
      "with all the $q$-points and all the independent atomic perturbations in the outdir. \n",
      "The function below returns the path of the DDB file"
     ]
    },
    {
     "cell_type": "code",
     "collapsed": false,
     "input": [
      "ddb = flow_phbands.open_final_ddb()\n",
      "ddb"
     ],
     "language": "python",
     "metadata": {},
     "outputs": [
      {
       "metadata": {},
       "output_type": "pyout",
       "prompt_number": 30,
       "text": [
        "<DdbFile, flow_alas_phonons/outdata/out_DDB>"
       ]
      }
     ],
     "prompt_number": 30
    },
    {
     "cell_type": "markdown",
     "metadata": {},
     "source": [
      "The `DdbFile` object provides an easy-to-use interface that invokes `anaddb` and \n",
      "returns python objects we can use to analyze and post-process the results.\n",
      "\n",
      "`anacompare_phdos`, for example, computes the phonon DOS with different $q$-meshes.\n",
      "Each mesh is defined by a single integer, `nqsmall`, that gives the number of \n",
      "divisions used to sample the smallest reciprocal lattice vector. \n",
      "The number of divisions along the other directions are chosen so that proportions are preserved:"
     ]
    },
    {
     "cell_type": "code",
     "collapsed": false,
     "input": [
      "c = ddb.anacompare_phdos(nqsmalls=[8, 10, 12, 14, 16])\n",
      "figure = c.plotter.plot()"
     ],
     "language": "python",
     "metadata": {},
     "outputs": [
      {
       "output_type": "stream",
       "stream": "stdout",
       "text": [
        "Computing 5 phonon DOS with 4 threads\n",
        " Delta(Phdos[0] - Phdos[5]) / Phdos[5]: 0.955276"
       ]
      },
      {
       "output_type": "stream",
       "stream": "stdout",
       "text": [
        "\n",
        " Delta(Phdos[1] - Phdos[5]) / Phdos[5]: 0.697646\n",
        " Delta(Phdos[2] - Phdos[5]) / Phdos[5]: 0.484459\n",
        " Delta(Phdos[3] - Phdos[5]) / Phdos[5]: 0.290025\n"
       ]
      },
      {
       "metadata": {},
       "output_type": "display_data",
       "png": "[encoded data removed]",
       "text": [
        "<matplotlib.figure.Figure at 0x11096b490>"
       ]
      }
     ],
     "prompt_number": 31
    },
    {
     "cell_type": "markdown",
     "metadata": {},
     "source": [
      "A 16x16x16 $q$-mesh with the tethraedron method gives a well converged phonon DOS."
     ]
    },
    {
     "cell_type": "markdown",
     "metadata": {},
     "source": [
      "To function `anaget_phbst_and_phdos_files` allows one to compute the phonon band structure on a automatically defined $q$-path and the phonon DOS with a single call"
     ]
    },
    {
     "cell_type": "code",
     "collapsed": false,
     "input": [
      "phbst_file, phdos_file = ddb.anaget_phbst_and_phdos_files(ndivsm=10, nqsmall=16)\n",
      "\n",
      "# Extract the phonon bands and the phonon DOS from phbst_file and phdos_file\n",
      "phbands = phbst_file.phbands \n",
      "phdos = phdos_file.phdos"
     ],
     "language": "python",
     "metadata": {},
     "outputs": [],
     "prompt_number": 32
    },
    {
     "cell_type": "markdown",
     "metadata": {},
     "source": [
      "To plot the bands with matplotlib:"
     ]
    },
    {
     "cell_type": "code",
     "collapsed": false,
     "input": [
      "figure = phbands.plot()"
     ],
     "language": "python",
     "metadata": {},
     "outputs": [
      {
       "metadata": {},
       "output_type": "display_data",
       "png": "[encoded data removed]",
       "text": [
        "<matplotlib.figure.Figure at 0x113897790>"
       ]
      }
     ],
     "prompt_number": 34
    },
    {
     "cell_type": "markdown",
     "metadata": {},
     "source": [
      "To plot bands and DOS on the same figure:"
     ]
    },
    {
     "cell_type": "code",
     "collapsed": false,
     "input": [
      "figure = phbands.plot_with_phdos(phdos)"
     ],
     "language": "python",
     "metadata": {},
     "outputs": [
      {
       "metadata": {},
       "output_type": "display_data",
       "png": "[encoded data removed]",
       "text": [
        "<matplotlib.figure.Figure at 0x113dddf90>"
       ]
      }
     ],
     "prompt_number": 35
    },
    {
     "cell_type": "code",
     "collapsed": false,
     "input": [
      "# figure = phbands.plot_fatbands(max_stripe_width_mev=10.0)"
     ],
     "language": "python",
     "metadata": {},
     "outputs": [],
     "prompt_number": 29
    },
    {
     "cell_type": "markdown",
     "metadata": {},
     "source": [
      "The `PhdosFile` contains the phonon frequencies, the displacement \n",
      "as well as the decomposition of the total DOS in terms of the contributions due to \n",
      "the different types of atom in the unit cell.\n",
      "To plot the type-projected phonon DOS:"
     ]
    },
    {
     "cell_type": "code",
     "collapsed": false,
     "input": [
      "figure = phdos_file.plot_pjdos_type(title=\"AlAs type-projected phonon DOS\")"
     ],
     "language": "python",
     "metadata": {},
     "outputs": [
      {
       "metadata": {},
       "output_type": "display_data",
       "png": "[encoded data removed]",
       "text": [
        "<matplotlib.figure.Figure at 0x113df7090>"
       ]
      }
     ],
     "prompt_number": 36
    },
    {
     "cell_type": "markdown",
     "metadata": {},
     "source": [
      "Our calculations includes that response to the system to the electric field and\n",
      "therefore we can extract from DDB file the macroscopic dielectric tensor (`emacro`)\n",
      "and the Born effective charges (`BECS`)"
     ]
    },
    {
     "cell_type": "code",
     "collapsed": false,
     "input": [
      "emacro, becs = ddb.anaget_emacro_and_becs()"
     ],
     "language": "python",
     "metadata": {},
     "outputs": [],
     "prompt_number": 42
    },
    {
     "cell_type": "code",
     "collapsed": false,
     "input": [
      "emacro"
     ],
     "language": "python",
     "metadata": {},
     "outputs": [
      {
       "metadata": {},
       "output_type": "pyout",
       "prompt_number": 43,
       "text": [
        "(Tensor in r space.\n",
        " \n",
        " Cartesian coordinates:\n",
        " [[  1.00888558e+01  -1.77635684e-15  -8.88178420e-16]\n",
        "  [ -1.77635684e-15   1.00888558e+01   2.66453526e-15]\n",
        "  [ -8.88178420e-16   1.77635684e-15   1.00888558e+01]],)"
       ]
      }
     ],
     "prompt_number": 43
    },
    {
     "cell_type": "code",
     "collapsed": false,
     "input": [
      "becs"
     ],
     "language": "python",
     "metadata": {},
     "outputs": [
      {
       "metadata": {},
       "output_type": "pyout",
       "prompt_number": 44,
       "text": [
        "Full Formula (Al1 As1)\n",
        "Reduced Formula: AlAs\n",
        "abc   :   3.970101   3.970101   3.970101\n",
        "angles:  60.000000  60.000000  60.000000\n",
        "Sites (2)\n",
        "0 Al     0.000000     0.000000     0.000000\n",
        "1 As     0.250000     0.250000     0.250000\n",
        "Born effective charges computed with chneut: 1\n",
        "bec at site: [ 0.  0.  0.] Al\n",
        "[[  2.14615047e+00   0.00000000e+00   0.00000000e+00]\n",
        " [  0.00000000e+00   2.14615047e+00   0.00000000e+00]\n",
        " [  3.41397743e-19   3.41397743e-19   2.14615047e+00]]\n",
        "\n",
        "bec at site: [ 1.40364255  1.40364255  1.40364255] As\n",
        "[[ -2.14615047e+00   0.00000000e+00   0.00000000e+00]\n",
        " [  0.00000000e+00  -2.14615047e+00   0.00000000e+00]\n",
        " [ -3.41397743e-19  -3.41397743e-19  -2.14615047e+00]]\n",
        "\n",
        "Born effective charge neutrality sum-rule with chneut: 1[[  0.00000000e+00   0.00000000e+00   0.00000000e+00]\n",
        " [  0.00000000e+00   0.00000000e+00   0.00000000e+00]\n",
        " [  4.81482486e-35   4.81482486e-35   0.00000000e+00]]"
       ]
      }
     ],
     "prompt_number": 44
    },
    {
     "cell_type": "markdown",
     "metadata": {},
     "source": [
      "As explained in ??, the Born effective charges must fulfill the charge neutrality sum-rule.\n",
      "This rule is usually broken due to the dicretization of the FFT mesh but `anaddb` will enforce \n",
      "it if `chneut` is set to 1 (default behaviour).\n",
      "\n",
      "Let's check it!"
     ]
    },
    {
     "cell_type": "code",
     "collapsed": false,
     "input": [
      "becs.check_sumrule()"
     ],
     "language": "python",
     "metadata": {},
     "outputs": [
      {
       "output_type": "stream",
       "stream": "stdout",
       "text": [
        "Born effective charge neutrality sum-rule with chneut: 1[[  0.00000000e+00   0.00000000e+00   0.00000000e+00]\n",
        " [  0.00000000e+00   0.00000000e+00   0.00000000e+00]\n",
        " [  4.81482486e-35   4.81482486e-35   0.00000000e+00]]"
       ]
      }
     ],
     "prompt_number": 45
    },
    {
     "cell_type": "markdown",
     "metadata": {},
     "source": [
      "Let's try to do the same calculation without enforcing the sum-rule:"
     ]
    },
    {
     "cell_type": "code",
     "collapsed": false,
     "input": [
      "emacro, becs_chneut0 = ddb.anaget_emacro_and_becs(chneut=0)\n",
      "print(becs_chneut0)"
     ],
     "language": "python",
     "metadata": {},
     "outputs": [
      {
       "output_type": "stream",
       "stream": "stdout",
       "text": [
        "Full Formula (Al1 As1)\n",
        "Reduced Formula: AlAs\n",
        "abc   :   3.970101   3.970101   3.970101\n",
        "angles:  60.000000  60.000000  60.000000\n",
        "Sites (2)\n",
        "0 Al     0.000000     0.000000     0.000000\n",
        "1 As     0.250000     0.250000     0.250000\n",
        "Born effective charges computed with chneut: 0\n",
        "bec at site: [ 0.  0.  0.] Al\n",
        "[[  2.11795507e+00   0.00000000e+00   0.00000000e+00]\n",
        " [  0.00000000e+00   2.11795507e+00   0.00000000e+00]\n",
        " [  2.21366134e-20   2.21366134e-20   2.11795507e+00]]\n",
        "\n",
        "bec at site: [ 1.40364255  1.40364255  1.40364255] As\n",
        "[[ -2.17434586e+00   0.00000000e+00   0.00000000e+00]\n",
        " [  0.00000000e+00  -2.17434586e+00   0.00000000e+00]\n",
        " [ -6.60658873e-19  -6.60658873e-19  -2.17434586e+00]]\n",
        "\n",
        "Born effective charge neutrality sum-rule with chneut: 0[[ -5.63907989e-02   0.00000000e+00   0.00000000e+00]\n",
        " [  0.00000000e+00  -5.63907989e-02   0.00000000e+00]\n",
        " [ -6.38522259e-19  -6.38522259e-19  -5.63907989e-02]]\n"
       ]
      }
     ],
     "prompt_number": 39
    },
    {
     "cell_type": "code",
     "collapsed": false,
     "input": [
      "becs_chneut0.check_sumrule()"
     ],
     "language": "python",
     "metadata": {},
     "outputs": [
      {
       "output_type": "stream",
       "stream": "stdout",
       "text": [
        "Born effective charge neutrality sum-rule with chneut: 0[[ -5.63907989e-02   0.00000000e+00   0.00000000e+00]\n",
        " [  0.00000000e+00  -5.63907989e-02   0.00000000e+00]\n",
        " [ -6.38522259e-19  -6.38522259e-19  -5.63907989e-02]]"
       ]
      }
     ],
     "prompt_number": 46
    },
    {
     "cell_type": "heading",
     "level": 1,
     "metadata": {},
     "source": [
      "Thermodinamical properties in the Harmonic Approximation"
     ]
    },
    {
     "cell_type": "markdown",
     "metadata": {},
     "source": [
      "As explained in ??, one can compute thermodinamical properties \n",
      "in the harmonic approximation from the knowledge of the phonon density of states.\n",
      "Let's ask python to compute these properties from $T=0 K$ up to $T=50 K$ with a step of 1 Kelvin:"
     ]
    },
    {
     "cell_type": "code",
     "collapsed": false,
     "input": [
      "ht = phdos.get_harmonic_thermo(tstart=0, tstop=50, num=50)"
     ],
     "language": "python",
     "metadata": {},
     "outputs": [],
     "prompt_number": 36
    },
    {
     "cell_type": "code",
     "collapsed": false,
     "input": [
      "print(list(ht.keys()))"
     ],
     "language": "python",
     "metadata": {},
     "outputs": [
      {
       "output_type": "stream",
       "stream": "stdout",
       "text": [
        "[u'df', u's', u'de', u'cv']\n"
       ]
      }
     ],
     "prompt_number": 38
    },
    {
     "cell_type": "code",
     "collapsed": false,
     "input": [
      "figure = ht.plot()"
     ],
     "language": "python",
     "metadata": {},
     "outputs": [
      {
       "metadata": {},
       "output_type": "display_data",
       "png": "[encoded data removed]",
       "text": [
        "<matplotlib.figure.Figure at 0x110a54b90>"
       ]
      }
     ],
     "prompt_number": 37
    },
    {
     "cell_type": "code",
     "collapsed": false,
     "input": [
      "figure = ht.cv.plot()"
     ],
     "language": "python",
     "metadata": {},
     "outputs": [
      {
       "metadata": {},
       "output_type": "display_data",
       "png": "[encoded data removed]",
       "text": [
        "<matplotlib.figure.Figure at 0x111af2710>"
       ]
      }
     ],
     "prompt_number": 40
    }
   ],
   "metadata": {}
  }
 ]
}