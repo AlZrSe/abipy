{
 "cells": [
  {
   "cell_type": "markdown",
   "metadata": {
    "deletable": true,
    "editable": true
   },
   "source": [
    "Back to the main [Index](../index.ipynb)"
   ]
  },
  {
   "cell_type": "markdown",
   "metadata": {
    "deletable": true,
    "editable": true
   },
   "source": [
    "# Phonons and Born effective charges with Abinit and AbiPy"
   ]
  },
  {
   "cell_type": "markdown",
   "metadata": {
    "deletable": true,
    "editable": true
   },
   "source": [
    "This lesson shows how to compute phonon band structures, phonon DOSes \n",
    "and Born effective charges with Abinit and AbiPy.\n",
    "The dicussion closely follows the [second lesson](http://www.abinit.org/documentation/helpfiles/for-v7.10/tutorial/lesson_rf2.html)\n",
    "on response functions available on the Abinit web-site.  \n",
    "Let us assume that you have read the litterature relative to the [first lesson](http://www.abinit.org/documentation/helpfiles/for-v7.10/tutorial/lesson_rf1.html)\n",
    "on response functions.\n",
    "\n",
    "You might find additional material, related to the present section, in the following references: \n",
    "\n",
    "   * X. Gonze and C. Lee, Phys. Rev. B55, 10355 (1997), especially section IX \n",
    "   * C. Lee, X. Gonze, Phys. Rev. B 51, 8610 (1995) \n",
    "   * S. Baroni, S. de Gironcoli, A. Dal Corso, P. Giannozzi, Rev. Mod. Phys. 73, 515 (2001).\n",
    "   \n",
    "Note that, unlike many of the previous lessons, in this case we do not provide any `lesson`\n",
    "object that hides the internal implementation.\n",
    "In this lesson, you are supposed to explore the Abipy objects interactively either inside ipython \n",
    "or in the ipython notebook."
   ]
  },
  {
   "cell_type": "markdown",
   "metadata": {
    "deletable": true,
    "editable": true
   },
   "source": [
    "# Creating the input for the SCF-GS run"
   ]
  },
  {
   "cell_type": "markdown",
   "metadata": {
    "deletable": true,
    "editable": true
   },
   "source": [
    "Before starting, we need to import the python modules and the functions we will need \n",
    "for our studies. In particular, we need the `make_scf_input` function defined\n",
    "in `abipy.lessons.lesson_dfpt`:"
   ]
  },
  {
   "cell_type": "code",
   "execution_count": 1,
   "metadata": {
    "collapsed": false,
    "deletable": true,
    "editable": true
   },
   "outputs": [],
   "source": [
    "# Use %matplotlib if you are running in the ipython shell.\n",
    "%matplotlib notebook\n",
    "\n",
    "from __future__ import print_function, division\n",
    "\n",
    "from abipy import abilab\n",
    "from abipy.tools.notebooks import print_source\n",
    "import abipy.flowapi as flowapi\n",
    "\n",
    "from abipy.lessons.lesson_dfpt import make_scf_input"
   ]
  },
  {
   "cell_type": "markdown",
   "metadata": {
    "deletable": true,
    "editable": true
   },
   "source": [
    "`make_scf_input` returns an `AbinitInput`, a python object with the Abinit variables\n",
    "needed to perform a ground-state calculation for crystalline $AlAs$.\n",
    "Let's have a look at the signature of the function:"
   ]
  },
  {
   "cell_type": "code",
   "execution_count": 2,
   "metadata": {
    "collapsed": false,
    "deletable": true,
    "editable": true
   },
   "outputs": [
    {
     "name": "stdout",
     "output_type": "stream",
     "text": [
      "Help on function make_scf_input in module abipy.lessons.lesson_dfpt:\n",
      "\n",
      "make_scf_input(ecut=2, ngkpt=(4, 4, 4))\n",
      "    This function constructs an `AbinitInput` for performing a \n",
      "    GS-SCF calculation in crystalline AlAs.\n",
      "    \n",
      "    Args:\n",
      "        ecut: cutoff energy in Ha.\n",
      "        ngkpt: 3 integers specifying the k-mesh for the electrons.\n",
      "    \n",
      "    Return:\n",
      "        `AbinitInput` object\n",
      "\n"
     ]
    }
   ],
   "source": [
    "help(make_scf_input)"
   ]
  },
  {
   "cell_type": "markdown",
   "metadata": {
    "deletable": true,
    "editable": true
   },
   "source": [
    "The docstring tells us that if we call `make_scf_input` without arguments, we get a input object\n",
    "for computing the ground-state of $AlAs$ with `ecut=2` and `ngkpt=(4, 4, 4)`.\n",
    "Let's try:"
   ]
  },
  {
   "cell_type": "code",
   "execution_count": 3,
   "metadata": {
    "collapsed": false,
    "deletable": true,
    "editable": true
   },
   "outputs": [
    {
     "name": "stdout",
     "output_type": "stream",
     "text": [
      "############################################################################################\n",
      "#                                      SECTION: varbas                                      \n",
      "############################################################################################\n",
      "# <Energy CUToff>\n",
      " ecut 2\n",
      "# <SHIFT for K points>\n",
      " shiftk\n",
      "    0.0    0.0    0.5\n",
      "    0.0    0.5    0.0\n",
      "    0.5    0.0    0.0\n",
      "    0.5    0.5    0.5\n",
      "# <Number of Grid points for K PoinTs generation>\n",
      " ngkpt 4 4 4\n",
      "# <Number of BANDs>\n",
      " nband 4\n",
      "# <TOLerance on the potential V(r) ReSidual>\n",
      " tolvrs 1e-10\n",
      "# <Integer for eXchange-Correlation choice>\n",
      " ixc 1\n",
      "# <Number of (non-)self-consistent field STEPS>\n",
      " nstep 25\n",
      "# <Number of SHIFTs for K point grids>\n",
      " nshiftk 4\n",
      "############################################################################################\n",
      "#                                       SECTION: vargs                                      \n",
      "############################################################################################\n",
      "# <model DIElectric MACroscopic constant>\n",
      " diemac 9.0\n",
      "############################################################################################\n",
      "#                                         STRUCTURE                                         \n",
      "############################################################################################\n",
      "# <CELL lattice vector scaling>\n",
      " acell    1.0    1.0    1.0\n",
      "# <vectors (X) of atom positions in REDuced coordinates>\n",
      " xred\n",
      "    0.0000000000    0.0000000000    0.0000000000\n",
      "    0.2500000000    0.2500000000    0.2500000000\n",
      "# <Real space PRIMitive translations>\n",
      " rprim\n",
      "    0.0000000000    5.3050000000    5.3050000000\n",
      "    5.3050000000    0.0000000000    5.3050000000\n",
      "    5.3050000000    5.3050000000    0.0000000000\n",
      "# <TYPE of atoms>\n",
      " typat 1 2\n",
      "# <Number of ATOMs>\n",
      " natom 2\n",
      "# <Number of TYPEs of atoms>\n",
      " ntypat 2\n",
      "# <charge -Z- of the NUCLeus>\n",
      " znucl 13 33\n",
      "\n",
      "\n",
      "#<JSON>\n",
      "#{\n",
      "#    \"pseudos\": [\n",
      "#        {\n",
      "#            \"l_max\": 2, \n",
      "#            \"Z_val\": 3.0, \n",
      "#            \"filepath\": \"/Users/gmatteo/git_repos/abipy/abipy/data/pseudos/13al.981214.fhi\", \n",
      "#            \"symbol\": \"Al\", \n",
      "#            \"@module\": \"pymatgen.io.abinit.pseudos\", \n",
      "#            \"Z\": 13, \n",
      "#            \"type\": \"NcAbinitPseudo\", \n",
      "#            \"basename\": \"13al.981214.fhi\", \n",
      "#            \"@class\": \"NcAbinitPseudo\", \n",
      "#            \"md5\": \"45177dc68580e70ffd690f1e65e9b174\"\n",
      "#        }, \n",
      "#        {\n",
      "#            \"l_max\": 1, \n",
      "#            \"Z_val\": 5.0, \n",
      "#            \"filepath\": \"/Users/gmatteo/git_repos/abipy/abipy/data/pseudos/33as.pspnc\", \n",
      "#            \"symbol\": \"As\", \n",
      "#            \"@module\": \"pymatgen.io.abinit.pseudos\", \n",
      "#            \"Z\": 33, \n",
      "#            \"type\": \"NcAbinitPseudo\", \n",
      "#            \"basename\": \"33as.pspnc\", \n",
      "#            \"@class\": \"NcAbinitPseudo\", \n",
      "#            \"md5\": \"56f075499613b4e8e69cc77bd15edc6d\"\n",
      "#        }\n",
      "#    ]\n",
      "#}\n",
      "#</JSON>\n"
     ]
    }
   ],
   "source": [
    "scf_input = make_scf_input()\n",
    "print(scf_input)"
   ]
  },
  {
   "cell_type": "markdown",
   "metadata": {
    "deletable": true,
    "editable": true
   },
   "source": [
    "Note that `make_scf_input` makes some assumption for important parameters such as the\n",
    "the crystalline structure and the pseudos to be used. \n",
    "If you want to change these parameters (e.g. the pseudos), you have to write your version of `make_scf_input`.\n",
    "\n",
    "It's less complicated than you think. Let's have a look at the code:"
   ]
  },
  {
   "cell_type": "code",
   "execution_count": 4,
   "metadata": {
    "collapsed": false,
    "deletable": true,
    "editable": true
   },
   "outputs": [
    {
     "data": {
      "text/html": [
       "<!DOCTYPE html PUBLIC \"-//W3C//DTD HTML 4.01//EN\"\n",
       "   \"http://www.w3.org/TR/html4/strict.dtd\">\n",
       "\n",
       "<html>\n",
       "<head>\n",
       "  <title></title>\n",
       "  <meta http-equiv=\"content-type\" content=\"text/html; charset=None\">\n",
       "  <style type=\"text/css\">\n",
       "td.linenos { background-color: #f0f0f0; padding-right: 10px; }\n",
       "span.lineno { background-color: #f0f0f0; padding: 0 5px 0 5px; }\n",
       "pre { line-height: 125%; }\n",
       "body .hll { background-color: #ffffcc }\n",
       "body  { background: #f8f8f8; }\n",
       "body .c { color: #408080; font-style: italic } /* Comment */\n",
       "body .err { border: 1px solid #FF0000 } /* Error */\n",
       "body .k { color: #008000; font-weight: bold } /* Keyword */\n",
       "body .o { color: #666666 } /* Operator */\n",
       "body .ch { color: #408080; font-style: italic } /* Comment.Hashbang */\n",
       "body .cm { color: #408080; font-style: italic } /* Comment.Multiline */\n",
       "body .cp { color: #BC7A00 } /* Comment.Preproc */\n",
       "body .cpf { color: #408080; font-style: italic } /* Comment.PreprocFile */\n",
       "body .c1 { color: #408080; font-style: italic } /* Comment.Single */\n",
       "body .cs { color: #408080; font-style: italic } /* Comment.Special */\n",
       "body .gd { color: #A00000 } /* Generic.Deleted */\n",
       "body .ge { font-style: italic } /* Generic.Emph */\n",
       "body .gr { color: #FF0000 } /* Generic.Error */\n",
       "body .gh { color: #000080; font-weight: bold } /* Generic.Heading */\n",
       "body .gi { color: #00A000 } /* Generic.Inserted */\n",
       "body .go { color: #888888 } /* Generic.Output */\n",
       "body .gp { color: #000080; font-weight: bold } /* Generic.Prompt */\n",
       "body .gs { font-weight: bold } /* Generic.Strong */\n",
       "body .gu { color: #800080; font-weight: bold } /* Generic.Subheading */\n",
       "body .gt { color: #0044DD } /* Generic.Traceback */\n",
       "body .kc { color: #008000; font-weight: bold } /* Keyword.Constant */\n",
       "body .kd { color: #008000; font-weight: bold } /* Keyword.Declaration */\n",
       "body .kn { color: #008000; font-weight: bold } /* Keyword.Namespace */\n",
       "body .kp { color: #008000 } /* Keyword.Pseudo */\n",
       "body .kr { color: #008000; font-weight: bold } /* Keyword.Reserved */\n",
       "body .kt { color: #B00040 } /* Keyword.Type */\n",
       "body .m { color: #666666 } /* Literal.Number */\n",
       "body .s { color: #BA2121 } /* Literal.String */\n",
       "body .na { color: #7D9029 } /* Name.Attribute */\n",
       "body .nb { color: #008000 } /* Name.Builtin */\n",
       "body .nc { color: #0000FF; font-weight: bold } /* Name.Class */\n",
       "body .no { color: #880000 } /* Name.Constant */\n",
       "body .nd { color: #AA22FF } /* Name.Decorator */\n",
       "body .ni { color: #999999; font-weight: bold } /* Name.Entity */\n",
       "body .ne { color: #D2413A; font-weight: bold } /* Name.Exception */\n",
       "body .nf { color: #0000FF } /* Name.Function */\n",
       "body .nl { color: #A0A000 } /* Name.Label */\n",
       "body .nn { color: #0000FF; font-weight: bold } /* Name.Namespace */\n",
       "body .nt { color: #008000; font-weight: bold } /* Name.Tag */\n",
       "body .nv { color: #19177C } /* Name.Variable */\n",
       "body .ow { color: #AA22FF; font-weight: bold } /* Operator.Word */\n",
       "body .w { color: #bbbbbb } /* Text.Whitespace */\n",
       "body .mb { color: #666666 } /* Literal.Number.Bin */\n",
       "body .mf { color: #666666 } /* Literal.Number.Float */\n",
       "body .mh { color: #666666 } /* Literal.Number.Hex */\n",
       "body .mi { color: #666666 } /* Literal.Number.Integer */\n",
       "body .mo { color: #666666 } /* Literal.Number.Oct */\n",
       "body .sb { color: #BA2121 } /* Literal.String.Backtick */\n",
       "body .sc { color: #BA2121 } /* Literal.String.Char */\n",
       "body .sd { color: #BA2121; font-style: italic } /* Literal.String.Doc */\n",
       "body .s2 { color: #BA2121 } /* Literal.String.Double */\n",
       "body .se { color: #BB6622; font-weight: bold } /* Literal.String.Escape */\n",
       "body .sh { color: #BA2121 } /* Literal.String.Heredoc */\n",
       "body .si { color: #BB6688; font-weight: bold } /* Literal.String.Interpol */\n",
       "body .sx { color: #008000 } /* Literal.String.Other */\n",
       "body .sr { color: #BB6688 } /* Literal.String.Regex */\n",
       "body .s1 { color: #BA2121 } /* Literal.String.Single */\n",
       "body .ss { color: #19177C } /* Literal.String.Symbol */\n",
       "body .bp { color: #008000 } /* Name.Builtin.Pseudo */\n",
       "body .vc { color: #19177C } /* Name.Variable.Class */\n",
       "body .vg { color: #19177C } /* Name.Variable.Global */\n",
       "body .vi { color: #19177C } /* Name.Variable.Instance */\n",
       "body .il { color: #666666 } /* Literal.Number.Integer.Long */\n",
       "\n",
       "  </style>\n",
       "</head>\n",
       "<body>\n",
       "<h2></h2>\n",
       "\n",
       "<div class=\"highlight\"><pre><span></span><span class=\"k\">def</span> <span class=\"nf\">make_scf_input</span><span class=\"p\">(</span><span class=\"n\">ecut</span><span class=\"o\">=</span><span class=\"mi\">2</span><span class=\"p\">,</span> <span class=\"n\">ngkpt</span><span class=\"o\">=</span><span class=\"p\">(</span><span class=\"mi\">4</span><span class=\"p\">,</span> <span class=\"mi\">4</span><span class=\"p\">,</span> <span class=\"mi\">4</span><span class=\"p\">)):</span>\n",
       "    <span class=\"sd\">&quot;&quot;&quot;</span>\n",
       "<span class=\"sd\">    This function constructs an `AbinitInput` for performing a </span>\n",
       "<span class=\"sd\">    GS-SCF calculation in crystalline AlAs.</span>\n",
       "\n",
       "<span class=\"sd\">    Args:</span>\n",
       "<span class=\"sd\">        ecut: cutoff energy in Ha.</span>\n",
       "<span class=\"sd\">        ngkpt: 3 integers specifying the k-mesh for the electrons.</span>\n",
       "\n",
       "<span class=\"sd\">    Return:</span>\n",
       "<span class=\"sd\">        `AbinitInput` object </span>\n",
       "<span class=\"sd\">    &quot;&quot;&quot;</span>\n",
       "    <span class=\"c1\"># Initialize the AlAs structure from an internal database. Use the pseudos shipped with AbiPy.</span>\n",
       "    <span class=\"n\">gs_inp</span> <span class=\"o\">=</span> <span class=\"n\">abilab</span><span class=\"o\">.</span><span class=\"n\">AbinitInput</span><span class=\"p\">(</span><span class=\"n\">structure</span><span class=\"o\">=</span><span class=\"n\">abidata</span><span class=\"o\">.</span><span class=\"n\">structure_from_ucell</span><span class=\"p\">(</span><span class=\"s2\">&quot;AlAs&quot;</span><span class=\"p\">),</span>\n",
       "                                <span class=\"n\">pseudos</span><span class=\"o\">=</span><span class=\"n\">abidata</span><span class=\"o\">.</span><span class=\"n\">pseudos</span><span class=\"p\">(</span><span class=\"s2\">&quot;13al.981214.fhi&quot;</span><span class=\"p\">,</span> <span class=\"s2\">&quot;33as.pspnc&quot;</span><span class=\"p\">))</span>\n",
       "    \n",
       "    <span class=\"c1\"># Set the value of the Abinit variables needed for GS runs.</span>\n",
       "    <span class=\"n\">gs_inp</span><span class=\"o\">.</span><span class=\"n\">set_vars</span><span class=\"p\">(</span>\n",
       "        <span class=\"n\">nband</span><span class=\"o\">=</span><span class=\"mi\">4</span><span class=\"p\">,</span>       \n",
       "        <span class=\"n\">ecut</span><span class=\"o\">=</span><span class=\"n\">ecut</span><span class=\"p\">,</span>         \n",
       "        <span class=\"n\">ngkpt</span><span class=\"o\">=</span><span class=\"n\">ngkpt</span><span class=\"p\">,</span>\n",
       "        <span class=\"n\">nshiftk</span><span class=\"o\">=</span><span class=\"mi\">4</span><span class=\"p\">,</span>\n",
       "        <span class=\"n\">shiftk</span><span class=\"o\">=</span><span class=\"p\">[</span><span class=\"mf\">0.0</span><span class=\"p\">,</span> <span class=\"mf\">0.0</span><span class=\"p\">,</span> <span class=\"mf\">0.5</span><span class=\"p\">,</span>   <span class=\"c1\"># This gives the usual fcc Monkhorst-Pack grid</span>\n",
       "                <span class=\"mf\">0.0</span><span class=\"p\">,</span> <span class=\"mf\">0.5</span><span class=\"p\">,</span> <span class=\"mf\">0.0</span><span class=\"p\">,</span>\n",
       "                <span class=\"mf\">0.5</span><span class=\"p\">,</span> <span class=\"mf\">0.0</span><span class=\"p\">,</span> <span class=\"mf\">0.0</span><span class=\"p\">,</span>\n",
       "                <span class=\"mf\">0.5</span><span class=\"p\">,</span> <span class=\"mf\">0.5</span><span class=\"p\">,</span> <span class=\"mf\">0.5</span><span class=\"p\">],</span>\n",
       "        <span class=\"n\">ixc</span><span class=\"o\">=</span><span class=\"mi\">1</span><span class=\"p\">,</span>\n",
       "        <span class=\"n\">nstep</span><span class=\"o\">=</span><span class=\"mi\">25</span><span class=\"p\">,</span>\n",
       "        <span class=\"n\">diemac</span><span class=\"o\">=</span><span class=\"mf\">9.0</span><span class=\"p\">,</span>\n",
       "        <span class=\"n\">tolvrs</span><span class=\"o\">=</span><span class=\"mf\">1.0e-10</span><span class=\"p\">,</span>\n",
       "    <span class=\"p\">)</span>\n",
       "    \n",
       "    <span class=\"n\">gs_inp</span><span class=\"o\">.</span><span class=\"n\">set_mnemonics</span><span class=\"p\">(</span><span class=\"bp\">True</span><span class=\"p\">)</span>\n",
       "    <span class=\"k\">return</span> <span class=\"n\">gs_inp</span>\n",
       "</pre></div>\n",
       "</body>\n",
       "</html>\n"
      ],
      "text/plain": [
       "<IPython.core.display.HTML object>"
      ]
     },
     "execution_count": 4,
     "metadata": {},
     "output_type": "execute_result"
    }
   ],
   "source": [
    "print_source(make_scf_input)"
   ]
  },
  {
   "cell_type": "markdown",
   "metadata": {
    "deletable": true,
    "editable": true
   },
   "source": [
    "As you can see, `make_scf_input` is just initializing the `AbinitInput` object \n",
    "with a hardcoded list of pseudos and lattice parameters taken from an internal database.\n",
    "\n",
    "`AbinitInput` is a dict-like object and the `set_vars` function sets the values of the \n",
    "Abinit variables needed for the GS-SCF run. \n",
    "It should not be so difficult to generalize the code to take into account other cases.\n",
    "\n",
    "In the next paragraphs, we will show how to use `scf_input` to generate more complicated \n",
    "flows for DFPT calculations. \n",
    "More specifically, we'll discuss how to\n",
    "\n",
    "   * Perform a converge study for the phonon frequencies at $\\Gamma$ as function of `ecut`\n",
    "   * Compute the full phonon band structure of `AlAs` with the inclusion of Born \n",
    "     effective charges"
   ]
  },
  {
   "cell_type": "markdown",
   "metadata": {
    "deletable": true,
    "editable": true
   },
   "source": [
    "# Convergence study for the phonon frequencies at $\\Gamma$ as function of `ecut`"
   ]
  },
  {
   "cell_type": "markdown",
   "metadata": {
    "deletable": true,
    "editable": true
   },
   "source": [
    "In this section, we use `scf_input` as a starting point to build more \n",
    "complicated DFPT calculations. \n",
    "AbiPy, indeed, provides several factory functions to costruct `Flows` from an \n",
    "initial `AbinitInput` object\n",
    "(a `Flow` is a set of Abinit `Tasks` connected by dependencies).\n",
    "\n",
    "These factory functions accept optional parameters that can be used to customize the flow.\n",
    "The function `phonon_conv_flow`, for example, builds and returns a `Flow` that performs \n",
    "a phonon calculation on a given set of $q$-points.\n",
    "\n",
    "Let's use `scf_input` and `phonon_conv_flow`, to perform a convergence study for \n",
    "the phonons at `qpt=(0,0,0)` for different values of `ecut`: "
   ]
  },
  {
   "cell_type": "code",
   "execution_count": 5,
   "metadata": {
    "collapsed": false,
    "deletable": true,
    "editable": true
   },
   "outputs": [
    {
     "ename": "TypeError",
     "evalue": "from_scf_task() got an unexpected keyword argument 'qpt'",
     "output_type": "error",
     "traceback": [
      "\u001b[0;31m---------------------------------------------------------------------------\u001b[0m",
      "\u001b[0;31mTypeError\u001b[0m                                 Traceback (most recent call last)",
      "\u001b[0;32m<ipython-input-5-caf885ebe045>\u001b[0m in \u001b[0;36m<module>\u001b[0;34m()\u001b[0m\n\u001b[1;32m      1\u001b[0m flow = flowapi.phonon_conv_flow(\"flow_alas_ecut_conv\", scf_input, qpoints=(0, 0, 0), \n\u001b[0;32m----> 2\u001b[0;31m                                 params=[\"ecut\", [4, 6, 8]])\n\u001b[0m\u001b[1;32m      3\u001b[0m \u001b[0;34m\u001b[0m\u001b[0m\n\u001b[1;32m      4\u001b[0m \u001b[0mflow\u001b[0m\u001b[0;34m.\u001b[0m\u001b[0mplot_networkx\u001b[0m\u001b[0;34m(\u001b[0m\u001b[0mwith_edge_labels\u001b[0m\u001b[0;34m=\u001b[0m\u001b[0mTrue\u001b[0m\u001b[0;34m)\u001b[0m\u001b[0;34m\u001b[0m\u001b[0m\n",
      "\u001b[0;32m/Users/gmatteo/git_repos/pymatgen/pymatgen/io/abinit/flows.pyc\u001b[0m in \u001b[0;36mphonon_conv_flow\u001b[0;34m(workdir, scf_input, qpoints, params, manager, allocate)\u001b[0m\n\u001b[1;32m   2780\u001b[0m \u001b[0;34m\u001b[0m\u001b[0m\n\u001b[1;32m   2781\u001b[0m             \u001b[0;31m# Add the PhononWork connected to this scf_task.\u001b[0m\u001b[0;34m\u001b[0m\u001b[0;34m\u001b[0m\u001b[0m\n\u001b[0;32m-> 2782\u001b[0;31m             \u001b[0mflow\u001b[0m\u001b[0;34m.\u001b[0m\u001b[0mregister_work\u001b[0m\u001b[0;34m(\u001b[0m\u001b[0mPhononWork\u001b[0m\u001b[0;34m.\u001b[0m\u001b[0mfrom_scf_task\u001b[0m\u001b[0;34m(\u001b[0m\u001b[0mwork\u001b[0m\u001b[0;34m[\u001b[0m\u001b[0;36m0\u001b[0m\u001b[0;34m]\u001b[0m\u001b[0;34m,\u001b[0m \u001b[0mqpt\u001b[0m\u001b[0;34m=\u001b[0m\u001b[0mqpt\u001b[0m\u001b[0;34m)\u001b[0m\u001b[0;34m)\u001b[0m\u001b[0;34m\u001b[0m\u001b[0m\n\u001b[0m\u001b[1;32m   2783\u001b[0m \u001b[0;34m\u001b[0m\u001b[0m\n\u001b[1;32m   2784\u001b[0m     \u001b[0;32mif\u001b[0m \u001b[0mallocate\u001b[0m\u001b[0;34m:\u001b[0m \u001b[0mflow\u001b[0m\u001b[0;34m.\u001b[0m\u001b[0mallocate\u001b[0m\u001b[0;34m(\u001b[0m\u001b[0;34m)\u001b[0m\u001b[0;34m\u001b[0m\u001b[0m\n",
      "\u001b[0;31mTypeError\u001b[0m: from_scf_task() got an unexpected keyword argument 'qpt'"
     ]
    }
   ],
   "source": [
    "flow = flowapi.phonon_conv_flow(\"flow_alas_ecut_conv\", scf_input, qpoints=(0, 0, 0), \n",
    "                                params=[\"ecut\", [4, 6, 8]])\n",
    "\n",
    "flow.plot_networkx(with_edge_labels=True)"
   ]
  },
  {
   "cell_type": "markdown",
   "metadata": {
    "deletable": true,
    "editable": true
   },
   "source": [
    "The flow generated by `phonon_conv_flow` contains three independent groups of tasks, one group per each value of `ecut` specified in `params`.\n",
    "Each group consists of one `ScfTask` that solves the `KS` equations self-consistently and produces a WFK file.\n",
    "This `ScfTask` is the parent of two `PhononTasks` that will use the WFK file produced by `ScfTask`\n",
    "to compute the first-order change of the wavefunctions due to one of the *irreducible* atomic pertubations.\n",
    "This explains why we have two `PhononTasks` per $q$-point instead of the total number of phonon modes that equals $3*N_{atom}=6$. \n",
    "Note that `phonon_conv_flow` invokes Abinit under the hood to get the list of irreducible perturbations and uses this information to build the flow."
   ]
  },
  {
   "cell_type": "markdown",
   "metadata": {
    "deletable": true,
    "editable": true
   },
   "source": [
    "Now we can start the calculation with the scheduler.\n"
   ]
  },
  {
   "cell_type": "code",
   "execution_count": null,
   "metadata": {
    "collapsed": false,
    "deletable": true,
    "editable": true
   },
   "outputs": [],
   "source": [
    "%%capture\n",
    "# discards the output in ipython notebooks\n",
    "flow.make_scheduler().start()"
   ]
  },
  {
   "cell_type": "markdown",
   "metadata": {
    "deletable": true,
    "editable": true
   },
   "source": [
    "The scheduler blocks until the entire `Flow` is completed.\n",
    "You will have to wait a bit before proceeding with the next steps!"
   ]
  },
  {
   "cell_type": "code",
   "execution_count": null,
   "metadata": {
    "collapsed": false,
    "deletable": true,
    "editable": true
   },
   "outputs": [],
   "source": [
    "flow.show_summary()"
   ]
  },
  {
   "cell_type": "markdown",
   "metadata": {
    "deletable": true,
    "editable": true
   },
   "source": [
    "The calculation is completed and there are several output files located inside the \n",
    "`outdata` directories.\n",
    "Let's print a table with all the DDB files (a.k.a. Derivative Database) \n",
    "produced by our `Flow`:"
   ]
  },
  {
   "cell_type": "code",
   "execution_count": null,
   "metadata": {
    "collapsed": false,
    "deletable": true,
    "editable": true
   },
   "outputs": [],
   "source": [
    "flow.listext(\"DDB\")"
   ]
  },
  {
   "cell_type": "markdown",
   "metadata": {
    "deletable": true,
    "editable": true
   },
   "source": [
    "We are mainly interested in the DDB files located in the `outdata` directories of the `PhononWorks`.\n",
    "These are indeed the DDB files with all the information needed to reconstruct the \n",
    "dynamical matrix at $\\Gamma$ and to compute the phonon frequencies (AbiPy calls `mrgddb`\n",
    "to merge the DDB files when all the perturbations in the `PhononWork` have been computed).\n",
    "\n",
    "Remember that our goal is to analyze the convergence of the phonon frequencies at $\\Gamma$ \n",
    "as function of `ecut`. \n",
    "In principle, one should run `anaddb` with the different DDB files, extract the data from the output files, gather the results in another file and finally plot the results.\n",
    "This is the lengthy procedure we have been using for years but now we have the abipy robots that\n",
    "will do most of the boring work in a semi-automated way.\n",
    "\n",
    "The code below tells our robot that we would like to analyze all the DDB files located in the output directories of the works:"
   ]
  },
  {
   "cell_type": "code",
   "execution_count": null,
   "metadata": {
    "collapsed": false,
    "deletable": true,
    "editable": true
   },
   "outputs": [],
   "source": [
    "robot = abilab.DdbRobot.from_flow(flow, outdirs=\"work\")\n",
    "robot"
   ]
  },
  {
   "cell_type": "markdown",
   "metadata": {
    "deletable": true,
    "editable": true
   },
   "source": [
    "At this point we can ask the `DdbRobot` to create a `Pandas` table (a.k.a. `DataFrame`) \n",
    "with the phonon frequencies and the parameters of the calculations in tabular form: "
   ]
  },
  {
   "cell_type": "code",
   "execution_count": null,
   "metadata": {
    "collapsed": false,
    "deletable": true,
    "editable": true
   },
   "outputs": [],
   "source": [
    "frame = robot.get_dataframe_at_qpoint((0, 0, 0))"
   ]
  },
  {
   "cell_type": "markdown",
   "metadata": {
    "deletable": true,
    "editable": true
   },
   "source": [
    "For a quick introduction to Pandas, see:\n",
    "\n",
    "   * [A practical introduction to IPython Notebook & pandas](http://nbviewer.ipython.org/github/jvns/talks/blob/master/pydatanyc2013/PyData%20NYC%202013%20tutorial.ipynb)\n",
    "   * [Diving into Open Data with IPython Notebook & Pandas](http://nbviewer.ipython.org/github/jvns/talks/blob/master/pyconca2013/pistes-cyclables.ipynb)"
   ]
  },
  {
   "cell_type": "markdown",
   "metadata": {
    "deletable": true,
    "editable": true
   },
   "source": [
    "The `DataFrame` is a dict-like object whose keys are the name of the colums in the table"
   ]
  },
  {
   "cell_type": "code",
   "execution_count": null,
   "metadata": {
    "collapsed": false,
    "deletable": true,
    "editable": true
   },
   "outputs": [],
   "source": [
    "print(list(frame.keys()))"
   ]
  },
  {
   "cell_type": "markdown",
   "metadata": {
    "deletable": true,
    "editable": true
   },
   "source": [
    "To show the data in tabular form:"
   ]
  },
  {
   "cell_type": "code",
   "execution_count": null,
   "metadata": {
    "collapsed": false,
    "deletable": true,
    "editable": true
   },
   "outputs": [],
   "source": [
    "frame"
   ]
  },
  {
   "cell_type": "markdown",
   "metadata": {
    "deletable": true,
    "editable": true
   },
   "source": [
    "where `mode(i)` is the frequency in eV of the i-th phonon mode.\n",
    "\n",
    "The frame created by the robot contains several columns.\n",
    "Many of them are not useful in this case since \n",
    "we are mainly interested in the convergence of the frequencies with respect to `ecut`. \n",
    "Fortunately, we can use the powerful interface provided by `Pandas` dataframes to select only \n",
    "the columns we are interested in.\n",
    "\n",
    "For example, we can select the columns associated to `ecut` and `mode3` with:"
   ]
  },
  {
   "cell_type": "code",
   "execution_count": null,
   "metadata": {
    "collapsed": false,
    "deletable": true,
    "editable": true
   },
   "outputs": [],
   "source": [
    "frame[[\"ecut\", \"mode3\"]]"
   ]
  },
  {
   "cell_type": "markdown",
   "metadata": {
    "deletable": true,
    "editable": true
   },
   "source": [
    "To select all columns whose name starts with `mode`:"
   ]
  },
  {
   "cell_type": "code",
   "execution_count": null,
   "metadata": {
    "collapsed": false,
    "deletable": true,
    "editable": true
   },
   "outputs": [],
   "source": [
    "frame[[\"ecut\"] + [k for k in frame if k.startswith(\"mode\")]]"
   ]
  },
  {
   "cell_type": "markdown",
   "metadata": {
    "deletable": true,
    "editable": true
   },
   "source": [
    "This table seems OK, but we would prefer to have the phonon modes ordered from left to right. \n",
    "Let's fix it:"
   ]
  },
  {
   "cell_type": "code",
   "execution_count": null,
   "metadata": {
    "collapsed": false,
    "deletable": true,
    "editable": true
   },
   "outputs": [],
   "source": [
    "frame = frame[[\"ecut\"] + sorted([k for k in frame if k.startswith(\"mode\")])]\n",
    "frame "
   ]
  },
  {
   "cell_type": "markdown",
   "metadata": {
    "deletable": true,
    "editable": true
   },
   "source": [
    "To have a summary statistics of our data:"
   ]
  },
  {
   "cell_type": "code",
   "execution_count": null,
   "metadata": {
    "collapsed": false,
    "deletable": true,
    "editable": true
   },
   "outputs": [],
   "source": [
    "frame.describe()"
   ]
  },
  {
   "cell_type": "markdown",
   "metadata": {
    "deletable": true,
    "editable": true
   },
   "source": [
    "Pandas tables are extremly powerful and the `describe` method already gives some useful info \n",
    "about the convergence of the phonon modes. \n",
    "Sometimes, however, we would like to plot the data to have a better understanding of what's happening.\n",
    "Fortunately, pandas `DataFrame` provide a `plot` method that allows us to plot the values \n",
    "in one colums as function of another column. \n",
    "\n",
    "The syntax is very simple:"
   ]
  },
  {
   "cell_type": "code",
   "execution_count": null,
   "metadata": {
    "collapsed": false,
    "deletable": true,
    "editable": true
   },
   "outputs": [],
   "source": [
    "frame.plot(x=\"ecut\", y=\"mode3\")"
   ]
  },
  {
   "cell_type": "markdown",
   "metadata": {
    "deletable": true,
    "editable": true
   },
   "source": [
    "At this point, we can call `frame.plot` inside a `for` loop to analyze \n",
    "all the phonon modes at the $\\Gamma$ point:  "
   ]
  },
  {
   "cell_type": "code",
   "execution_count": null,
   "metadata": {
    "collapsed": false,
    "deletable": true,
    "editable": true
   },
   "outputs": [],
   "source": [
    "for key in sorted(frame.keys()): \n",
    "    if not key.startswith(\"mode\"): continue\n",
    "    frame.plot(x=\"ecut\", y=key, title=key, legend=False)"
   ]
  },
  {
   "cell_type": "markdown",
   "metadata": {
    "deletable": true,
    "editable": true
   },
   "source": [
    "This convergence study at $\\Gamma$ has thus revealed that our pseudos requires \n",
    "an $ecut >= 6 Ha$ to get reasonably converged phonon frequencies at $\\Gamma$.\n",
    "In what follows, we assume that also the modes at the other $q$-points present a similar\n",
    "convergence behaviour and we use $ecut=6$ to keep the computational cost low. "
   ]
  },
  {
   "cell_type": "markdown",
   "metadata": {
    "deletable": true,
    "editable": true
   },
   "source": [
    "Tip: If you want to collect the phonon modes in a grid, you have to play a bit with the matplotlib API.\n",
    "To create a grid of `(2 x 3)` subsplots:"
   ]
  },
  {
   "cell_type": "code",
   "execution_count": null,
   "metadata": {
    "collapsed": false,
    "deletable": true,
    "editable": true
   },
   "outputs": [],
   "source": [
    "import matplotlib.pyplot as plt\n",
    "figure, ax_list = plt.subplots(nrows=2, ncols=3)\n",
    "\n",
    "modes = [k for k in frame.keys() if k.startswith(\"mode\")]\n",
    "\n",
    "for mode, ax in zip(modes, ax_list.ravel()):\n",
    "    # plot mode on this AxesSubplot\n",
    "    frame.plot(x=\"ecut\", y=mode, title=mode, ax=ax, legend=False)\n",
    "    \n",
    "figure.set_size_inches(18.5, 10.5)"
   ]
  },
  {
   "cell_type": "markdown",
   "metadata": {
    "deletable": true,
    "editable": true
   },
   "source": [
    "# Computing the phonon band structure of $AlAs$"
   ]
  },
  {
   "cell_type": "markdown",
   "metadata": {
    "deletable": true,
    "editable": true
   },
   "source": [
    "In this paragraph, we use AbiPy to perform a full phonon band structure calculation.\n",
    "First of all, we have to generate an `AbinitInput` for the GS-SCF step with the value of `ecut` found in the previous convergence study:"
   ]
  },
  {
   "cell_type": "code",
   "execution_count": null,
   "metadata": {
    "collapsed": false,
    "deletable": true,
    "editable": true
   },
   "outputs": [],
   "source": [
    "scf_input = make_scf_input(ecut=6, ngkpt=(4, 4, 4))"
   ]
  },
  {
   "cell_type": "markdown",
   "metadata": {
    "deletable": true,
    "editable": true
   },
   "source": [
    "Now we call the factory function `PhononFlow.from_scf_input`\n",
    "to build a `Flow` that computes all the independent atomic perturbations on a (2, 2, 2) $q$-mesh.\n",
    "The optional argument `with_becs` instructs the code to include the response to a \n",
    "macroscopic electric field so that we will have access to the Born effective charges:"
   ]
  },
  {
   "cell_type": "code",
   "execution_count": null,
   "metadata": {
    "collapsed": false,
    "deletable": true,
    "editable": true
   },
   "outputs": [],
   "source": [
    "flow_phbands = flowapi.PhononFlow.from_scf_input(\"flow_alas_phonons\", scf_input, \n",
    "                                                ph_ngqpt=(2, 2, 2), with_becs=True)"
   ]
  },
  {
   "cell_type": "markdown",
   "metadata": {
    "deletable": true,
    "editable": true
   },
   "source": [
    "Note that there are a lot of things happening under the hood here.\n",
    "\n",
    "First of all, AbiPy generates `PhononTasks` only for the $q$-points in the \n",
    "irreducible wedge of the Brillouin zone corresponding to `ph_ngqpt`.\n",
    "Moreover, for a given $q$-point, only the irreducible atomic perturbations are explictly computed\n",
    "since the other atomic perturbations can be recostructed by symmetry.\n",
    "Fortunately you don't have to care about all these technical details as AbiPy and Abinit \n",
    "will automate the whole procedure.\n",
    "\n",
    "Remember that the $q$-point mesh cannot be chosen arbitrarily\n",
    "since all $q$ wavevectors should connect two $k$ points of the grid used for the electrons.\n",
    "\n",
    "Now we can finally plot our `PhononFlow`:"
   ]
  },
  {
   "cell_type": "code",
   "execution_count": null,
   "metadata": {
    "collapsed": false,
    "deletable": true,
    "editable": true
   },
   "outputs": [],
   "source": [
    "flow_phbands.plot_networkx()"
   ]
  },
  {
   "cell_type": "markdown",
   "metadata": {
    "deletable": true,
    "editable": true
   },
   "source": [
    "and run it with:"
   ]
  },
  {
   "cell_type": "code",
   "execution_count": null,
   "metadata": {
    "collapsed": false,
    "deletable": true,
    "editable": true
   },
   "outputs": [],
   "source": [
    "%%capture \n",
    "# The previous line discards the output in ipython notebooks\n",
    "flow_phbands.make_scheduler().start()"
   ]
  },
  {
   "cell_type": "code",
   "execution_count": null,
   "metadata": {
    "collapsed": false,
    "deletable": true,
    "editable": true
   },
   "outputs": [],
   "source": [
    "flow_phbands.show_summary()"
   ]
  },
  {
   "cell_type": "markdown",
   "metadata": {
    "deletable": true,
    "editable": true
   },
   "source": [
    "Our flow is completed and we have the final DDB file with all the $q$-points and all the independent atomic perturbations. \n",
    "Let's open this DDB file with:"
   ]
  },
  {
   "cell_type": "code",
   "execution_count": null,
   "metadata": {
    "collapsed": false,
    "deletable": true,
    "editable": true
   },
   "outputs": [],
   "source": [
    "ddb = flow_phbands.open_final_ddb()\n",
    "ddb"
   ]
  },
  {
   "cell_type": "markdown",
   "metadata": {
    "deletable": true,
    "editable": true
   },
   "source": [
    "The `DdbFile` object provides an easy-to-use interface that invokes `anaddb` to post-process\n",
    "the data stored in the DDB file.\n",
    "\n",
    "`anacompare_phdos`, for example, computes the phonon DOS with different $q$-meshes.\n",
    "Each mesh is defined by a single integer, `nqsmall`, that gives the number of \n",
    "divisions used to sample the smallest reciprocal lattice vector. \n",
    "The number of divisions along the other directions are chosen so that proportions are preserved:"
   ]
  },
  {
   "cell_type": "code",
   "execution_count": null,
   "metadata": {
    "collapsed": false,
    "deletable": true,
    "editable": true
   },
   "outputs": [],
   "source": [
    "c = ddb.anacompare_phdos(nqsmalls=[8, 10, 12, 14, 16])\n",
    "figure = c.plotter.plot()"
   ]
  },
  {
   "cell_type": "markdown",
   "metadata": {
    "deletable": true,
    "editable": true
   },
   "source": [
    "A 16x16x16 $q$-mesh with the tethraedron method gives a well converged phonon DOS."
   ]
  },
  {
   "cell_type": "markdown",
   "metadata": {
    "deletable": true,
    "editable": true
   },
   "source": [
    "To function `anaget_phbst_and_phdos_files` allows one to compute the phonon band structure on an automatically defined $q$-path as well as the the phonon DOS:"
   ]
  },
  {
   "cell_type": "code",
   "execution_count": null,
   "metadata": {
    "collapsed": false,
    "deletable": true,
    "editable": true
   },
   "outputs": [],
   "source": [
    "phbst_file, phdos_file = ddb.anaget_phbst_and_phdos_files(ndivsm=10, nqsmall=16)\n",
    "\n",
    "# Extract the phonon bands and the phonon DOS from phbst_file and phdos_file\n",
    "phbands = phbst_file.phbands \n",
    "phdos = phdos_file.phdos"
   ]
  },
  {
   "cell_type": "markdown",
   "metadata": {
    "deletable": true,
    "editable": true
   },
   "source": [
    "To plot the bands with matplotlib:"
   ]
  },
  {
   "cell_type": "code",
   "execution_count": null,
   "metadata": {
    "collapsed": false,
    "deletable": true,
    "editable": true
   },
   "outputs": [],
   "source": [
    "figure = phbands.plot()"
   ]
  },
  {
   "cell_type": "markdown",
   "metadata": {
    "deletable": true,
    "editable": true
   },
   "source": [
    "There are two strange dips for the highest phonon band, at the $\\Gamma$ point.\n",
    "This is due to the lack of LO-TO splitting for the ANADDB treatment of the first list of vector. \n",
    "See also the discussion in the [second lesson](http://www.abinit.org/documentation/helpfiles/for-v7.10/tutorial/lesson_rf2.html)."
   ]
  },
  {
   "cell_type": "markdown",
   "metadata": {
    "deletable": true,
    "editable": true
   },
   "source": [
    "To plot bands and DOS on the same figure:"
   ]
  },
  {
   "cell_type": "code",
   "execution_count": null,
   "metadata": {
    "collapsed": false,
    "deletable": true,
    "editable": true
   },
   "outputs": [],
   "source": [
    "figure = phbands.plot_with_phdos(phdos)"
   ]
  },
  {
   "cell_type": "markdown",
   "metadata": {
    "deletable": true,
    "editable": true
   },
   "source": [
    "The `PhdosFile` contains the phonon frequencies, the displacement vectors\n",
    "as well as the decomposition of the total DOS in terms of the contributions due to \n",
    "the different types of atom in the unit cell.\n",
    "To plot the type-projected phonon DOS:"
   ]
  },
  {
   "cell_type": "code",
   "execution_count": null,
   "metadata": {
    "collapsed": false,
    "deletable": true,
    "editable": true
   },
   "outputs": [],
   "source": [
    "figure = phdos_file.plot_pjdos_type(title=\"AlAs type-projected phonon DOS\")"
   ]
  },
  {
   "cell_type": "markdown",
   "metadata": {
    "deletable": true,
    "editable": true
   },
   "source": [
    "## Macroscopic dielectric tensor and Born effective charges"
   ]
  },
  {
   "cell_type": "markdown",
   "metadata": {
    "deletable": true,
    "editable": true
   },
   "source": [
    "Our calculations includes the response of the system to an external electric field.\n",
    "The code below extracts the macroscopic dielectric tensor (`emacro`)\n",
    "and the Born effective charges (`becs`) from the DDB file:"
   ]
  },
  {
   "cell_type": "code",
   "execution_count": null,
   "metadata": {
    "collapsed": false,
    "deletable": true,
    "editable": true
   },
   "outputs": [],
   "source": [
    "emacro, becs = ddb.anaget_emacro_and_becs()"
   ]
  },
  {
   "cell_type": "code",
   "execution_count": null,
   "metadata": {
    "collapsed": false,
    "deletable": true,
    "editable": true
   },
   "outputs": [],
   "source": [
    "emacro"
   ]
  },
  {
   "cell_type": "code",
   "execution_count": null,
   "metadata": {
    "collapsed": false,
    "deletable": true,
    "editable": true
   },
   "outputs": [],
   "source": [
    "becs"
   ]
  },
  {
   "cell_type": "markdown",
   "metadata": {
    "deletable": true,
    "editable": true
   },
   "source": [
    "As explained in the references, the Born effective charges must fulfill \n",
    "the charge neutrality sum-rule.\n",
    "This rule is usually broken due to the discretization introduced by the FFT mesh, and `anaddb` will enforce it if `chneut` is set to 1 (default behaviour). Let's check it out!"
   ]
  },
  {
   "cell_type": "code",
   "execution_count": null,
   "metadata": {
    "collapsed": false,
    "deletable": true,
    "editable": true
   },
   "outputs": [],
   "source": [
    "becs.check_sumrule()"
   ]
  },
  {
   "cell_type": "markdown",
   "metadata": {
    "deletable": true,
    "editable": true
   },
   "source": [
    "Let's repeat the same calculation but without enforcing the sum-rule:"
   ]
  },
  {
   "cell_type": "code",
   "execution_count": null,
   "metadata": {
    "collapsed": false,
    "deletable": true,
    "editable": true
   },
   "outputs": [],
   "source": [
    "emacro, becs_chneut0 = ddb.anaget_emacro_and_becs(chneut=0)\n",
    "print(becs_chneut0)"
   ]
  },
  {
   "cell_type": "code",
   "execution_count": null,
   "metadata": {
    "collapsed": false,
    "deletable": true,
    "editable": true
   },
   "outputs": [],
   "source": [
    "becs_chneut0.check_sumrule()"
   ]
  },
  {
   "cell_type": "markdown",
   "metadata": {
    "deletable": true,
    "editable": true
   },
   "source": [
    "## Exercises"
   ]
  },
  {
   "cell_type": "markdown",
   "metadata": {
    "deletable": true,
    "editable": true
   },
   "source": [
    "    \n",
    "   * Our first phonon band structure has been computed with a `(4, 4, 4)` $k$-mesh \n",
    "     for the electrons and a `(2, 2, 2)` $q$-mesh for phonons. \n",
    "     You may try to increase the density of $k$-points/$q$-points\n",
    "     to see if this change affects the final results.\n",
    "        \n",
    "   * Why do you get an error from AbiPy if you try `ngkpt=(4, 4, 4,)` and `ngqpt=(3, 3, 3)`?\n"
   ]
  }
 ],
 "metadata": {
  "kernelspec": {
   "display_name": "Python 2",
   "language": "python",
   "name": "python2"
  },
  "language_info": {
   "codemirror_mode": {
    "name": "ipython",
    "version": 2
   },
   "file_extension": ".py",
   "mimetype": "text/x-python",
   "name": "python",
   "nbconvert_exporter": "python",
   "pygments_lexer": "ipython2",
   "version": "2.7.12"
  },
  "latex_envs": {
   "bibliofile": "biblio.bib",
   "cite_by": "apalike",
   "current_citInitial": 1,
   "eqLabelWithNumbers": true,
   "eqNumInitial": 0
  }
 },
 "nbformat": 4,
 "nbformat_minor": 0
}
