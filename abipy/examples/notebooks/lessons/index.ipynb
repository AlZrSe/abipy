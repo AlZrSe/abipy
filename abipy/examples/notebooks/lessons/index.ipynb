{
 "metadata": {
  "name": "",
  "signature": "sha256:04b2bd7c9afa50cb6732adc98afcf429e032587af850a511cc074604f315cff6"
 },
 "nbformat": 3,
 "nbformat_minor": 0,
 "worksheets": [
  {
   "cells": [
    {
     "cell_type": "heading",
     "level": 2,
     "metadata": {},
     "source": [
      "AbiPy Lessons"
     ]
    },
    {
     "cell_type": "markdown",
     "metadata": {},
     "source": [
      "* [$G_0W_0$](lesson_g0w0_scissors.ipynb): Compute the $G_0W_0$ band structure"
     ]
    }
   ],
   "metadata": {}
  }
 ]
}