{
 "metadata": {
  "name": "",
  "signature": "sha256:b3554119547fbb80d56733b73dd3eefe8d3ec87de8c6ad8bbfae9c5d47b0ed91"
 },
 "nbformat": 3,
 "nbformat_minor": 0,
 "worksheets": [
  {
   "cells": [
    {
     "cell_type": "markdown",
     "metadata": {},
     "source": [
      "Back to the main [Index](../index.ipynb)"
     ]
    },
    {
     "cell_type": "heading",
     "level": 2,
     "metadata": {},
     "source": [
      "AbiPy Lessons"
     ]
    },
    {
     "cell_type": "markdown",
     "metadata": {},
     "source": [
      "* [Brief introduction to Python](lesson_python.ipynb)\n",
      "* [Convergence study wrt to $k$-point sampling](lesson_kpoint_convergence.ipynb) \n",
      "* [Convergence study wrt ecut](lesson_ecut_convergence.ipynb)\n",
      "* [Structural relaxation](lesson_relaxation.ipynb) \n",
      "* [Band energies and DOS](lesson_dos_bands.ipynb)\n",
      "* [$G_0W_0$ band structure with an energy-dependent scissors operator](lesson_g0w0_scissors.ipynb)"
     ]
    }
   ],
   "metadata": {}
  }
 ]
}