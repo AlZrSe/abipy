{
 "metadata": {
  "name": "",
  "signature": "sha256:95f44b1a7ceb6ae180622cb63308d6074163bb8d62c5da2864077b2157a30bf5"
 },
 "nbformat": 3,
 "nbformat_minor": 0,
 "worksheets": [
  {
   "cells": [
    {
     "cell_type": "markdown",
     "metadata": {},
     "source": [
      "Back to the main [Index](../index.ipynb)"
     ]
    },
    {
     "cell_type": "heading",
     "level": 2,
     "metadata": {},
     "source": [
      "AbiPy Lessons"
     ]
    },
    {
     "cell_type": "markdown",
     "metadata": {},
     "source": [
      "* [Convergence study wrt ecut](lesson_ecut_convergence.ipynb)\n",
      "* [Convergence study wrt $k$-point sampling](lesson_kpoint_convergence.ipynb) \n",
      "* [Structural relaxation](lesson_relaxation.ipynb) \n",
      "* [A Flow to computes electron bands and DOS](lesson_dos_bands.ipynb)\n",
      "* [$G_0W_0$ band-structure](lesson_g0w0_scissors.ipynb): A Flow to compute $G_0W_0$ band structures with an energy-dependent scissors operator constructed from ab-initio results"
     ]
    }
   ],
   "metadata": {}
  }
 ]
}