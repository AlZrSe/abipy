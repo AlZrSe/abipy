{
 "metadata": {
  "name": "",
  "signature": "sha256:750ea10145206991e9f82b5bf0a0b02e4a83f07062e87ec2684b2c832ccd1bd6"
 },
 "nbformat": 3,
 "nbformat_minor": 0,
 "worksheets": [
  {
   "cells": [
    {
     "cell_type": "markdown",
     "metadata": {},
     "source": [
      "Back to the main [Index](../index.ipynb)"
     ]
    },
    {
     "cell_type": "heading",
     "level": 2,
     "metadata": {},
     "source": [
      "AbiPy Lessons"
     ]
    },
    {
     "cell_type": "markdown",
     "metadata": {},
     "source": [
      "* [$G_0W_0$](lesson_g0w0_scissors.ipynb): Compute the $G_0W_0$ band structure"
     ]
    }
   ],
   "metadata": {}
  }
 ]
}