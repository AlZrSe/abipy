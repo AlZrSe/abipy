{
 "metadata": {
  "name": "",
  "signature": "sha256:ff759c59045ea0f2e7c906c016f8d38ea9c6a7caa6e18eacf888a3c4a877a32d"
 },
 "nbformat": 3,
 "nbformat_minor": 0,
 "worksheets": [
  {
   "cells": [
    {
     "cell_type": "heading",
     "level": 2,
     "metadata": {},
     "source": [
      "AbiPy Lessons"
     ]
    },
    {
     "cell_type": "markdown",
     "metadata": {},
     "source": [
      "* [Core](core/index.ipynb): Configuration and core objects"
     ]
    }
   ],
   "metadata": {}
  }
 ]
}