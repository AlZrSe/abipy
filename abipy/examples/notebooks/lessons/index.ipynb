{
 "metadata": {
  "name": "",
  "signature": "sha256:40de9303f556798a5f20cf757528cb4273a5e564ace61f46531ae49f8e9dc77b"
 },
 "nbformat": 3,
 "nbformat_minor": 0,
 "worksheets": [
  {
   "cells": [
    {
     "cell_type": "markdown",
     "metadata": {},
     "source": [
      "Back to the main [Index](../index.ipynb)"
     ]
    },
    {
     "cell_type": "heading",
     "level": 2,
     "metadata": {},
     "source": [
      "AbiPy Lessons"
     ]
    },
    {
     "cell_type": "markdown",
     "metadata": {},
     "source": [
      "* [$G_0W_0$ band-structure](lesson_g0w0_scissors.ipynb): A Flow to compute $G_0W_0$ band structures with an energy-dependent scissors operator constructed from ab-initio results"
     ]
    }
   ],
   "metadata": {}
  }
 ]
}