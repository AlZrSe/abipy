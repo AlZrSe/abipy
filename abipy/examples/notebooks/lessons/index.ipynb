{
 "metadata": {
  "name": "",
  "signature": "sha256:0f485c03565aa0bc4cc9c39b651a8f93df8f08c4165acb1d8dab108166ecb34d"
 },
 "nbformat": 3,
 "nbformat_minor": 0,
 "worksheets": [
  {
   "cells": [
    {
     "cell_type": "markdown",
     "metadata": {},
     "source": [
      "Back to the main [Index](../index.ipynb)"
     ]
    },
    {
     "cell_type": "heading",
     "level": 2,
     "metadata": {},
     "source": [
      "AbiPy Lessons"
     ]
    },
    {
     "cell_type": "markdown",
     "metadata": {},
     "source": [
      "* [Convergence study wrt to $k$-point sampling](lesson_kpoint_convergence.ipynb) \n",
      "* [Convergence study wrt ecut](lesson_ecut_convergence.ipynb)\n",
      "* [Structural relaxation](lesson_relaxation.ipynb) \n",
      "* [Band energies and DOS](lesson_dos_bands.ipynb)\n",
      "* [$G_0W_0$ band structure with an energy-dependent scissors operator](lesson_g0w0_scissors.ipynb)"
     ]
    }
   ],
   "metadata": {}
  }
 ]
}