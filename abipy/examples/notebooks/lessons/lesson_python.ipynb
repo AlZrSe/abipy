{
 "metadata": {
  "name": "",
  "signature": "sha256:ea4fc9560cbb61d0ad84800e2826310b46a4fe040628785c0819193a155d117a"
 },
 "nbformat": 3,
 "nbformat_minor": 0,
 "worksheets": [
  {
   "cells": [
    {
     "cell_type": "markdown",
     "metadata": {},
     "source": [
      "Back to the main [Index](../index.ipynb)"
     ]
    },
    {
     "cell_type": "markdown",
     "metadata": {},
     "source": [
      "What every AbiPy user should know about python\n",
      "==============================================\n",
      "\n",
      "This is an extremely short tutorial on python that uses examples \n",
      "taken from abipy and pymatgen to help you understand better the next lessons.\n",
      "At the end of this lesson, you should get a grasp of the the most important concepts \n",
      "and objects used in AbiPy.\n",
      "\n",
      "This notebook does not aim to give you a complete and consistent introduction to\n",
      "the python language.\n",
      "For real crash courses to python, we refer the reader to these excellent notebooks: "
     ]
    },
    {
     "cell_type": "markdown",
     "metadata": {},
     "source": [
      "The dot, '.'\n",
      "------------\n",
      "\n",
      "If you are new to object oriented programming the *dot* may be a new construction. In python everything is an *object* and objects can have *properties* and *methods*. \n",
      "With the dot we select the property or the method which usually acts on the object. \n",
      "\n",
      "The main difference between properties and methods is that methods receive arguments\n",
      "so you have to call them with the syntax `aobject.amethod(...)` where `...` is the list\n",
      "of arguments passed to the method (may be empty).\n",
      "On the contrary, one uses the syntax `aobject.aproperty` to access the property of `aobject`.\n",
      "\n",
      "For instance, the list:"
     ]
    },
    {
     "cell_type": "code",
     "collapsed": false,
     "input": [
      "a = [2, 3, 1]"
     ],
     "language": "python",
     "metadata": {},
     "outputs": [],
     "prompt_number": 80
    },
    {
     "cell_type": "markdown",
     "metadata": {},
     "source": [
      "provides the `sort` method that sorts the elements in `a` in place:"
     ]
    },
    {
     "cell_type": "code",
     "collapsed": false,
     "input": [
      "a.sort()\n",
      "a"
     ],
     "language": "python",
     "metadata": {},
     "outputs": [
      {
       "metadata": {},
       "output_type": "pyout",
       "prompt_number": 81,
       "text": [
        "[1, 2, 3]"
       ]
      }
     ],
     "prompt_number": 81
    },
    {
     "cell_type": "markdown",
     "metadata": {},
     "source": [
      "Note that we are calling `sort` without arguments but actually the `sort` method \n",
      "accepts optional arguments that can be used to modify the default behaviour.\n",
      "If we want to sort the items in `a` from the biggest to the smallest, we have to use:  "
     ]
    },
    {
     "cell_type": "code",
     "collapsed": false,
     "input": [
      "a.sort(reverse=True)\n",
      "a"
     ],
     "language": "python",
     "metadata": {},
     "outputs": [
      {
       "metadata": {},
       "output_type": "pyout",
       "prompt_number": 82,
       "text": [
        "[3, 2, 1]"
       ]
      }
     ],
     "prompt_number": 82
    },
    {
     "cell_type": "markdown",
     "metadata": {},
     "source": [
      "The `help` function allows one to get the so-called docstring \n",
      "that documents the usage of the object: "
     ]
    },
    {
     "cell_type": "code",
     "collapsed": false,
     "input": [
      "help(a.sort)"
     ],
     "language": "python",
     "metadata": {},
     "outputs": [
      {
       "output_type": "stream",
       "stream": "stdout",
       "text": [
        "Help on built-in function sort:\n",
        "\n",
        "sort(...)\n",
        "    L.sort(cmp=None, key=None, reverse=False) -- stable sort *IN PLACE*;\n",
        "    cmp(x, y) -> -1, 0, 1\n",
        "\n"
       ]
      }
     ],
     "prompt_number": 83
    },
    {
     "cell_type": "markdown",
     "metadata": {},
     "source": [
      "In ipython you can use the alternative syntax `a.sort?` to display the docstring.\n",
      "You can even access the source code if `?` is replaced by `??` and the code is available \n",
      "(some objects in python are written directly in C. In this case you cannot access \n",
      "the source directly from python with `??`)."
     ]
    },
    {
     "cell_type": "markdown",
     "metadata": {},
     "source": [
      "Importing modules\n",
      "-----------------\n",
      "\n",
      "To use objects defined in python modules, we need to *import* the module with the syntax:"
     ]
    },
    {
     "cell_type": "code",
     "collapsed": false,
     "input": [
      "import sys"
     ],
     "language": "python",
     "metadata": {},
     "outputs": [],
     "prompt_number": 84
    },
    {
     "cell_type": "markdown",
     "metadata": {},
     "source": [
      "Now we can access all the entities defined in the `sys` module with the `dot` syntax:"
     ]
    },
    {
     "cell_type": "code",
     "collapsed": false,
     "input": [
      "# attribute of sys\n",
      "sys.version"
     ],
     "language": "python",
     "metadata": {},
     "outputs": [
      {
       "metadata": {},
       "output_type": "pyout",
       "prompt_number": 85,
       "text": [
        "'2.7.6 | 64-bit | (default, Sep 15 2014, 17:43:19) \\n[GCC 4.2.1 (Apple Inc. build 5666) (dot 3)]'"
       ]
      }
     ],
     "prompt_number": 85
    },
    {
     "cell_type": "code",
     "collapsed": false,
     "input": [
      "# method declared in the sys module\n",
      "sys.getdefaultencoding()"
     ],
     "language": "python",
     "metadata": {},
     "outputs": [
      {
       "metadata": {},
       "output_type": "pyout",
       "prompt_number": 86,
       "text": [
        "'ascii'"
       ]
      }
     ],
     "prompt_number": 86
    },
    {
     "cell_type": "markdown",
     "metadata": {},
     "source": [
      "Sometimes we have to import modules that are defined inside other modules (sub-packages).\n",
      "In this case, one can use the syntax:"
     ]
    },
    {
     "cell_type": "code",
     "collapsed": false,
     "input": [
      "import abipy.abilab as abilab"
     ],
     "language": "python",
     "metadata": {},
     "outputs": [],
     "prompt_number": 87
    },
    {
     "cell_type": "markdown",
     "metadata": {},
     "source": [
      "that allows us to use `abilab` as reference to the module instead of the full name `abipy.abilab`."
     ]
    },
    {
     "cell_type": "markdown",
     "metadata": {},
     "source": [
      "Classes and *instances*\n",
      "-----------------------"
     ]
    },
    {
     "cell_type": "markdown",
     "metadata": {},
     "source": [
      "A class is a mechanism Python gives us to create new user-defined types from Python code whereas\n",
      "instances are the objects created starting from a class.\n",
      "\n",
      "A common convention in python is to use `CamelCase` names for classes and lower case names for instances."
     ]
    },
    {
     "cell_type": "code",
     "collapsed": false,
     "input": [
      "class FooClass(object):\n",
      "    \"\"\"A very simple class\"\"\"\n",
      "    \n",
      "# Create an instance of type Foo.\n",
      "foo_instance = FooClass()\n",
      "\n",
      "print foo_instance, FooClass"
     ],
     "language": "python",
     "metadata": {},
     "outputs": [
      {
       "output_type": "stream",
       "stream": "stdout",
       "text": [
        "<__main__.FooClass object at 0x10de0a790> <class '__main__.FooClass'>\n"
       ]
      }
     ],
     "prompt_number": 100
    },
    {
     "cell_type": "markdown",
     "metadata": {},
     "source": [
      "So, \"foo_instance is an instance of the type Foo\".\n",
      "\n",
      "Once equipped with these concepts, we can finally discuss the following piece of code: "
     ]
    },
    {
     "cell_type": "code",
     "collapsed": false,
     "input": [
      "import abipy.data as abidata\n",
      "cif_file = abidata.cif_file(\"si.cif\")\n",
      "\n",
      "import abipy.abilab as abilab\n",
      "structure = abilab.Structure.from_file(cif_file)"
     ],
     "language": "python",
     "metadata": {},
     "outputs": [],
     "prompt_number": 89
    },
    {
     "cell_type": "markdown",
     "metadata": {},
     "source": [
      "`abipy.data` is an abipy module and `cif_file` is a function defined in this module\n",
      "that returns the absolute path of the CIF file \"si.cif\".\n",
      "Since we don't want to type `abipy.data` every time we need it, we create the alias `abidata` \n",
      "so that we can simply use `abidata.cif_file` instead of the more verbose `abipy.data.cif_file`.\n",
      "\n",
      "`abipy.abilab` is a high-level module of Abipy that provides the most important functions and objects for end-users. Also in this case we create a handy alias, `abilab`, to reduce time typing.\n",
      "\n",
      "The last line (the most important) constructs an instance of type `Structure` from a string giving\n",
      "the absolute path to a CIF file.\n",
      "Let's use `print` to dissect the different objects:"
     ]
    },
    {
     "cell_type": "code",
     "collapsed": false,
     "input": [
      "print \"abidata is: \", type(abidata)\n",
      "print \"abidata.cif_file is: \", type(abidata.cif_file)\n",
      "print \"Structure is: \", type(abilab.Structure)\n",
      "print \"Structure.from_file is: \", type(abilab.Structure.from_file)"
     ],
     "language": "python",
     "metadata": {},
     "outputs": [
      {
       "output_type": "stream",
       "stream": "stdout",
       "text": [
        "abidata is:  <type 'module'>\n",
        "abidata.cif_file is:  <type 'function'>\n",
        "Structure is:  <class 'abc.ABCMeta'>\n",
        "Structure.from_file is:  <type 'instancemethod'>\n"
       ]
      }
     ],
     "prompt_number": 90
    },
    {
     "cell_type": "markdown",
     "metadata": {},
     "source": [
      "Here we have created an `instance` of the *class* `Structure` in the new object 'structure'. It has been created using the *classmethod* 'from_file' reading in a cif file in the cif file collection stored in abipy's data."
     ]
    },
    {
     "cell_type": "code",
     "collapsed": false,
     "input": [
      "print \"structure is an instance of type \", type(structure)"
     ],
     "language": "python",
     "metadata": {},
     "outputs": [
      {
       "output_type": "stream",
       "stream": "stdout",
       "text": [
        "structure is an instance of type  <class 'abipy.core.structure.Structure'>\n"
       ]
      }
     ],
     "prompt_number": 91
    },
    {
     "cell_type": "code",
     "collapsed": false,
     "input": [
      "dir(structure)"
     ],
     "language": "python",
     "metadata": {},
     "outputs": [
      {
       "metadata": {},
       "output_type": "pyout",
       "prompt_number": 99,
       "text": [
        "['DISTANCE_TOLERANCE',\n",
        " '__abstractmethods__',\n",
        " '__class__',\n",
        " '__contains__',\n",
        " '__delattr__',\n",
        " '__delitem__',\n",
        " '__dict__',\n",
        " '__doc__',\n",
        " '__eq__',\n",
        " '__format__',\n",
        " '__getattribute__',\n",
        " '__getitem__',\n",
        " '__hash__',\n",
        " '__iadd__',\n",
        " '__init__',\n",
        " '__iter__',\n",
        " '__len__',\n",
        " '__metaclass__',\n",
        " '__module__',\n",
        " '__ne__',\n",
        " '__new__',\n",
        " '__reduce__',\n",
        " '__reduce_ex__',\n",
        " '__repr__',\n",
        " '__reversed__',\n",
        " '__setattr__',\n",
        " '__setitem__',\n",
        " '__sizeof__',\n",
        " '__str__',\n",
        " '__subclasshook__',\n",
        " '__weakref__',\n",
        " '_abc_cache',\n",
        " '_abc_negative_cache',\n",
        " '_abc_negative_cache_version',\n",
        " '_abc_registry',\n",
        " '_lattice',\n",
        " '_sites',\n",
        " 'abi_sanitize',\n",
        " 'abi_string',\n",
        " 'add_oxidation_state_by_element',\n",
        " 'add_oxidation_state_by_site',\n",
        " 'add_site_property',\n",
        " 'afm_symmops',\n",
        " 'append',\n",
        " 'apply_operation',\n",
        " 'apply_strain',\n",
        " 'as_dict',\n",
        " 'as_structure',\n",
        " 'atomic_numbers',\n",
        " 'bcc',\n",
        " 'boxed_atom',\n",
        " 'boxed_molecule',\n",
        " 'calc_kptbounds',\n",
        " 'calc_ksampling',\n",
        " 'calc_ngkpt',\n",
        " 'calc_shiftk',\n",
        " 'cart_coords',\n",
        " 'charge',\n",
        " 'composition',\n",
        " 'convert',\n",
        " 'copy',\n",
        " 'count',\n",
        " 'density',\n",
        " 'displace',\n",
        " 'distance_matrix',\n",
        " 'dot',\n",
        " 'export',\n",
        " 'extend',\n",
        " 'fcc',\n",
        " 'findname_in_hsym_stars',\n",
        " 'fm_symmops',\n",
        " 'formula',\n",
        " 'frac_coords',\n",
        " 'from_abivars',\n",
        " 'from_dict',\n",
        " 'from_file',\n",
        " 'from_material_id',\n",
        " 'from_sites',\n",
        " 'from_spacegroup',\n",
        " 'from_str',\n",
        " 'frozen_2phonon',\n",
        " 'frozen_phonon',\n",
        " 'get_all_neighbors',\n",
        " 'get_angle',\n",
        " 'get_dihedral',\n",
        " 'get_distance',\n",
        " 'get_neighbors',\n",
        " 'get_neighbors_in_shell',\n",
        " 'get_primitive_structure',\n",
        " 'get_reduced_structure',\n",
        " 'get_sites_in_sphere',\n",
        " 'get_smallest_supercell',\n",
        " 'get_sorted_structure',\n",
        " 'get_sorted_structure_z',\n",
        " 'get_symbol2coords',\n",
        " 'get_trans_vect',\n",
        " 'group_by_types',\n",
        " 'has_spacegroup',\n",
        " 'hsym_kpath',\n",
        " 'hsym_kpoints',\n",
        " 'hsym_stars',\n",
        " 'index',\n",
        " 'indices_from_symbol',\n",
        " 'insert',\n",
        " 'interpolate',\n",
        " 'is_ordered',\n",
        " 'is_symmorphic',\n",
        " 'is_valid',\n",
        " 'lattice',\n",
        " 'lattice_vectors',\n",
        " 'make_supercell',\n",
        " 'merge_sites',\n",
        " 'modify_lattice',\n",
        " 'norm',\n",
        " 'ntypesp',\n",
        " 'num_sites',\n",
        " 'num_valence_electrons',\n",
        " 'perturb',\n",
        " 'pop',\n",
        " 'reciprocal_lattice',\n",
        " 'remove',\n",
        " 'remove_oxidation_states',\n",
        " 'remove_sites',\n",
        " 'remove_species',\n",
        " 'replace',\n",
        " 'replace_species',\n",
        " 'reverse',\n",
        " 'scale_lattice',\n",
        " 'set_spacegroup',\n",
        " 'show_bz',\n",
        " 'site_properties',\n",
        " 'sites',\n",
        " 'sort',\n",
        " 'spacegroup',\n",
        " 'species',\n",
        " 'species_and_occu',\n",
        " 'symbol_set',\n",
        " 'to',\n",
        " 'to_abivars',\n",
        " 'to_dict',\n",
        " 'to_json',\n",
        " 'translate_sites',\n",
        " 'types_of_specie',\n",
        " 'visualize',\n",
        " 'volume',\n",
        " 'write_structure',\n",
        " 'write_vib_file']"
       ]
      }
     ],
     "prompt_number": 99
    },
    {
     "cell_type": "markdown",
     "metadata": {},
     "source": [
      "Properties, methods and reserved properties\n",
      "-------------------------------------------\n",
      "Acting a *function* like print on an object uses the reserved propery \\_\\_str\\_\\_(), the string represenstiontion of an object: "
     ]
    },
    {
     "cell_type": "code",
     "collapsed": false,
     "input": [
      "print(structure)"
     ],
     "language": "python",
     "metadata": {},
     "outputs": [
      {
       "output_type": "stream",
       "stream": "stdout",
       "text": [
        "Full Formula (Si2)\n",
        "Reduced Formula: Si\n",
        "abc   :   3.866975   3.866975   3.866975\n",
        "angles:  60.000000  60.000000  60.000000\n",
        "Sites (2)\n",
        "0 Si     0.000000     0.000000     0.000000\n",
        "1 Si     0.250000     0.250000     0.250000\n"
       ]
      }
     ],
     "prompt_number": 92
    },
    {
     "cell_type": "code",
     "collapsed": false,
     "input": [
      "structure.__str__()"
     ],
     "language": "python",
     "metadata": {},
     "outputs": [
      {
       "metadata": {},
       "output_type": "pyout",
       "prompt_number": 93,
       "text": [
        "u'Full Formula (Si2)\\nReduced Formula: Si\\nabc   :   3.866975   3.866975   3.866975\\nangles:  60.000000  60.000000  60.000000\\nSites (2)\\n0 Si     0.000000     0.000000     0.000000\\n1 Si     0.250000     0.250000     0.250000'"
       ]
      }
     ],
     "prompt_number": 93
    },
    {
     "cell_type": "code",
     "collapsed": false,
     "input": [
      "str(structure)"
     ],
     "language": "python",
     "metadata": {},
     "outputs": [
      {
       "metadata": {},
       "output_type": "pyout",
       "prompt_number": 94,
       "text": [
        "'Full Formula (Si2)\\nReduced Formula: Si\\nabc   :   3.866975   3.866975   3.866975\\nangles:  60.000000  60.000000  60.000000\\nSites (2)\\n0 Si     0.000000     0.000000     0.000000\\n1 Si     0.250000     0.250000     0.250000'"
       ]
      }
     ],
     "prompt_number": 94
    },
    {
     "cell_type": "markdown",
     "metadata": {},
     "source": [
      "A *method* of an object is called with brackets:"
     ]
    },
    {
     "cell_type": "code",
     "collapsed": false,
     "input": [
      "structure.as_dict()"
     ],
     "language": "python",
     "metadata": {},
     "outputs": [
      {
       "metadata": {},
       "output_type": "pyout",
       "prompt_number": 95,
       "text": [
        "{u'@class': 'Structure',\n",
        " u'@module': 'abipy.core.structure',\n",
        " u'lattice': {u'a': 3.86697462,\n",
        "  u'alpha': 59.99999999999999,\n",
        "  u'b': 3.8669746199999997,\n",
        "  u'beta': 59.99999999999999,\n",
        "  u'c': 3.86697462,\n",
        "  u'gamma': 59.99999999999999,\n",
        "  u'matrix': [[-3.3488982567096763, 0.0, -1.9334873100000005],\n",
        "   [-3.3488982567096763, 0.0, 1.9334873099999996],\n",
        "   [-2.2325988378064507, 3.1573715557642927, 0.0]],\n",
        "  u'volume': 40.8882917934689},\n",
        " u'sites': [{u'abc': [0.0, 0.0, 0.0],\n",
        "   u'label': u'Si',\n",
        "   u'properties': {},\n",
        "   u'species': [{u'element': u'Si', u'occu': 1.0}],\n",
        "   u'xyz': [0.0, 0.0, 0.0]},\n",
        "  {u'abc': [0.2499999999999999, 0.25000000000000006, 0.25],\n",
        "   u'label': u'Si',\n",
        "   u'properties': {},\n",
        "   u'species': [{u'element': u'Si', u'occu': 1.0}],\n",
        "   u'xyz': [-2.2325988378064507, 0.7893428889410732, 1.1102230246251565e-16]}]}"
       ]
      }
     ],
     "prompt_number": 95
    },
    {
     "cell_type": "markdown",
     "metadata": {},
     "source": [
      "This method *returns* the *dictionary* representation of the structure object.\n",
      "\n",
      "A property is called without the brackets:"
     ]
    },
    {
     "cell_type": "code",
     "collapsed": false,
     "input": [
      "structure.volume"
     ],
     "language": "python",
     "metadata": {},
     "outputs": [
      {
       "metadata": {},
       "output_type": "pyout",
       "prompt_number": 96,
       "text": [
        "40.888291793468902"
       ]
      }
     ],
     "prompt_number": 96
    },
    {
     "cell_type": "markdown",
     "metadata": {},
     "source": [
      "this is a *property* of structure so it is called without the brackets (). "
     ]
    },
    {
     "cell_type": "code",
     "collapsed": false,
     "input": [
      "structure.scale_lattice(50)\n",
      "print(structure.lattice_vectors())\n",
      "print(structure.volume)"
     ],
     "language": "python",
     "metadata": {},
     "outputs": [
      {
       "output_type": "stream",
       "stream": "stdout",
       "text": [
        "[[-3.58117573  0.         -2.06759277]\n",
        " [-3.58117573  0.          2.06759277]\n",
        " [-2.38745049  3.37636486  0.        ]]\n",
        "50.0\n"
       ]
      }
     ],
     "prompt_number": 97
    }
   ],
   "metadata": {}
  }
 ]
}