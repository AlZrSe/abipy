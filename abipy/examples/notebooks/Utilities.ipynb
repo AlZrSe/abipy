{
 "metadata": {
  "name": "Utilities"
 },
 "nbformat": 3,
 "nbformat_minor": 0,
 "worksheets": [
  {
   "cells": [
    {
     "cell_type": "code",
     "collapsed": false,
     "input": [
      "# Use this at the beginning of your script so that your code will be compatible with python3\n",
      "from __future__ import division, print_function\n",
      "\n",
      "from abipy import abiopen\n",
      "from abipy import abilab\n",
      "import abipy.data as data\n",
      "\n",
      "# This line configures matplotlib to show figures embedded in the notebook, instead of poping up a new window. \n",
      "%pylab inline"
     ],
     "language": "python",
     "metadata": {},
     "outputs": [
      {
       "output_type": "stream",
       "stream": "stdout",
       "text": [
        "\n",
        "Welcome to pylab, a matplotlib-based Python environment [backend: module://IPython.zmq.pylab.backend_inline].\n",
        "For more information, type 'help(pylab)'.\n"
       ]
      }
     ],
     "prompt_number": 11
    },
    {
     "cell_type": "code",
     "collapsed": false,
     "input": [
      "#!/usr/bin/env python\n",
      "#\n",
      "# This example shows how to compute the equation of state by \n",
      "# fitting the total energy as function of the unit cell volume.\n",
      "from abipy.abilab import EOS\n",
      "\n",
      "# Extract volumes and energies from the output files of the calculation.\n",
      "# Here we use hardcoded values.\n",
      "volumes = [13.72, 14.83, 16.0, 17.23, 18.52]\n",
      "energies = [-56.29, -56.41, -56.46, -56.46, -56.42]\n",
      "\n",
      "# For the list of available models, see EOS.MODELS\n",
      "#eos = EOS(eos_name=\"murnaghan\")\n",
      "for eos_name in EOS.MODELS:\n",
      "   eos = EOS(eos_name=eos_name)\n",
      "\n",
      "   # Note that eos.fit expects lengths in Angstrom, energies are in eV.\n",
      "   # To specify different units use len_units and ene_units \n",
      "   fit = eos.fit(volumes, energies, vol_unit=\"bohr^3\", ene_unit=\"Ha\")\n",
      "\n",
      "   print(fit)\n",
      "   fit.plot()"
     ],
     "language": "python",
     "metadata": {},
     "outputs": [
      {
       "output_type": "stream",
       "stream": "stdout",
       "text": [
        "Equation of State: birch_murnaghan\n",
        "Minimum volume = 2.45 Ang^3\n",
        "Bulk modulus = 94.88 eV/Ang^3 = 15201.78 GPa, b1 = -1.65\n",
        "Equation of State: pourier_tarantola\n",
        "Minimum volume = 2.45 Ang^3\n",
        "Bulk modulus = 91.75 eV/Ang^3 = 14699.20 GPa, b1 = 5.20"
       ]
      },
      {
       "output_type": "stream",
       "stream": "stdout",
       "text": [
        "\n",
        "Equation of State: vinet\n",
        "Minimum volume = 2.45 Ang^3\n",
        "Bulk modulus = 90.93 eV/Ang^3 = 14569.01 GPa, b1 = 5.05"
       ]
      },
      {
       "output_type": "stream",
       "stream": "stdout",
       "text": [
        "\n",
        "Equation of State: deltafactor_polyfit\n",
        "Minimum volume = 2.45 Ang^3\n",
        "Bulk modulus = 90.63 eV/Ang^3 = 14519.94 GPa, b1 = 4.96"
       ]
      },
      {
       "output_type": "stream",
       "stream": "stdout",
       "text": [
        "\n",
        "Equation of State: murnaghan\n",
        "Minimum volume = 2.46 Ang^3\n",
        "Bulk modulus = 89.92 eV/Ang^3 = 14407.31 GPa, b1 = 4.75"
       ]
      },
      {
       "output_type": "stream",
       "stream": "stdout",
       "text": [
        "\n",
        "Equation of State: birch\n",
        "Minimum volume = 2.45 Ang^3\n",
        "Bulk modulus = 90.63 eV/Ang^3 = 14519.94 GPa, b1 = 4.96"
       ]
      },
      {
       "output_type": "stream",
       "stream": "stdout",
       "text": [
        "\n"
       ]
      }
     ],
     "prompt_number": 12
    },
    {
     "cell_type": "code",
     "collapsed": false,
     "input": [],
     "language": "python",
     "metadata": {},
     "outputs": [],
     "prompt_number": 9
    }
   ],
   "metadata": {}
  }
 ]
}