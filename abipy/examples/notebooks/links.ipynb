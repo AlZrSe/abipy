{
 "metadata": {
  "name": "",
  "signature": "sha256:5bd71185df50149c72fef36f401eede0b4400c97d9335309e680c4394db45d1f"
 },
 "nbformat": 3,
 "nbformat_minor": 0,
 "worksheets": [
  {
   "cells": [
    {
     "cell_type": "markdown",
     "metadata": {},
     "source": [
      "Back to the main [Index](./index.ipynb)"
     ]
    },
    {
     "cell_type": "heading",
     "level": 1,
     "metadata": {},
     "source": [
      "Useful links"
     ]
    },
    {
     "cell_type": "heading",
     "level": 2,
     "metadata": {},
     "source": [
      "ABINIT"
     ]
    },
    {
     "cell_type": "markdown",
     "metadata": {},
     "source": [
      "* [ABINIT Tutorials](http://www.abinit.org/documentation/tutorials)\n",
      "* [ABINIT Wiki](https://wiki.abinit.org/doku.php)\n",
      "* [ABINIT Forum](http://forum.abinit.org)\n",
      "* [PseudoDojo](http://www.pseudo-dojo.org): Tables of pseudopotentials\n",
      "* [AbiTube](abitube.ipynb): Gallery of videos about `AbiPy` and ABINIT"
     ]
    },
    {
     "cell_type": "heading",
     "level": 2,
     "metadata": {},
     "source": [
      "Beginners"
     ]
    },
    {
     "cell_type": "markdown",
     "metadata": {},
     "source": [
      "* [Introducing IPython Notebook](http://opentechschool.github.io/python-data-intro/core/notebook.html)"
     ]
    },
    {
     "cell_type": "heading",
     "level": 2,
     "metadata": {},
     "source": [
      "Python programming"
     ]
    },
    {
     "cell_type": "code",
     "collapsed": false,
     "input": [],
     "language": "python",
     "metadata": {},
     "outputs": []
    },
    {
     "cell_type": "heading",
     "level": 2,
     "metadata": {},
     "source": [
      "Useful python packages"
     ]
    },
    {
     "cell_type": "code",
     "collapsed": false,
     "input": [],
     "language": "python",
     "metadata": {},
     "outputs": []
    },
    {
     "cell_type": "heading",
     "level": 2,
     "metadata": {},
     "source": [
      "Interesting notebooks"
     ]
    },
    {
     "cell_type": "markdown",
     "metadata": {},
     "source": [
      "* [Collection of notebooks curated by ipython developers](https://github.com/ipython/ipython/wiki/A-gallery-of-interesting-IPython-Notebooks)\n",
      "* [matplotlib - 2D and 3D plotting in Python](http://nbviewer.ipython.org/github/jrjohansson/scientific-python-lectures/blob/master/Lecture-4-Matplotlib.ipynb)\n",
      "* [IPython: a PyCon 2014 tutorial](http://nbviewer.ipython.org/github/ipython/ipython-in-depth/blob/master/Index%20-%20Basic.ipynb)"
     ]
    }
   ],
   "metadata": {}
  }
 ]
}