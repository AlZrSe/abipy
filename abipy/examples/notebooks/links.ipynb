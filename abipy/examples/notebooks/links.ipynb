{
 "metadata": {
  "name": "",
  "signature": "sha256:bfd8b19c0497214e731a8eb9c801da6fced31d6d9d01601e5a36b6c99423ab50"
 },
 "nbformat": 3,
 "nbformat_minor": 0,
 "worksheets": [
  {
   "cells": [
    {
     "cell_type": "markdown",
     "metadata": {},
     "source": [
      "Back to the main [Index](./index.ipynb)"
     ]
    },
    {
     "cell_type": "heading",
     "level": 1,
     "metadata": {},
     "source": [
      "Useful links"
     ]
    },
    {
     "cell_type": "heading",
     "level": 2,
     "metadata": {},
     "source": [
      "ABINIT"
     ]
    },
    {
     "cell_type": "markdown",
     "metadata": {},
     "source": [
      "* [ABINIT Tutorials](http://www.abinit.org/documentation/tutorials)\n",
      "* [ABINIT Wiki](https://wiki.abinit.org/doku.php)\n",
      "* [ABINIT Forum](http://forum.abinit.org)\n",
      "* [PseudoDojo](http://www.pseudo-dojo.org): Tables of pseudopotentials\n",
      "* [AbiTube](abitube.ipynb): Gallery of videos about `AbiPy` and ABINIT"
     ]
    },
    {
     "cell_type": "heading",
     "level": 2,
     "metadata": {},
     "source": [
      "Beginners"
     ]
    },
    {
     "cell_type": "markdown",
     "metadata": {},
     "source": [
      "* [Introducing IPython Notebook](http://opentechschool.github.io/python-data-intro/core/notebook.html)\n",
      "* [Shortcuts and helpful tips for working in IPython](https://damontallen.github.io/IPython-quick-ref-sheets)"
     ]
    },
    {
     "cell_type": "heading",
     "level": 2,
     "metadata": {},
     "source": [
      "Python programming"
     ]
    },
    {
     "cell_type": "code",
     "collapsed": false,
     "input": [
      "TODO"
     ],
     "language": "python",
     "metadata": {},
     "outputs": []
    },
    {
     "cell_type": "heading",
     "level": 2,
     "metadata": {},
     "source": [
      "Useful python packages"
     ]
    },
    {
     "cell_type": "code",
     "collapsed": false,
     "input": [
      "TODO"
     ],
     "language": "python",
     "metadata": {},
     "outputs": []
    },
    {
     "cell_type": "heading",
     "level": 1,
     "metadata": {},
     "source": [
      "Miscellaneous"
     ]
    },
    {
     "cell_type": "markdown",
     "metadata": {},
     "source": [
      "* [Design Patterns](http://www.tutorialspoint.com/design_pattern)"
     ]
    },
    {
     "cell_type": "heading",
     "level": 2,
     "metadata": {},
     "source": [
      "Interesting notebooks"
     ]
    },
    {
     "cell_type": "markdown",
     "metadata": {},
     "source": [
      "* [Collection of notebooks curated by ipython developers](https://github.com/ipython/ipython/wiki/A-gallery-of-interesting-IPython-Notebooks)\n",
      "* [Scientific-Computing-with-Python](http://nbviewer.ipython.org/github/chenleo/scientific-python-lectures/blob/master/Lecture-0-Scientific-Computing-with-Python.ipynb)\n",
      "* [matplotlib - 2D and 3D plotting in Python](http://nbviewer.ipython.org/github/jrjohansson/scientific-python-lectures/blob/master/Lecture-4-Matplotlib.ipynb)\n",
      "* [IPython: a PyCon 2014 tutorial](http://nbviewer.ipython.org/github/ipython/ipython-in-depth/blob/master/Index%20-%20Basic.ipynb)\n",
      "* [A practical introduction to IPython Notebook & pandas](http://nbviewer.ipython.org/github/jvns/talks/blob/master/pydatanyc2013/PyData%20NYC%202013%20tutorial.ipynb)"
     ]
    },
    {
     "cell_type": "heading",
     "level": 2,
     "metadata": {},
     "source": [
      "Blogs"
     ]
    },
    {
     "cell_type": "markdown",
     "metadata": {},
     "source": [
      "* [hackingmaterials](http://hackingmaterials.com)\n",
      "* [thelostelectron](https://thelostelectron.wordpress.com)"
     ]
    },
    {
     "cell_type": "heading",
     "level": 2,
     "metadata": {},
     "source": [
      "Articles"
     ]
    },
    {
     "cell_type": "markdown",
     "metadata": {},
     "source": [
      "* [Interactive notebooks: Sharing the code](http://www.nature.com/news/interactive-notebooks-sharing-the-code-1.16261)"
     ]
    }
   ],
   "metadata": {}
  }
 ]
}