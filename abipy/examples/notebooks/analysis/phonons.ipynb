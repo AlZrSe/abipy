{
 "cells": [
  {
   "cell_type": "markdown",
   "metadata": {
    "deletable": true,
    "editable": true
   },
   "source": [
    "Back to the main [Index](../index.ipynb)"
   ]
  },
  {
   "cell_type": "markdown",
   "metadata": {
    "deletable": true,
    "editable": true
   },
   "source": [
    "# Post-processing tools for phonons"
   ]
  },
  {
   "cell_type": "markdown",
   "metadata": {
    "deletable": true,
    "editable": true
   },
   "source": [
    "Is this tutorial, we will explore the tools provided by Abipy for the post-processing of DFPT calculations. Let's start by importing the basic modules we have already used in the previous lessons:\n"
   ]
  },
  {
   "cell_type": "code",
   "execution_count": 3,
   "metadata": {
    "collapsed": false,
    "deletable": true,
    "editable": true
   },
   "outputs": [],
   "source": [
    "from __future__ import division, print_function, unicode_literals\n",
    "\n",
    "import abipy.data as abidata\n",
    "\n",
    "from abipy import abilab\n",
    "from abipy.abilab import abiopen\n",
    "\n",
    "# This line configures matplotlib to show figures embedded in the notebook, \n",
    "# instead of poping up a new window. \n",
    "%matplotlib notebook"
   ]
  },
  {
   "cell_type": "markdown",
   "metadata": {
    "deletable": true,
    "editable": true
   },
   "source": [
    "# Reading a DDB file in python"
   ]
  },
  {
   "cell_type": "code",
   "execution_count": 7,
   "metadata": {
    "collapsed": false,
    "deletable": true,
    "editable": true
   },
   "outputs": [],
   "source": [
    "ddb_path = \"/Users/gmatteo/git_repos/abipy/abipy/test_files/AlAs_444_nobecs_DDB\"\n",
    "ddb = abiopen(ddb_path)\n",
    "# Remember to close the ddb with ddb.close() when you don't need it anymore!"
   ]
  },
  {
   "cell_type": "markdown",
   "metadata": {
    "deletable": true,
    "editable": true
   },
   "source": [
    "###### The DDB file has a header, a dict-like object with the most important parameters of the calculation"
   ]
  },
  {
   "cell_type": "code",
   "execution_count": 8,
   "metadata": {
    "collapsed": false,
    "deletable": true,
    "editable": true
   },
   "outputs": [
    {
     "name": "stdout",
     "output_type": "stream",
     "text": [
      "[u'acell',\n",
      " u'amu',\n",
      " u'dilatmx',\n",
      " u'ecut',\n",
      " u'ecutsm',\n",
      " u'intxc',\n",
      " u'iscf',\n",
      " u'ixc',\n",
      " u'kpt',\n",
      " u'kptnrm',\n",
      " 'lines',\n",
      " u'natom',\n",
      " u'nband',\n",
      " u'ngfft',\n",
      " u'nkpt',\n",
      " u'nspden',\n",
      " u'nspinor',\n",
      " u'nsppol',\n",
      " u'nsym',\n",
      " u'ntypat',\n",
      " u'occ',\n",
      " u'occopt',\n",
      " u'rprim',\n",
      " u'sciss',\n",
      " u'spinat',\n",
      " u'symafm',\n",
      " u'symrel',\n",
      " u'tnons',\n",
      " u'tolwfr',\n",
      " u'tphysel',\n",
      " u'tsmear',\n",
      " u'typat',\n",
      " u'usepaw',\n",
      " 'version',\n",
      " u'wtk',\n",
      " u'xred',\n",
      " u'zion',\n",
      " u'znucl']\n"
     ]
    }
   ],
   "source": [
    "# To sort the keys in the header and print the list use:\n",
    "from pprint import pprint\n",
    "pprint(sorted(list(ddb.header.keys())))"
   ]
  },
  {
   "cell_type": "code",
   "execution_count": 9,
   "metadata": {
    "collapsed": false,
    "deletable": true,
    "editable": true
   },
   "outputs": [
    {
     "name": "stdout",
     "output_type": "stream",
     "text": [
      "This DDB has been generated with ecut 2.0 and amu [26.981539, 74.92159]\n"
     ]
    }
   ],
   "source": [
    "# Use the stadard syntax [] to access the value of a variable in the header.\n",
    "print(\"This DDB has been generated with ecut\", ddb.header[\"ecut\"], \"and amu\", ddb.header[\"amu\"])"
   ]
  },
  {
   "cell_type": "markdown",
   "metadata": {
    "deletable": true,
    "editable": true
   },
   "source": [
    "###### To get the list of $q$-points available in the DDB file:"
   ]
  },
  {
   "cell_type": "code",
   "execution_count": 10,
   "metadata": {
    "collapsed": false,
    "deletable": true,
    "editable": true
   },
   "outputs": [
    {
     "data": {
      "text/plain": [
       "0) [0.000, 0.000, 0.000]\n",
       "1) [0.250, 0.000, 0.000]\n",
       "2) [0.500, 0.000, 0.000]\n",
       "3) [0.250, 0.250, 0.000]\n",
       "4) [0.500, 0.250, 0.000]\n",
       "5) [-0.250, 0.250, 0.000]\n",
       "6) [0.500, 0.500, 0.000]\n",
       "7) [-0.250, 0.500, 0.250]"
      ]
     },
     "execution_count": 10,
     "metadata": {},
     "output_type": "execute_result"
    }
   ],
   "source": [
    "ddb.qpoints"
   ]
  },
  {
   "cell_type": "markdown",
   "metadata": {
    "deletable": true,
    "editable": true
   },
   "source": [
    "###### A DDB object has a crystalline structure"
   ]
  },
  {
   "cell_type": "code",
   "execution_count": 11,
   "metadata": {
    "collapsed": false,
    "deletable": true,
    "editable": true
   },
   "outputs": [
    {
     "data": {
      "text/html": [
       "\n",
       "<div id=\"jsmolapp_id265641526217530804886875123162766301039\" class=jsmolapp_div></div>\n",
       "\n",
       "<script type=\"text/javascript\" src=\"nbjsmol/jsmol/JSmol.min.js\"></script>\n",
       "\n",
       "<script type=\"text/javascript\">\n",
       "$(\"#jsmolapp_id265641526217530804886875123162766301039\").ready(function() {\n",
       "\n",
       "    Info = {\n",
       "        antialiasDisplay: true,\n",
       "        //disableJ2SLoadMonitor: true,\n",
       "        width: 500,\n",
       "        height: 500,\n",
       "        color: \"black\",\n",
       "        //addSelectionOptions: true,\n",
       "        serverURL: \"nbjsmol/jsmol/php/jsmol.php\",\n",
       "        script: \"load ipynb_jsmoldata/tmpJC6V_z.cif;\",\n",
       "        //src: \"ipynb_jsmoldata/tmpJC6V_z.cif\",\n",
       "        use: \"HTML5\",\n",
       "        j2sPath: \"nbjsmol/jsmol/j2s\",  // only used in the HTML5 modality\n",
       "        //readyFunction: null,\n",
       "        //bondWidth: 4,\n",
       "        //pinchScaling: 2.0,\n",
       "        //multipleBondSpacing: 4,\n",
       "        spin: false,\n",
       "        disableInitialConsole: true,\n",
       "        disableJ2SLoadMonitor: true,\n",
       "        debug: false\n",
       "    },\n",
       "\n",
       "  $(\"#jsmolapp_id265641526217530804886875123162766301039\").html(Jmol.getAppletHtml(\"jsmolapp_id265641526217530804886875123162766301039\", Info));\n",
       "});\n",
       "</script>\n",
       "\n",
       "<style>\n",
       "#jsmolapp_id265641526217530804886875123162766301039 {\n",
       "    width: 50%;\n",
       "    margin: 0 auto;\n",
       "}\n",
       "</style>\n"
      ],
      "text/plain": [
       "Structure Summary\n",
       "Lattice\n",
       "    abc : 3.9701006655510169 3.9701006655510169 3.9701006655510169\n",
       " angles : 59.999999999999993 59.999999999999993 59.999999999999993\n",
       " volume : 44.247583621484289\n",
       "      A : 0.0 2.8072851026043497 2.8072851026043497\n",
       "      B : 2.8072851026043497 0.0 2.8072851026043497\n",
       "      C : 2.8072851026043497 2.8072851026043497 0.0\n",
       "PeriodicSite: Al (0.0000, 0.0000, 0.0000) [0.0000, 0.0000, 0.0000]\n",
       "PeriodicSite: As (1.4036, 1.4036, 1.4036) [0.2500, 0.2500, 0.2500]"
      ]
     },
     "execution_count": 11,
     "metadata": {},
     "output_type": "execute_result"
    }
   ],
   "source": [
    "# Remember that lengths are always given in Angstrom.\n",
    "ddb.structure"
   ]
  },
  {
   "cell_type": "markdown",
   "metadata": {
    "deletable": true,
    "editable": true
   },
   "source": [
    "# Invoking Anaddb form the DDB object "
   ]
  },
  {
   "cell_type": "markdown",
   "metadata": {
    "deletable": true,
    "editable": true
   },
   "source": [
    "The `DdbFile` object provides specialized methods that will invoke anaddb to \n",
    "compute important quantities such as the phonon band structure, the phonon density of states etc.\n",
    "All these methods have a name that begins with the `ana` prefix"
   ]
  },
  {
   "cell_type": "markdown",
   "metadata": {
    "deletable": true,
    "editable": true
   },
   "source": [
    "###### Plotting phonon bands and DOSes "
   ]
  },
  {
   "cell_type": "code",
   "execution_count": 12,
   "metadata": {
    "collapsed": false,
    "deletable": true,
    "editable": true
   },
   "outputs": [
    {
     "ename": "AttributeError",
     "evalue": "'DdbFile' object has no attribute 'anaget_phbands_and_dos'",
     "output_type": "error",
     "traceback": [
      "\u001b[0;31m---------------------------------------------------------------------------\u001b[0m",
      "\u001b[0;31mAttributeError\u001b[0m                            Traceback (most recent call last)",
      "\u001b[0;32m<ipython-input-12-9e94f14acfb2>\u001b[0m in \u001b[0;36m<module>\u001b[0;34m()\u001b[0m\n\u001b[0;32m----> 1\u001b[0;31m ddb.anaget_phbands_and_dos(ngqpt=None, ndivsm=20, nqsmall=10, \n\u001b[0m\u001b[1;32m      2\u001b[0m                            asr=2, chneut=1, dipdip=1, dos_method=\"tetra\")\n",
      "\u001b[0;31mAttributeError\u001b[0m: 'DdbFile' object has no attribute 'anaget_phbands_and_dos'"
     ]
    }
   ],
   "source": [
    "ddb.anaget_phbands_and_dos(ngqpt=None, ndivsm=20, nqsmall=10, \n",
    "                           asr=2, chneut=1, dipdip=1, dos_method=\"tetra\")"
   ]
  },
  {
   "cell_type": "markdown",
   "metadata": {
    "deletable": true,
    "editable": true
   },
   "source": [
    "###### Computing DOSes with different $q$-meshes "
   ]
  },
  {
   "cell_type": "markdown",
   "metadata": {
    "deletable": true,
    "editable": true
   },
   "source": [
    "The method `anaconverge_phdos` provides a simple interface that allows us to compare phonon DOSes\n",
    "computed with different $q$-meshes. In many cases, you only have to provide a \n",
    "list of integers (`nqsmalls`). Each integer defines the number of divisions to be used to \n",
    "sample the smallest reciprocal lattice vectors, the other two vectors are sampled such \n",
    "that proportions are preserver. \n",
    "To calculate four phonon DOSes with increasing number of q-points use:"
   ]
  },
  {
   "cell_type": "code",
   "execution_count": 13,
   "metadata": {
    "collapsed": false,
    "deletable": true,
    "editable": true
   },
   "outputs": [
    {
     "ename": "AttributeError",
     "evalue": "'DdbFile' object has no attribute 'anaconverge_phdos'",
     "output_type": "error",
     "traceback": [
      "\u001b[0;31m---------------------------------------------------------------------------\u001b[0m",
      "\u001b[0;31mAttributeError\u001b[0m                            Traceback (most recent call last)",
      "\u001b[0;32m<ipython-input-13-5ce4776b0820>\u001b[0m in \u001b[0;36m<module>\u001b[0;34m()\u001b[0m\n\u001b[0;32m----> 1\u001b[0;31m \u001b[0mc\u001b[0m \u001b[0;34m=\u001b[0m \u001b[0mddb\u001b[0m\u001b[0;34m.\u001b[0m\u001b[0manaconverge_phdos\u001b[0m\u001b[0;34m(\u001b[0m\u001b[0mnqsmalls\u001b[0m\u001b[0;34m=\u001b[0m\u001b[0;34m[\u001b[0m\u001b[0;36m2\u001b[0m\u001b[0;34m,\u001b[0m \u001b[0;36m4\u001b[0m\u001b[0;34m,\u001b[0m \u001b[0;36m8\u001b[0m\u001b[0;34m,\u001b[0m \u001b[0;36m12\u001b[0m\u001b[0;34m,\u001b[0m \u001b[0;36m24\u001b[0m\u001b[0;34m]\u001b[0m\u001b[0;34m)\u001b[0m\u001b[0;34m\u001b[0m\u001b[0m\n\u001b[0m\u001b[1;32m      2\u001b[0m \u001b[0mfigure\u001b[0m \u001b[0;34m=\u001b[0m \u001b[0mc\u001b[0m\u001b[0;34m.\u001b[0m\u001b[0mplotter\u001b[0m\u001b[0;34m.\u001b[0m\u001b[0mplot\u001b[0m\u001b[0;34m(\u001b[0m\u001b[0;34m)\u001b[0m\u001b[0;34m\u001b[0m\u001b[0m\n",
      "\u001b[0;31mAttributeError\u001b[0m: 'DdbFile' object has no attribute 'anaconverge_phdos'"
     ]
    }
   ],
   "source": [
    "c = ddb.anaconverge_phdos(nqsmalls=[2, 4, 8, 12, 24])\n",
    "figure = c.plotter.plot()"
   ]
  },
  {
   "cell_type": "markdown",
   "metadata": {
    "deletable": true,
    "editable": true
   },
   "source": [
    "Anaddb requires the specification of the q-mesh used for the phonons.\n",
    "The DDB object will try to figure out the number of divisions in the \n",
    "mesh from ddb.qpoints.\n",
    "This information is used to generate automatically the Anaddb input file\n",
    "Note, however, that if `guessed_ngqpt` is wrong, you will have to pass\n",
    "this value to all the ddb methods that invoke anaddb.\n",
    "This could happen if you have merged DDB files computed with $q$-points that do not belong to same grid. "
   ]
  },
  {
   "cell_type": "code",
   "execution_count": 14,
   "metadata": {
    "collapsed": false,
    "deletable": true,
    "editable": true
   },
   "outputs": [
    {
     "data": {
      "text/plain": [
       "array([4, 4, 4])"
      ]
     },
     "execution_count": 14,
     "metadata": {},
     "output_type": "execute_result"
    }
   ],
   "source": [
    "ddb.guessed_ngqpt"
   ]
  },
  {
   "cell_type": "markdown",
   "metadata": {
    "deletable": true,
    "editable": true
   },
   "source": [
    "# Macroscopic dielectric tensor and Born effective charges (BECs)"
   ]
  },
  {
   "cell_type": "code",
   "execution_count": 15,
   "metadata": {
    "collapsed": false,
    "deletable": true,
    "editable": true
   },
   "outputs": [],
   "source": [
    "emacro, becs = ddb.anaget_emacro_and_becs(chneut=1)"
   ]
  },
  {
   "cell_type": "code",
   "execution_count": 16,
   "metadata": {
    "collapsed": false,
    "deletable": true,
    "editable": true
   },
   "outputs": [
    {
     "data": {
      "text/plain": [
       "(Tensor in r space.\n",
       " \n",
       " Cartesian coordinates:\n",
       " [[  1.00000000e+00   1.11022302e-16   1.11022302e-16]\n",
       "  [  1.11022302e-16   1.00000000e+00   1.11022302e-16]\n",
       "  [  1.11022302e-16   1.11022302e-16   1.00000000e+00]],)"
      ]
     },
     "execution_count": 16,
     "metadata": {},
     "output_type": "execute_result"
    }
   ],
   "source": [
    "emacro"
   ]
  },
  {
   "cell_type": "markdown",
   "metadata": {
    "deletable": true,
    "editable": true
   },
   "source": [
    "What's happening here? According to anaddb, AlAs should have a dielectric \n",
    "constant of one and this is cleary wrong!\n",
    "Remember that the computation macroscopic dielectric requires the knowledge \n",
    "of $\\dfrac{d u_k}{d k}$ (the so-called DDK files)"
   ]
  },
  {
   "cell_type": "markdown",
   "metadata": {
    "deletable": true,
    "editable": true
   },
   "source": [
    "# Using `DdbRobot` to perform converge studies"
   ]
  },
  {
   "cell_type": "markdown",
   "metadata": {
    "deletable": true,
    "editable": true
   },
   "source": [
    "Robots are extremely useful if you want to study the convergence of the phonon frequencies at with respect to some computational parameter e.g. `ecut`. \n",
    "A `DddRobot` receives a list of DDB files, extracts the data and provides tools to analyze \n",
    "the convergence or low-level tools that are just returning a `Pandas` dataframe. "
   ]
  },
  {
   "cell_type": "code",
   "execution_count": null,
   "metadata": {
    "collapsed": false,
    "deletable": true,
    "editable": true
   },
   "outputs": [],
   "source": [
    "files = [\n",
    "        \"flow_qconv/w1/outdata/out_DDB\",\n",
    "        \"flow_qconv/w3/outdata/out_DDB\",\n",
    "        \"flow_qconv/w5/outdata/out_DDB\",\n",
    "        \"flow_qconv/w7/outdata/out_DDB\",\n",
    "        \"flow_qconv/w9/outdata/out_DDB\",\n",
    "    ]\n",
    "from abipy.abio.robots import DdbRobot\n",
    "robot = DdbRobot()\n",
    "for i, f in enumerate(files):\n",
    "    robot.add_file(str(i), f) \n",
    "print(robot)\n",
    "\n",
    "frame = robot.get_dataframe_at_qpoint()\n",
    "print(frame)\n",
    "\n",
    "robot.plot_conv_phfreqs_qpoint(x_vars=[\"ecut\"], size=1, aspect=.5)"
   ]
  },
  {
   "cell_type": "markdown",
   "metadata": {
    "deletable": true,
    "editable": true
   },
   "source": [
    "# Low-level interface"
   ]
  },
  {
   "cell_type": "code",
   "execution_count": null,
   "metadata": {
    "collapsed": false,
    "deletable": true,
    "editable": true
   },
   "outputs": [],
   "source": [
    "# This example shows how to plot the phonon band structure of AlAs.\n",
    "# See tutorial/lesson_rf2.html\n",
    "\n",
    "# FIXME: LO-TO splitting and phonon displacements instead of eigenvectors.\n",
    "#from abipy.dfpt.phonons import PhononBands, PhdosReader, PhdosFile\n",
    "\n",
    "# Path to the PHBST file produced by anaddb.\n",
    "phbst_file = abidata.ref_file(\"trf2_5.out_PHBST.nc\")\n",
    "\n",
    "# Create the object from file.\n",
    "with abilab.abiopen(phbst_file) as f:\n",
    "    phbands = f.phbands\n",
    "\n",
    "# Read the Phonon DOS from the netcd file produced by anaddb (prtdos 2)\n",
    "phdos_file = abidata.ref_file(\"trf2_5.out_PHDOS.nc\")\n",
    "\n",
    "with abiopen(phdos_file) as f:\n",
    "    phdos = f.phdos\n",
    "\n",
    "# plot phonon bands and DOS.\n",
    "figure = phbands.plot_with_phdos(phdos, title=\"AlAs Phonon bands and DOS\")"
   ]
  },
  {
   "cell_type": "code",
   "execution_count": null,
   "metadata": {
    "collapsed": false,
    "deletable": true,
    "editable": true
   },
   "outputs": [],
   "source": [
    "# This example shows how to plot the phonon fatbands of AlAs.\n",
    "# See tutorial/lesson_rf2.html\n",
    "\n",
    "# Path to the PHBST file produced by anaddb.\n",
    "filename = abidata.ref_file(\"trf2_5.out_PHBST.nc\")\n",
    "with abiopen(filename) as f:\n",
    "    phbands = f.phbands \n",
    "\n",
    "# Mapping reduced coordinates -> labels\n",
    "qlabels = {\n",
    "    (0,0,0): \"$\\Gamma$\",\n",
    "    (0.375, 0.375, 0.75): \"K\",\n",
    "    (0.5, 0.5, 1.0): \"X\",\n",
    "    (0.5, 0.5, 0.5): \"L\",\n",
    "    (0.5, 0.0, 0.5): \"X\",\n",
    "    (0.5, 0.25, 0.75): \"W\",\n",
    "}\n",
    "\n",
    "# Plot the phonon band structure.\n",
    "figure = phbands.plot_fatbands(title=\"AlAs phonon fatbands without LO-TO splitting\", \n",
    "                               qlabels=qlabels)"
   ]
  },
  {
   "cell_type": "code",
   "execution_count": null,
   "metadata": {
    "collapsed": false,
    "deletable": true,
    "editable": true
   },
   "outputs": [],
   "source": [
    "# This example shows how to plot the projected phonon DOS of AlAs.\n",
    "# See tutorial/lesson_rf2.html\n",
    "\n",
    "# Read the Phonon DOS from the netcd file produced by anaddb (prtdos 2)\n",
    "phdos_file = abiopen(abidata.ref_file(\"trf2_5.out_PHDOS.nc\"))\n",
    "\n",
    "# Plot data.\n",
    "figure = phdos_file.plot_pjdos_type(title=\"AlAs type-projected phonon DOS\")"
   ]
  }
 ],
 "metadata": {
  "kernelspec": {
   "display_name": "Python 2",
   "language": "python",
   "name": "python2"
  },
  "language_info": {
   "codemirror_mode": {
    "name": "ipython",
    "version": 2
   },
   "file_extension": ".py",
   "mimetype": "text/x-python",
   "name": "python",
   "nbconvert_exporter": "python",
   "pygments_lexer": "ipython2",
   "version": "2.7.12"
  },
  "latex_envs": {
   "bibliofile": "biblio.bib",
   "cite_by": "apalike",
   "current_citInitial": 1,
   "eqLabelWithNumbers": true,
   "eqNumInitial": 0
  }
 },
 "nbformat": 4,
 "nbformat_minor": 0
}
