{
 "metadata": {
  "name": "",
  "signature": "sha256:a02b229ee1e508e5efe20bdc376831cbe87d680bb5f1c0ca6795669d83e0a001"
 },
 "nbformat": 3,
 "nbformat_minor": 0,
 "worksheets": [
  {
   "cells": [
    {
     "cell_type": "markdown",
     "metadata": {},
     "source": [
      "Back to the main [Index](../index.ipynb)"
     ]
    },
    {
     "cell_type": "heading",
     "level": 1,
     "metadata": {},
     "source": [
      "AbiPy Documentation"
     ]
    },
    {
     "cell_type": "markdown",
     "metadata": {},
     "source": [
      "This directory contains IPython's notebook-based documentation. This augments our [Sphinx-based documentation](http://pythonhosted.org/abipy/) with notebooks that contain interactive tutorials and examples."
     ]
    },
    {
     "cell_type": "heading",
     "level": 2,
     "metadata": {},
     "source": [
      "Topics"
     ]
    },
    {
     "cell_type": "markdown",
     "metadata": {},
     "source": [
      "* [Structure](structure.ipynb): The crystalline structure\n",
      "* [Abinit Input](abinit_input.ipynb): How to create an `AbinitInput`\n",
      "* [Flows](flows.ipynb): How to automate calculations with `Flows`, `Works` and `Tasks`\n",
      "* [Tools](tools.ipynb): Tools"
     ]
    }
   ],
   "metadata": {}
  }
 ]
}