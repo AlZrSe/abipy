{
 "metadata": {
  "name": "",
  "signature": "sha256:d921fedbb6ab5c799082c244a37f7d96c52a5499c9937c0e97be75bb490db470"
 },
 "nbformat": 3,
 "nbformat_minor": 0,
 "worksheets": [
  {
   "cells": [
    {
     "cell_type": "markdown",
     "metadata": {},
     "source": [
      "Back to the main [Index](../index.ipynb)"
     ]
    },
    {
     "cell_type": "heading",
     "level": 1,
     "metadata": {},
     "source": [
      "AbiPy Documentation"
     ]
    },
    {
     "cell_type": "markdown",
     "metadata": {},
     "source": [
      "This directory contains IPython's notebook-based documentation. This augments our [Sphinx-based documentation](http://pythonhosted.org/abipy/) with notebooks that contain interactive tutorials and examples."
     ]
    },
    {
     "cell_type": "heading",
     "level": 2,
     "metadata": {},
     "source": [
      "Topics"
     ]
    },
    {
     "cell_type": "markdown",
     "metadata": {},
     "source": [
      "* [Structure](structure.ipynb): The crystalline structure\n",
      "* [Abinit Input](abinit_input.ipynb): How to create an `AbinitInput`\n",
      "* [Flows](flows.ipynb): How to automate calculations with `Flows`, `Works` and `Tasks`\n",
      "* [Abilab](abilab.ipynb): Abilab module (help functions and important objects)"
     ]
    }
   ],
   "metadata": {}
  }
 ]
}