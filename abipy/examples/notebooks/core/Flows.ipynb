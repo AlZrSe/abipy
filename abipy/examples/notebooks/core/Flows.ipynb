{
 "metadata": {
  "name": "",
  "signature": "sha256:278196f7357ddbbfa3411c1029327ab742bd6003434c9cc6129f0ea8990a900e"
 },
 "nbformat": 3,
 "nbformat_minor": 0,
 "worksheets": [
  {
   "cells": [
    {
     "cell_type": "markdown",
     "metadata": {},
     "source": [
      "Back to the main [Index](../index.ipynb)"
     ]
    },
    {
     "cell_type": "heading",
     "level": 1,
     "metadata": {},
     "source": [
      "Tasks, Workflows and Flow"
     ]
    },
    {
     "cell_type": "markdown",
     "metadata": {},
     "source": [
      "Before starting it's worth clarifying some of the basic concepts used in `AbiPy` to automate ab-initio calculations. \n",
      "In particular, in this paragraph we will focus on the following three objects: \n",
      "\n",
      "   * `Task`\n",
      "   * `Work`\n",
      "   * `Flow`\n",
      "   \n",
      "The `Task` represent the most elementary step of the calculation. \n",
      "Roughly speaking, it corresponds to the execution of an ABINIT run.\n",
      "From the point of view of `Abipy`, a calculation consists of a set of `Tasks` that are connected together by some sort of dependency. \n",
      "Each task has a list of files that are needed to start the calculation, and a list of files that are produced at the end of the run.\n",
      "Some of the input files needed by a `Task` must be provided by the user in the form of ABINIT input variables \n",
      "(e.g. the crystalline structure), other inputs (files) may be produced by othe tasks.\n",
      "When a `Task` B requires the output file `DEN` of another calculation A, we say that B depends on A through F and \n",
      "we express this dependency using the python dictionary  \n",
      "\n",
      "```python\n",
      "B_deps = {A: \"DEN\"}\n",
      "```\n",
      "\n",
      "The `Work` can be seen as a (dynamic) list of `Tasks` and `AbiPy` provides several pre-built \n",
      "factory functions for typical first-principles calculations.\n",
      "Finally, the `Flow` is a list of `Work` objects whose main goal is providing an easy-to-use\n",
      "interface for performing common operations. \n",
      "\n",
      "To clarify this point, let's take a standard $KS$ band structure calculation as example.\n",
      "In this case, we have an initial `ScfTask` that solves the KS equations self-consistently to produce a density file. \n",
      "The density is then used by a second `NscfTask` to produce a band structure on an arbitrary \n",
      "set of $k$-points.\n",
      "The `NscfTask` has thus a dependency on the first `ScfTask` in the sense that it cannot be executed until \n",
      "the `ScfTask` is completed and the `DEN` file produced by the `ScfTask` is needed as input.\n",
      "\n",
      "All the `Works` and the `Tasks` of a flow are created and executed inside the `Flow` working directory (`workdir`) \n",
      "that is usually specified by the user during the creation of the `Flow`.\n",
      "`Abipy` will then create the workdir of the different Works/Tasks when the `Flow` is executed\n",
      "for the first time.\n",
      "\n",
      "Each `Task` has an associated set of input variables that will be used to generate the ABINIT input file and run the calculation. \n",
      "This input **must** be provided by the user during the creation of the `Task`.\n",
      "Fortunately `AbiPy` provides an object named `AbiInput` that facilitates the creation of such input. \n",
      "Once you have an `AbiInput` object, you can create the corresponding `Task`.\n",
      "In pseudo code:\n",
      "\n",
      "```python\n",
      "new_task = Task(abi_input)\n",
      "```\n",
      "\n",
      "The `Task` provides several method for monitoring the status of the ABINIT run and perform some \n",
      "analysis or post-processing of the results.\n",
      "\n",
      "Fortunately you do not need to understand all the technical details of the python implementation.\n",
      "In many cases, indeed, we already provide some kind of `Work` or `Flow` that automates \n",
      "your calculation and you only have to provide the correct list of input files \n",
      "that obviously must be consistent with the Flow/Work that is being created.\n",
      "(you should pass a list of inputs for performing a band structure calculation to a flow \n",
      "that is expected to compute phonons with DFPT!\n",
      "\n",
      "In the next paragrap, we discuss how to construct a `Flow` for band-structure calculations\n",
      "with a high-level interface that only requires the specifications on the input files.\n",
      "This example allows us to discuss the most important methods of the `Flow` you will be using \n",
      "to perform calculations."
     ]
    },
    {
     "cell_type": "heading",
     "level": 2,
     "metadata": {},
     "source": [
      "Building a `Flow` for the band structure of Silicon."
     ]
    },
    {
     "cell_type": "markdown",
     "metadata": {},
     "source": [
      "Let's start by creating a functions that will produce two input files. \n",
      "The first input is a standard self-consistent ground-state calculation. \n",
      "In the example, we use `ndtset=2` simply because this trick allows us to reduce the number of calls we have to perform to initialize the variables of the calculations. For example we set the structure only once by calling `inp.set_structure_from_file` so that both dataset1 and dataset2 will use the same crystalline parameters.\n",
      "The function `split_datasets` returns **two inputs files** that can be run separately. \n",
      "The second dataset uses the density produced in the first run to perform a non self-consistent band structure calculation.\n",
      "**Note** that we don't have to use `getden2 = -1` in the second dataset since `Abipy` knows how to connect the two steps."
     ]
    },
    {
     "cell_type": "markdown",
     "metadata": {},
     "source": [
      "At this point we have all the configuration files needed for running our calculations and we can start to write the python code that will create our calculation. Let's start by defining a function that returns two Abinit input files: one for the ground-state calculation and the other one for the NSCF run for the band structure calculation:"
     ]
    },
    {
     "cell_type": "code",
     "collapsed": false,
     "input": [
      "from __future__ import division, print_function, unicode_literals\n",
      "\n",
      "from abipy import abilab\n",
      "import abipy.data as abidata\n",
      "\n",
      "def make_scf_nscf_inputs():\n",
      "    \"\"\"Build ands return the input files for the GS-SCF and the GS-NSCF tasks.\"\"\"\n",
      "    inp = abilab.AbiInput(pseudos=abidata.pseudos(\"14si.pspnc\"), ndtset=2)\n",
      "    inp.set_structure(abidata.cif_file(\"si.cif\"))\n",
      "\n",
      "    # Set global variables (dataset1 and dataset2)\n",
      "    inp.set_vars(ecut=6, nband=8)\n",
      "\n",
      "    # Dataset 1 (GS-SCF run)\n",
      "    inp[1].set_kmesh(ngkpt=[8,8,8], shiftk=[0,0,0])\n",
      "    inp[1].set_vars(tolvrs=1e-6)\n",
      "\n",
      "    # Dataset 2 (GS-NSCF run on a k-path)\n",
      "    kptbounds = [\n",
      "        [0.5, 0.0, 0.0], # L point\n",
      "        [0.0, 0.0, 0.0], # Gamma point\n",
      "        [0.0, 0.5, 0.5], # X point\n",
      "    ]\n",
      "\n",
      "    inp[2].set_kpath(ndivsm=6, kptbounds=kptbounds)\n",
      "    inp[2].set_vars(tolwfr=1e-12)\n",
      "    \n",
      "    # Generate two input files for the GS and the NSCF run\n",
      "    scf_input, nscf_input = inp.split_datasets()\n",
      "    return scf_input, nscf_input"
     ],
     "language": "python",
     "metadata": {},
     "outputs": [],
     "prompt_number": 5
    },
    {
     "cell_type": "markdown",
     "metadata": {},
     "source": [
      "Once we have our two input files, we can call our function to get to the input variables and pass the two input files to the factory function `bandstructure_flow` that will return our `Flow`."
     ]
    },
    {
     "cell_type": "code",
     "collapsed": false,
     "input": [
      "scf_input, nscf_input = make_scf_nscf_inputs()\n",
      "\n",
      "workdir = \"/tmp/hello_bands\"\n",
      "flow = abilab.bandstructure_flow(workdir, scf_input, nscf_input)"
     ],
     "language": "python",
     "metadata": {},
     "outputs": [],
     "prompt_number": 13
    },
    {
     "cell_type": "markdown",
     "metadata": {},
     "source": [
      "`bandstructure_flow` took care of creating the correct dependency between the two tasks."
     ]
    },
    {
     "cell_type": "code",
     "collapsed": false,
     "input": [
      "flow.show_dependencies()"
     ],
     "language": "python",
     "metadata": {},
     "outputs": [
      {
       "output_type": "stream",
       "stream": "stdout",
       "text": [
        "<ScfTask, workdir=../../../../../../../../../tmp/hello_bands/w0/t0>\u001b[0m\n",
        "\n",
        "<NscfTask, workdir=../../../../../../../../../tmp/hello_bands/w0/t1>\u001b[0m\n",
        "  +--<ScfTask, workdir=../../../../../../../../../tmp/hello_bands/w0/t0>\u001b[0m\n",
        "\n"
       ]
      }
     ],
     "prompt_number": 30
    },
    {
     "cell_type": "markdown",
     "metadata": {},
     "source": [
      "The `NscfTask`, indeed,  depends on the `ScfTask` in w0/t0."
     ]
    },
    {
     "cell_type": "code",
     "collapsed": false,
     "input": [
      "flow.show_status()"
     ],
     "language": "python",
     "metadata": {},
     "outputs": [
      {
       "output_type": "stream",
       "stream": "stdout",
       "text": [
        "\n",
        "Work #0: <BandStructureWork, workdir=../../../../../../../../../tmp/hello_bands/w0>, Finalized=False\n",
        "\n",
        "+------+-------------+-------+---------------------+---------------+----------+---------+---------+\n",
        "| Task |    Status   | Queue | MPI|OMP|Memproc[Gb] | Err|Warn|Comm |  Class   | Restart | Node_ID |\n",
        "+------+-------------+-------+---------------------+---------------+----------+---------+---------+\n",
        "|  t0  | Initialized\u001b[0m |  None |       1|1|2.0       |    NA|NA|NA   | ScfTask  |    0    |  58602  |\n",
        "|  t1  | Initialized\u001b[0m |  None |       1|1|2.0       |    NA|NA|NA   | NscfTask |    0    |  58603  |\n",
        "+------+-------------+-------+---------------------+---------------+----------+---------+---------+\n",
        "\n"
       ]
      }
     ],
     "prompt_number": 29
    },
    {
     "cell_type": "heading",
     "level": 2,
     "metadata": {},
     "source": [
      "How to build and run the `Flow`"
     ]
    },
    {
     "cell_type": "markdown",
     "metadata": {},
     "source": [
      "The flow is still in memory and no file has been produced. In order to build the workflow, we have to use "
     ]
    },
    {
     "cell_type": "code",
     "collapsed": false,
     "input": [
      "retcode = flow.build_and_pickle_dump()"
     ],
     "language": "python",
     "metadata": {},
     "outputs": [],
     "prompt_number": 15
    },
    {
     "cell_type": "markdown",
     "metadata": {},
     "source": [
      "This function creates the directories of all the `Works` and `Tasks`:"
     ]
    },
    {
     "cell_type": "code",
     "collapsed": false,
     "input": [
      "!tree /tmp/hello_bands"
     ],
     "language": "python",
     "metadata": {},
     "outputs": [
      {
       "output_type": "stream",
       "stream": "stdout",
       "text": [
        "/tmp/hello_bands\r\n",
        "\u251c\u2500\u2500 __AbinitFlow__.pickle\r\n",
        "\u251c\u2500\u2500 indata\r\n",
        "\u251c\u2500\u2500 outdata\r\n",
        "\u251c\u2500\u2500 tmpdata\r\n",
        "\u2514\u2500\u2500 w0\r\n",
        "    \u251c\u2500\u2500 indata\r\n",
        "    \u251c\u2500\u2500 outdata\r\n",
        "    \u251c\u2500\u2500 t0\r\n",
        "    \u2502\u00a0\u00a0 \u251c\u2500\u2500 indata\r\n",
        "    \u2502\u00a0\u00a0 \u251c\u2500\u2500 job.sh\r\n",
        "    \u2502\u00a0\u00a0 \u251c\u2500\u2500 outdata\r\n",
        "    \u2502\u00a0\u00a0 \u251c\u2500\u2500 run.abi\r\n",
        "    \u2502\u00a0\u00a0 \u251c\u2500\u2500 run.files\r\n",
        "    \u2502\u00a0\u00a0 \u2514\u2500\u2500 tmpdata\r\n",
        "    \u251c\u2500\u2500 t1\r\n",
        "    \u2502\u00a0\u00a0 \u251c\u2500\u2500 indata\r\n",
        "    \u2502\u00a0\u00a0 \u251c\u2500\u2500 job.sh\r\n",
        "    \u2502\u00a0\u00a0 \u251c\u2500\u2500 outdata\r\n",
        "    \u2502\u00a0\u00a0 \u251c\u2500\u2500 run.abi\r\n",
        "    \u2502\u00a0\u00a0 \u251c\u2500\u2500 run.files\r\n",
        "    \u2502\u00a0\u00a0 \u2514\u2500\u2500 tmpdata\r\n",
        "    \u2514\u2500\u2500 tmpdata\r\n",
        "\r\n",
        "15 directories, 7 files\r\n"
       ]
      }
     ],
     "prompt_number": 16
    },
    {
     "cell_type": "markdown",
     "metadata": {},
     "source": [
      "`w0` is the directory containing the input files of the first workflow (well, we have only one workflow in our example).\n",
      "`t0` and `t1` contain the input files need to run the SCF and the NSC run, respectively.\n",
      "You might have noticed that each `Task` directory present the same structure:\n",
      "    \n",
      "   * run.abi: ABINIT input file\n",
      "   * run.files: ABINIT files file\n",
      "   * job.sh: Submission script\n",
      "   * outdata: Directory containing output data files\n",
      "   * indata: Directory containing input data files \n",
      "   * tmpdata: Directory with temporary files\n",
      "   \n",
      " `__AbinitFlow__.pickle` is the pickle database used to store the `Flow` we have just created (**don't touch it**). "
     ]
    },
    {
     "cell_type": "heading",
     "level": 2,
     "metadata": {},
     "source": [
      "Executing a `Flow`"
     ]
    },
    {
     "cell_type": "markdown",
     "metadata": {},
     "source": [
      "At this point, we only need to run our calculations:"
     ]
    },
    {
     "cell_type": "code",
     "collapsed": false,
     "input": [
      "flow.make_scheduler().start()"
     ],
     "language": "python",
     "metadata": {},
     "outputs": [
      {
       "output_type": "stream",
       "stream": "stdout",
       "text": [
        "[Tue Feb 10 01:04:19 2015] Number of launches: 1\n",
        "\n",
        "Work #0: <BandStructureWork, workdir=../../../../../../../../../tmp/hello_bands/w0>, Finalized=False\n",
        "\n",
        "+------+-------------+---------------+---------------------+---------------+----------+---------+---------+\n",
        "| Task |    Status   |     Queue     | MPI|OMP|Memproc[Gb] | Err|Warn|Comm |  Class   | Restart | Node_ID |\n",
        "+------+-------------+---------------+---------------------+---------------+----------+---------+---------+\n",
        "|  t0  |  \u001b[34mSubmitted\u001b[0m  | 584@localhost |       2|1|2.0       |     0|0|0     | ScfTask  |    0    |  58602  |\n",
        "|  t1  | Initialized\u001b[0m |      None     |       1|1|2.0       |    NA|NA|NA   | NscfTask |    0    |  58603  |\n",
        "+------+-------------+---------------+---------------------+---------------+----------+---------+---------+\n",
        "\n",
        "[Tue Feb 10 01:04:24 2015] Number of launches: 1\n",
        "\n",
        "Work #0: <BandStructureWork, workdir=../../../../../../../../../tmp/hello_bands/w0>, Finalized=False\n",
        "\n",
        "+------+-----------+---------------+---------------------+---------------+----------+---------+---------+\n",
        "| Task |   Status  |     Queue     | MPI|OMP|Memproc[Gb] | Err|Warn|Comm |  Class   | Restart | Node_ID |\n",
        "+------+-----------+---------------+---------------------+---------------+----------+---------+---------+\n",
        "|  t0  | \u001b[32mCompleted\u001b[0m | 584@localhost |       2|1|2.0       |     0|1|0     | ScfTask  |    0    |  58602  |\n",
        "|  t1  | \u001b[34mSubmitted\u001b[0m | 593@localhost |       2|1|2.0       |     0|0|0     | NscfTask |    0    |  58603  |\n",
        "+------+-----------+---------------+---------------------+---------------+----------+---------+---------+\n",
        "\n",
        "\n",
        "Work #0: <BandStructureWork, workdir=../../../../../../../../../tmp/hello_bands/w0>, Finalized=\u001b[32mTrue\u001b[0m\n",
        "\n",
        "all_ok reached\n",
        "Submitted on Tue Feb 10 01:04:18 2015\n",
        "Completed on Tue Feb 10 01:04:28 2015\n",
        "Elapsed time 0:00:10.076272\n",
        "Flow completed successfully\n"
       ]
      },
      {
       "metadata": {},
       "output_type": "pyout",
       "prompt_number": 33,
       "text": [
        "True"
       ]
      }
     ],
     "prompt_number": 33
    },
    {
     "cell_type": "heading",
     "level": 2,
     "metadata": {},
     "source": [
      "More on `Works` and `Tasks` "
     ]
    },
    {
     "cell_type": "markdown",
     "metadata": {},
     "source": [
      "End-users will mainly interact with the flow.\n",
      "\n",
      "Both `Flow` and `Work` are iterable. \n",
      "Iterating on a `Flow` gives `Work` objects, whereas\n",
      "iterating over a `Work` will give the `Tasks` inside that particular `Work`.\n",
      "\n",
      "```python\n",
      "for work in flow:\n",
      "    for task in work:\n",
      "        print(task)\n",
      "```\n",
      "\n",
      "One can also \"slice\" `Flows` and `Works` i.e. one can select a slice or works or tasks\n",
      "with the syntax: flow[start:stop] or work[start:stop]\n",
      "This means that the previous loop is equivalent to the much more verbose version: \n",
      "\n",
      "```python\n",
      "for i in range(len(flow)):\n",
      "    work = flow[i]\n",
      "    for t in range(len(work):\n",
      "        print(work[t])\n",
      "```"
     ]
    },
    {
     "cell_type": "heading",
     "level": 2,
     "metadata": {},
     "source": [
      "Abirun.py"
     ]
    },
    {
     "cell_type": "markdown",
     "metadata": {},
     "source": [
      "Executing `flow.make_scheduler().start()` inside an ipython notebook is handy if you are dealing with small calculations that require few seconds or minutes. \n",
      "This approach, however, is unpractical when you have large flows or big calculations requiring hours or days, even on massively parallel machines.\n",
      "In this case, indeed, you would like to run the scheduler in a separate process in the backgroud so that the scheduler is not killed when you close the ipython notebook server."
     ]
    },
    {
     "cell_type": "heading",
     "level": 2,
     "metadata": {},
     "source": [
      "TaskManager"
     ]
    },
    {
     "cell_type": "markdown",
     "metadata": {},
     "source": [
      "In the previous sections, we have discussed how to define, build and run a `Flow`, but there is a very important point that we haven't discussed yet.\n",
      "It should be stressed, indeed, that `AbiPy` is only driving and monitoring the `Flow` while the actual calculation is delegated to ABINIT (a Fortran program that is usually executed in parallel on multiple CPUs that communicate via the network by means of the MPI protocol).\n",
      "Besides CPUs and memory must be reserved in advance by sending a request to the resource manager installed on the clusters (SLURM, PBS, etc)\n",
      "\n",
      "`AbiPy` gets all the information needed to submit the different `Tasks` from a configuration file, `manager.yml`, that is usually located in the directory `~/.abinit/abipy/`."
     ]
    },
    {
     "cell_type": "code",
     "collapsed": false,
     "input": [
      "!cat ~/.abinit/abipy/manager.yml"
     ],
     "language": "python",
     "metadata": {},
     "outputs": [
      {
       "output_type": "stream",
       "stream": "stdout",
       "text": [
        "qadapters:\r\n",
        "    - priority: 1\r\n",
        "      queue:\r\n",
        "        qtype: shell\r\n",
        "        qname: gmac\r\n",
        "      job:\r\n",
        "        mpi_runner: mpirun\r\n",
        "        pre_run: \"source ~/env.sh\"\r\n",
        "      limits:\r\n",
        "        timelimit: 1:00:00\r\n",
        "        min_cores: 1\r\n",
        "        max_cores: 2\r\n",
        "      hardware:\r\n",
        "         num_nodes: 1\r\n",
        "         sockets_per_node: 1\r\n",
        "         cores_per_socket: 2\r\n",
        "         mem_per_node: 4 Gb\r\n"
       ]
      }
     ],
     "prompt_number": 19
    },
    {
     "cell_type": "markdown",
     "metadata": {},
     "source": [
      "<div class=\"alert alert-success\">\n",
      "For a brief introduction to the YAML format, please consult http://en.wikipedia.org/wiki/YAML\n",
      "</div>"
     ]
    },
    {
     "cell_type": "markdown",
     "metadata": {},
     "source": [
      "In this case, we are running abinit in a shell subprocess (`qtype: shell`) with mpirun. \n",
      "`max_npus` defines the *maximum* number of MPI processes that can be used for each run.\n",
      "Before submitting/runnning the calculation, Abipy will perform a fake run on the fron-end to get the possible parallel configurations with ncpus <= max_ncpus. On the basis of these results, abipy will select the one \n",
      "with the highest speedup, and it will also change the input file by setting all the variables that are needed to enable the selected parallel algorithm (very useful, especially for calculations done with `paral_kgb=1`)."
     ]
    },
    {
     "cell_type": "heading",
     "level": 2,
     "metadata": {},
     "source": [
      "Scheduler"
     ]
    },
    {
     "cell_type": "markdown",
     "metadata": {},
     "source": [
      "The other configuration file is named `scheduler.yml` and defines the parameters \n",
      "for the scheduler that will run/submit our jobs"
     ]
    },
    {
     "cell_type": "code",
     "collapsed": false,
     "input": [
      "!cat ~/.abinit/abipy/scheduler.yml"
     ],
     "language": "python",
     "metadata": {},
     "outputs": [
      {
       "output_type": "stream",
       "stream": "stdout",
       "text": [
        "# number of weeks to wait.\r\n",
        "#weeks:\r\n",
        "# number of days to wait.\r\n",
        "#days:\r\n",
        "# number of hours to wait.\r\n",
        "#hours:\r\n",
        "# number of minutes to wait.\r\n",
        "#minutes:\r\n",
        "# number of seconds to wait.\r\n",
        "seconds: 5\r\n",
        "max_nlaunches: 2\r\n",
        "# when to first execute the job and start the counter (default is after the given interval).\r\n",
        "#start_date:\r\n",
        "# Send mail to the specified address (accepts string or list of strings).\r\n",
        "#mailto: nobody@nowhere.com \r\n"
       ]
      }
     ],
     "prompt_number": 18
    },
    {
     "cell_type": "heading",
     "level": 2,
     "metadata": {},
     "source": [
      "Why Abipy does not support datasets?"
     ]
    },
    {
     "cell_type": "markdown",
     "metadata": {},
     "source": [
      "Multiple datasets are handy if one wants to perform simple calculations such as convergence studies. \n",
      "Unfortunately multiple datasets do not represent the best approach when we are dealing with expensive runs involving different steps.\n",
      "Each step, indeed, may use a different MPI algorithm and it is very difficult to find an optimal number of processors that will lead to a good paralell efficiency in each step. \n",
      "For example, a conjugate-gradient GS calculation parallelized over $k$-points is not efficient when the number of processors is greater than `nkpt*nsppol` whereas a $GW$ calculation (done with the same mesh of $k$-points) is only limited by the number of bands. \n",
      "Moreover a run with multiple datasets might be killed by the resource manager if the job exceeds the maximum wall time and the user is therefore forced to restart the interrupted run. \n",
      "`Abipy` tries to facilitate the execution of calculations that involve several steps."
     ]
    },
    {
     "cell_type": "code",
     "collapsed": false,
     "input": [],
     "language": "python",
     "metadata": {},
     "outputs": []
    }
   ],
   "metadata": {}
  }
 ]
}