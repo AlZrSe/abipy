{
 "cells": [
  {
   "cell_type": "markdown",
   "metadata": {
    "deletable": true,
    "editable": true
   },
   "source": [
    "Back to the main [Index](../index.ipynb)"
   ]
  },
  {
   "cell_type": "markdown",
   "metadata": {
    "deletable": true,
    "editable": true
   },
   "source": [
    "# Tasks, Workflows and Flow"
   ]
  },
  {
   "cell_type": "markdown",
   "metadata": {
    "deletable": true,
    "editable": true
   },
   "source": [
    "Before starting, it's worth clarifying some of the basic concepts used in `AbiPy` to automate ab-initio calculations. \n",
    "In particular, in this paragraph we will focus on the following three objects: \n",
    "\n",
    "   * `Task`\n",
    "   * `Work`\n",
    "   * `Flow`\n",
    "   \n",
    "The `Task` represent the most elementary step of the calculation. \n",
    "Roughly speaking, it corresponds to the execution of an ABINIT run.\n",
    "From the point of view of `Abipy`, a calculation consists of a set of `Tasks` that are connected together by some sort of dependency. \n",
    "Each task has a list of files that are needed to start the calculation, and a list of files that are produced at the end of the run.\n",
    "Some of the input files needed by a `Task` must be provided by the user in the form of ABINIT input variables \n",
    "(e.g. the crystalline structure), other inputs may be produced by other tasks.\n",
    "When a `Task` B requires the output file `DEN` of another calculation A, we say that B depends on A through F, and we express this dependency using the python dictionary  \n",
    "\n",
    "```python\n",
    "B_deps = {A: \"DEN\"}\n",
    "```\n",
    "\n",
    "To clarify this point, let's take a standard $KS$ band structure calculation as example.\n",
    "In this case, we have an initial `ScfTask` that solves the KS equations self-consistently to produce a density file. \n",
    "The density is then used by a second `NscfTask` to produce a band structure on an arbitrary \n",
    "set of $k$-points.\n",
    "The `NscfTask` has thus a dependency on the first `ScfTask` in the sense that it cannot be executed until the `ScfTask` is completed, and the `DEN` file produced by the `ScfTask` is needed as input.\n",
    "\n",
    "The `Work` can be seen as a list of `Tasks`, while the `Flow` is a list of `Work` objects.\n",
    "End-users will mainly interact with the `Flow` since this object provides an easy-to-use\n",
    "interface for performing common operations (launching jobs, checking the status of the `Tasks` etc). \n",
    "\n",
    "`AbiPy` provides several factory functions for typical first-principles calculations.\n",
    "This means that you do not need to understand all the technical details of \n",
    "the python implementation.\n",
    "In many cases, indeed, we already provide some kind of `Work` or `Flow` that automates \n",
    "your calculation, and you only have to provide the correct list of input files \n",
    "that obviously must be consistent with the Flow/Work that is being created.\n",
    "(you shall not pass a list of inputs for performing a band structure calculation to a flow \n",
    "that is expected to compute phonons with DFPT!\n",
    "\n",
    "All the `Works` and the `Tasks` of a flow are created and executed inside the `Flow` working directory (`workdir`) \n",
    "that is usually specified by the user during the creation of the `Flow`.\n",
    "`Abipy` will then create the workdir of the different Works/Tasks when the `Flow` is executed\n",
    "for the first time.\n",
    "\n",
    "Each `Task` has an associated set of input variables that will be used to generate the ABINIT input file and run the calculation. \n",
    "This input **must** be provided by the user during the creation of the `Task`.\n",
    "Fortunately, `AbiPy` provides an object named `AbinitInput` that facilitates the creation \n",
    "of such input. \n",
    "Once you have an `AbinitInput`, you can create the corresponding `Task` with the pseudo code:\n",
    "\n",
    "```python\n",
    "new_task = Task(abinit_input)\n",
    "```\n",
    "\n",
    "The `Task` provides several methods for monitoring the status of the ABINIT run and \n",
    "post-processing the results.\n",
    "\n",
    "In the next paragrap, we discuss how to construct a `Flow` for band-structure calculations\n",
    "with a high-level interface that only requires the specifications on the input files.\n",
    "This example allows us to discuss the most important methods of the `Flow`."
   ]
  },
  {
   "cell_type": "markdown",
   "metadata": {
    "deletable": true,
    "editable": true
   },
   "source": [
    "## Building a `Flow` for the band structure of Silicon."
   ]
  },
  {
   "cell_type": "markdown",
   "metadata": {
    "deletable": true,
    "editable": true
   },
   "source": [
    "Let's start by creating a functions that will produce two input files. \n",
    "The first input is a standard self-consistent ground-state calculation.\n",
    "The second dataset uses the density produced in the first run to perform a non self-consistent band structure calculation."
   ]
  },
  {
   "cell_type": "code",
   "execution_count": 1,
   "metadata": {
    "collapsed": false,
    "deletable": true,
    "editable": true
   },
   "outputs": [],
   "source": [
    "%matplotlib inline\n",
    "from __future__ import division, print_function, unicode_literals\n",
    "\n",
    "from abipy import abilab\n",
    "import abipy.data as abidata\n",
    "\n",
    "def make_scf_nscf_inputs():\n",
    "    \"\"\"Build ands return the input files for the GS-SCF and the GS-NSCF tasks.\"\"\"\n",
    "    multi = abilab.MultiDataset(structure=abidata.cif_file(\"si.cif\"),\n",
    "                              pseudos=abidata.pseudos(\"14si.pspnc\"), ndtset=2)\n",
    "\n",
    "    # Set global variables (dataset1 and dataset2)\n",
    "    multi.set_vars(ecut=6, nband=8)\n",
    "\n",
    "    # Dataset 1 (GS-SCF run)\n",
    "    multi[0].set_kmesh(ngkpt=[8,8,8], shiftk=[0,0,0])\n",
    "    multi[0].set_vars(tolvrs=1e-6)\n",
    "\n",
    "    # Dataset 2 (GS-NSCF run on a k-path)\n",
    "    kptbounds = [\n",
    "        [0.5, 0.0, 0.0], # L point\n",
    "        [0.0, 0.0, 0.0], # Gamma point\n",
    "        [0.0, 0.5, 0.5], # X point\n",
    "    ]\n",
    "\n",
    "    multi[1].set_kpath(ndivsm=6, kptbounds=kptbounds)\n",
    "    multi[1].set_vars(tolwfr=1e-12)\n",
    "    \n",
    "    # Return two input files for the GS and the NSCF run\n",
    "    scf_input, nscf_input = multi.split_datasets()\n",
    "    return scf_input, nscf_input"
   ]
  },
  {
   "cell_type": "markdown",
   "metadata": {
    "deletable": true,
    "editable": true
   },
   "source": [
    "Once we have our two input files, we pass them to the \n",
    "factory function `bandstructure_flow` that returns our `Flow`."
   ]
  },
  {
   "cell_type": "code",
   "execution_count": 2,
   "metadata": {
    "collapsed": false,
    "deletable": true,
    "editable": true
   },
   "outputs": [],
   "source": [
    "scf_input, nscf_input = make_scf_nscf_inputs()\n",
    "\n",
    "workdir = \"/tmp/hello_bands\"\n",
    "flow = abilab.bandstructure_flow(workdir, scf_input, nscf_input)"
   ]
  },
  {
   "cell_type": "markdown",
   "metadata": {
    "deletable": true,
    "editable": true
   },
   "source": [
    "`bandstructure_flow` took care of creating the correct dependency between the two tasks.\n",
    "The `NscfTask`, indeed,  depends on the `ScfTask` in w0/t0, whereas the `ScfTask` has no dependency"
   ]
  },
  {
   "cell_type": "markdown",
   "metadata": {
    "deletable": true,
    "editable": true
   },
   "source": [
    "**Note** that we don't have to use `getden2 = -1` in the second dataset since `Abipy` knows how to connect the two steps."
   ]
  },
  {
   "cell_type": "code",
   "execution_count": 3,
   "metadata": {
    "collapsed": false,
    "deletable": true,
    "editable": true
   },
   "outputs": [
    {
     "data": {
      "image/png": "[encoded data removed]",
      "text/plain": [
       "<matplotlib.figure.Figure at 0x11298c250>"
      ]
     },
     "metadata": {},
     "output_type": "display_data"
    }
   ],
   "source": [
    "flow.plot_networkx(with_edge_labels=True)"
   ]
  },
  {
   "cell_type": "markdown",
   "metadata": {
    "deletable": true,
    "editable": true
   },
   "source": [
    "To have useful information on the status of the flow, one uses:"
   ]
  },
  {
   "cell_type": "code",
   "execution_count": 4,
   "metadata": {
    "collapsed": false,
    "deletable": true,
    "editable": true
   },
   "outputs": [
    {
     "name": "stdout",
     "output_type": "stream",
     "text": [
      "\n",
      "Work #0: <BandStructureWork, node_id=68809, workdir=../../../../../../../../tmp/hello_bands/w0>, Finalized=False\n",
      "+--------+-------------+---------+--------------+------------+----------+-----------------+--------+-----------+\n",
      "| Task   | Status      | Queue   | MPI|Omp|Gb   | Warn|Com   | Class    | Sub|Rest|Corr   | Time   |   Node_ID |\n",
      "+========+=============+=========+==============+============+==========+=================+========+===========+\n",
      "| w0_t0  | Initialized\u001b[0m | None    | 1|  1|2.0    | NA|NA      | ScfTask  | (0, 0, 0)       | None   |     68810 |\n",
      "+--------+-------------+---------+--------------+------------+----------+-----------------+--------+-----------+\n",
      "| w0_t1  | Initialized\u001b[0m | None    | 1|  1|2.0    | NA|NA      | NscfTask | (0, 0, 0)       | None   |     68811 |\n",
      "+--------+-------------+---------+--------------+------------+----------+-----------------+--------+-----------+\n",
      "\n"
     ]
    }
   ],
   "source": [
    "flow.show_status()"
   ]
  },
  {
   "cell_type": "markdown",
   "metadata": {
    "deletable": true,
    "editable": true
   },
   "source": [
    "Meaning of the different columns:\n",
    "    \n",
    "   * Task: short name of the task (usually t[index_in_work]\n",
    "   * Status: Status of the task\n",
    "   * Queue: Job identifier returned by the resource manager when the task is submitted\n",
    "   * (MPI| OMP |Memproc): Number of MPI procs, OMP threads, and memory per MPI proc\n",
    "   * Err|Warn|Comm: Number of Error/Warning/Comment messages found in the ABINIT log\n",
    "   * Class: The class of the `Task`\n",
    "   * Restart: Number of restart performed\n",
    "   * Node_ID : identifier of the task, used to select tasks or works in python code or `abirun.py`"
   ]
  },
  {
   "cell_type": "markdown",
   "metadata": {
    "deletable": true,
    "editable": true
   },
   "source": [
    "## How to build and run the `Flow`"
   ]
  },
  {
   "cell_type": "markdown",
   "metadata": {
    "deletable": true,
    "editable": true
   },
   "source": [
    "The flow is still in memory and no file has been produced. In order to build the workflow, we use "
   ]
  },
  {
   "cell_type": "code",
   "execution_count": 5,
   "metadata": {
    "collapsed": false,
    "deletable": true,
    "editable": true
   },
   "outputs": [],
   "source": [
    "retcode = flow.build_and_pickle_dump()"
   ]
  },
  {
   "cell_type": "markdown",
   "metadata": {
    "deletable": true,
    "editable": true
   },
   "source": [
    "This function creates the directories of the `Flow`:"
   ]
  },
  {
   "cell_type": "code",
   "execution_count": 6,
   "metadata": {
    "collapsed": false,
    "deletable": true,
    "editable": true
   },
   "outputs": [
    {
     "name": "stdout",
     "output_type": "stream",
     "text": [
      "\u001b[01;34m/tmp/hello_bands\u001b[00m\r\n",
      "├── __AbinitFlow__.pickle\r\n",
      "├── \u001b[01;34mindata\u001b[00m\r\n",
      "├── \u001b[01;34moutdata\u001b[00m\r\n",
      "├── \u001b[01;34mtmpdata\u001b[00m\r\n",
      "└── \u001b[01;34mw0\u001b[00m\r\n",
      "    ├── \u001b[01;34mindata\u001b[00m\r\n",
      "    ├── \u001b[01;34moutdata\u001b[00m\r\n",
      "    ├── \u001b[01;34mt0\u001b[00m\r\n",
      "    │   ├── \u001b[01;34mindata\u001b[00m\r\n",
      "    │   ├── \u001b[01;32mjob.sh\u001b[00m\r\n",
      "    │   ├── \u001b[01;34moutdata\u001b[00m\r\n",
      "    │   ├── run.abi\r\n",
      "    │   ├── run.files\r\n",
      "    │   └── \u001b[01;34mtmpdata\u001b[00m\r\n",
      "    ├── \u001b[01;34mt1\u001b[00m\r\n",
      "    │   ├── \u001b[01;34mindata\u001b[00m\r\n",
      "    │   ├── \u001b[01;32mjob.sh\u001b[00m\r\n",
      "    │   ├── \u001b[01;34moutdata\u001b[00m\r\n",
      "    │   ├── run.abi\r\n",
      "    │   ├── run.files\r\n",
      "    │   └── \u001b[01;34mtmpdata\u001b[00m\r\n",
      "    └── \u001b[01;34mtmpdata\u001b[00m\r\n",
      "\r\n",
      "15 directories, 7 files\r\n"
     ]
    }
   ],
   "source": [
    "!tree /tmp/hello_bands"
   ]
  },
  {
   "cell_type": "markdown",
   "metadata": {
    "deletable": true,
    "editable": true
   },
   "source": [
    "`w0` is the directory containing the input files of the first workflow (well, we have only one workflow in our example).\n",
    "`t0` and `t1` contain the input files need to run the SCF and the NSC run, respectively.\n",
    "\n",
    "You might have noticed that each `Task` directory present the same structure:\n",
    "    \n",
    "   * run.abi: ABINIT input file\n",
    "   * run.files: ABINIT files file\n",
    "   * job.sh: Submission script\n",
    "   * outdata: Directory containing output data files\n",
    "   * indata: Directory containing input data files \n",
    "   * tmpdata: Directory with temporary files"
   ]
  },
  {
   "cell_type": "markdown",
   "metadata": {
    "deletable": true,
    "editable": true
   },
   "source": [
    "<div class=\"alert alert-error\">\n",
    " `__AbinitFlow__.pickle` is the pickle database used to store the `Flow` we have just created. **Don't touch it!** \n",
    "</div>"
   ]
  },
  {
   "cell_type": "markdown",
   "metadata": {
    "deletable": true,
    "editable": true
   },
   "source": [
    "## Executing a `Flow`"
   ]
  },
  {
   "cell_type": "markdown",
   "metadata": {
    "deletable": true,
    "editable": true
   },
   "source": [
    "The `Flow` can be executed with two different approaches: a programmatic interface based on `make_scheduler` and the `abirun.py` script. \n",
    "In this section, we present the first approach. "
   ]
  },
  {
   "cell_type": "code",
   "execution_count": 7,
   "metadata": {
    "collapsed": false,
    "deletable": true,
    "editable": true
   },
   "outputs": [
    {
     "name": "stdout",
     "output_type": "stream",
     "text": [
      "[Mon Feb 27 00:47:27 2017] Number of launches: 1\n",
      "\n",
      "Work #0: <BandStructureWork, node_id=68809, workdir=../../../../../../../../tmp/hello_bands/w0>, Finalized=False\n",
      "+--------+-------------+----------------+--------------+------------+----------+-----------------+----------+-----------+\n",
      "| Task   | Status      | Queue          | MPI|Omp|Gb   | Warn|Com   | Class    | Sub|Rest|Corr   | Time     |   Node_ID |\n",
      "+========+=============+================+==============+============+==========+=================+==========+===========+\n",
      "| w0_t0  | \u001b[34mSubmitted\u001b[0m   | 6629@localhost | 2|  1|2.0    | 0|  0      | ScfTask  | (1, 0, 0)       | 0:00:00Q |     68810 |\n",
      "+--------+-------------+----------------+--------------+------------+----------+-----------------+----------+-----------+\n",
      "| w0_t1  | Initialized\u001b[0m | None           | 1|  1|2.0    | NA|NA      | NscfTask | (0, 0, 0)       | None     |     68811 |\n",
      "+--------+-------------+----------------+--------------+------------+----------+-----------------+----------+-----------+\n",
      "\n",
      "[Mon Feb 27 00:47:37 2017] Number of launches: 1\n",
      "\n",
      "Work #0: <BandStructureWork, node_id=68809, workdir=../../../../../../../../tmp/hello_bands/w0>, Finalized=False\n",
      "+--------+-----------+----------------+--------------+------------+----------+-----------------+----------+-----------+\n",
      "| Task   | Status    | Queue          | MPI|Omp|Gb   | Warn|Com   | Class    | Sub|Rest|Corr   | Time     |   Node_ID |\n",
      "+========+===========+================+==============+============+==========+=================+==========+===========+\n",
      "| w0_t0  | \u001b[32mCompleted\u001b[0m | 6629@localhost | 2|  1|2.0    | 3|  0      | ScfTask  | (1, 0, 0)       | 0:00:02R |     68810 |\n",
      "+--------+-----------+----------------+--------------+------------+----------+-----------------+----------+-----------+\n",
      "| w0_t1  | \u001b[34mSubmitted\u001b[0m | 6638@localhost | 2|  1|2.0    | 0|  0      | NscfTask | (1, 0, 0)       | 0:00:00Q |     68811 |\n",
      "+--------+-----------+----------------+--------------+------------+----------+-----------------+----------+-----------+\n",
      "\n",
      "\n",
      "Work #0: <BandStructureWork, node_id=68809, workdir=../../../../../../../../tmp/hello_bands/w0>, Finalized=\u001b[32mTrue\u001b[0m\n",
      "  Finalized works are not shown. Use verbose > 0 to force output.\n",
      "\u001b[32m\n",
      "all_ok reached\n",
      "\u001b[0m\n",
      "\n",
      "Submitted on: Mon Feb 27 00:47:27 2017\n",
      "Completed on: Mon Feb 27 00:47:47 2017\n",
      "Elapsed time: 0:00:20.122741\n",
      "Flow completed successfully\n",
      "\n",
      "Calling flow.finalize()...\n"
     ]
    },
    {
     "data": {
      "text/plain": [
       "0"
      ]
     },
     "execution_count": 7,
     "metadata": {},
     "output_type": "execute_result"
    }
   ],
   "source": [
    "flow.make_scheduler().start()"
   ]
  },
  {
   "cell_type": "markdown",
   "metadata": {
    "deletable": true,
    "editable": true
   },
   "source": [
    "In the first iteration, only the `ScfTask` is executed because the second task depends on it. \n",
    "At this point the scheduler will regularly wakes up, inspect the `Tasks` in the flow and \n",
    "submit those whose dependency is fulfilled."
   ]
  },
  {
   "cell_type": "code",
   "execution_count": 8,
   "metadata": {
    "collapsed": false,
    "deletable": true,
    "editable": true
   },
   "outputs": [
    {
     "data": {
      "image/png": "[encoded data removed]",
      "text/plain": [
       "<matplotlib.figure.Figure at 0x1132128d0>"
      ]
     },
     "metadata": {},
     "output_type": "display_data"
    },
    {
     "name": "stdout",
     "output_type": "stream",
     "text": [
      "\u001b[34mTask <NscfTask, node_id=68811, workdir=../../../../../../../../tmp/hello_bands/w0/t1> does not provide an inspect method\u001b[0m\n"
     ]
    },
    {
     "data": {
      "text/plain": [
       "[<matplotlib.figure.Figure at 0x1132128d0>]"
      ]
     },
     "execution_count": 8,
     "metadata": {},
     "output_type": "execute_result"
    }
   ],
   "source": [
    "flow.inspect()"
   ]
  },
  {
   "cell_type": "markdown",
   "metadata": {
    "deletable": true,
    "editable": true
   },
   "source": [
    "## More on `Works` and `Tasks` "
   ]
  },
  {
   "cell_type": "markdown",
   "metadata": {
    "deletable": true,
    "editable": true
   },
   "source": [
    "Both `Flow` and `Work` are iterable. \n",
    "Iterating on a `Flow` gives `Work` objects, whereas\n",
    "iterating over a `Work` will give the `Tasks` inside that particular `Work`.\n",
    "\n",
    "```python\n",
    "for work in flow:\n",
    "    for task in work:\n",
    "        print(task)\n",
    "```\n",
    "\n",
    "One can also \"slice\" `Flows` and `Works` i.e. one can select a slice or works or tasks\n",
    "with the syntax: flow[start:stop] or work[start:stop]\n",
    "This means that the previous loop is equivalent to the much more verbose version: \n",
    "\n",
    "```python\n",
    "for i in range(len(flow)):\n",
    "    work = flow[i]\n",
    "    for t in range(len(work):\n",
    "        print(work[t])\n",
    "```"
   ]
  },
  {
   "cell_type": "markdown",
   "metadata": {
    "deletable": true,
    "editable": true
   },
   "source": [
    "## TaskManager"
   ]
  },
  {
   "cell_type": "markdown",
   "metadata": {
    "deletable": true,
    "editable": true
   },
   "source": [
    "In the previous sections, we have discussed how to define, build and run a `Flow`, but there is a very important point that we haven't discussed yet.\n",
    "It should be stressed, indeed, that `AbiPy` is only driving and monitoring the `Flow` while the actual calculation is delegated to ABINIT (a Fortran program that is usually executed in parallel on multiple CPUs that communicate via the network by means of the MPI protocol).\n",
    "Besides CPUs and memory must be reserved in advance by sending a request to the resource manager installed on the clusters (SLURM, PBS, etc)\n",
    "\n",
    "`AbiPy` gets all the information needed to submit the different `Tasks` from a configuration file, `manager.yml`, that is usually located in the directory `~/.abinit/abipy/`. \n"
   ]
  },
  {
   "cell_type": "markdown",
   "metadata": {
    "deletable": true,
    "editable": true
   },
   "source": [
    "<div class=\"alert alert-success\">\n",
    "For a brief introduction to the YAML format, please consult http://en.wikipedia.org/wiki/YAML\n",
    "</div>"
   ]
  },
  {
   "cell_type": "markdown",
   "metadata": {
    "deletable": true,
    "editable": true
   },
   "source": [
    "`manager.yml` contains a list of `QueueAdapters` objects. \n",
    "Each `QueueAdapter` is responsible for all interactions with a specific queue management system (slurm, PBS, bash, etc).\n",
    "This includes handling all details of queue script format as well as queue submission and management.\n",
    "The configuration file I use on my laptop is:"
   ]
  },
  {
   "cell_type": "markdown",
   "metadata": {
    "deletable": true,
    "editable": true
   },
   "source": [
    "qadapters:\n",
    "    # List of qadapters objects \n",
    "    - priority: 1\n",
    "      queue:\n",
    "        qtype: shell\n",
    "        qname: gmac\n",
    "      job:\n",
    "        mpi_runner: mpirun\n",
    "        pre_run: \"source ~/env.sh\"\n",
    "      limits:\n",
    "        timelimit: 1:00:00\n",
    "        max_cores: 2\n",
    "      hardware:\n",
    "         num_nodes: 1\n",
    "         sockets_per_node: 1\n",
    "         cores_per_socket: 2\n",
    "         mem_per_node: 4 Gb"
   ]
  },
  {
   "cell_type": "markdown",
   "metadata": {
    "deletable": true,
    "editable": true
   },
   "source": [
    "For the sake of brevity, we just try to give you a general overview of the meaning \n",
    "of the different sections without entering into detail.\n",
    " \n",
    "* queue: dictionary with the name of the queue and optional parameters \n",
    "     used to build/customize the header of the submission script.\n",
    "* job: dictionary with the options used to prepare the enviroment before submitting the job\n",
    "* limits: dictionary with the constraints that must be fulfilled in order to run with this queueadapter.\n",
    "* hardware: dictionary with information on the hardware available on this particular queue.\n",
    "\n",
    "In this (simple) case, we have one `QueueAdapter` named `gmac` that will submit `Tasks`\n",
    "in a shell subprocess (`qtype: shell`) via mpirun. \n",
    "`env.sh` is the bash script I use to set the value of the environment variables (e.g. `PATH` and `LD_LIBRARY_PATH`) before running ABINIT.\n",
    "\n",
    "Note that my laptopt has 1 socket with 2 CPUs and 4 Gb of memory in total, hence I don't want\n",
    "to run ABINIT tasks with more than 2 CPUs. This is the reason why `max_cores` is set to 2.\n",
    "`Timelimit` is not used when you are using `qname=shell`, but it is very important when you are submitting jobs on a cluster because this value is used to generate the submission script.\n",
    "\n",
    "At this point, you may wonder why we need to specify all these parameters in the configuration file.\n",
    "The reason is that, before submitting a job to a resource manager, `AbiPy` will use the autoparal feature of ABINIT to get all the possible parallel configurations with `ncpus <= max_cores`. \n",
    "On the basis of these results, `AbiPy` selects the \"optimal\" one, and changes the ABINIT input file and the submission script sccordingly .\n",
    "(this is a very useful feature, especially for calculations done with `paral_kgb=1` that require the specification of `npkpt`, `npfft`, `npband`, etc).\n",
    "If more than one `QueueAdapter` is specified, `AbiPy` will first compute all the possible configuration and then select the \"optimal\" `QueueAdapter` according to some kind of policy."
   ]
  },
  {
   "cell_type": "markdown",
   "metadata": {
    "deletable": true,
    "editable": true
   },
   "source": [
    "The complete list of options supported by the `TaskManager` with slurm can be \n",
    "retrieved with the command:"
   ]
  },
  {
   "cell_type": "code",
   "execution_count": 9,
   "metadata": {
    "collapsed": false,
    "deletable": true,
    "editable": true
   },
   "outputs": [
    {
     "name": "stdout",
     "output_type": "stream",
     "text": [
      "usage: abirun.py [-h] [-V]\r\n",
      "                 [flowdir]\r\n",
      "                 {single,rapid,scheduler,batch,status,set_status,cancel,restart,reset,move,open,ncopen,abibuild,doc_scheduler,gui,new_manager,tail,qstat,deps,robot,plot,inspect,inputs,doc_manager,events,corrections,history,handlers,notebook,ipython,tar,debug,group,diff,networkx,listext,timer}\r\n",
      "                 ...\r\n",
      "abirun.py: error: argument command: invalid choice: 'manager' (choose from u'single', u'rapid', u'scheduler', u'batch', u'status', u'set_status', u'cancel', u'restart', u'reset', u'move', u'open', u'ncopen', u'abibuild', u'doc_scheduler', u'gui', u'new_manager', u'tail', u'qstat', u'deps', u'robot', u'plot', u'inspect', u'inputs', u'doc_manager', u'events', u'corrections', u'history', u'handlers', u'notebook', u'ipython', u'tar', u'debug', u'group', u'diff', u'networkx', u'listext', u'timer')\r\n"
     ]
    }
   ],
   "source": [
    "!abirun.py . manager slurm"
   ]
  },
  {
   "cell_type": "markdown",
   "metadata": {
    "deletable": true,
    "editable": true
   },
   "source": [
    "<div class=\"alert alert-success\">\n",
    "`Abipy` will read the `manager.yml` file automatically when a new `Flow` is created. \n",
    "By default, python looks for a `manager.yml` file in the current working directory and \n",
    "then in `~/.abinit/abipy`. \n",
    "</div>"
   ]
  },
  {
   "cell_type": "markdown",
   "metadata": {
    "deletable": true,
    "editable": true
   },
   "source": [
    "## Scheduler"
   ]
  },
  {
   "cell_type": "markdown",
   "metadata": {
    "deletable": true,
    "editable": true
   },
   "source": [
    "The other configuration file is named `scheduler.yml` and defines the parameters \n",
    "for the scheduler that will run/submit our jobs"
   ]
  },
  {
   "cell_type": "code",
   "execution_count": 10,
   "metadata": {
    "collapsed": false,
    "deletable": true,
    "editable": true
   },
   "outputs": [
    {
     "name": "stdout",
     "output_type": "stream",
     "text": [
      "# number of weeks to wait.\r\n",
      "#weeks: 0\r\n",
      "\r\n",
      "# number of days to wait.\r\n",
      "#days: 0\r\n",
      "\r\n",
      "# number of hours to wait.\r\n",
      "#hours: 0\r\n",
      "\r\n",
      "# number of minutes to wait.\r\n",
      "#minutes: 0\r\n",
      "\r\n",
      "# number of seconds to wait.\r\n",
      "seconds: 10\r\n",
      "\r\n",
      "# when to first execute the job and start the counter (default is after the given interval).\r\n",
      "#start_date:\r\n",
      "\r\n",
      "# Send mail to the specified address (accepts string or list of strings).\r\n",
      "# PRO TIP: the scheduler WILL try to send and email after a default time of 4 days. If you \r\n",
      "#          comment out the mailto address, this will cause the scheduler to terminate, with\r\n",
      "#          potentially nefarious effects on your running jobs. If you do not wish to receive\r\n",
      "#          emails, a work around is to set the variable `remindme_s` below to something very\r\n",
      "#          large (say, 100 days).\r\n",
      "#mailto: nobody@nowhere.com\r\n",
      "\r\n",
      "# verbosity level (int, default 0)\r\n",
      "#verbose: 0\r\n",
      "\r\n",
      "# The scheduler will shutdown when the number of python exceptions is > max_num_pyexcs\r\n",
      "#max_num_pyexcs: 2\r\n",
      "\r\n",
      "# The scheduler will shutdown when the number of Abinit errors is > max_num_abierrs\r\n",
      "#max_num_abierrs: 0\r\n",
      "\r\n",
      "# The scheduler will shutdow when the total number of tasks launched is > safety_ratio * tot_num_tasks.\r\n",
      "#safety_ratio: 5\r\n",
      "\r\n",
      "# Send an e-mail to mailto every remindme_s seconds.\r\n",
      "#remindme_s: 345600\r\n"
     ]
    }
   ],
   "source": [
    "!cat ~/.abinit/abipy/scheduler.yml"
   ]
  },
  {
   "cell_type": "markdown",
   "metadata": {
    "deletable": true,
    "editable": true
   },
   "source": [
    "<div class=\"alert alert-success\">\n",
    "Also in this case, `Abipy` will read the `scheduler.yml` file automatically when `make_scheduler` \n",
    "is called without arguments. \n",
    "A file `manager.yml` located in the current working directory takes precedence over `~/.abinit/abipy/manager.yml`. \n",
    "</div>"
   ]
  },
  {
   "cell_type": "markdown",
   "metadata": {
    "deletable": true,
    "editable": true
   },
   "source": [
    "<div class=\"alert alert-error\">\n",
    "Remember to set the time interval of the scheduler to a reasonable value.\n",
    "A small value leads to an increase of the submission rate but it also increases the CPU load \n",
    "and the pressure on the hardware and on the resource manager.\n",
    "A too large time interval can have a detrimental effect on the throughput, especially \n",
    "if you are submitting many small jobs.\n",
    "</div>"
   ]
  },
  {
   "cell_type": "markdown",
   "metadata": {
    "deletable": true,
    "editable": true
   },
   "source": [
    "## Abirun.py"
   ]
  },
  {
   "cell_type": "markdown",
   "metadata": {
    "deletable": true,
    "editable": true
   },
   "source": [
    "Executing `flow.make_scheduler().start()` inside an ipython notebook is handy if you are dealing with small calculations that require few seconds or minutes. \n",
    "This approach, however, is unpractical when you have large flows or big calculations requiring hours or days, even on massively parallel machines.\n",
    "In this case, indeed, one would like to run the scheduler in a separate process in the backgroud so that the scheduler is not killed when the ipython notebook server is closed.\n",
    "\n",
    "To start the scheduler in a separate process, use the `abirun.py` script.\n",
    "The syntax is \n",
    "\n",
    "```bash\n",
    "$> abirun.py flow_workdir command\n",
    "```\n",
    "\n",
    "where `flow_workdir` is the directory containing the `Flow` (the directory with the pickle file) and `command` selects the operation to be performed.\n",
    "\n",
    "Typical examples:\n",
    "\n",
    "```bash\n",
    "$> abirun.py /tmp/hello_bands status\n",
    "```\n",
    "checks the status of the `Flow` and print the results to screen.\n",
    "\n",
    "```bash\n",
    "$> nohup abirun.py /tmp/hello_bands scheduler > sched.log &\n",
    "```\n",
    "\n",
    "Starts the scheduler in the background redirecting the standard output to file `sched.log`"
   ]
  },
  {
   "cell_type": "markdown",
   "metadata": {
    "deletable": true,
    "editable": true
   },
   "source": [
    "<div class=\"alert alert-success\">\n",
    "`nohup` is a standard Unix tool. The command make the scheduler immune \n",
    "to hangups so that you can close the shell session without killing the scheduler.\n",
    "</div>"
   ]
  },
  {
   "cell_type": "markdown",
   "metadata": {
    "deletable": true,
    "editable": true
   },
   "source": [
    "`--help` gives the complete list of commands and options available: "
   ]
  },
  {
   "cell_type": "code",
   "execution_count": 11,
   "metadata": {
    "collapsed": false,
    "deletable": true,
    "editable": true
   },
   "outputs": [
    {
     "name": "stdout",
     "output_type": "stream",
     "text": [
      "usage: abirun.py [-h] [-V]\r\n",
      "                 [flowdir]\r\n",
      "                 {single,rapid,scheduler,batch,status,set_status,cancel,restart,reset,move,open,ncopen,abibuild,doc_scheduler,gui,new_manager,tail,qstat,deps,robot,plot,inspect,inputs,doc_manager,events,corrections,history,handlers,notebook,ipython,tar,debug,group,diff,networkx,listext,timer}\r\n",
      "                 ...\r\n",
      "\r\n",
      "positional arguments:\r\n",
      "  flowdir               File or directory containing the ABINIT\r\n",
      "                        flow/work/task. If not given, the flow in the current\r\n",
      "                        workdir is selected.\r\n",
      "\r\n",
      "optional arguments:\r\n",
      "  -h, --help            show this help message and exit\r\n",
      "  -V, --version         show program's version number and exit\r\n",
      "\r\n",
      "subcommands:\r\n",
      "  Valid subcommands\r\n",
      "\r\n",
      "  {single,rapid,scheduler,batch,status,set_status,cancel,restart,reset,move,open,ncopen,abibuild,doc_scheduler,gui,new_manager,tail,qstat,deps,robot,plot,inspect,inputs,doc_manager,events,corrections,history,handlers,notebook,ipython,tar,debug,group,diff,networkx,listext,timer}\r\n",
      "                        sub-command help\r\n",
      "    single              Run single task and exit.\r\n",
      "    rapid               Run all tasks in rapidfire mode.\r\n",
      "    scheduler           Run all tasks with a Python scheduler. Requires\r\n",
      "                        scheduler.yml.\r\n",
      "    batch               Run scheduler in batch script.\r\n",
      "    status              Show status table.\r\n",
      "    set_status          Change the status of the task. WARNING: Option for\r\n",
      "                        developers!\r\n",
      "    cancel              Cancel the tasks in the queue. Not available if\r\n",
      "                        qtype==shell.\r\n",
      "    restart             Restart the tasks of the flow. By default, only the\r\n",
      "                        task with status==Unconverged are restarted. Use -S\r\n",
      "                        `status` and/or -n node_ids to select particular\r\n",
      "                        tasks.\r\n",
      "    reset               Reset the tasks of the flow with the specified status.\r\n",
      "    move                Move the flow to a new directory and change the\r\n",
      "                        absolute paths.\r\n",
      "    open                Open files in $EDITOR, type `abirun.py FLOWDIR open\r\n",
      "                        --help` for help).\r\n",
      "    ncopen              Open netcdf files in ipython. Use --help for more\r\n",
      "                        info.\r\n",
      "    abibuild            Show Abinit build information and exit.\r\n",
      "    doc_scheduler       Document the options available in scheduler.yml.\r\n",
      "    gui                 Open the GUI (requires wxPython).\r\n",
      "    new_manager         Change the TaskManager.\r\n",
      "    tail                Use tail to follow the main output files of the flow.\r\n",
      "    qstat               Show additional info on the jobs in the queue.\r\n",
      "    deps                Show dependencies.\r\n",
      "    robot               Use a robot to analyze the results of multiple tasks\r\n",
      "                        (requires ipython).\r\n",
      "    plot                Plot data. Use --help for more info.\r\n",
      "    inspect             Inspect the tasks.\r\n",
      "    inputs              Show the input files of the tasks.\r\n",
      "    doc_manager         Document the TaskManager options.\r\n",
      "    events              Show ABINIT events (error messages, warnings,\r\n",
      "                        comments).\r\n",
      "    corrections         Show abipy corrections.\r\n",
      "    history             Show Node history.\r\n",
      "    handlers            Show event handlers installed in the flow.\r\n",
      "    notebook            Create and open an ipython notebook to interact with\r\n",
      "                        the flow.\r\n",
      "    ipython             Embed IPython. Useful for advanced operations or\r\n",
      "                        debugging purposes.\r\n",
      "    tar                 Create tarball file.\r\n",
      "    debug               Analyze error files and log files for possible error\r\n",
      "                        messages.\r\n",
      "    group               Group tasks according to property.\r\n",
      "    diff                Compare files produced by two or three nodes.\r\n",
      "    networkx            Draw flow and node dependecies with networkx package.\r\n",
      "    listext             List all the output files with the given extension\r\n",
      "                        that have been produced by the nodes.\r\n",
      "    timer               Read the section with timing info from the main ABINIT\r\n",
      "                        output file (requires timopt != 0)Open Ipython\r\n",
      "                        terminal to inspect data.\r\n",
      "\r\n",
      "Usage example:\r\n",
      "    abirun.py [FLOWDIR] rapid                 => Keep repeating, stop when no task can be executed.\r\n",
      "    abirun.py [FLOWDIR] scheduler             => Execute flow with the scheduler.\r\n",
      "    abirun.py [FLOWDIR] events                => Print ABINIT events (Warning/Error/Comment).\r\n",
      "    abirun.py [FLOWDIR] history               => Print Task history.\r\n",
      "    abirun.py [FLOWDIR] debug                 => Analyze error files and log files for possible error messages.\r\n",
      "    abirun.py [FLOWDIR] gui                   => Open the GUI.\r\n",
      "    abirun.py [FLOWDIR] doc_manager slurm     => Document the TaskManager options availabe for Slurm.\r\n",
      "    abirun.py . doc_manager script            => Show the job script that will be produced with the current settings.\r\n",
      "    abirun.py . doc_scheduler                 => Document the options available in scheduler.yml.\r\n",
      "\r\n",
      "    nohup abirun.py [FLOWDIR] scheduler -s 30 &  => Start the scheduler to schedule task submission.\r\n",
      "\r\n",
      "    If FLOWDIR is not given, abirun.py automatically selects the database located within\r\n",
      "    the working directory. An Exception is raised if multiple databases are found.\r\n",
      "\r\n",
      "    Note, moreover, that you can also replace FLOWDIR with the directory of a work/task\r\n",
      "    to make the command operate on this node of the flow without having to specify --nids.\r\n",
      "    To have the list of events of the task in `FLOWDIR/w0/t1`, for example, use:\r\n",
      "\r\n",
      "        abirun.py FLOWDIR/w0/t1 events\r\n",
      "\r\n",
      "    instead of\r\n",
      "\r\n",
      "        abirun.py FLOWDIR events -n 123\r\n",
      "\r\n",
      "    where 123 is the node identifier associated to w0/t1.\r\n",
      "\r\n",
      "Options for developers:\r\n",
      "    abirun.py prof ABIRUN_ARGS               => to profile abirun.py\r\n",
      "    abirun.py tracemalloc ABIRUN_ARGS        => to trace memory blocks allocated by Python\r\n"
     ]
    }
   ],
   "source": [
    "!abirun.py --help"
   ]
  }
 ],
 "metadata": {
  "kernelspec": {
   "display_name": "Python 2",
   "language": "python",
   "name": "python2"
  },
  "language_info": {
   "codemirror_mode": {
    "name": "ipython",
    "version": 2
   },
   "file_extension": ".py",
   "mimetype": "text/x-python",
   "name": "python",
   "nbconvert_exporter": "python",
   "pygments_lexer": "ipython2",
   "version": "2.7.12"
  },
  "latex_envs": {
   "bibliofile": "biblio.bib",
   "cite_by": "apalike",
   "current_citInitial": 1,
   "eqLabelWithNumbers": true,
   "eqNumInitial": 0
  }
 },
 "nbformat": 4,
 "nbformat_minor": 0
}
