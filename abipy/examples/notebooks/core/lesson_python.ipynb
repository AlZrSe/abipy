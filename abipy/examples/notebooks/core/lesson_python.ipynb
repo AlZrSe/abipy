{
 "metadata": {
  "name": "",
  "signature": "sha256:afb12852804f25756832ddcc02ea3cb5cbd7aaa59d71f21f4b34814ae81445b5"
 },
 "nbformat": 3,
 "nbformat_minor": 0,
 "worksheets": [
  {
   "cells": [
    {
     "cell_type": "markdown",
     "metadata": {},
     "source": [
      "The 'python things you really need to know for abipy' python crash course\n",
      "=========================================================================\n",
      "This is a short tutorial on python, using examples from abipy and pymatgen. "
     ]
    },
    {
     "cell_type": "markdown",
     "metadata": {},
     "source": [
      "The dot, '.'\n",
      "------------\n",
      "If you are new to object oriented programming the *dot* may be a new construction. In python everything is an *object* and objects can have *properties* and *methods*. With the dot we call a property or method of the object, which usually acts on the object. For instance a list:"
     ]
    },
    {
     "cell_type": "code",
     "collapsed": false,
     "input": [
      "a = [2, 3, 1]"
     ],
     "language": "python",
     "metadata": {},
     "outputs": [],
     "prompt_number": 74
    },
    {
     "cell_type": "markdown",
     "metadata": {},
     "source": [
      "has a *bound* method that we can use to act on the list:"
     ]
    },
    {
     "cell_type": "code",
     "collapsed": false,
     "input": [
      "a.sort()\n",
      "a"
     ],
     "language": "python",
     "metadata": {},
     "outputs": [
      {
       "metadata": {},
       "output_type": "pyout",
       "prompt_number": 90,
       "text": [
        "[1, 2, 3]"
       ]
      }
     ],
     "prompt_number": 90
    },
    {
     "cell_type": "markdown",
     "metadata": {},
     "source": [
      "Importing\n",
      "---------\n",
      "To use objects defined anywhere else we need to *import* them:"
     ]
    },
    {
     "cell_type": "code",
     "collapsed": false,
     "input": [
      "import os"
     ],
     "language": "python",
     "metadata": {},
     "outputs": [],
     "prompt_number": 55
    },
    {
     "cell_type": "markdown",
     "metadata": {},
     "source": [
      "imports a full package enabling things like"
     ]
    },
    {
     "cell_type": "code",
     "collapsed": false,
     "input": [
      "os.getcwd()"
     ],
     "language": "python",
     "metadata": {},
     "outputs": [
      {
       "metadata": {},
       "output_type": "pyout",
       "prompt_number": 56,
       "text": [
        "'/Users/setten/PycharmProjects/GWplotting/GWplotting/notebooks'"
       ]
      }
     ],
     "prompt_number": 56
    },
    {
     "cell_type": "code",
     "collapsed": false,
     "input": [
      "import abipy.abilab as abilab\n",
      "import abipy.data as abidata"
     ],
     "language": "python",
     "metadata": {},
     "outputs": [],
     "prompt_number": 57
    },
    {
     "cell_type": "markdown",
     "metadata": {},
     "source": [
      "imports the module abilab from the package abipy in the *namespace* abilab and abipy/data in the namespace abidata. "
     ]
    },
    {
     "cell_type": "markdown",
     "metadata": {},
     "source": [
      "An *instance* of a *class*\n",
      "--------------------------\n"
     ]
    },
    {
     "cell_type": "code",
     "collapsed": false,
     "input": [
      "structure = abilab.Structure.from_file(abidata.cif_file(\"si.cif\"))"
     ],
     "language": "python",
     "metadata": {},
     "outputs": [],
     "prompt_number": 81
    },
    {
     "cell_type": "markdown",
     "metadata": {},
     "source": [
      "Here we created an *instance* of the *class* 'Structure' in the new object 'structure'. It has been created using the *classmethod* 'from_file' reading in a cif file in the ciffile collection stored in abipy's data."
     ]
    },
    {
     "cell_type": "markdown",
     "metadata": {},
     "source": [
      "Properties, methods and reserved properties\n",
      "-------------------------------------------\n",
      "Acting a *function* like print on an object uses the reserved propery \\_\\_str\\_\\_(), the string represenstiontion of an object: "
     ]
    },
    {
     "cell_type": "code",
     "collapsed": false,
     "input": [
      "print(structure)"
     ],
     "language": "python",
     "metadata": {},
     "outputs": [
      {
       "output_type": "stream",
       "stream": "stdout",
       "text": [
        "Structure Summary (Si2)\n",
        "Reduced Formula: Si\n",
        "abc   :   3.866975   3.866975   3.866975\n",
        "angles:  60.000000  60.000000  60.000000\n",
        "Sites (2)\n",
        "1 Si     0.000000     0.000000     0.000000\n",
        "2 Si     0.250000     0.250000     0.250000\n"
       ]
      }
     ],
     "prompt_number": 86
    },
    {
     "cell_type": "code",
     "collapsed": false,
     "input": [
      "structure.__str__()"
     ],
     "language": "python",
     "metadata": {},
     "outputs": [
      {
       "metadata": {},
       "output_type": "pyout",
       "prompt_number": 85,
       "text": [
        "u'Structure Summary (Si2)\\nReduced Formula: Si\\nabc   :   3.866975   3.866975   3.866975\\nangles:  60.000000  60.000000  60.000000\\nSites (2)\\n1 Si     0.000000     0.000000     0.000000\\n2 Si     0.250000     0.250000     0.250000'"
       ]
      }
     ],
     "prompt_number": 85
    },
    {
     "cell_type": "code",
     "collapsed": false,
     "input": [
      "str(structure)"
     ],
     "language": "python",
     "metadata": {},
     "outputs": [
      {
       "metadata": {},
       "output_type": "pyout",
       "prompt_number": 87,
       "text": [
        "'Structure Summary (Si2)\\nReduced Formula: Si\\nabc   :   3.866975   3.866975   3.866975\\nangles:  60.000000  60.000000  60.000000\\nSites (2)\\n1 Si     0.000000     0.000000     0.000000\\n2 Si     0.250000     0.250000     0.250000'"
       ]
      }
     ],
     "prompt_number": 87
    },
    {
     "cell_type": "markdown",
     "metadata": {},
     "source": [
      "A *method* of an object is called with brackets:"
     ]
    },
    {
     "cell_type": "code",
     "collapsed": false,
     "input": [
      "structure.as_dict()"
     ],
     "language": "python",
     "metadata": {},
     "outputs": [
      {
       "metadata": {},
       "output_type": "pyout",
       "prompt_number": 82,
       "text": [
        "{u'@class': 'Structure',\n",
        " u'@module': 'abipy.core.structure',\n",
        " u'lattice': {u'a': 3.86697462,\n",
        "  u'alpha': 59.99999999999999,\n",
        "  u'b': 3.8669746199999997,\n",
        "  u'beta': 59.99999999999999,\n",
        "  u'c': 3.86697462,\n",
        "  u'gamma': 59.99999999999999,\n",
        "  u'matrix': [[-3.3488982567096763, 0.0, -1.9334873100000005],\n",
        "   [-3.3488982567096763, 0.0, 1.9334873099999996],\n",
        "   [-2.2325988378064507, 3.1573715557642927, 0.0]],\n",
        "  u'volume': 40.8882917934689},\n",
        " u'sites': [{u'abc': [0.0, 0.0, 0.0],\n",
        "   u'label': u'Si',\n",
        "   u'properties': {},\n",
        "   u'species': [{u'element': u'Si', u'occu': 1.0}],\n",
        "   u'xyz': [0.0, 0.0, 0.0]},\n",
        "  {u'abc': [0.2499999999999999, 0.25000000000000006, 0.25],\n",
        "   u'label': u'Si',\n",
        "   u'properties': {},\n",
        "   u'species': [{u'element': u'Si', u'occu': 1.0}],\n",
        "   u'xyz': [-2.2325988378064507, 0.7893428889410732, 1.1102230246251565e-16]}]}"
       ]
      }
     ],
     "prompt_number": 82
    },
    {
     "cell_type": "markdown",
     "metadata": {},
     "source": [
      "This method *returns* the *dictionary* representation of the structure object.\n",
      "\n",
      "A property is called wihtout the brackets:"
     ]
    },
    {
     "cell_type": "code",
     "collapsed": false,
     "input": [
      "structure.volume"
     ],
     "language": "python",
     "metadata": {},
     "outputs": [
      {
       "metadata": {},
       "output_type": "pyout",
       "prompt_number": 92,
       "text": [
        "40.888291793468902"
       ]
      }
     ],
     "prompt_number": 92
    },
    {
     "cell_type": "markdown",
     "metadata": {},
     "source": [
      "this is a *property* of structure so it is called without the brackets (). "
     ]
    },
    {
     "cell_type": "code",
     "collapsed": false,
     "input": [
      "structure.scale_lattice(50)\n",
      "print(structure.lattice_vectors())\n",
      "print(structure.volume)"
     ],
     "language": "python",
     "metadata": {},
     "outputs": [
      {
       "output_type": "stream",
       "stream": "stdout",
       "text": [
        "[[-3.58117573  0.         -2.06759277]\n",
        " [-3.58117573  0.          2.06759277]\n",
        " [-2.38745049  3.37636486  0.        ]]\n",
        "50.0\n"
       ]
      }
     ],
     "prompt_number": 93
    },
    {
     "cell_type": "markdown",
     "metadata": {},
     "source": [
      "Inheritance\n",
      "-----------\n",
      "The class Structure we imported from abilab is actually a *subclass* of the Structure class of pymatgen. The properties and methods we used above were all definded in the *classdefinition* of Structure in pymatgen and the abipy Structure class has *inherited* these. In abipy we *extended* on the class by adding more methods like:"
     ]
    },
    {
     "cell_type": "code",
     "collapsed": false,
     "input": [
      "structure.to_abivars()"
     ],
     "language": "python",
     "metadata": {},
     "outputs": [
      {
       "metadata": {},
       "output_type": "pyout",
       "prompt_number": 91,
       "text": [
        "{'acell': [1.0, 1.0, 1.0],\n",
        " 'natom': 2,\n",
        " 'ntypat': 1,\n",
        " 'rprim': array([[-6.32850056,  0.        , -3.6537615 ],\n",
        "        [-6.32850056,  0.        ,  3.6537615 ],\n",
        "        [-4.21900037,  5.96656754,  0.        ]]) bohr,\n",
        " 'typat': array([1, 1]),\n",
        " 'xred': array([[ 0.  ,  0.  ,  0.  ],\n",
        "        [ 0.25,  0.25,  0.25]]),\n",
        " 'znucl': [14]}"
       ]
      }
     ],
     "prompt_number": 91
    }
   ],
   "metadata": {}
  }
 ]
}