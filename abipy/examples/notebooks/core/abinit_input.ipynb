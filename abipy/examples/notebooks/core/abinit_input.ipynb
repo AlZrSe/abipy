{
 "metadata": {
  "name": "",
  "signature": "sha256:b7a7b422e1839efcc935bc84f46f5ca8ca6c0a2e4eea7b5eaa570d5c1892c3d7"
 },
 "nbformat": 3,
 "nbformat_minor": 0,
 "worksheets": [
  {
   "cells": [
    {
     "cell_type": "heading",
     "level": 1,
     "metadata": {},
     "source": [
      "Abinit Input File"
     ]
    },
    {
     "cell_type": "markdown",
     "metadata": {},
     "source": [
      "The creation of the input file of abinit is one of the most repetive and error-prone operations we have to do before running our calculations.\n",
      "`AbiInput` is a python object whose main goal is to facilitate the creation of such files.\n",
      "\n",
      "The interface is very similar to the one we already use in Abinit, but there are also some important differences:\n",
      "\n",
      "   * We have to pass the list of pseudopotential files we want to use for the calculation so that `AbiInput` knows how to construct the ABINIT `filesfile`.\n",
      "\n",
      "   * We must define explictly the number of datasets we want to use.\n",
      "\n",
      "A typical example of `AbiInput` is shown below."
     ]
    },
    {
     "cell_type": "code",
     "collapsed": false,
     "input": [
      "# Use this at the beginning of your script so that your code is ready for python3\n",
      "from __future__ import division, print_function, unicode_literals\n",
      "\n",
      "import abipy.data as abidata\n",
      "from abipy.abilab import AbiInput\n",
      "\n",
      "# Create an ABINIT input file with one dataset. \n",
      "# Pseudos are located in the pseudo_dir directory.\n",
      "inp = AbiInput(pseudos=\"14si.pspnc\", pseudo_dir=abidata.pseudo_dir, ndtset=1)\n",
      "\n",
      "# One can set the value of the variables directly with the syntax.\n",
      "inp.ecut = 10.\n",
      "inp.tolwfr = 1e-8\n",
      "\n",
      "# It's possible to use strings but use them only for special cases such as:\n",
      "inp.istwfk = '*1'       \n",
      "\n",
      "# One can create a python dictionary:\n",
      "unit_cell = {\n",
      "    \"acell\": 3*[10.217],       \n",
      "    'rprim': [ [.0, .5, .5],\n",
      "               [.5, .0, .5],\n",
      "               [.5, .5, .0]],\n",
      "    'ntypat': 1,\n",
      "    'znucl': [14,],\n",
      "    'natom': 2,\n",
      "    'typat': [1, 1],\n",
      "    'xred': [ [.0, .0, .0],\n",
      "              [.25,.25,.25] ]\n",
      "}\n",
      "\n",
      "# and set the variables in the input file with the method (note the **)\n",
      "inp.set_vars(**unit_cell)\n",
      "\n",
      "# Alternatively, it's possible to create a dictionary on the fly with the syntax.\n",
      "inp.set_vars(kptopt=1, \n",
      "             ngkpt=[2, 2, 2], \n",
      "             nshiftk=1, \n",
      "             shiftk=[0.0, 0.0, 0.0]\n",
      "            )\n",
      "\n",
      "# To print the input to stdout use:\n",
      "print(inp)\n",
      "\n",
      "# To write the input to an external file:\n",
      "out_string = inp.write(\"/tmp/myinput.in\")"
     ],
     "language": "python",
     "metadata": {},
     "outputs": [
      {
       "output_type": "stream",
       "stream": "stdout",
       "text": [
        " ecut 10.0\n",
        " tolwfr 1e-08\n",
        " istwfk *1\n",
        " acell   10.217   10.217   10.217\n",
        " xred\n",
        "    0.0000000000    0.0000000000    0.0000000000\n",
        "    0.2500000000    0.2500000000    0.2500000000\n",
        " typat 1 1\n",
        " ntypat 1\n",
        " rprim\n",
        "    0.0    0.5    0.5\n",
        "    0.5    0.0    0.5\n",
        "    0.5    0.5    0.0\n",
        " natom 2\n",
        " znucl 14\n",
        " kptopt 1\n",
        " shiftk    0.0    0.0    0.0\n",
        " ngkpt 2 2 2\n",
        " nshiftk 1\n"
       ]
      }
     ],
     "prompt_number": 15
    },
    {
     "cell_type": "heading",
     "level": 2,
     "metadata": {},
     "source": [
      "Multiple datasets"
     ]
    },
    {
     "cell_type": "markdown",
     "metadata": {},
     "source": [
      "The previous example is a little bit verbose on purpose since we want to explain the syntax used to define the different variables.\n",
      "Note, however, that `AbiInput` provides several utilties that significantly facilitate the specification of the crystal structure and the specification of groups of variables. \n",
      "\n",
      "The code below, for example, shows how to construct an input file for the band structure calculation of Silicon. \n",
      "In this case we are initializing the crystalline structure (`acell`, `rprim`, `ntypat` ...) from a `CIF` file.\n",
      "and the k-path for the band structure calculation is automatically defined by `abipy` on the basis of the lattice space group \n",
      "(we only need to specify the variable `ndivsm` that defines the sampling of the path)."
     ]
    },
    {
     "cell_type": "code",
     "collapsed": false,
     "input": [
      "# A slightly more complicated example: an input file with two datasets\n",
      "inp = AbiInput(pseudos=\"14si.pspnc\", pseudo_dir=abidata.pseudo_dir, ndtset=2)\n",
      "\n",
      "# Global variable common to all datasets.\n",
      "inp.tolwfr = 1e-8\n",
      "\n",
      "# To specify values for the different datasets, one can use the syntax\n",
      "inp.ecut1 = 10\n",
      "inp.ecut2 = 20\n",
      "\n",
      "# or the alternative (much better) syntax \n",
      "inp[1].set_vars(ngkpt=[2,2,2], tsmear=0.004)\n",
      "inp[2].set_vars(kptopt=[4,4,4], tsmear=0.008)\n",
      "\n",
      "# print will return a string the the final input\n",
      "print(inp)"
     ],
     "language": "python",
     "metadata": {},
     "outputs": [
      {
       "output_type": "stream",
       "stream": "stdout",
       "text": [
        "\n",
        "########################\n",
        "### GLOBAL VARIABLES ###\n",
        "########################\n",
        " ndtset 2\n",
        " tolwfr 1e-08\n",
        "\n",
        "#################\n",
        "### DATASET 1 ###\n",
        "#################\n",
        " ecut1 10\n",
        " ngkpt1 2 2 2\n",
        " tsmear1 0.004\n",
        "\n",
        "#################\n",
        "### DATASET 2 ###\n",
        "#################\n",
        " ecut2 20\n",
        " kptopt2    4.0000000000    4.0000000000    4.0000000000\n",
        " tsmear2 0.008\n",
        "\n"
       ]
      }
     ],
     "prompt_number": 16
    },
    {
     "cell_type": "markdown",
     "metadata": {},
     "source": [
      "Multiple datasets are handy when you are generating an input file for a calculation\n",
      "that requires multiple steps (e.g. a band structure calculation) because all the datasets will share\n",
      "a common set of global variables, for example the parameters defining the crystalline structure.\n",
      "\n",
      "In some cases, however, you may want to run the datasets separately. \n",
      "The `split_datasets` function, splits the initial input into `ndtset` input files:"
     ]
    },
    {
     "cell_type": "code",
     "collapsed": false,
     "input": [
      "inp1, inp2 = inp.split_datasets()"
     ],
     "language": "python",
     "metadata": {},
     "outputs": [],
     "prompt_number": 17
    },
    {
     "cell_type": "heading",
     "level": 2,
     "metadata": {},
     "source": [
      "Defining the crystalline structure"
     ]
    },
    {
     "cell_type": "markdown",
     "metadata": {},
     "source": [
      "The `set_structure` method of `AbiInput` sets the value of the ABINIT variables:\n",
      "    \n",
      "   * acell\n",
      "   * rprim\n",
      "   * ntypat\n",
      "   * natom \n",
      "   * typat\n",
      "   * znucl\n",
      "   * xred\n",
      "    \n",
      "It is always a good idea to set the structure immediately after the creation of `AbiInput`\n",
      "because several methods use this information to faciliate the specification of other variables \n",
      "e.g. the `set_kpath` method use the structure to generate the $k$-path for band structure calculations.\n",
      "\n",
      "<div class=\"alert alert\">\n",
      "`typat` must be consistent with the list of pseudopotentials passed to `AbiInput`\n",
      "</div>\n",
      "\n",
      "`set_structure` accepts either a dictionary with the ABINIT variables or an external file. "
     ]
    },
    {
     "cell_type": "heading",
     "level": 3,
     "metadata": {},
     "source": [
      "From dictionary:"
     ]
    },
    {
     "cell_type": "code",
     "collapsed": false,
     "input": [
      "inp = AbiInput(pseudos=abidata.pseudos(\"14si.pspnc\"))\n",
      "\n",
      "# from a dictionary\n",
      "inp.set_structure(dict(\n",
      "    ntypat=1,         \n",
      "    natom=2,\n",
      "    typat=[1, 1],\n",
      "    znucl=14,\n",
      "    acell=3*[10.217],\n",
      "    rprim=[[0.0,  0.5,  0.5],   \n",
      "           [0.5,  0.0,  0.5],\n",
      "           [0.5,  0.5,  0.0]],\n",
      "    xred=[[0.0 , 0.0 , 0.0],\n",
      "          [0.25, 0.25, 0.25]]\n",
      "))"
     ],
     "language": "python",
     "metadata": {},
     "outputs": [],
     "prompt_number": 18
    },
    {
     "cell_type": "heading",
     "level": 3,
     "metadata": {},
     "source": [
      "From file"
     ]
    },
    {
     "cell_type": "code",
     "collapsed": false,
     "input": [
      "# from a CIF file\n",
      "inp.set_structure(abidata.cif_file(\"si.cif\"))\n",
      "\n",
      "# from a Netcdf file produced by ABINIT\n",
      "inp.set_structure(abidata.ref_file(\"si_scf_GSR.nc\"))\n",
      "print(inp.structure)"
     ],
     "language": "python",
     "metadata": {},
     "outputs": [
      {
       "output_type": "stream",
       "stream": "stdout",
       "text": [
        "Structure Summary (Si2)\n",
        "Reduced Formula: Si\n",
        "abc   :   3.866975   3.866975   3.866975\n",
        "angles:  60.000000  60.000000  60.000000\n",
        "Sites (2)\n",
        "1 Si     0.000000     0.000000     0.000000\n",
        "2 Si     0.250000     0.250000     0.250000\n"
       ]
      }
     ],
     "prompt_number": 19
    },
    {
     "cell_type": "markdown",
     "metadata": {},
     "source": [
      "Supported formats include:\n",
      "\n",
      "   * CIF\n",
      "   * POSCAR/CONTCAR\n",
      "   * CHGCAR \n",
      "   * LOCPOT,\n",
      "   * vasprun.xml\n",
      "   * CSSR \n",
      "   * ABINIT Netcdf \n",
      "   * pymatgen's JSON serialized structures"
     ]
    },
    {
     "cell_type": "heading",
     "level": 2,
     "metadata": {},
     "source": [
      "Brillouin zone sampling"
     ]
    },
    {
     "cell_type": "markdown",
     "metadata": {},
     "source": [
      "There are two different types of sampling of the BZ: homogeneous and high-symmetry k-path.\n",
      "The later is mainly used for band structure calculations and requires the specification of: \n",
      "\n",
      "   * kptopt\n",
      "   * kptbounds\n",
      "   * ndivsm\n",
      "    \n",
      "whereas the homogeneous sampling is needed for all the calculations in which \n",
      "we have to compute integrals in the Brillouin zone e.g. total energy calculations, DOS, etc.\n",
      "The $k$-mesh is usually specified via:\n",
      "\n",
      "   * ngkpt\n",
      "   * nshiftk\n",
      "   * shiftk"
     ]
    },
    {
     "cell_type": "heading",
     "level": 3,
     "metadata": {},
     "source": [
      "Explicit $k$-mesh"
     ]
    },
    {
     "cell_type": "code",
     "collapsed": false,
     "input": [
      "inp = AbiInput(pseudos=abidata.pseudos(\"14si.pspnc\"), ndtset=3)\n",
      "inp.set_structure(abidata.cif_file(\"si.cif\"))\n",
      "\n",
      "# Set ngkpt, shiftk explictly  \n",
      "inp[1].set_kmesh(ngkpt=(1,2,3), shiftk=[0.0, 0.0, 0.0, 0.5, 0.5, 0.5])\n",
      "print(inp[1])"
     ],
     "language": "python",
     "metadata": {},
     "outputs": [
      {
       "output_type": "stream",
       "stream": "stdout",
       "text": [
        " kptopt1 1\n",
        " shiftk1\n",
        "    0.0    0.0    0.0\n",
        "    0.5    0.5    0.5\n",
        " ngkpt1 1 2 3\n",
        " nshiftk1 2\n"
       ]
      }
     ],
     "prompt_number": 20
    },
    {
     "cell_type": "heading",
     "level": 3,
     "metadata": {},
     "source": [
      "Automatic $k$-mesh "
     ]
    },
    {
     "cell_type": "code",
     "collapsed": false,
     "input": [
      "# Define a homogeneous k-mesh. \n",
      "# nksmall is the number of divisions to be used to sample the smallest lattice vector,\n",
      "# shiftk is automatically selected from an internal database.\n",
      "\n",
      "inp[2].set_autokmesh(nksmall=4)\n",
      "print(inp[2])"
     ],
     "language": "python",
     "metadata": {},
     "outputs": [
      {
       "output_type": "stream",
       "stream": "stdout",
       "text": [
        " acell2    1.0    1.0    1.0\n",
        " xred2\n",
        "    0.0000000000    0.0000000000    0.0000000000\n",
        "    0.2500000000    0.2500000000    0.2500000000\n",
        " typat2 1 1\n",
        " rprim2\n",
        "   -6.3285005555    0.0   -3.6537614993\n",
        "   -6.3285005555    0.0    3.6537614993\n",
        "   -4.2190003704    5.9665675434    0.0\n",
        " natom2 2\n",
        " kptopt2 1\n",
        " shiftk2\n",
        "    0.5    0.5    0.5\n",
        "    0.5    0.0    0.0\n",
        "    0.0    0.5    0.0\n",
        "    0.0    0.0    0.5\n",
        " ngkpt2 4 4 4\n",
        " nshiftk2 4\n"
       ]
      }
     ],
     "prompt_number": 21
    },
    {
     "cell_type": "heading",
     "level": 3,
     "metadata": {},
     "source": [
      "High-symmetry $k$-path"
     ]
    },
    {
     "cell_type": "code",
     "collapsed": false,
     "input": [
      "# Generate a high-symmetry k-path (taken from an internal database)\n",
      "# 2 points are used to sample the smallest segment, \n",
      "# the other segments are sampled so that proportions are preserved.\n",
      "\n",
      "inp[3].set_kpath(ndivsm=2)\n",
      "print(inp[3])"
     ],
     "language": "python",
     "metadata": {},
     "outputs": [
      {
       "output_type": "stream",
       "stream": "stdout",
       "text": [
        " acell3    1.0    1.0    1.0\n",
        " xred3\n",
        "    0.0000000000    0.0000000000    0.0000000000\n",
        "    0.2500000000    0.2500000000    0.2500000000\n",
        " typat3 1 1\n",
        " rprim3\n",
        "   -6.3285005555    0.0   -3.6537614993\n",
        "   -6.3285005555    0.0    3.6537614993\n",
        "   -4.2190003704    5.9665675434    0.0\n",
        " natom3 2\n",
        " kptopt3 -11\n",
        " kptbounds3\n",
        "    0.0000000000    0.0000000000    0.0000000000\n",
        "    0.5000000000    0.0000000000    0.5000000000\n",
        "    0.5000000000    0.2500000000    0.7500000000\n",
        "    0.3750000000    0.3750000000    0.7500000000\n",
        "    0.0000000000    0.0000000000    0.0000000000\n",
        "    0.5000000000    0.5000000000    0.5000000000\n",
        "    0.6250000000    0.2500000000    0.6250000000\n",
        "    0.5000000000    0.2500000000    0.7500000000\n",
        "    0.5000000000    0.5000000000    0.5000000000\n",
        "    0.3750000000    0.3750000000    0.7500000000\n",
        "    0.6250000000    0.2500000000    0.6250000000\n",
        "    0.5000000000    0.0000000000    0.5000000000\n",
        " iscf3 -2\n",
        " ndivsm3 2\n"
       ]
      }
     ],
     "prompt_number": 22
    }
   ],
   "metadata": {}
  }
 ]
}