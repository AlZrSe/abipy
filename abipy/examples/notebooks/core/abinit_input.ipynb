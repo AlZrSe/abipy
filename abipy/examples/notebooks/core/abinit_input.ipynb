{
 "cells": [
  {
   "cell_type": "markdown",
   "metadata": {
    "deletable": true,
    "editable": true
   },
   "source": [
    "Back to the main [Index](../index.ipynb)"
   ]
  },
  {
   "cell_type": "markdown",
   "metadata": {
    "deletable": true,
    "editable": true
   },
   "source": [
    "# Creating an `AbinitInput` object"
   ]
  },
  {
   "cell_type": "markdown",
   "metadata": {
    "deletable": true,
    "editable": true
   },
   "source": [
    "The creation of the Abinit input file is one of the most repetive and error-prone operations we have to do before running our calculations.\n",
    "To facilitate the creation of the input file, one can use `AbinitInput`, a dict-like object \n",
    "that stores the Abinit variables and provides helper functions to automate the specification \n",
    "of multiple parameters\n",
    "\n",
    "The code below shows how to create an `AbiniInput` and how to define the parameters of the calculation."
   ]
  },
  {
   "cell_type": "code",
   "execution_count": 3,
   "metadata": {
    "collapsed": false,
    "deletable": true,
    "editable": true
   },
   "outputs": [],
   "source": [
    "from __future__ import division, print_function, unicode_literals\n",
    "\n",
    "import abipy.data as abidata\n",
    "import abipy.abilab as abilab\n",
    "from abipy.abilab import AbinitInput\n",
    "\n",
    "# To create an ABINIT input we must specify the paths of the pseudopotential files.\n",
    "# In this case, we have a pseudo named `14si.pspnc` located in the abidata.pseudo_dir directory.\n",
    "inp = AbinitInput(structure=abidata.cif_file(\"si.cif\"), \n",
    "                  pseudos=\"14si.pspnc\", pseudo_dir=abidata.pseudo_dir)"
   ]
  },
  {
   "cell_type": "code",
   "execution_count": 4,
   "metadata": {
    "collapsed": false
   },
   "outputs": [
    {
     "name": "stdout",
     "output_type": "stream",
     "text": [
      "############################################################################################\n",
      "#                                         STRUCTURE                                         \n",
      "############################################################################################\n",
      " acell    1.0    1.0    1.0\n",
      " xred\n",
      "    0.0000000000    0.0000000000    0.0000000000\n",
      "    0.2500000000    0.2500000000    0.2500000000\n",
      " rprim\n",
      "    6.3285005272    0.0000000000    3.6537614829\n",
      "    2.1095001757    5.9665675167    3.6537614829\n",
      "    0.0000000000    0.0000000000    7.3075229659\n",
      " typat 1 1\n",
      " natom 2\n",
      " ntypat 1\n",
      " znucl 14\n",
      "\n",
      "\n",
      "#<JSON>\n",
      "#{\n",
      "#    \"pseudos\": [\n",
      "#        {\n",
      "#            \"l_max\": 2, \n",
      "#            \"Z_val\": 4.0, \n",
      "#            \"filepath\": \"/Users/gmatteo/git_repos/abipy/abipy/data/pseudos/14si.pspnc\", \n",
      "#            \"symbol\": \"Si\", \n",
      "#            \"@module\": \"pymatgen.io.abinit.pseudos\", \n",
      "#            \"Z\": 14, \n",
      "#            \"type\": \"NcAbinitPseudo\", \n",
      "#            \"basename\": \"14si.pspnc\", \n",
      "#            \"@class\": \"NcAbinitPseudo\", \n",
      "#            \"md5\": \"3916b143991b1cfa1542b130be320e5e\"\n",
      "#        }\n",
      "#    ]\n",
      "#}\n",
      "#</JSON>\n"
     ]
    }
   ],
   "source": [
    "# print will return a string with our input. In this case, the input is empty since \n",
    "# only the pseudos have been specified\n",
    "print(inp)"
   ]
  },
  {
   "cell_type": "markdown",
   "metadata": {
    "deletable": true,
    "editable": true
   },
   "source": [
    "#### The function `set_vars` allows one to set the value of multiple variable with a single call"
   ]
  },
  {
   "cell_type": "code",
   "execution_count": 5,
   "metadata": {
    "collapsed": false,
    "deletable": true,
    "editable": true
   },
   "outputs": [
    {
     "data": {
      "text/plain": [
       "{'ecut': 8, 'paral_kgb': 0}"
      ]
     },
     "execution_count": 5,
     "metadata": {},
     "output_type": "execute_result"
    }
   ],
   "source": [
    "inp.set_vars(ecut=8, paral_kgb=0)"
   ]
  },
  {
   "cell_type": "markdown",
   "metadata": {
    "deletable": true,
    "editable": true
   },
   "source": [
    "#### `AbinitInput` is a dict-like object, hence one can test for the presence of a variable in the input:"
   ]
  },
  {
   "cell_type": "code",
   "execution_count": 6,
   "metadata": {
    "collapsed": false,
    "deletable": true,
    "editable": true
   },
   "outputs": [
    {
     "data": {
      "text/plain": [
       "True"
      ]
     },
     "execution_count": 6,
     "metadata": {},
     "output_type": "execute_result"
    }
   ],
   "source": [
    "\"ecut\" in inp"
   ]
  },
  {
   "cell_type": "markdown",
   "metadata": {
    "deletable": true,
    "editable": true
   },
   "source": [
    "#### List all the variables that have been defined:"
   ]
  },
  {
   "cell_type": "code",
   "execution_count": 7,
   "metadata": {
    "collapsed": false,
    "deletable": true,
    "editable": true
   },
   "outputs": [
    {
     "data": {
      "text/plain": [
       "['ecut', 'paral_kgb']"
      ]
     },
     "execution_count": 7,
     "metadata": {},
     "output_type": "execute_result"
    }
   ],
   "source": [
    "list(inp.keys())"
   ]
  },
  {
   "cell_type": "markdown",
   "metadata": {
    "deletable": true,
    "editable": true
   },
   "source": [
    "Access the value of a particular variable with the syntax"
   ]
  },
  {
   "cell_type": "code",
   "execution_count": 8,
   "metadata": {
    "collapsed": false,
    "deletable": true,
    "editable": true
   },
   "outputs": [
    {
     "data": {
      "text/plain": [
       "8"
      ]
     },
     "execution_count": 8,
     "metadata": {},
     "output_type": "execute_result"
    }
   ],
   "source": [
    "inp[\"ecut\"]"
   ]
  },
  {
   "cell_type": "markdown",
   "metadata": {
    "deletable": true,
    "editable": true
   },
   "source": [
    "Iterate over keywords and values:"
   ]
  },
  {
   "cell_type": "code",
   "execution_count": 9,
   "metadata": {
    "collapsed": false,
    "deletable": true,
    "editable": true
   },
   "outputs": [
    {
     "name": "stdout",
     "output_type": "stream",
     "text": [
      "ecut --> 8\n",
      "paral_kgb --> 0\n"
     ]
    }
   ],
   "source": [
    "for varname, varvalue in inp.items(): \n",
    "    print(varname, \"-->\", varvalue)"
   ]
  },
  {
   "cell_type": "markdown",
   "metadata": {
    "deletable": true,
    "editable": true
   },
   "source": [
    "Use lists, tuples or numpy arrays when abinit expects arrays"
   ]
  },
  {
   "cell_type": "code",
   "execution_count": 10,
   "metadata": {
    "collapsed": false,
    "deletable": true,
    "editable": true
   },
   "outputs": [
    {
     "name": "stdout",
     "output_type": "stream",
     "text": [
      "############################################################################################\n",
      "#                                      SECTION: varbas                                      \n",
      "############################################################################################\n",
      " ecut 8\n",
      " kptopt 1\n",
      " shiftk\n",
      "    0.0    0.0    0.0\n",
      "    0.5    0.5    0.5\n",
      " ngkpt 2 2 2\n",
      " nshiftk 2\n",
      "############################################################################################\n",
      "#                                      SECTION: vardev                                      \n",
      "############################################################################################\n",
      " istwfk *1\n",
      "############################################################################################\n",
      "#                                      SECTION: varpar                                      \n",
      "############################################################################################\n",
      " paral_kgb 0\n",
      "############################################################################################\n",
      "#                                         STRUCTURE                                         \n",
      "############################################################################################\n",
      " acell    1.0    1.0    1.0\n",
      " xred\n",
      "    0.0000000000    0.0000000000    0.0000000000\n",
      "    0.2500000000    0.2500000000    0.2500000000\n",
      " rprim\n",
      "    6.3285005272    0.0000000000    3.6537614829\n",
      "    2.1095001757    5.9665675167    3.6537614829\n",
      "    0.0000000000    0.0000000000    7.3075229659\n",
      " typat 1 1\n",
      " natom 2\n",
      " ntypat 1\n",
      " znucl 14\n",
      "\n",
      "\n",
      "#<JSON>\n",
      "#{\n",
      "#    \"pseudos\": [\n",
      "#        {\n",
      "#            \"l_max\": 2, \n",
      "#            \"Z_val\": 4.0, \n",
      "#            \"filepath\": \"/Users/gmatteo/git_repos/abipy/abipy/data/pseudos/14si.pspnc\", \n",
      "#            \"symbol\": \"Si\", \n",
      "#            \"@module\": \"pymatgen.io.abinit.pseudos\", \n",
      "#            \"Z\": 14, \n",
      "#            \"type\": \"NcAbinitPseudo\", \n",
      "#            \"basename\": \"14si.pspnc\", \n",
      "#            \"@class\": \"NcAbinitPseudo\", \n",
      "#            \"md5\": \"3916b143991b1cfa1542b130be320e5e\"\n",
      "#        }\n",
      "#    ]\n",
      "#}\n",
      "#</JSON>\n"
     ]
    }
   ],
   "source": [
    "inp.set_vars(kptopt=1, \n",
    "             ngkpt=[2, 2, 2], \n",
    "             nshiftk=2, \n",
    "             shiftk=[0.0, 0.0, 0.0, 0.5, 0.5, 0.5]  # 2 shifts in one list\n",
    "            )\n",
    "\n",
    "# It's possible to use strings but use them only for special cases such as:\n",
    "inp[\"istwfk\"] = \"*1\"\n",
    "print(inp)"
   ]
  },
  {
   "cell_type": "markdown",
   "metadata": {
    "deletable": true,
    "editable": true
   },
   "source": [
    "If you mistype the name of the variable, `AbinitInput` raises an error:"
   ]
  },
  {
   "cell_type": "code",
   "execution_count": 11,
   "metadata": {
    "collapsed": false,
    "deletable": true,
    "editable": true
   },
   "outputs": [
    {
     "ename": "AbinitInputError",
     "evalue": "perl is not a valid ABINIT variable.\nIf the name is correct, try to remove ~/.abinit/abipy/abinit_vars.pickle\nand rerun the code. If the problems persists, contact the abipy developers\nor add the variable to ~abipy/data/variables/abinit_vars.json\n",
     "output_type": "error",
     "traceback": [
      "\u001b[0;31m---------------------------------------------------------------------------\u001b[0m",
      "\u001b[0;31mAbinitInputError\u001b[0m                          Traceback (most recent call last)",
      "\u001b[0;32m<ipython-input-11-7e364d647596>\u001b[0m in \u001b[0;36m<module>\u001b[0;34m()\u001b[0m\n\u001b[0;32m----> 1\u001b[0;31m \u001b[0minp\u001b[0m\u001b[0;34m.\u001b[0m\u001b[0mset_vars\u001b[0m\u001b[0;34m(\u001b[0m\u001b[0mperl\u001b[0m\u001b[0;34m=\u001b[0m\u001b[0;36m0\u001b[0m\u001b[0;34m)\u001b[0m\u001b[0;34m\u001b[0m\u001b[0m\n\u001b[0m",
      "\u001b[0;32m/Users/gmatteo/git_repos/abipy/abipy/abio/inputs.pyc\u001b[0m in \u001b[0;36mset_vars\u001b[0;34m(self, *args, **kwargs)\u001b[0m\n\u001b[1;32m    149\u001b[0m         \u001b[0mkwargs\u001b[0m\u001b[0;34m.\u001b[0m\u001b[0mupdate\u001b[0m\u001b[0;34m(\u001b[0m\u001b[0mdict\u001b[0m\u001b[0;34m(\u001b[0m\u001b[0;34m*\u001b[0m\u001b[0margs\u001b[0m\u001b[0;34m)\u001b[0m\u001b[0;34m)\u001b[0m\u001b[0;34m\u001b[0m\u001b[0m\n\u001b[1;32m    150\u001b[0m         \u001b[0;32mfor\u001b[0m \u001b[0mvarname\u001b[0m\u001b[0;34m,\u001b[0m \u001b[0mvarvalue\u001b[0m \u001b[0;32min\u001b[0m \u001b[0mkwargs\u001b[0m\u001b[0;34m.\u001b[0m\u001b[0mitems\u001b[0m\u001b[0;34m(\u001b[0m\u001b[0;34m)\u001b[0m\u001b[0;34m:\u001b[0m\u001b[0;34m\u001b[0m\u001b[0m\n\u001b[0;32m--> 151\u001b[0;31m             \u001b[0mself\u001b[0m\u001b[0;34m[\u001b[0m\u001b[0mvarname\u001b[0m\u001b[0;34m]\u001b[0m \u001b[0;34m=\u001b[0m \u001b[0mvarvalue\u001b[0m\u001b[0;34m\u001b[0m\u001b[0m\n\u001b[0m\u001b[1;32m    152\u001b[0m         \u001b[0;32mreturn\u001b[0m \u001b[0mkwargs\u001b[0m\u001b[0;34m\u001b[0m\u001b[0m\n\u001b[1;32m    153\u001b[0m \u001b[0;34m\u001b[0m\u001b[0m\n",
      "\u001b[0;32m/Users/gmatteo/git_repos/abipy/abipy/abio/inputs.pyc\u001b[0m in \u001b[0;36m__setitem__\u001b[0;34m(self, key, value)\u001b[0m\n\u001b[1;32m    384\u001b[0m                         .format(self.remove_vars(_TOLVARS_SCF, strict=False)))\n\u001b[1;32m    385\u001b[0m \u001b[0;34m\u001b[0m\u001b[0m\n\u001b[0;32m--> 386\u001b[0;31m         \u001b[0;32mreturn\u001b[0m \u001b[0msuper\u001b[0m\u001b[0;34m(\u001b[0m\u001b[0mAbinitInput\u001b[0m\u001b[0;34m,\u001b[0m \u001b[0mself\u001b[0m\u001b[0;34m)\u001b[0m\u001b[0;34m.\u001b[0m\u001b[0m__setitem__\u001b[0m\u001b[0;34m(\u001b[0m\u001b[0mkey\u001b[0m\u001b[0;34m,\u001b[0m \u001b[0mvalue\u001b[0m\u001b[0;34m)\u001b[0m\u001b[0;34m\u001b[0m\u001b[0m\n\u001b[0m\u001b[1;32m    387\u001b[0m \u001b[0;34m\u001b[0m\u001b[0m\n\u001b[1;32m    388\u001b[0m     \u001b[0;32mdef\u001b[0m \u001b[0m_check_varname\u001b[0m\u001b[0;34m(\u001b[0m\u001b[0mself\u001b[0m\u001b[0;34m,\u001b[0m \u001b[0mkey\u001b[0m\u001b[0;34m)\u001b[0m\u001b[0;34m:\u001b[0m\u001b[0;34m\u001b[0m\u001b[0m\n",
      "\u001b[0;32m/Users/gmatteo/git_repos/abipy/abipy/abio/inputs.pyc\u001b[0m in \u001b[0;36m__setitem__\u001b[0;34m(self, key, value)\u001b[0m\n\u001b[1;32m    114\u001b[0m \u001b[0;34m\u001b[0m\u001b[0m\n\u001b[1;32m    115\u001b[0m     \u001b[0;32mdef\u001b[0m \u001b[0m__setitem__\u001b[0m\u001b[0;34m(\u001b[0m\u001b[0mself\u001b[0m\u001b[0;34m,\u001b[0m \u001b[0mkey\u001b[0m\u001b[0;34m,\u001b[0m \u001b[0mvalue\u001b[0m\u001b[0;34m)\u001b[0m\u001b[0;34m:\u001b[0m\u001b[0;34m\u001b[0m\u001b[0m\n\u001b[0;32m--> 116\u001b[0;31m         \u001b[0mself\u001b[0m\u001b[0;34m.\u001b[0m\u001b[0m_check_varname\u001b[0m\u001b[0;34m(\u001b[0m\u001b[0mkey\u001b[0m\u001b[0;34m)\u001b[0m\u001b[0;34m\u001b[0m\u001b[0m\n\u001b[0m\u001b[1;32m    117\u001b[0m         \u001b[0;32mreturn\u001b[0m \u001b[0mself\u001b[0m\u001b[0;34m.\u001b[0m\u001b[0mvars\u001b[0m\u001b[0;34m.\u001b[0m\u001b[0m__setitem__\u001b[0m\u001b[0;34m(\u001b[0m\u001b[0mkey\u001b[0m\u001b[0;34m,\u001b[0m \u001b[0mvalue\u001b[0m\u001b[0;34m)\u001b[0m\u001b[0;34m\u001b[0m\u001b[0m\n\u001b[1;32m    118\u001b[0m \u001b[0;34m\u001b[0m\u001b[0m\n",
      "\u001b[0;32m/Users/gmatteo/git_repos/abipy/abipy/abio/inputs.pyc\u001b[0m in \u001b[0;36m_check_varname\u001b[0;34m(self, key)\u001b[0m\n\u001b[1;32m    389\u001b[0m         \u001b[0;32mif\u001b[0m \u001b[0;32mnot\u001b[0m \u001b[0mis_abivar\u001b[0m\u001b[0;34m(\u001b[0m\u001b[0mkey\u001b[0m\u001b[0;34m)\u001b[0m\u001b[0;34m:\u001b[0m\u001b[0;34m\u001b[0m\u001b[0m\n\u001b[1;32m    390\u001b[0m             raise self.Error(\"%s is not a valid ABINIT variable.\\n\" % key +\n\u001b[0;32m--> 391\u001b[0;31m                              \u001b[0;34m\"If the name is correct, try to remove ~/.abinit/abipy/abinit_vars.pickle\\n\"\u001b[0m\u001b[0;34m\u001b[0m\u001b[0m\n\u001b[0m\u001b[1;32m    392\u001b[0m                              \u001b[0;34m\"and rerun the code. If the problems persists, contact the abipy developers\\n\"\u001b[0m\u001b[0;34m\u001b[0m\u001b[0m\n\u001b[1;32m    393\u001b[0m                              \"or add the variable to ~abipy/data/variables/abinit_vars.json\\n\")\n",
      "\u001b[0;31mAbinitInputError\u001b[0m: perl is not a valid ABINIT variable.\nIf the name is correct, try to remove ~/.abinit/abipy/abinit_vars.pickle\nand rerun the code. If the problems persists, contact the abipy developers\nor add the variable to ~abipy/data/variables/abinit_vars.json\n"
     ]
    }
   ],
   "source": [
    "inp.set_vars(perl=0)"
   ]
  },
  {
   "cell_type": "markdown",
   "metadata": {
    "deletable": true,
    "editable": true
   },
   "source": [
    "# Defining the crystalline structure"
   ]
  },
  {
   "cell_type": "markdown",
   "metadata": {
    "deletable": true,
    "editable": true
   },
   "source": [
    "The `set_structure` method sets the value of the ABINIT variables:\n",
    "    \n",
    "   * acell\n",
    "   * rprim\n",
    "   * ntypat\n",
    "   * natom \n",
    "   * typat\n",
    "   * znucl\n",
    "   * xred\n",
    "    \n",
    "It is always a good idea to set the structure immediately after the creation of `AbinitInput`\n",
    "because several methods use this information to faciliate the specification of other variables \n",
    "For example, the `set_kpath` method use the structure to generate the $k$-path for band structure calculations.\n",
    "\n",
    "<div class=\"alert alert\">\n",
    "`typat` must be consistent with the list of pseudopotentials passed to `AbinitInput`\n",
    "</div>\n",
    "\n",
    "`set_structure` accepts either a dictionary with the ABINIT variables or an external file. "
   ]
  },
  {
   "cell_type": "markdown",
   "metadata": {
    "deletable": true,
    "editable": true
   },
   "source": [
    "### From dictionary:"
   ]
  },
  {
   "cell_type": "code",
   "execution_count": 12,
   "metadata": {
    "collapsed": true,
    "deletable": true,
    "editable": true
   },
   "outputs": [],
   "source": [
    "structure = dict(\n",
    "    ntypat=1,         \n",
    "    natom=2,\n",
    "    typat=[1, 1],\n",
    "    znucl=14,\n",
    "    acell=3*[10.217],\n",
    "    rprim=[[0.0,  0.5,  0.5],   \n",
    "           [0.5,  0.0,  0.5],\n",
    "           [0.5,  0.5,  0.0]],\n",
    "    xred=[[0.0 , 0.0 , 0.0],\n",
    "          [0.25, 0.25, 0.25]]\n",
    ")\n",
    "\n",
    "inp = AbinitInput(structure, pseudos=abidata.pseudos(\"14si.pspnc\"))"
   ]
  },
  {
   "cell_type": "markdown",
   "metadata": {
    "deletable": true,
    "editable": true
   },
   "source": [
    "### From file"
   ]
  },
  {
   "cell_type": "code",
   "execution_count": 13,
   "metadata": {
    "collapsed": false,
    "deletable": true,
    "editable": true
   },
   "outputs": [
    {
     "data": {
      "text/html": [
       "\n",
       "<div id=\"jsmolapp_id222413328696524799275309819509656755475\" class=jsmolapp_div></div>\n",
       "\n",
       "<script type=\"text/javascript\" src=\"nbjsmol/jsmol/JSmol.min.js\"></script>\n",
       "\n",
       "<script type=\"text/javascript\">\n",
       "$(\"#jsmolapp_id222413328696524799275309819509656755475\").ready(function() {\n",
       "\n",
       "    Info = {\n",
       "        antialiasDisplay: true,\n",
       "        //disableJ2SLoadMonitor: true,\n",
       "        width: 500,\n",
       "        height: 500,\n",
       "        color: \"black\",\n",
       "        //addSelectionOptions: true,\n",
       "        serverURL: \"nbjsmol/jsmol/php/jsmol.php\",\n",
       "        script: \"load ipynb_jsmoldata/tmpUu6Eqf.cif;\",\n",
       "        //src: \"ipynb_jsmoldata/tmpUu6Eqf.cif\",\n",
       "        use: \"HTML5\",\n",
       "        j2sPath: \"nbjsmol/jsmol/j2s\",  // only used in the HTML5 modality\n",
       "        //readyFunction: null,\n",
       "        //bondWidth: 4,\n",
       "        //pinchScaling: 2.0,\n",
       "        //multipleBondSpacing: 4,\n",
       "        spin: false,\n",
       "        disableInitialConsole: true,\n",
       "        disableJ2SLoadMonitor: true,\n",
       "        debug: false\n",
       "    },\n",
       "\n",
       "  $(\"#jsmolapp_id222413328696524799275309819509656755475\").html(Jmol.getAppletHtml(\"jsmolapp_id222413328696524799275309819509656755475\", Info));\n",
       "});\n",
       "</script>\n",
       "\n",
       "<style>\n",
       "#jsmolapp_id222413328696524799275309819509656755475 {\n",
       "    width: 50%;\n",
       "    margin: 0 auto;\n",
       "}\n",
       "</style>\n"
      ],
      "text/plain": [
       "Structure Summary\n",
       "Lattice\n",
       "    abc : 3.8669746352064829 3.8669746352113457 3.8669746351893135\n",
       " angles : 60.000000000188479 60.000000000146869 60.000000000400874\n",
       " volume : 40.888292275933381\n",
       "      A : 3.3488982698838332 0.0 1.9334873175946568\n",
       "      B : 1.1162994232769716 3.157371568197199 1.9334873175946568\n",
       "      C : 0.0 0.0 3.8669746351893135\n",
       "PeriodicSite: Si (0.0000, 0.0000, 0.0000) [0.0000, 0.0000, 0.0000]\n",
       "PeriodicSite: Si (1.1163, 0.7893, 1.9335) [0.2500, 0.2500, 0.2500]"
      ]
     },
     "execution_count": 13,
     "metadata": {},
     "output_type": "execute_result"
    }
   ],
   "source": [
    "# from a CIF file\n",
    "inp.set_structure(abidata.cif_file(\"si.cif\"))\n",
    "\n",
    "# or from a Netcdf file produced by ABINIT\n",
    "inp.set_structure(abidata.ref_file(\"si_scf_GSR.nc\"))"
   ]
  },
  {
   "cell_type": "markdown",
   "metadata": {
    "deletable": true,
    "editable": true
   },
   "source": [
    "Supported formats include:\n",
    "\n",
    "   * CIF\n",
    "   * POSCAR/CONTCAR\n",
    "   * CHGCAR \n",
    "   * LOCPOT,\n",
    "   * vasprun.xml\n",
    "   * CSSR \n",
    "   * ABINIT Netcdf \n",
    "   * pymatgen's JSON serialized structures"
   ]
  },
  {
   "cell_type": "markdown",
   "metadata": {
    "deletable": true,
    "editable": true
   },
   "source": [
    "## From the Materials Project database:"
   ]
  },
  {
   "cell_type": "code",
   "execution_count": 14,
   "metadata": {
    "collapsed": false,
    "deletable": true,
    "editable": true
   },
   "outputs": [
    {
     "data": {
      "text/html": [
       "\n",
       "<div id=\"jsmolapp_id27430614944353175460600939446254390557\" class=jsmolapp_div></div>\n",
       "\n",
       "<script type=\"text/javascript\" src=\"nbjsmol/jsmol/JSmol.min.js\"></script>\n",
       "\n",
       "<script type=\"text/javascript\">\n",
       "$(\"#jsmolapp_id27430614944353175460600939446254390557\").ready(function() {\n",
       "\n",
       "    Info = {\n",
       "        antialiasDisplay: true,\n",
       "        //disableJ2SLoadMonitor: true,\n",
       "        width: 500,\n",
       "        height: 500,\n",
       "        color: \"black\",\n",
       "        //addSelectionOptions: true,\n",
       "        serverURL: \"nbjsmol/jsmol/php/jsmol.php\",\n",
       "        script: \"load ipynb_jsmoldata/tmpMmBfNP.cif;\",\n",
       "        //src: \"ipynb_jsmoldata/tmpMmBfNP.cif\",\n",
       "        use: \"HTML5\",\n",
       "        j2sPath: \"nbjsmol/jsmol/j2s\",  // only used in the HTML5 modality\n",
       "        //readyFunction: null,\n",
       "        //bondWidth: 4,\n",
       "        //pinchScaling: 2.0,\n",
       "        //multipleBondSpacing: 4,\n",
       "        spin: false,\n",
       "        disableInitialConsole: true,\n",
       "        disableJ2SLoadMonitor: true,\n",
       "        debug: false\n",
       "    },\n",
       "\n",
       "  $(\"#jsmolapp_id27430614944353175460600939446254390557\").html(Jmol.getAppletHtml(\"jsmolapp_id27430614944353175460600939446254390557\", Info));\n",
       "});\n",
       "</script>\n",
       "\n",
       "<style>\n",
       "#jsmolapp_id27430614944353175460600939446254390557 {\n",
       "    width: 50%;\n",
       "    margin: 0 auto;\n",
       "}\n",
       "</style>\n"
      ],
      "text/plain": [
       "Structure Summary\n",
       "Lattice\n",
       "    abc : 3.8669746228495039 3.866974623775052 3.8669746200000001\n",
       " angles : 60.000000032293386 60.000000024375858 60.000000024168102\n",
       " volume : 40.888291888494884\n",
       "      A : 3.3488982599999999 0.0 1.9334873100000001\n",
       "      B : 1.11629942 3.1573715600000001 1.9334873100000001\n",
       "      C : 0.0 0.0 3.8669746200000001\n",
       "PeriodicSite: Si (3.9070, 2.7627, 6.7672) [0.8750, 0.8750, 0.8750]\n",
       "PeriodicSite: Si (0.5581, 0.3947, 0.9667) [0.1250, 0.1250, 0.1250]"
      ]
     },
     "execution_count": 14,
     "metadata": {},
     "output_type": "execute_result"
    }
   ],
   "source": [
    "# https://www.materialsproject.org/materials/mp-149/\n",
    "inp.set_structure(abilab.Structure.from_material_id(\"mp-149\"))"
   ]
  },
  {
   "cell_type": "markdown",
   "metadata": {
    "deletable": true,
    "editable": true
   },
   "source": [
    "Note that you can avoid the call to `set_structure` if the `structure` argument is passed to \n",
    "`AbiInput`:"
   ]
  },
  {
   "cell_type": "code",
   "execution_count": 15,
   "metadata": {
    "collapsed": false,
    "deletable": true,
    "editable": true
   },
   "outputs": [
    {
     "data": {
      "text/plain": [
       "<AbinitInput at 4578295120>"
      ]
     },
     "execution_count": 15,
     "metadata": {},
     "output_type": "execute_result"
    }
   ],
   "source": [
    "AbinitInput(structure=abidata.cif_file(\"si.cif\"), pseudos=abidata.pseudos(\"14si.pspnc\"))"
   ]
  },
  {
   "cell_type": "markdown",
   "metadata": {
    "deletable": true,
    "editable": true
   },
   "source": [
    "## Brillouin zone sampling"
   ]
  },
  {
   "cell_type": "markdown",
   "metadata": {
    "deletable": true,
    "editable": true
   },
   "source": [
    "There are two different types of sampling of the BZ: homogeneous and high-symmetry k-path.\n",
    "The later is mainly used for band structure calculations and requires the specification of: \n",
    "\n",
    "   * kptopt\n",
    "   * kptbounds\n",
    "   * ndivsm\n",
    "    \n",
    "whereas the homogeneous sampling is needed for all the calculations in which \n",
    "we have to compute integrals in the Brillouin zone e.g. total energy calculations, DOS, etc.\n",
    "The $k$-mesh is usually specified via:\n",
    "\n",
    "   * ngkpt\n",
    "   * nshiftk\n",
    "   * shiftk"
   ]
  },
  {
   "cell_type": "markdown",
   "metadata": {
    "deletable": true,
    "editable": true
   },
   "source": [
    "### Explicit $k$-mesh"
   ]
  },
  {
   "cell_type": "code",
   "execution_count": 16,
   "metadata": {
    "collapsed": false,
    "deletable": true,
    "editable": true
   },
   "outputs": [
    {
     "data": {
      "text/plain": [
       "{'kptopt': 1,\n",
       " 'ngkpt': (1, 2, 3),\n",
       " 'nshiftk': 2,\n",
       " 'shiftk': array([[ 0. ,  0. ,  0. ],\n",
       "        [ 0.5,  0.5,  0.5]])}"
      ]
     },
     "execution_count": 16,
     "metadata": {},
     "output_type": "execute_result"
    }
   ],
   "source": [
    "inp = AbinitInput(structure=abidata.cif_file(\"si.cif\"), pseudos=abidata.pseudos(\"14si.pspnc\"))\n",
    "\n",
    "# Set ngkpt, shiftk explictly  \n",
    "inp.set_kmesh(ngkpt=(1, 2, 3), shiftk=[0.0, 0.0, 0.0, 0.5, 0.5, 0.5])"
   ]
  },
  {
   "cell_type": "markdown",
   "metadata": {
    "deletable": true,
    "editable": true
   },
   "source": [
    "### Automatic $k$-mesh "
   ]
  },
  {
   "cell_type": "code",
   "execution_count": 17,
   "metadata": {
    "collapsed": false,
    "deletable": true,
    "editable": true
   },
   "outputs": [
    {
     "data": {
      "text/plain": [
       "{'kptopt': 1,\n",
       " 'ngkpt': array([4, 4, 4]),\n",
       " 'nshiftk': 4,\n",
       " 'shiftk': array([[ 0.5,  0.5,  0.5],\n",
       "        [ 0.5,  0. ,  0. ],\n",
       "        [ 0. ,  0.5,  0. ],\n",
       "        [ 0. ,  0. ,  0.5]])}"
      ]
     },
     "execution_count": 17,
     "metadata": {},
     "output_type": "execute_result"
    }
   ],
   "source": [
    "# Define a homogeneous k-mesh. \n",
    "# nksmall is the number of divisions to be used to sample the smallest lattice vector,\n",
    "# shiftk is automatically selected from an internal database.\n",
    "inp.set_autokmesh(nksmall=4)"
   ]
  },
  {
   "cell_type": "markdown",
   "metadata": {
    "deletable": true,
    "editable": true
   },
   "source": [
    "### High-symmetry $k$-path"
   ]
  },
  {
   "cell_type": "code",
   "execution_count": 18,
   "metadata": {
    "collapsed": false,
    "deletable": true,
    "editable": true
   },
   "outputs": [
    {
     "data": {
      "text/plain": [
       "{'iscf': -2, 'kptbounds': array([[ 0.   ,  0.   ,  0.   ],\n",
       "        [ 0.5  ,  0.   ,  0.5  ],\n",
       "        [ 0.5  ,  0.25 ,  0.75 ],\n",
       "        [ 0.375,  0.375,  0.75 ],\n",
       "        [ 0.   ,  0.   ,  0.   ],\n",
       "        [ 0.5  ,  0.5  ,  0.5  ],\n",
       "        [ 0.625,  0.25 ,  0.625],\n",
       "        [ 0.5  ,  0.25 ,  0.75 ],\n",
       "        [ 0.5  ,  0.5  ,  0.5  ],\n",
       "        [ 0.375,  0.375,  0.75 ],\n",
       "        [ 0.625,  0.25 ,  0.625],\n",
       "        [ 0.5  ,  0.   ,  0.5  ]]), 'kptopt': -11, 'ndivsm': 10}"
      ]
     },
     "execution_count": 18,
     "metadata": {},
     "output_type": "execute_result"
    }
   ],
   "source": [
    "# Generate a high-symmetry k-path (taken from an internal database)\n",
    "# 2 points are used to sample the smallest segment, \n",
    "# the other segments are sampled so that proportions are preserved.\n",
    "inp.set_kpath(ndivsm=10)"
   ]
  },
  {
   "cell_type": "markdown",
   "metadata": {
    "deletable": true,
    "editable": true
   },
   "source": [
    "# Utilities"
   ]
  },
  {
   "cell_type": "markdown",
   "metadata": {
    "deletable": true,
    "editable": true
   },
   "source": [
    "### Once the structure has been defined, one can compute the number of valence electrons with:"
   ]
  },
  {
   "cell_type": "code",
   "execution_count": 19,
   "metadata": {
    "collapsed": false,
    "deletable": true,
    "editable": true
   },
   "outputs": [
    {
     "name": "stdout",
     "output_type": "stream",
     "text": [
      "The number of valence electrons is:  8.0\n"
     ]
    }
   ],
   "source": [
    "print(\"The number of valence electrons is: \", inp.num_valence_electrons)"
   ]
  },
  {
   "cell_type": "markdown",
   "metadata": {
    "deletable": true,
    "editable": true
   },
   "source": [
    "### Generating inputs for convergence studies"
   ]
  },
  {
   "cell_type": "code",
   "execution_count": 20,
   "metadata": {
    "collapsed": false,
    "deletable": true,
    "editable": true
   },
   "outputs": [
    {
     "name": "stdout",
     "output_type": "stream",
     "text": [
      "[2, 4]\n"
     ]
    }
   ],
   "source": [
    "# When using a non-integer step, such as 0.1, the results will often not\n",
    "# be consistent.  It is better to use ``linspace`` for these cases.\n",
    "# See also numpy.arange and numpy.linspace\n",
    "ecut_inps = inp.arange(\"ecut\", start=2, stop=5, step=2)\n",
    "\n",
    "print([i[\"ecut\"] for i in ecut_inps])"
   ]
  },
  {
   "cell_type": "code",
   "execution_count": 21,
   "metadata": {
    "collapsed": false,
    "deletable": true,
    "editable": true
   },
   "outputs": [
    {
     "name": "stdout",
     "output_type": "stream",
     "text": [
      "[0.001, 0.002, 0.0030000000000000001]\n"
     ]
    }
   ],
   "source": [
    "tsmear_inps = inp.linspace(\"tsmear\", start=0.001, stop=0.003, num=3)\n",
    "print([i[\"tsmear\"] for i in tsmear_inps])"
   ]
  },
  {
   "cell_type": "markdown",
   "metadata": {
    "deletable": true,
    "editable": true
   },
   "source": [
    "# Invoking Abinit with AbinitInput"
   ]
  },
  {
   "cell_type": "markdown",
   "metadata": {
    "deletable": true,
    "editable": true
   },
   "source": [
    "Once you have an `AbinitInput` you can call Abinit to get useful information \n",
    "or simply to validate the input file before running the real calculation.\n",
    "All the method that invoke Abinit starts with `abi` e.g. `abiget` or `abivalidate`."
   ]
  },
  {
   "cell_type": "code",
   "execution_count": 22,
   "metadata": {
    "collapsed": false,
    "deletable": true,
    "editable": true
   },
   "outputs": [
    {
     "name": "stdout",
     "output_type": "stream",
     "text": [
      "  ABINIT 8.3.1\n",
      "  \n",
      "  Give name for formatted input file: \n",
      "/var/folders/89/47k8wfdj11x035svqf8qnl4m0000gn/T/tmpPVh_EB/run.abi\n",
      "  Give name for formatted output file:\n",
      "/var/folders/89/47k8wfdj11x035svqf8qnl4m0000gn/T/tmpPVh_EB/run.abo\n",
      "  Give root name for generic input files:\n",
      "/var/folders/89/47k8wfdj11x035svqf8qnl4m0000gn/T/tmpPVh_EB/indata/in\n",
      "  Give root name for generic output files:\n",
      "/var/folders/89/47k8wfdj11x035svqf8qnl4m0000gn/T/tmpPVh_EB/outdata/out\n",
      "  Give root name for generic temporary files:\n",
      "/var/folders/89/47k8wfdj11x035svqf8qnl4m0000gn/T/tmpPVh_EB/tmpdata/tmp\n",
      "\n",
      ".Version 8.3.1 of ABINIT \n",
      ".(MPI version, prepared for a x86_64_darwin16.3.0_gnu6.0 computer) \n",
      "\n",
      ".Copyright (C) 1998-2016 ABINIT group . \n",
      " ABINIT comes with ABSOLUTELY NO WARRANTY.\n",
      " It is free software, and you are welcome to redistribute it\n",
      " under certain conditions (GNU General Public License,\n",
      " see ~abinit/COPYING or http://www.gnu.org/copyleft/gpl.txt).\n",
      "\n",
      " ABINIT is a project of the Universite Catholique de Louvain,\n",
      " Corning Inc. and other collaborators, see ~abinit/doc/developers/contributors.txt .\n",
      " Please read ~abinit/doc/users/acknowledgments.html for suggested\n",
      " acknowledgments of the ABINIT effort.\n",
      " For more information, see http://www.abinit.org .\n",
      "\n",
      ".Starting date : Mon 27 Feb 2017.\n",
      "- ( at 00h41 )\n",
      "  \n",
      "\n",
      " ++++++++++++++++++++++++++++++++++++++++++++++++++++++++++++++++++++++++++++++\n",
      "\n",
      " === Build Information === \n",
      "  Version       : 8.3.1\n",
      "  Build target  : x86_64_darwin16.3.0_gnu6.0\n",
      "  Build date    : 20170225\n",
      "\n",
      " === Compiler Suite === \n",
      "  C compiler       : gnu\n",
      "  C++ compiler     : gnuApple\n",
      "  Fortran compiler : gnu6.0\n",
      "  CFLAGS           :  -g -O2 -mtune=native -march=native\n",
      "  CXXFLAGS         :  -g -O2 -mtune=native -march=native\n",
      "  FCFLAGS          : -g -O2 --free-line-length-none\n",
      "  FC_LDFLAGS       : \n",
      "\n",
      " === Optimizations === \n",
      "  Debug level        : basic\n",
      "  Optimization level : standard\n",
      "  Architecture       : unknown_unknown\n",
      "\n",
      " === Multicore === \n",
      "  Parallel build : yes\n",
      "  Parallel I/O   : yes\n",
      "  openMP support : no\n",
      "  GPU support    : no\n",
      "\n",
      " === Connectors / Fallbacks === \n",
      "  Connectors on : yes\n",
      "  Fallbacks on  : yes\n",
      "  DFT flavor    : libxc-fallback+atompaw-fallback+wannier90-fallback\n",
      "  FFT flavor    : none\n",
      "  LINALG flavor : netlib\n",
      "  MATH flavor   : none\n",
      "  TIMER flavor  : abinit\n",
      "  TRIO flavor   : netcdf\n",
      "\n",
      " === Experimental features === \n",
      "  Bindings            : @enable_bindings@\n",
      "  Exports             : no\n",
      "  GW double-precision : yes\n",
      "\n",
      " ++++++++++++++++++++++++++++++++++++++++++++++++++++++++++++++++++++++++++++++\n",
      "\n",
      "\n",
      " ++++++++++++++++++++++++++++++++++++++++++++++++++++++++++++++++++++++++++++++\n",
      " Default optimizations:\n",
      "   --- None ---\n",
      "\n",
      "\n",
      " ++++++++++++++++++++++++++++++++++++++++++++++++++++++++++++++++++++++++++++++\n",
      "\n",
      "\n",
      " ++++++++++++++++++++++++++++++++++++++++++++++++++++++++++++++++++++++++++++++\n",
      " CPP options activated during the build:\n",
      "\n",
      "                    CC_GNU                   CXX_GNU                    FC_GNU\n",
      " \n",
      "              HAVE_ATOMPAW HAVE_FC_ALLOCATABLE_DT...             HAVE_FC_ASYNC\n",
      " \n",
      "         HAVE_FC_BACKTRACE  HAVE_FC_COMMAND_ARGUMENT      HAVE_FC_COMMAND_LINE\n",
      " \n",
      "        HAVE_FC_CONTIGUOUS           HAVE_FC_CPUTIME              HAVE_FC_EXIT\n",
      " \n",
      "             HAVE_FC_FLUSH             HAVE_FC_GAMMA            HAVE_FC_GETENV\n",
      " \n",
      "   HAVE_FC_IEEE_EXCEPTIONS          HAVE_FC_INT_QUAD             HAVE_FC_IOMSG\n",
      " \n",
      "     HAVE_FC_ISO_C_BINDING  HAVE_FC_ISO_FORTRAN_2008        HAVE_FC_LONG_LINES\n",
      " \n",
      "        HAVE_FC_MOVE_ALLOC           HAVE_FC_PRIVATE         HAVE_FC_PROTECTED\n",
      " \n",
      "         HAVE_FC_STREAM_IO            HAVE_FC_SYSTEM          HAVE_FORTRAN2003\n",
      " \n",
      "               HAVE_GW_DPC        HAVE_LIBPAW_ABINIT      HAVE_LIBTETRA_ABINIT\n",
      " \n",
      "                HAVE_LIBXC               HAVE_LINALG        HAVE_LINALG_SERIAL\n",
      " \n",
      "     HAVE_LINALG_ZDOTC_B*G     HAVE_LINALG_ZDOTU_B*G                  HAVE_MPI\n",
      " \n",
      "                 HAVE_MPI2       HAVE_MPI_IALLREDUCE        HAVE_MPI_IALLTOALL\n",
      " \n",
      "       HAVE_MPI_IALLTOALLV        HAVE_MPI_INTEGER16               HAVE_MPI_IO\n",
      " \n",
      " HAVE_MPI_TYPE_CREATE_S...               HAVE_NETCDF           HAVE_NETCDF_MPI\n",
      " \n",
      "         HAVE_TIMER_ABINIT            HAVE_WANNIER90              USE_MACROAVE\n",
      " \n",
      " ++++++++++++++++++++++++++++++++++++++++++++++++++++++++++++++++++++++++++++++\n",
      "\n",
      "- input  file    -> /var/folders/89/47k8wfdj11x035svqf8qnl4m0000gn/T/tmpPVh_EB/run.abi\n",
      "- output file    -> /var/folders/89/47k8wfdj11x035svqf8qnl4m0000gn/T/tmpPVh_EB/run.abo\n",
      "- root for input  files -> /var/folders/89/47k8wfdj11x035svqf8qnl4m0000gn/T/tmpPVh_EB/indata/in\n",
      "- root for output files -> /var/folders/89/47k8wfdj11x035svqf8qnl4m0000gn/T/tmpPVh_EB/outdata/out\n",
      "\n",
      "\n",
      "--- !WARNING\n",
      "src_file: m_nctk.F90\n",
      "src_line: 522\n",
      "message: |\n",
      "    netcdf lib does not support MPI-IO and: NetCDF: Parallel operation on file opened for non-parallel access\n",
      "...\n",
      "\n",
      "  Asked to delete not existent file: __TMP_FILE__\n",
      "\n",
      "--- !WARNING\n",
      "src_file: m_nctk.F90\n",
      "src_line: 542\n",
      "message: |\n",
      "    The netcdf library does not support parallel IO, see message above\n",
      "    Abinit won't be able to produce files in parallel e.g. when paral_kgb==1 is used.\n",
      "    Action: install a netcdf4+HDF5 library with MPI-IO support.\n",
      "...\n",
      "\n",
      "-instrng: 47 lines of input have been read from file /var/folders/89/47k8wfdj11x035svqf8qnl4m0000gn/T/tmpPVh_EB/run.abi\n",
      "\n",
      "\n",
      " Please give name of formatted atomic psp file\n",
      " iofn2 : for atom type 1, psp file is /Users/gmatteo/git_repos/abipy/abipy/data/pseudos/14si.pspnc\n",
      "  read the values zionpsp=  4.0 , pspcod=   1 , lmax=   2\n",
      "\n",
      " inpspheads: deduce mpsang = 3, n1xccc = 2501.\n",
      " invars1 : treat image number: 1\n",
      "\n",
      " symlatt : the Bravais lattice is cF (face-centered cubic)\n",
      "  xred   is defined in input file\n",
      " ingeo : takes atomic coordinates from input array xred\n",
      "\n",
      " symlatt : the Bravais lattice is cF (face-centered cubic)\n",
      "\n",
      " symlatt : the Bravais lattice is cF (face-centered cubic)\n",
      " symspgr : spgroup= 227  Fd -3 m   (=Oh^7)\n",
      " symspgr : optical characteristics = isotropic\n",
      " ingeo : angdeg(1:3)=   60.00000000   60.00000000   60.00000000\n",
      " invars2: take the default value of fband=  1.25000000E-01\n",
      " chkneu : initialized the occupation numbers for occopt=    1, spin-unpolarized or antiferromagnetic case :\n",
      "  2.00  2.00  2.00  2.00  0.00\n",
      "mpi_setup: mkmem  undefined in the input file.Use default mkmem  = nkpt\n",
      " mpi_setup: With nkpt_me=10 and mkmem  = 10, ground state wf handled in core.\n",
      "mpi_setup: mkqmem undefined in the input file.Use default mkqmem = nkpt\n",
      " mpi_setup: With nkpt_me=10 and mkqmem = 10, ground state wf handled in core.\n",
      "mpi_setup: mk1mem undefined in the input file.Use default mk1mem = nkpt\n",
      " mpi_setup: With nkpt_me=10 and mk1mem = 10, ground state wf handled in core.\n",
      " For input ecut= -2.000000E+00 best grid ngfft=       2       2       2\n",
      "       max ecut=  1.386183E-01\n",
      "\n",
      " ==== FFT mesh ====\n",
      "  FFT mesh divisions ........................     2    2    2\n",
      "  Augmented FFT divisions ...................     3    3    2\n",
      "  FFT algorithm .............................   112\n",
      "  FFT cache size ............................    16\n",
      " getmpw: optimal value of mpw= 0\n",
      "\n",
      " Symmetries : space group Fd -3 m (#227); Bravais cF (face-center cubic)\n",
      "\n",
      " getdim_nloc : deduce lmnmax  =   4, lnmax  =   2,\n",
      "                      lmnmaxso=   4, lnmaxso=   2.\n",
      "memory : analysis of memory needs\n",
      "================================================================================\n",
      " Values of the parameters that define the memory need of the present run\n",
      "     intxc =       0    ionmov =       0      iscf =       7    lmnmax =       2\n",
      "     lnmax =       2     mgfft =       2  mpssoang =       3    mqgrid =    3001\n",
      "     natom =       2  nloc_mem =       1    nspden =       1   nspinor =       1\n",
      "    nsppol =       1      nsym =      48    n1xccc =    2501    ntypat =       1\n",
      "    occopt =       1   xclevel =       1\n",
      "-    mband =           5        mffmem =           1         mkmem =          10\n",
      "       mpw =           0          nfft =           8          nkpt =          10\n",
      "================================================================================\n",
      "P This job should need less than                       0.610 Mbytes of memory.\n",
      "  Rough estimation (10% accuracy) of disk space for files :\n",
      "_ WF disk file :      0.002 Mbytes ; DEN or POT disk file :      0.002 Mbytes.\n",
      "================================================================================\n",
      "\n",
      " Biggest array : f_fftgr(disk), with      0.0030 MBytes.\n",
      " memana : allocated an array of      0.003 Mbytes, for testing purposes.\n",
      " memana: allocated       0.610Mbytes, for testing purposes. \n",
      " The job will continue.\n",
      "--------------------------------------------------------------------------------\n",
      "------------- Echo of variables that govern the present computation ------------\n",
      "--------------------------------------------------------------------------------\n",
      "-\n",
      "- outvars: echo of selected default values                                      \n",
      "-   iomode0 =  0 , fftalg0 =112 , wfoptalg0 =  0\n",
      "-\n",
      "- outvars: echo of global parameters not present in the input file              \n",
      "-  max_nthreads =    0\n",
      "-\n",
      " -outvars: echo values of preprocessed input variables --------\n",
      " \n",
      " These variables are accessible in NetCDF format (/var/folders/89/47k8wfdj11x035svqf8qnl4m0000gn/T/tmpPVh_EB/outdata/out_OUT.nc)\n",
      "\n",
      "            acell      1.0000000000E+00  1.0000000000E+00  1.0000000000E+00 Bohr\n",
      "              amu      2.80855000E+01\n",
      "             ecut     -2.00000000E+00 Hartree\n",
      "-          fftalg         112\n",
      "              kpt     -1.25000000E-01 -2.50000000E-01  0.00000000E+00\n",
      "                      -1.25000000E-01  5.00000000E-01  0.00000000E+00\n",
      "                      -2.50000000E-01 -3.75000000E-01  0.00000000E+00\n",
      "                      -1.25000000E-01 -3.75000000E-01  1.25000000E-01\n",
      "                      -1.25000000E-01  2.50000000E-01  0.00000000E+00\n",
      "                      -2.50000000E-01  3.75000000E-01  0.00000000E+00\n",
      "                      -3.75000000E-01  5.00000000E-01  0.00000000E+00\n",
      "                      -2.50000000E-01  5.00000000E-01  1.25000000E-01\n",
      "                      -1.25000000E-01  0.00000000E+00  0.00000000E+00\n",
      "                      -3.75000000E-01  0.00000000E+00  0.00000000E+00\n",
      "         kptrlatt        4   -4    4     -4    4    4     -4   -4    4\n",
      "          kptrlen      4.13375923E+01\n",
      "P           mkmem          10\n",
      "            natom           2\n",
      "            nband           5\n",
      "            ngfft           2       2       2\n",
      "             nkpt          10\n",
      "             nsym          48\n",
      "           ntypat           1\n",
      "              occ      2.000000  2.000000  2.000000  2.000000  0.000000\n",
      "            rprim      6.3285005272E+00  0.0000000000E+00  3.6537614829E+00\n",
      "                       2.1095001757E+00  5.9665675167E+00  3.6537614829E+00\n",
      "                       0.0000000000E+00  0.0000000000E+00  7.3075229659E+00\n",
      "           shiftk      5.00000000E-01  5.00000000E-01  5.00000000E-01\n",
      "          spgroup         227\n",
      "           symrel      1  0  0   0  1  0   0  0  1      -1  0  0   0 -1  0   0  0 -1\n",
      "                       0 -1  1   0 -1  0   1 -1  0       0  1 -1   0  1  0  -1  1  0\n",
      "                      -1  0  0  -1  0  1  -1  1  0       1  0  0   1  0 -1   1 -1  0\n",
      "                       0  1 -1   1  0 -1   0  0 -1       0 -1  1  -1  0  1   0  0  1\n",
      "                      -1  0  0  -1  1  0  -1  0  1       1  0  0   1 -1  0   1  0 -1\n",
      "                       0 -1  1   1 -1  0   0 -1  0       0  1 -1  -1  1  0   0  1  0\n",
      "                       1  0  0   0  0  1   0  1  0      -1  0  0   0  0 -1   0 -1  0\n",
      "                       0  1 -1   0  0 -1   1  0 -1       0 -1  1   0  0  1  -1  0  1\n",
      "                      -1  0  1  -1  1  0  -1  0  0       1  0 -1   1 -1  0   1  0  0\n",
      "                       0 -1  0   1 -1  0   0 -1  1       0  1  0  -1  1  0   0  1 -1\n",
      "                       1  0 -1   0  0 -1   0  1 -1      -1  0  1   0  0  1   0 -1  1\n",
      "                       0  1  0   0  0  1   1  0  0       0 -1  0   0  0 -1  -1  0  0\n",
      "                       1  0 -1   0  1 -1   0  0 -1      -1  0  1   0 -1  1   0  0  1\n",
      "                       0 -1  0   0 -1  1   1 -1  0       0  1  0   0  1 -1  -1  1  0\n",
      "                      -1  0  1  -1  0  0  -1  1  0       1  0 -1   1  0  0   1 -1  0\n",
      "                       0  1  0   1  0  0   0  0  1       0 -1  0  -1  0  0   0  0 -1\n",
      "                       0  0 -1   0  1 -1   1  0 -1       0  0  1   0 -1  1  -1  0  1\n",
      "                       1 -1  0   0 -1  1   0 -1  0      -1  1  0   0  1 -1   0  1  0\n",
      "                       0  0  1   1  0  0   0  1  0       0  0 -1  -1  0  0   0 -1  0\n",
      "                      -1  1  0  -1  0  0  -1  0  1       1 -1  0   1  0  0   1  0 -1\n",
      "                       0  0  1   0  1  0   1  0  0       0  0 -1   0 -1  0  -1  0  0\n",
      "                       1 -1  0   0 -1  0   0 -1  1      -1  1  0   0  1  0   0  1 -1\n",
      "                       0  0 -1   1  0 -1   0  1 -1       0  0  1  -1  0  1   0 -1  1\n",
      "                      -1  1  0  -1  0  1  -1  0  0       1 -1  0   1  0 -1   1  0  0\n",
      "            tnons      0.0000000  0.0000000  0.0000000     0.2500000  0.2500000  0.2500000\n",
      "                       0.0000000  0.0000000  0.0000000     0.2500000  0.2500000  0.2500000\n",
      "                       0.0000000  0.0000000  0.0000000     0.2500000  0.2500000  0.2500000\n",
      "                       0.0000000  0.0000000  0.0000000     0.2500000  0.2500000  0.2500000\n",
      "                       0.0000000  0.0000000  0.0000000     0.2500000  0.2500000  0.2500000\n",
      "                       0.0000000  0.0000000  0.0000000     0.2500000  0.2500000  0.2500000\n",
      "                       0.0000000  0.0000000  0.0000000     0.2500000  0.2500000  0.2500000\n",
      "                       0.0000000  0.0000000  0.0000000     0.2500000  0.2500000  0.2500000\n",
      "                       0.0000000  0.0000000  0.0000000     0.2500000  0.2500000  0.2500000\n",
      "                       0.0000000  0.0000000  0.0000000     0.2500000  0.2500000  0.2500000\n",
      "                       0.0000000  0.0000000  0.0000000     0.2500000  0.2500000  0.2500000\n",
      "                       0.0000000  0.0000000  0.0000000     0.2500000  0.2500000  0.2500000\n",
      "                       0.0000000  0.0000000  0.0000000     0.2500000  0.2500000  0.2500000\n",
      "                       0.0000000  0.0000000  0.0000000     0.2500000  0.2500000  0.2500000\n",
      "                       0.0000000  0.0000000  0.0000000     0.2500000  0.2500000  0.2500000\n",
      "                       0.0000000  0.0000000  0.0000000     0.2500000  0.2500000  0.2500000\n",
      "                       0.0000000  0.0000000  0.0000000     0.2500000  0.2500000  0.2500000\n",
      "                       0.0000000  0.0000000  0.0000000     0.2500000  0.2500000  0.2500000\n",
      "                       0.0000000  0.0000000  0.0000000     0.2500000  0.2500000  0.2500000\n",
      "                       0.0000000  0.0000000  0.0000000     0.2500000  0.2500000  0.2500000\n",
      "                       0.0000000  0.0000000  0.0000000     0.2500000  0.2500000  0.2500000\n",
      "                       0.0000000  0.0000000  0.0000000     0.2500000  0.2500000  0.2500000\n",
      "                       0.0000000  0.0000000  0.0000000     0.2500000  0.2500000  0.2500000\n",
      "                       0.0000000  0.0000000  0.0000000     0.2500000  0.2500000  0.2500000\n",
      "            typat      1  1\n",
      "              wtk        0.09375    0.09375    0.09375    0.18750    0.09375    0.09375\n",
      "                         0.09375    0.18750    0.03125    0.03125\n",
      "           xangst      0.0000000000E+00  0.0000000000E+00  0.0000000000E+00\n",
      "                       1.1162994145E+00  7.8934288584E-01  1.9334873024E+00\n",
      "            xcart      0.0000000000E+00  0.0000000000E+00  0.0000000000E+00\n",
      "                       2.1095001757E+00  1.4916418792E+00  3.6537614829E+00\n",
      "             xred      0.0000000000E+00  0.0000000000E+00  0.0000000000E+00\n",
      "                       2.5000000000E-01  2.5000000000E-01  2.5000000000E-01\n",
      "            znucl       14.00000\n",
      "\n",
      "================================================================================\n",
      "\n",
      " chkinp: Checking input parameters for consistency.\n",
      "\n",
      "--- !WARNING\n",
      "src_file: chkdpr.F90\n",
      "src_line: 153\n",
      "message: |\n",
      "    \n",
      "     chkdpr: ERROR -\n",
      "      Context : the value of the variable usewvl is   0.\n",
      "      The value of the input variable ecut is -2.000000000000E+00,\n",
      "      while it must be larger or equal to  1.000000000000E-08.\n",
      "      Action : you should change the input variables ecut or usewvl.\n",
      "...\n",
      "\n",
      "\n",
      "--- !ERROR\n",
      "src_file: chkinp.F90\n",
      "src_line: 3213\n",
      "mpi_rank: 0\n",
      "message: |\n",
      "    For the SCF case, one and only one of the input tolerance criteria \n",
      "    tolwfr, toldff, tolrff, toldfe or tolvrs must differ from zero, while they are\n",
      "    tolwfr=  0.000000E+00, toldff=  0.000000E+00, tolrff=  0.000000E+00, toldfe=  0.000000E+00\n",
      "    and tolvrs=  0.000000E+00 .\n",
      "    Action: change your input file and resubmit the job.\n",
      "...\n",
      "\n",
      "\n",
      "--- !ERROR\n",
      "src_file: chkinp.F90\n",
      "src_line: 3294\n",
      "mpi_rank: 0\n",
      "message: |\n",
      "    Checking consistency of input data against itself gave 2 inconsistencies.\n",
      "    The details of the problems can be found above.\n",
      "...\n",
      "\n",
      "\n",
      " leave_new: decision taken to exit ...\n",
      "\n"
     ]
    }
   ],
   "source": [
    "inp = AbinitInput(structure=abidata.cif_file(\"si.cif\"), pseudos=abidata.pseudos(\"14si.pspnc\"))\n",
    "\n",
    "inp.set_vars(ecut=-2)\n",
    "inp.set_autokmesh(nksmall=4)\n",
    "\n",
    "v = inp.abivalidate() \n",
    "if v.retcode != 0: \n",
    "    # If there's a mistake in the input, one can acces the log file of the run with:\n",
    "    print(v.log_file.read())"
   ]
  },
  {
   "cell_type": "code",
   "execution_count": 30,
   "metadata": {
    "collapsed": false,
    "deletable": true,
    "editable": true
   },
   "outputs": [
    {
     "name": "stdout",
     "output_type": "stream",
     "text": [
      "All ok\n"
     ]
    }
   ],
   "source": [
    "# Fix the problem with the negative ecut and rerun validate!\n",
    "inp[\"ecut\"] = 2\n",
    "inp[\"toldfe\"] = 1e-10\n",
    "v = inp.abivalidate()\n",
    "if v.retcode == 0: \n",
    "    print(\"All ok\")\n",
    "else:\n",
    "    print(v)"
   ]
  },
  {
   "cell_type": "markdown",
   "metadata": {
    "deletable": true,
    "editable": true
   },
   "source": [
    "At this point, we have a valid input file and we can get the k-points in the irreducible zone with:"
   ]
  },
  {
   "cell_type": "code",
   "execution_count": 31,
   "metadata": {
    "collapsed": false,
    "deletable": true,
    "editable": true
   },
   "outputs": [
    {
     "name": "stdout",
     "output_type": "stream",
     "text": [
      "number of k-points: 10\n",
      "k-points: [[-0.125 -0.25   0.   ]\n",
      " [-0.125  0.5    0.   ]\n",
      " [-0.25  -0.375  0.   ]\n",
      " [-0.125 -0.375  0.125]\n",
      " [-0.125  0.25   0.   ]\n",
      " [-0.25   0.375  0.   ]\n",
      " [-0.375  0.5    0.   ]\n",
      " [-0.25   0.5    0.125]\n",
      " [-0.125  0.     0.   ]\n",
      " [-0.375  0.     0.   ]]\n",
      "weights: [ 0.09375  0.09375  0.09375  0.1875   0.09375  0.09375  0.09375  0.1875\n",
      "  0.03125  0.03125]\n",
      "weights are normalized to: 1.0\n"
     ]
    }
   ],
   "source": [
    "ibz = inp.abiget_ibz()\n",
    "print(\"number of k-points:\", len(ibz.points))\n",
    "print(\"k-points:\", ibz.points)\n",
    "print(\"weights:\", ibz.weights)\n",
    "print(\"weights are normalized to:\", ibz.weights.sum())"
   ]
  },
  {
   "cell_type": "code",
   "execution_count": 32,
   "metadata": {
    "collapsed": true,
    "deletable": true,
    "editable": true
   },
   "outputs": [],
   "source": [
    "# To get the list of possible parallel configurations for this input up to 5 max_ncpus\n",
    "inp[\"paral_kgb\"] = 1\n",
    "pconfs = inp.abiget_autoparal_pconfs(max_ncpus=5)"
   ]
  },
  {
   "cell_type": "code",
   "execution_count": 33,
   "metadata": {
    "collapsed": false,
    "deletable": true,
    "editable": true
   },
   "outputs": [
    {
     "name": "stdout",
     "output_type": "stream",
     "text": [
      "best efficiency:\n",
      " {'efficiency': 0.975,\n",
      " u'mem_per_cpu': 0.0,\n",
      " 'mpi_ncpus': 5,\n",
      " u'omp_ncpus': 1,\n",
      " 'tot_ncpus': 5,\n",
      " 'vars': {'bandpp': 1,\n",
      "          'npband': 1,\n",
      "          'npfft': 1,\n",
      "          'npimage': 1,\n",
      "          'npkpt': 5,\n",
      "          'npspinor': 1}}\n",
      "\n",
      "best speedup:\n",
      " {'efficiency': 0.975,\n",
      " u'mem_per_cpu': 0.0,\n",
      " 'mpi_ncpus': 5,\n",
      " u'omp_ncpus': 1,\n",
      " 'tot_ncpus': 5,\n",
      " 'vars': {'bandpp': 1,\n",
      "          'npband': 1,\n",
      "          'npfft': 1,\n",
      "          'npimage': 1,\n",
      "          'npkpt': 5,\n",
      "          'npspinor': 1}}\n",
      "\n"
     ]
    }
   ],
   "source": [
    "print(\"best efficiency:\\n\", pconfs.sort_by_efficiency()[0])\n",
    "print(\"best speedup:\\n\", pconfs.sort_by_speedup()[0])"
   ]
  },
  {
   "cell_type": "code",
   "execution_count": 34,
   "metadata": {
    "collapsed": false,
    "deletable": true,
    "editable": true
   },
   "outputs": [
    {
     "data": {
      "text/plain": [
       "[{'idir': 1, 'ipert': 1, 'qpt': [0.0, 0.0, 0.0]}]"
      ]
     },
     "execution_count": 34,
     "metadata": {},
     "output_type": "execute_result"
    }
   ],
   "source": [
    "# To get the list of irreducible phonon perturbations at Gamma (Abinit notation)\n",
    "inp.abiget_irred_phperts(qpt=(0, 0, 0))"
   ]
  },
  {
   "cell_type": "markdown",
   "metadata": {
    "deletable": true,
    "editable": true
   },
   "source": [
    "# Multiple datasets"
   ]
  },
  {
   "cell_type": "markdown",
   "metadata": {
    "deletable": true,
    "editable": true
   },
   "source": [
    "Multiple datasets are handy when you have to generate several input files sharing several common\n",
    "variables e.g. the crystalline structure, the smearing value etc...\n",
    "In this case, one can use the `MultiDataset` object that is essentially \n",
    "a list of `AbinitInput` objects."
   ]
  },
  {
   "cell_type": "code",
   "execution_count": 35,
   "metadata": {
    "collapsed": false,
    "deletable": true,
    "editable": true
   },
   "outputs": [
    {
     "name": "stdout",
     "output_type": "stream",
     "text": [
      "4\n",
      "4\n"
     ]
    }
   ],
   "source": [
    "# A MultiDataset object with two datasets (a.k.a. AbinitInput) \n",
    "multi = abilab.MultiDataset(structure=abidata.cif_file(\"si.cif\"),\n",
    "                            pseudos=\"14si.pspnc\", pseudo_dir=abidata.pseudo_dir, ndtset=2)\n",
    "\n",
    "# A MultiDataset is essentially a list if AbinitInput objects \n",
    "# with handy methods to perform global modifications.\n",
    "# i.e. changes that will affect all the inputs in the MultiDataset\n",
    "# For example:\n",
    "multi.set_vars(ecut=4)\n",
    "\n",
    "# is equivalent to\n",
    "#\n",
    "#   for inp in multi: inp.set_vars(ecut=4)\n",
    "#\n",
    "# and indeed:\n",
    "\n",
    "for inp in multi: \n",
    "    print(inp[\"ecut\"])"
   ]
  },
  {
   "cell_type": "code",
   "execution_count": 36,
   "metadata": {
    "collapsed": false,
    "deletable": true,
    "editable": true
   },
   "outputs": [
    {
     "name": "stdout",
     "output_type": "stream",
     "text": [
      "ndtset 2\n",
      "\n",
      "#################\n",
      "### DATASET 1 ###\n",
      "#################\n",
      "############################################################################################\n",
      "#                                      SECTION: varbas                                      \n",
      "############################################################################################\n",
      " ecut1 4\n",
      " ngkpt1 2 2 2\n",
      "############################################################################################\n",
      "#                                       SECTION: vargs                                      \n",
      "############################################################################################\n",
      " tsmear1 0.004\n",
      "############################################################################################\n",
      "#                                         STRUCTURE                                         \n",
      "############################################################################################\n",
      " acell1    1.0    1.0    1.0\n",
      " xred1\n",
      "    0.0000000000    0.0000000000    0.0000000000\n",
      "    0.2500000000    0.2500000000    0.2500000000\n",
      " rprim1\n",
      "    6.3285005272    0.0000000000    3.6537614829\n",
      "    2.1095001757    5.9665675167    3.6537614829\n",
      "    0.0000000000    0.0000000000    7.3075229659\n",
      " typat1 1 1\n",
      " natom1 2\n",
      " ntypat1 1\n",
      " znucl1 14\n",
      "\n",
      "\n",
      "#################\n",
      "### DATASET 2 ###\n",
      "#################\n",
      "############################################################################################\n",
      "#                                      SECTION: varbas                                      \n",
      "############################################################################################\n",
      " ecut2 4\n",
      " ngkpt2 4 4 4\n",
      "############################################################################################\n",
      "#                                       SECTION: vargs                                      \n",
      "############################################################################################\n",
      " tsmear2 0.008\n",
      "############################################################################################\n",
      "#                                         STRUCTURE                                         \n",
      "############################################################################################\n",
      " acell2    1.0    1.0    1.0\n",
      " xred2\n",
      "    0.0000000000    0.0000000000    0.0000000000\n",
      "    0.2500000000    0.2500000000    0.2500000000\n",
      " rprim2\n",
      "    6.3285005272    0.0000000000    3.6537614829\n",
      "    2.1095001757    5.9665675167    3.6537614829\n",
      "    0.0000000000    0.0000000000    7.3075229659\n",
      " typat2 1 1\n",
      " natom2 2\n",
      " ntypat2 1\n",
      " znucl2 14\n",
      "\n",
      "\n",
      "#<JSON>\n",
      "#{\n",
      "#    \"pseudos\": [\n",
      "#        {\n",
      "#            \"l_max\": 2, \n",
      "#            \"Z_val\": 4.0, \n",
      "#            \"filepath\": \"/Users/gmatteo/git_repos/abipy/abipy/data/pseudos/14si.pspnc\", \n",
      "#            \"symbol\": \"Si\", \n",
      "#            \"@module\": \"pymatgen.io.abinit.pseudos\", \n",
      "#            \"Z\": 14, \n",
      "#            \"type\": \"NcAbinitPseudo\", \n",
      "#            \"basename\": \"14si.pspnc\", \n",
      "#            \"@class\": \"NcAbinitPseudo\", \n",
      "#            \"md5\": \"3916b143991b1cfa1542b130be320e5e\"\n",
      "#        }\n",
      "#    ]\n",
      "#}\n",
      "#</JSON>\n",
      "\n"
     ]
    }
   ],
   "source": [
    "# To change the values in a particular dataset use:\n",
    "multi[0].set_vars(ngkpt=[2,2,2], tsmear=0.004)\n",
    "multi[1].set_vars(ngkpt=[4,4,4], tsmear=0.008)\n",
    "\n",
    "print(multi)"
   ]
  },
  {
   "cell_type": "markdown",
   "metadata": {
    "deletable": true,
    "editable": true
   },
   "source": [
    "<div class=\"alert alert\">\n",
    "In python we start to count from zero hence the first dataset has index 0.\n",
    "</div>"
   ]
  },
  {
   "cell_type": "code",
   "execution_count": 37,
   "metadata": {
    "collapsed": false,
    "deletable": true,
    "editable": true
   },
   "outputs": [
    {
     "data": {
      "text/plain": [
       "[Structure Summary\n",
       " Lattice\n",
       "     abc : 3.8669746200000001 3.8669746200000001 3.8669746200000001\n",
       "  angles : 59.999999999999993 59.999999999999993 59.999999999999993\n",
       "  volume : 40.888291793468909\n",
       "       A : 3.3488982567096763 0.0 1.9334873100000005\n",
       "       B : 1.1162994189032256 3.1573715557642927 1.9334873100000005\n",
       "       C : 0.0 0.0 3.8669746200000001\n",
       " PeriodicSite: Si (0.0000, 0.0000, 0.0000) [0.0000, 0.0000, 0.0000]\n",
       " PeriodicSite: Si (1.1163, 0.7893, 1.9335) [0.2500, 0.2500, 0.2500],\n",
       " Structure Summary\n",
       " Lattice\n",
       "     abc : 3.8669746200000001 3.8669746200000001 3.8669746200000001\n",
       "  angles : 59.999999999999993 59.999999999999993 59.999999999999993\n",
       "  volume : 40.888291793468909\n",
       "       A : 3.3488982567096763 0.0 1.9334873100000005\n",
       "       B : 1.1162994189032256 3.1573715557642927 1.9334873100000005\n",
       "       C : 0.0 0.0 3.8669746200000001\n",
       " PeriodicSite: Si (0.0000, 0.0000, 0.0000) [0.0000, 0.0000, 0.0000]\n",
       " PeriodicSite: Si (1.1163, 0.7893, 1.9335) [0.2500, 0.2500, 0.2500]]"
      ]
     },
     "execution_count": 37,
     "metadata": {},
     "output_type": "execute_result"
    }
   ],
   "source": [
    "# Calling set_structure on MultiDataset will set the structure of the inputs\n",
    "multi.set_structure(abidata.cif_file(\"si.cif\"))\n",
    "\n",
    "# The structure attribute of a MultiDataset returns a list of structures \n",
    "# equivalent to [inp.structure for inp in multi]\n",
    "multi.structure"
   ]
  },
  {
   "cell_type": "markdown",
   "metadata": {
    "deletable": true,
    "editable": true
   },
   "source": [
    "The function `split_datasets` return the list of `AbinitInput` stored in MultiDataset"
   ]
  },
  {
   "cell_type": "code",
   "execution_count": 38,
   "metadata": {
    "collapsed": false,
    "deletable": true,
    "editable": true
   },
   "outputs": [
    {
     "name": "stdout",
     "output_type": "stream",
     "text": [
      "############################################################################################\n",
      "#                                      SECTION: varbas                                      \n",
      "############################################################################################\n",
      " ecut 4\n",
      " ngkpt 2 2 2\n",
      "############################################################################################\n",
      "#                                       SECTION: vargs                                      \n",
      "############################################################################################\n",
      " tsmear 0.004\n",
      "############################################################################################\n",
      "#                                         STRUCTURE                                         \n",
      "############################################################################################\n",
      " acell    1.0    1.0    1.0\n",
      " xred\n",
      "    0.0000000000    0.0000000000    0.0000000000\n",
      "    0.2500000000    0.2500000000    0.2500000000\n",
      " rprim\n",
      "    6.3285005272    0.0000000000    3.6537614829\n",
      "    2.1095001757    5.9665675167    3.6537614829\n",
      "    0.0000000000    0.0000000000    7.3075229659\n",
      " typat 1 1\n",
      " natom 2\n",
      " ntypat 1\n",
      " znucl 14\n",
      "\n",
      "\n",
      "#<JSON>\n",
      "#{\n",
      "#    \"pseudos\": [\n",
      "#        {\n",
      "#            \"l_max\": 2, \n",
      "#            \"Z_val\": 4.0, \n",
      "#            \"filepath\": \"/Users/gmatteo/git_repos/abipy/abipy/data/pseudos/14si.pspnc\", \n",
      "#            \"symbol\": \"Si\", \n",
      "#            \"@module\": \"pymatgen.io.abinit.pseudos\", \n",
      "#            \"Z\": 14, \n",
      "#            \"type\": \"NcAbinitPseudo\", \n",
      "#            \"basename\": \"14si.pspnc\", \n",
      "#            \"@class\": \"NcAbinitPseudo\", \n",
      "#            \"md5\": \"3916b143991b1cfa1542b130be320e5e\"\n",
      "#        }\n",
      "#    ]\n",
      "#}\n",
      "#</JSON>\n"
     ]
    }
   ],
   "source": [
    "inp0, inp1 = multi.split_datasets()\n",
    "print(inp0)"
   ]
  },
  {
   "cell_type": "markdown",
   "metadata": {
    "deletable": true,
    "editable": true
   },
   "source": [
    "<div class=\"alert alert\">\n",
    "You can use `MultiDataset` to build your input files but remember that \n",
    "`Abipy` will never support input files with more than one dataset.\n",
    "As a consequence, you should always pass an `AbinitInput` to the \n",
    "AbiPy functions that are building `Tasks`, `Works` or `Flows`.\n",
    "</div>"
   ]
  },
  {
   "cell_type": "code",
   "execution_count": 39,
   "metadata": {
    "collapsed": false,
    "deletable": true,
    "editable": true
   },
   "outputs": [
    {
     "name": "stdout",
     "output_type": "stream",
     "text": [
      "Number of datasets: 2\n"
     ]
    }
   ],
   "source": [
    "print(\"Number of datasets:\", multi.ndtset)"
   ]
  },
  {
   "cell_type": "code",
   "execution_count": 40,
   "metadata": {
    "collapsed": false,
    "deletable": true,
    "editable": true
   },
   "outputs": [
    {
     "name": "stdout",
     "output_type": "stream",
     "text": [
      "Now multi has 3 datasets and the ecut in the last dataset is: 42\n"
     ]
    }
   ],
   "source": [
    "# To create and append a new dataset (initialized from dataset number 1)\n",
    "multi.addnew_from(1)\n",
    "multi[-1].set_vars(ecut=42)\n",
    "print(\"Now multi has\", multi.ndtset, \"datasets and the ecut in the last dataset is:\", \n",
    "      multi[-1][\"ecut\"])"
   ]
  },
  {
   "cell_type": "markdown",
   "metadata": {
    "deletable": true,
    "editable": true
   },
   "source": [
    "# Factory functions"
   ]
  },
  {
   "cell_type": "markdown",
   "metadata": {
    "deletable": true,
    "editable": true
   },
   "source": [
    "TODO"
   ]
  },
  {
   "cell_type": "markdown",
   "metadata": {
    "deletable": true,
    "editable": true
   },
   "source": [
    "# Decorators"
   ]
  },
  {
   "cell_type": "markdown",
   "metadata": {
    "deletable": true,
    "editable": true
   },
   "source": [
    "TODO"
   ]
  },
  {
   "cell_type": "code",
   "execution_count": null,
   "metadata": {
    "collapsed": true
   },
   "outputs": [],
   "source": []
  }
 ],
 "metadata": {
  "kernelspec": {
   "display_name": "Python 2",
   "language": "python",
   "name": "python2"
  },
  "language_info": {
   "codemirror_mode": {
    "name": "ipython",
    "version": 2
   },
   "file_extension": ".py",
   "mimetype": "text/x-python",
   "name": "python",
   "nbconvert_exporter": "python",
   "pygments_lexer": "ipython2",
   "version": "2.7.12"
  },
  "latex_envs": {
   "bibliofile": "biblio.bib",
   "cite_by": "apalike",
   "current_citInitial": 1,
   "eqLabelWithNumbers": true,
   "eqNumInitial": 0
  }
 },
 "nbformat": 4,
 "nbformat_minor": 0
}
