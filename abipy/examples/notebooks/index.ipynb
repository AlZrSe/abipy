{
 "metadata": {
  "name": "",
  "signature": "sha256:d39a19558a56960874566a57e0133ca8ef947576736e68b72a8b11c1a0a6073c"
 },
 "nbformat": 3,
 "nbformat_minor": 0,
 "worksheets": [
  {
   "cells": [
    {
     "cell_type": "markdown",
     "metadata": {},
     "source": [
      "<img src=\"images/abipy_logo.jpg\">"
     ]
    },
    {
     "cell_type": "heading",
     "level": 1,
     "metadata": {},
     "source": [
      "AbiPy Documentation"
     ]
    },
    {
     "cell_type": "markdown",
     "metadata": {},
     "source": [
      "This directory contains IPython's notebook-based documentation. This augments our [Sphinx-based documentation](http://pythonhosted.org/abipy/) with notebooks that contain interactive tutorials and examples."
     ]
    },
    {
     "cell_type": "heading",
     "level": 2,
     "metadata": {},
     "source": [
      "Topics"
     ]
    },
    {
     "cell_type": "markdown",
     "metadata": {},
     "source": [
      "* [Core](IPython Kernel/Index.ipynb): Configuration and core objects\n",
      "* [Post-processing](postprocessing/Index.ipynb): How to read data from netcdf files and postprocess the results\n",
      "* [Lessons](lessons/Index.ipynb): How to use abipy to run simple calculations"
     ]
    }
   ],
   "metadata": {}
  }
 ]
}