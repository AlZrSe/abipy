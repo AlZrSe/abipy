{
 "metadata": {
  "name": "",
  "signature": "sha256:a443a8391274e6e095d1470ed63efa25dcc055e0a41385d68461cf24e1d2930d"
 },
 "nbformat": 3,
 "nbformat_minor": 0,
 "worksheets": [
  {
   "cells": [
    {
     "cell_type": "markdown",
     "metadata": {},
     "source": [
      "<img src=\"images/abipy_logo.jpg\">"
     ]
    },
    {
     "cell_type": "heading",
     "level": 1,
     "metadata": {},
     "source": [
      "AbiPy Documentation"
     ]
    },
    {
     "cell_type": "markdown",
     "metadata": {},
     "source": [
      "This directory contains IPython's notebook-based documentation. This augments our [Sphinx-based documentation](http://pythonhosted.org/abipy/) with notebooks that contain interactive tutorials and examples."
     ]
    },
    {
     "cell_type": "heading",
     "level": 2,
     "metadata": {},
     "source": [
      "Topics"
     ]
    },
    {
     "cell_type": "markdown",
     "metadata": {},
     "source": [
      "* [Core](core/index.ipynb): Configuration and core objects\n",
      "* [Analysis](analysis/index.ipynb): How to read data from netcdf files and postprocess the results\n",
      "* [Lessons](lessons/index.ipynb): How to use abipy to perform calculations with ABINIT\n",
      "* [Links](links.ipynb): Useful links ABINIT, python and ipython notebooks"
     ]
    }
   ],
   "metadata": {}
  }
 ]
}