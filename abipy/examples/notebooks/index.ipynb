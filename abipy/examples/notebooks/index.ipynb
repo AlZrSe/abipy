{
 "cells": [
  {
   "cell_type": "markdown",
   "metadata": {
    "deletable": true,
    "editable": true
   },
   "source": [
    "<img src=\"images/abipy_logo.jpg\">"
   ]
  },
  {
   "cell_type": "markdown",
   "metadata": {
    "deletable": true,
    "editable": true
   },
   "source": [
    "# AbiPy Documentation"
   ]
  },
  {
   "cell_type": "markdown",
   "metadata": {
    "deletable": true,
    "editable": true
   },
   "source": [
    "This directory contains IPython's notebook-based documentation. This augments our [Sphinx-based documentation](http://pythonhosted.org/abipy/) with notebooks that contain interactive tutorials and examples."
   ]
  },
  {
   "cell_type": "markdown",
   "metadata": {
    "deletable": true,
    "editable": true
   },
   "source": [
    "## Topics"
   ]
  },
  {
   "cell_type": "markdown",
   "metadata": {
    "deletable": true,
    "editable": true
   },
   "source": [
    "* [Core](core/index.ipynb): Configuration and core objects\n",
    "* [Analysis](analysis/index.ipynb): How to read data from netcdf files and postprocess the results\n",
    "* [Lessons](lessons/index.ipynb): How to use abipy to perform calculations with ABINIT\n",
    "* [Pymatgen](http://pymatgen.org/examples.html): Pymatgen examples\n",
    "* [Links](links.ipynb): List of useful links: ABINIT, python and ipython notebooks"
   ]
  },
  {
   "cell_type": "markdown",
   "metadata": {
    "deletable": true,
    "editable": true
   },
   "source": [
    "## Python and module versions"
   ]
  },
  {
   "cell_type": "code",
   "execution_count": 1,
   "metadata": {
    "collapsed": false,
    "deletable": true,
    "editable": true
   },
   "outputs": [
    {
     "data": {
      "application/json": {
       "Software versions": [
        {
         "module": "Python",
         "version": "2.7.6 64bit [GCC 4.2.1 (Apple Inc. build 5666) (dot 3)]"
        },
        {
         "module": "IPython",
         "version": "2.3.1"
        },
        {
         "module": "OS",
         "version": "Darwin 10.8.0 i386 64bit"
        },
        {
         "module": "numpy",
         "version": "1.8.1"
        },
        {
         "module": "scipy",
         "version": "0.14.0"
        },
        {
         "module": "matplotlib",
         "version": "1.4.2"
        },
        {
         "module": "pandas",
         "version": "0.15.1"
        },
        {
         "module": "netCDF4",
         "version": "1.0.6"
        },
        {
         "module": "abipy",
         "version": "0.1.0"
        },
        {
         "module": "pymatgen",
         "version": "3.0.10"
        }
       ]
      },
      "text/html": [
       "<table><tr><th>Software</th><th>Version</th></tr><tr><td>Python</td><td>2.7.6 64bit [GCC 4.2.1 (Apple Inc. build 5666) (dot 3)]</td></tr><tr><td>IPython</td><td>2.3.1</td></tr><tr><td>OS</td><td>Darwin 10.8.0 i386 64bit</td></tr><tr><td>numpy</td><td>1.8.1</td></tr><tr><td>scipy</td><td>0.14.0</td></tr><tr><td>matplotlib</td><td>1.4.2</td></tr><tr><td>pandas</td><td>0.15.1</td></tr><tr><td>netCDF4</td><td>1.0.6</td></tr><tr><td>abipy</td><td>0.1.0</td></tr><tr><td>pymatgen</td><td>3.0.10</td></tr><tr><td colspan='2'>Tue Feb 10 17:13:14 2015 CET</td></tr></table>"
      ],
      "text/latex": [
       "\\begin{tabular}{|l|l|}\\hline\n",
       "{\\bf Software} & {\\bf Version} \\\\ \\hline\\hline\n",
       "Python & 2.7.6 64bit [GCC 4.2.1 (Apple Inc. build 5666) (dot 3)] \\\\ \\hline\n",
       "IPython & 2.3.1 \\\\ \\hline\n",
       "OS & Darwin 10.8.0 i386 64bit \\\\ \\hline\n",
       "numpy & 1.8.1 \\\\ \\hline\n",
       "scipy & 0.14.0 \\\\ \\hline\n",
       "matplotlib & 1.4.2 \\\\ \\hline\n",
       "pandas & 0.15.1 \\\\ \\hline\n",
       "netCDF4 & 1.0.6 \\\\ \\hline\n",
       "abipy & 0.1.0 \\\\ \\hline\n",
       "pymatgen & 3.0.10 \\\\ \\hline\n",
       "\\hline \\multicolumn{2}{|l|}{Tue Feb 10 17:13:14 2015 CET} \\\\ \\hline\n",
       "\\end{tabular}\n"
      ],
      "text/plain": [
       "Software versions\n",
       "Python 2.7.6 64bit [GCC 4.2.1 (Apple Inc. build 5666) (dot 3)]\n",
       "IPython 2.3.1\n",
       "OS Darwin 10.8.0 i386 64bit\n",
       "numpy 1.8.1\n",
       "scipy 0.14.0\n",
       "matplotlib 1.4.2\n",
       "pandas 0.15.1\n",
       "netCDF4 1.0.6\n",
       "abipy 0.1.0\n",
       "pymatgen 3.0.10\n",
       "Tue Feb 10 17:13:14 2015 CET"
      ]
     },
     "execution_count": 1,
     "metadata": {},
     "output_type": "execute_result"
    }
   ],
   "source": [
    "%load_ext version_information\n",
    "%version_information numpy, scipy, matplotlib, pandas, netCDF4, abipy, pymatgen"
   ]
  }
 ],
 "metadata": {
  "kernelspec": {
   "display_name": "Python 2",
   "language": "python",
   "name": "python2"
  },
  "language_info": {
   "codemirror_mode": {
    "name": "ipython",
    "version": 2
   },
   "file_extension": ".py",
   "mimetype": "text/x-python",
   "name": "python",
   "nbconvert_exporter": "python",
   "pygments_lexer": "ipython2",
   "version": "2.7.12"
  },
  "latex_envs": {
   "bibliofile": "biblio.bib",
   "cite_by": "apalike",
   "current_citInitial": 1,
   "eqLabelWithNumbers": true,
   "eqNumInitial": 0
  }
 },
 "nbformat": 4,
 "nbformat_minor": 0
}
