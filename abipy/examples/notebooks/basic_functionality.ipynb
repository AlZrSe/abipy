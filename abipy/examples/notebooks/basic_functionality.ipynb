{
 "metadata": {
  "name": ""
 },
 "nbformat": 3,
 "nbformat_minor": 0,
 "worksheets": [
  {
   "cells": [
    {
     "cell_type": "code",
     "collapsed": false,
     "input": [
      "# Use this at the beginning of your script so that your code is ready for python3\n",
      "from __future__ import division, print_function\n",
      "\n",
      "# Import abipy modules\n",
      "from abipy import abilab\n",
      "from abipy.abilab import Structure\n",
      "import abipy.data as data\n",
      "\n",
      "# Useful tools we'll need later on.\n",
      "from pprint import pprint\n",
      "import numpy as np\n",
      "\n",
      "# This line configures matplotlib to show figures embedded in the notebook, instead of poping up a new window. \n",
      "%pylab inline"
     ],
     "language": "python",
     "metadata": {},
     "outputs": [
      {
       "output_type": "stream",
       "stream": "stdout",
       "text": [
        "Populating the interactive namespace from numpy and matplotlib\n"
       ]
      }
     ],
     "prompt_number": 10
    },
    {
     "cell_type": "heading",
     "level": 1,
     "metadata": {},
     "source": [
      "Reading a structure from file"
     ]
    },
    {
     "cell_type": "markdown",
     "metadata": {},
     "source": [
      "You can read a crystalline structure from two different file formats: `CIF` files and the `netCDF` files produced by ABINIT (or by any other code that implements the `ETSF-IO` specifications)"
     ]
    },
    {
     "cell_type": "code",
     "collapsed": false,
     "input": [
      "# Initialize the structure from a CIF file\n",
      "filepath = data.cif_file(\"si.cif\")\n",
      "structure = Structure.from_file(filepath)\n",
      "print(structure)"
     ],
     "language": "python",
     "metadata": {},
     "outputs": [
      {
       "output_type": "stream",
       "stream": "stdout",
       "text": [
        "Structure Summary (Si2)\n",
        "Reduced Formula: Si\n",
        "abc   :   3.866975   3.866975   3.866975\n",
        "angles:  60.000000  60.000000  60.000000\n",
        "Sites (2)\n",
        "1 Si     0.000000     0.000000     0.000000\n",
        "2 Si     0.250000     0.250000     0.250000\n"
       ]
      }
     ],
     "prompt_number": 2
    },
    {
     "cell_type": "code",
     "collapsed": false,
     "input": [
      "# Read the structure from a netcdf file\n",
      "filepath = data.ref_file(\"si_nscf_GSR.nc\")\n",
      "structure = Structure.from_file(filepath)\n",
      "\n",
      "# Get the list of Abinit variables corresponding to this structure.\n",
      "pprint(structure.to_abivars())"
     ],
     "language": "python",
     "metadata": {},
     "outputs": [
      {
       "output_type": "stream",
       "stream": "stdout",
       "text": [
        "{'acell': [1.0, 1.0, 1.0],\n",
        " 'natom': 2,\n",
        " 'ntypat': 1,\n",
        " 'rprim': array([[ 6.32850055,  0.        ,  3.6537615 ],\n",
        "       [ 2.10950018,  5.96656754,  3.6537615 ],\n",
        "       [ 0.        ,  0.        ,  7.30752299]]) bohr,\n",
        " 'typat': array([1, 1]),\n",
        " 'xred': array([[ 0.  ,  0.  ,  0.  ],\n",
        "       [ 0.25,  0.25,  0.25]]),\n",
        " 'znucl': [14]}\n"
       ]
      }
     ],
     "prompt_number": 3
    },
    {
     "cell_type": "heading",
     "level": 1,
     "metadata": {},
     "source": [
      "Converting to other formats"
     ]
    },
    {
     "cell_type": "markdown",
     "metadata": {},
     "source": [
      "Use structure.convert(format) to get the string representation in the new format.\n",
      "See also abipy/scripts/abistruct.py for a handy command line interface."
     ]
    },
    {
     "cell_type": "code",
     "collapsed": false,
     "input": [
      "for format in [\"cif\", \"POSCAR\"]:\n",
      "    print((\" Abinit --> %s \" % format).center(80, \"*\"))\n",
      "    s = structure.convert(format=format)\n",
      "    print(s)"
     ],
     "language": "python",
     "metadata": {},
     "outputs": [
      {
       "output_type": "stream",
       "stream": "stdout",
       "text": [
        "******************************** Abinit --> cif ********************************\n",
        "#\\#CIF1.1\n",
        "##########################################################################\n",
        "#               Crystallographic Information Format file \n",
        "#               Produced by PyCifRW module\n",
        "# \n",
        "#  This is a CIF file.  CIF has been adopted by the International\n",
        "#  Union of Crystallography as the standard for data archiving and \n",
        "#  transmission.\n",
        "#\n",
        "#  For information on this file format, follow the CIF links at\n",
        "#  http://www.iucr.org\n",
        "##########################################################################\n",
        "\n",
        "data_Si\n",
        "_symmetry_space_group_name_H-M          'P 1'\n",
        "_cell_length_a                          3.86697461789\n",
        "_cell_length_b                          3.86697461789\n",
        "_cell_length_c                          3.86697461787\n",
        "_cell_angle_alpha                       60.0000000002\n",
        "_cell_angle_beta                        60.0000000001\n",
        "_cell_angle_gamma                       60.0000000004\n",
        "_chemical_name_systematic               'Generated by pymatgen'\n",
        "_symmetry_Int_Tables_number             1\n",
        "_chemical_formula_structural            Si\n",
        "_chemical_formula_sum                   Si2\n",
        "_cell_volume                            40.8882917266\n",
        "_cell_formula_units_Z                   2\n",
        "loop_\n",
        "  _symmetry_equiv_pos_site_id\n",
        "  _symmetry_equiv_pos_as_xyz\n",
        "   1  'x, y, z'\n",
        " \n",
        "loop_\n",
        "  _atom_site_type_symbol\n",
        "  _atom_site_label\n",
        "  _atom_site_symmetry_multiplicity\n",
        "  _atom_site_fract_x\n",
        "  _atom_site_fract_y\n",
        "  _atom_site_fract_z\n",
        "  _atom_site_attached_hydrogens\n",
        "  _atom_site_B_iso_or_equiv\n",
        "  _atom_site_occupancy\n",
        "   Si  Si1  1  0.000000  0.000000  0.000000  0  .  1\n",
        "   Si  Si2  1  0.250000  0.250000  0.250000  0  .  1\n",
        " \n",
        "\n",
        "****************************** Abinit --> POSCAR *******************************\n",
        "Si2\n",
        "1.0\n",
        "3.348898 0.000000 1.933487\n",
        "1.116299 3.157372 1.933487\n",
        "0.000000 0.000000 3.866975\n",
        "Si\n",
        "2\n",
        "direct\n",
        "0.000000 0.000000 0.000000 Si\n",
        "0.250000 0.250000 0.250000 Si\n",
        "\n"
       ]
      }
     ],
     "prompt_number": 4
    },
    {
     "cell_type": "markdown",
     "metadata": {},
     "source": [
      "Once you have a structure object, visualizing the Brillouin zone is easy"
     ]
    },
    {
     "cell_type": "code",
     "collapsed": false,
     "input": [
      "fig = structure.show_bz()"
     ],
     "language": "python",
     "metadata": {},
     "outputs": [
      {
       "metadata": {},
       "output_type": "display_data",
       "png": "[encoded data removed]",
       "text": [
        "<matplotlib.figure.Figure at 0x10d266ad0>"
       ]
      }
     ],
     "prompt_number": 9
    },
    {
     "cell_type": "markdown",
     "metadata": {},
     "source": [
      "One can easily compute the number of valence electrons for a given set of pseudopotentials by just using: "
     ]
    },
    {
     "cell_type": "code",
     "collapsed": false,
     "input": [
      "structure.calc_nvalence(pseudos=data.pseudos(\"14si.pspnc\"))"
     ],
     "language": "python",
     "metadata": {},
     "outputs": [
      {
       "metadata": {},
       "output_type": "pyout",
       "prompt_number": 6,
       "text": [
        "8.0"
       ]
      }
     ],
     "prompt_number": 6
    },
    {
     "cell_type": "markdown",
     "metadata": {},
     "source": [
      "The method `calc_ksampling` allows one to get an efficient sampling of the Brillouin zone \n",
      "by just specifying the number of divisions to be used for the smallest lattice vector of the reciprocal lattice."
     ]
    },
    {
     "cell_type": "code",
     "collapsed": false,
     "input": [
      "structure.calc_ksampling(nksmall=10)"
     ],
     "language": "python",
     "metadata": {},
     "outputs": [
      {
       "metadata": {},
       "output_type": "pyout",
       "prompt_number": 7,
       "text": [
        "{'ngkpt': array([10, 10, 10]),\n",
        " 'shiftk': array([[ 0.5,  0.5,  0.5],\n",
        "       [ 0.5,  0. ,  0. ],\n",
        "       [ 0. ,  0.5,  0. ],\n",
        "       [ 0. ,  0. ,  0.5]])}"
       ]
      }
     ],
     "prompt_number": 7
    },
    {
     "cell_type": "heading",
     "level": 1,
     "metadata": {},
     "source": [
      "How to modify structures"
     ]
    },
    {
     "cell_type": "markdown",
     "metadata": {},
     "source": [
      "Once you have a structure object, you can perform several operations on it. For example, you can build a supercell or increase the volume of the unit cell. Python will simplify you work and, as a side effect, you will get a new object that can be immediately converted into the ABINIT format. In order to modify a structure, you have to instantiate a `StructureModifier` object that will allow you to perform several types of operations with a user-friendly interface"
     ]
    },
    {
     "cell_type": "code",
     "collapsed": false,
     "input": [
      "modifier = abilab.StructureModifier(structure)"
     ],
     "language": "python",
     "metadata": {},
     "outputs": [],
     "prompt_number": 11
    },
    {
     "cell_type": "markdown",
     "metadata": {},
     "source": [
      "To create a supercell, use:"
     ]
    },
    {
     "cell_type": "code",
     "collapsed": false,
     "input": [
      "new_structure = modifier.make_supercell(scaling_matrix=[1,2,3])\n",
      "print(new_structure)"
     ],
     "language": "python",
     "metadata": {},
     "outputs": [
      {
       "output_type": "stream",
       "stream": "stdout",
       "text": [
        "Structure Summary (Si12)\n",
        "Reduced Formula: Si\n",
        "abc   :   3.866975   7.733949  11.600924\n",
        "angles:  60.000000  60.000000  60.000000\n",
        "Sites (12)\n",
        "1 Si     0.000000     0.000000     0.000000\n",
        "2 Si     0.000000     0.000000     0.333333\n",
        "3 Si     0.000000     0.000000     0.666667\n",
        "4 Si     0.000000     0.500000     0.000000\n",
        "5 Si     0.000000     0.500000     0.333333\n",
        "6 Si     0.000000     0.500000     0.666667\n",
        "7 Si     0.250000     0.125000     0.083333\n",
        "8 Si     0.250000     0.125000     0.416667\n",
        "9 Si     0.250000     0.125000     0.750000\n",
        "10 Si     0.250000     0.625000     0.083333\n",
        "11 Si     0.250000     0.625000     0.416667\n",
        "12 Si     0.250000     0.625000     0.750000\n"
       ]
      }
     ],
     "prompt_number": 12
    },
    {
     "cell_type": "markdown",
     "metadata": {},
     "source": [
      "To perform a homogeneous dilatation of the lattice, use:"
     ]
    },
    {
     "cell_type": "code",
     "collapsed": false,
     "input": [
      "# From 98% to 102% of the initial volume.\n",
      "new_structures = modifier.scale_lattice(vol_ratios=np.arange(98, 104, 2) / 100.)\n",
      "\n",
      "for (index, new_structure) in enumerate(new_structures):\n",
      "    print(new_structure.to_abivars())"
     ],
     "language": "python",
     "metadata": {},
     "outputs": [
      {
       "output_type": "stream",
       "stream": "stdout",
       "text": [
        "{'acell': [1.0, 1.0, 1.0], 'xred': array([[ 0.  ,  0.  ,  0.  ],\n",
        "       [ 0.25,  0.25,  0.25]]), 'rprim': array([[ 6.28602611,  0.        ,  3.62923887],\n",
        "       [ 2.09534204,  5.92652226,  3.62923887],\n",
        "       [ 0.        ,  0.        ,  7.25847774]]) bohr, 'typat': array([1, 1]), 'natom': 2, 'ntypat': 1, 'znucl': [14]}\n",
        "{'acell': [1.0, 1.0, 1.0], 'xred': array([[ 0.  ,  0.  ,  0.  ],\n",
        "       [ 0.25,  0.25,  0.25]]), 'rprim': array([[ 6.32850055,  0.        ,  3.6537615 ],\n",
        "       [ 2.10950018,  5.96656754,  3.6537615 ],\n",
        "       [ 0.        ,  0.        ,  7.30752299]]) bohr, 'typat': array([1, 1]), 'natom': 2, 'ntypat': 1, 'znucl': [14]}\n",
        "{'acell': [1.0, 1.0, 1.0], 'xred': array([[ 0.  ,  0.  ,  0.  ],\n",
        "       [ 0.25,  0.25,  0.25]]), 'rprim': array([[ 6.37041237,  0.        ,  3.6779593 ],\n",
        "       [ 2.12347079,  6.00608238,  3.6779593 ],\n",
        "       [ 0.        ,  0.        ,  7.3559186 ]]) bohr, 'typat': array([1, 1]), 'natom': 2, 'ntypat': 1, 'znucl': [14]}\n"
       ]
      }
     ],
     "prompt_number": 15
    }
   ],
   "metadata": {}
  }
 ]
}