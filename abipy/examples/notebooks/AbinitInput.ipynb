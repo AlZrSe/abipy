{
 "metadata": {
  "name": ""
 },
 "nbformat": 3,
 "nbformat_minor": 0,
 "worksheets": [
  {
   "cells": [
    {
     "cell_type": "heading",
     "level": 1,
     "metadata": {},
     "source": [
      "Abinit Input File"
     ]
    },
    {
     "cell_type": "markdown",
     "metadata": {},
     "source": [
      "The creation of the input file of abinit is one of the most repetive and error-prone operations we have to do before running our calculations.\n",
      "`AbiInput` is a python object whose main goal is facilitating the creation of such files.\n",
      "The interface is very similar to the one we already use in Abinit but there are also some important differences..\n",
      "\n",
      "1) We have to pass the list of pseudopotential files we want to use for the calculation so that `AbiInput` knows how to construct the Abinit `filesfile`.\n",
      "\n",
      "2) We must explictly define the number of datasets we want to use.\n",
      "\n",
      "A typical example of `AbiInput` is shown below."
     ]
    },
    {
     "cell_type": "code",
     "collapsed": false,
     "input": [
      "# Use this at the beginning of your script so that your code is ready for python3\n",
      "from __future__ import division, print_function\n",
      "\n",
      "import abipy.data as data\n",
      "from abipy.abilab import AbiInput\n",
      "\n",
      "# Create an ABINIT input file with one dataset. \n",
      "# Pseudos are located in the pseudo_dir directory.\n",
      "inp = AbiInput(pseudos=\"14si.pspnc\", pseudo_dir=data.pseudo_dir, ndtset=1)\n",
      "\n",
      "# One can set the value of the variables directly with the syntax.\n",
      "inp.ecut = 10.\n",
      "inp.tolwfr = 1e-8\n",
      "\n",
      "# It's possible to use strings but use them only for special cases such as:\n",
      "inp.istwfk = '*1'       \n",
      "\n",
      "# One can create a python dictionary:\n",
      "unit_cell = {\n",
      "    \"acell\": 3*[10.217],       \n",
      "    'rprim': [ [.0, .5, .5],\n",
      "               [.5, .0, .5],\n",
      "               [.5, .5, .0]],\n",
      "    'ntypat': 1,\n",
      "    'znucl': [14,],\n",
      "    'natom': 2,\n",
      "    'typat': [1, 1],\n",
      "    'xred': [ [.0, .0, .0],\n",
      "              [.25,.25,.25] ]\n",
      "}\n",
      "\n",
      "# and set the variables in the input file with the call (note the **)\n",
      "inp.set_variables(**unit_cell)\n",
      "\n",
      "# Alternatively, it's possible to create a dictionary on the fly with the syntax.\n",
      "inp.set_variables(kptopt=1, \n",
      "                  ngkpt=[2, 2, 2], \n",
      "                  nshiftk=1, \n",
      "                  shiftk=[0.0, 0.0, 0.0]\n",
      "                  )\n",
      "\n",
      "# To print the input to stdout use:\n",
      "print(inp)"
     ],
     "language": "python",
     "metadata": {},
     "outputs": [
      {
       "output_type": "stream",
       "stream": "stdout",
       "text": [
        "ecut   10.0\n",
        "tolwfr   1e-08\n",
        "istwfk   *1\n",
        "acell     10.217   10.217   10.217\n",
        "\n",
        "xred  \n",
        "    0.00    0.00    0.00\n",
        "    0.25    0.25    0.25\n",
        "\n",
        "typat   1 1\n",
        "\n",
        "ntypat   1\n",
        "rprim  \n",
        "    0.0    0.5    0.5\n",
        "    0.5    0.0    0.5\n",
        "    0.5    0.5    0.0\n",
        "\n",
        "natom   2\n",
        "znucl   14\n",
        "\n",
        "kptopt   1\n",
        "shiftk      0.0    0.0    0.0\n",
        "\n",
        "ngkpt   2 2 2\n",
        "\n",
        "nshiftk   1\n",
        "\n",
        "########################\n",
        "### GLOBAL VARIABLES ###\n",
        "########################\n",
        "ndtset   2\n",
        "tolwfr   1e-08\n",
        "\n",
        "#################\n",
        "### DATASET 1 ###\n",
        "#################\n",
        "ecut1   10\n",
        "ngkpt1   2 2 2\n",
        "\n",
        "tsmear1   0.004\n",
        "\n",
        "#################\n",
        "### DATASET 2 ###\n",
        "#################\n",
        "ecut2   20\n",
        "kptopt2   4 4 4\n",
        "\n",
        "tsmear2   0.008\n",
        "\n"
       ]
      },
      {
       "output_type": "stream",
       "stream": "stderr",
       "text": [
        "/Users/gmatteo/Coding/abipy/abipy/data/__init__.py:65: UserWarning: Found duplicated basename out_EIG.nc\n",
        "Stored: /Users/gmatteo/Coding/abipy/abipy/data/runs/IONCELL/work_0/task_0/outdata/out_EIG.nc, new /Users/gmatteo/Coding/abipy/abipy/data/runs/IONCELL/work_0/task_1/outdata/out_EIG.nc\n",
        "\n",
        "  warnings.warn(err_msg)\n"
       ]
      }
     ],
     "prompt_number": 1
    },
    {
     "cell_type": "markdown",
     "metadata": {},
     "source": [
      "The previous example is a little bit verbose on purpose since we want to explain the syntax to use to set the different variables.\n",
      "Note, however, that `AbiInput` provides several utilties that significantly facilitate the specification of the crystal structure and the specification of groups of variables. \n",
      "The code below, for example, shows how to construct an input file for the band structure calculation of Silicon. \n",
      "In this case we are initializing the crystalline structure (`acell`, `rprim`, `ntypat` ...) from a `CIF` file.\n",
      "and the k-path for the band structure calculation is automatically defined by `abipy` on the basis of the lattice space group \n",
      "(we only need to specify the variable `ndivsm` that defines the sampling of the path)."
     ]
    },
    {
     "cell_type": "code",
     "collapsed": false,
     "input": [
      "# A slightly more complicated example: an input file with two datasets\n",
      "inp = AbiInput(pseudos=\"14si.pspnc\", pseudo_dir=data.pseudo_dir, ndtset=2)\n",
      "\n",
      "# Global variable common to all datasets.\n",
      "inp.tolwfr = 1e-8\n",
      "\n",
      "# To specify values for the different datasets, one can use the syntax\n",
      "inp.ecut1 = 10\n",
      "inp.ecut2 = 20\n",
      "\n",
      "# or the alternative (much better) syntax \n",
      "inp[1].set_variables(ngkpt=[2,2,2], tsmear=0.004)\n",
      "inp[2].set_variables(kptopt=[4,4,4], tsmear=0.008)\n",
      "\n",
      "# print will return a string the the final input\n",
      "print(inp)"
     ],
     "language": "python",
     "metadata": {},
     "outputs": [
      {
       "output_type": "stream",
       "stream": "stdout",
       "text": [
        "\n",
        "########################\n",
        "### GLOBAL VARIABLES ###\n",
        "########################\n",
        "ndtset   2\n",
        "tolwfr   1e-08\n",
        "\n",
        "#################\n",
        "### DATASET 1 ###\n",
        "#################\n",
        "ecut1   10\n",
        "ngkpt1   2 2 2\n",
        "\n",
        "tsmear1   0.004\n",
        "\n",
        "#################\n",
        "### DATASET 2 ###\n",
        "#################\n",
        "ecut2   20\n",
        "kptopt2   4 4 4\n",
        "\n",
        "tsmear2   0.008\n",
        "\n"
       ]
      }
     ],
     "prompt_number": 2
    },
    {
     "cell_type": "code",
     "collapsed": false,
     "input": [
      "# It is possible to initialize the crystalline structure from a CIF file.\n",
      "inp = AbiInput(pseudos=data.pseudos(\"14si.pspnc\"), ndtset=2)\n",
      "inp.set_structure_from_file(data.cif_file(\"si.cif\"))\n",
      "\n",
      "inp[1].set_autokmesh(nksmall=4)\n",
      "\n",
      "# Let ask abipy to generate a high-symmetry k-path\n",
      "# (5 points are used to sample the smallest segment, \n",
      "#  other segments are sampled so that proportions are preserved).  \n",
      "inp[2].set_kpath(ndivsm=5)\n",
      "\n",
      "# Global variables\n",
      "inp.ecut = 10\n",
      "\n",
      "# Dataset 1\n",
      "inp.tolvrs1 = 1e-9\n",
      "\n",
      "# Dataset 2\n",
      "inp.tolwfr2 = 1e-18\n",
      "\n",
      "print(inp.split_datasets())"
     ],
     "language": "python",
     "metadata": {},
     "outputs": [
      {
       "ename": "AttributeError",
       "evalue": "'Dataset' object has no attribute 'set_autokmesh'",
       "output_type": "pyerr",
       "traceback": [
        "\u001b[0;31m---------------------------------------------------------------------------\u001b[0m\n\u001b[0;31mAttributeError\u001b[0m                            Traceback (most recent call last)",
        "\u001b[0;32m<ipython-input-3-994b42583a83>\u001b[0m in \u001b[0;36m<module>\u001b[0;34m()\u001b[0m\n\u001b[1;32m      3\u001b[0m \u001b[0minp\u001b[0m\u001b[0;34m.\u001b[0m\u001b[0mset_structure_from_file\u001b[0m\u001b[0;34m(\u001b[0m\u001b[0mdata\u001b[0m\u001b[0;34m.\u001b[0m\u001b[0mcif_file\u001b[0m\u001b[0;34m(\u001b[0m\u001b[0;34m\"si.cif\"\u001b[0m\u001b[0;34m)\u001b[0m\u001b[0;34m)\u001b[0m\u001b[0;34m\u001b[0m\u001b[0m\n\u001b[1;32m      4\u001b[0m \u001b[0;34m\u001b[0m\u001b[0m\n\u001b[0;32m----> 5\u001b[0;31m \u001b[0minp\u001b[0m\u001b[0;34m[\u001b[0m\u001b[0;36m1\u001b[0m\u001b[0;34m]\u001b[0m\u001b[0;34m.\u001b[0m\u001b[0mset_autokmesh\u001b[0m\u001b[0;34m(\u001b[0m\u001b[0mnksmall\u001b[0m\u001b[0;34m=\u001b[0m\u001b[0;36m4\u001b[0m\u001b[0;34m)\u001b[0m\u001b[0;34m\u001b[0m\u001b[0m\n\u001b[0m\u001b[1;32m      6\u001b[0m \u001b[0;34m\u001b[0m\u001b[0m\n\u001b[1;32m      7\u001b[0m \u001b[0;31m# Let ask abipy to generate a high-symmetry k-path\u001b[0m\u001b[0;34m\u001b[0m\u001b[0;34m\u001b[0m\u001b[0m\n",
        "\u001b[0;31mAttributeError\u001b[0m: 'Dataset' object has no attribute 'set_autokmesh'"
       ]
      }
     ],
     "prompt_number": 3
    },
    {
     "cell_type": "code",
     "collapsed": false,
     "input": [],
     "language": "python",
     "metadata": {},
     "outputs": []
    }
   ],
   "metadata": {}
  }
 ]
}