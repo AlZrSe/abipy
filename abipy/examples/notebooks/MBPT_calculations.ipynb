{
 "metadata": {
  "name": "MBPT_calculations"
 },
 "nbformat": 3,
 "nbformat_minor": 0,
 "worksheets": [
  {
   "cells": [
    {
     "cell_type": "code",
     "collapsed": false,
     "input": [
      "# Use this at the beginning of your script so that your code is ready for python3\n",
      "from __future__ import division, print_function\n",
      "\n",
      "from abipy import abiopen\n",
      "from abipy import abilab\n",
      "import abipy.data as data\n",
      "\n",
      "# This line configures matplotlib to show figures embedded in the notebook, instead of poping up a new window. \n",
      "%pylab inline"
     ],
     "language": "python",
     "metadata": {},
     "outputs": [
      {
       "output_type": "stream",
       "stream": "stdout",
       "text": [
        "\n",
        "Welcome to pylab, a matplotlib-based Python environment [backend: module://IPython.zmq.pylab.backend_inline].\n",
        "For more information, type 'help(pylab)'.\n"
       ]
      }
     ],
     "prompt_number": 1
    },
    {
     "cell_type": "heading",
     "level": 1,
     "metadata": {},
     "source": [
      "Analyzing GW results"
     ]
    },
    {
     "cell_type": "heading",
     "level": 2,
     "metadata": {},
     "source": [
      "How to visualize QP corrections  "
     ]
    },
    {
     "cell_type": "code",
     "collapsed": false,
     "input": [
      "sigma_file = abiopen(data.ref_file(\"tgw1_9o_DS4_SIGRES.nc\"))\n",
      "\n",
      "# Plot the KS energies with markers whose size is proportional to the difference E_GW - E_KS \n",
      "# Multiply the difference by 1000 to make the markers more visible.\n",
      "sigma_file.plot_ksbands_with_qpmarkers(qpattr=\"qpeme0\", fact=1000)\n"
     ],
     "language": "python",
     "metadata": {},
     "outputs": []
    },
    {
     "cell_type": "code",
     "collapsed": false,
     "input": [
      "qplist_spin = sigma_file.qplist_spin\n",
      "qplist_spin[0].plot_qps_vs_e0(title=\"QPState corrections of Si\", exclude_fields=\"vUme\")"
     ],
     "language": "python",
     "metadata": {},
     "outputs": []
    },
    {
     "cell_type": "code",
     "collapsed": false,
     "input": [
      "# Printout of the QPState results\n",
      "sigma_file.print_qps()"
     ],
     "language": "python",
     "metadata": {},
     "outputs": []
    },
    {
     "cell_type": "heading",
     "level": 2,
     "metadata": {},
     "source": [
      "Convergence of the QP corrections  "
     ]
    },
    {
     "cell_type": "markdown",
     "metadata": {},
     "source": [
      "This example shows how to visualize the convergence of the QP results stored in the SIGRES produced by the GW code (sigma run)."
     ]
    },
    {
     "cell_type": "code",
     "collapsed": false,
     "input": [
      "# List of SIGRES files computed with different values of nband.\n",
      "filenames = [\n",
      "    \"si_g0w0ppm_nband10_SIGRES.nc\",\n",
      "    \"si_g0w0ppm_nband20_SIGRES.nc\",\n",
      "    \"si_g0w0ppm_nband30_SIGRES.nc\",\n",
      "]\n",
      "\n",
      "filepaths = [data.ref_file(fname) for fname in filenames]\n",
      "\n",
      "# Instantiate the plotter and add the filepaths to the plotter.\n",
      "plotter = abilab.SIGRES_Plotter()\n",
      "plotter.add_files(filepaths)\n",
      "\n",
      "# Plot the convergence of the QP gaps.\n",
      "plotter.plot_qpgaps(title=\"QP gaps vs sigma_nband\", hspan=0.05)\n",
      "\n",
      "# Plot the convergence of the QP energies.\n",
      "#plotter.plot_qpenes(title=\"QP energies vs sigma_nband\", hspan=0.05)"
     ],
     "language": "python",
     "metadata": {},
     "outputs": []
    },
    {
     "cell_type": "code",
     "collapsed": false,
     "input": [
      "#!/usr/bin/env python\n",
      "# This examples shows how to plot the GW self-energy\n",
      "# and the spectral function of Al at the gamma point (first band)\n",
      "# See lesson tgw2_4\n",
      "from abipy import abiopen\n",
      "import abipy.data as data\n",
      "\n",
      "sigma_file = abiopen(data.ref_file(\"tgw2_4o_SIGRES.nc\"))\n",
      "\n",
      "sigmaw = sigma_file.get_sigmaw(spin=0, kpoint=(0,0,0), band=0)\n",
      "\n",
      "sigmaw.plot()\n"
     ],
     "language": "python",
     "metadata": {},
     "outputs": []
    },
    {
     "cell_type": "code",
     "collapsed": false,
     "input": [
      "#!/usr/bin/env python\n",
      "#\n",
      "# This examples shows how to plot the GW spectral functions A(w)\n",
      "# See lesson tgw2_4\n",
      "from abipy import abiopen\n",
      "import abipy.data as data\n",
      "\n",
      "# Open the file with the GW results\n",
      "sigma_file = abiopen(data.ref_file(\"tgw2_4o_SIGRES.nc\"))\n",
      "\n",
      "# Plot A(w) for the first spin, the gamma point, and bands in [0,1,2,3]\n",
      "sigma_file.plot_spectral_functions(spin=0, kpoint=(0,0,0), bands=range(0,4))\n"
     ],
     "language": "python",
     "metadata": {},
     "outputs": []
    },
    {
     "cell_type": "heading",
     "level": 1,
     "metadata": {},
     "source": [
      "Bethe-Salpeter calculations"
     ]
    },
    {
     "cell_type": "code",
     "collapsed": false,
     "input": [
      "# Open the MDF file produced in the tutorial.\n",
      "mdf_file = abiopen(data.ref_file(\"tbs_4o_DS2_MDF.nc\"))\n",
      "\n",
      "# Plot the imaginary part of the macroscopic dielectric function (EXC, RPA, GWRPA) between 2 and 5 eV.\n",
      "title = \"Si absorption spectrum: EXC vs RPA\"\n",
      "mdf_file.plot_mdfs(title=title, xlim=(2, 5))\n",
      "\n",
      "# Plot the 6 different components of the macroscopic dielectric tensor \n",
      "#title = \"Si macroscopic dielectric tensor (Reduced coord)\"\n",
      "#tensor_exc = mdf_file.get_tensor(\"exc\")\n",
      "#tensor_exc.symmetrize()\n",
      "#tensor_exc.plot(title=title)\n",
      "\n",
      "#title = \"Si macroscopic dielectric tensor (Cartesian coord)\"\n",
      "#tensor_exc.plot(title=title,red_coords=False)"
     ],
     "language": "python",
     "metadata": {},
     "outputs": []
    },
    {
     "cell_type": "code",
     "collapsed": false,
     "input": [],
     "language": "python",
     "metadata": {},
     "outputs": []
    }
   ],
   "metadata": {}
  }
 ]
}