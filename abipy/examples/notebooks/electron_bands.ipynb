{
 "metadata": {
  "name": "electron_bands"
 },
 "nbformat": 3,
 "nbformat_minor": 0,
 "worksheets": [
  {
   "cells": [
    {
     "cell_type": "heading",
     "level": 1,
     "metadata": {},
     "source": [
      "Post-processing tools for electron band energies"
     ]
    },
    {
     "cell_type": "markdown",
     "metadata": {},
     "source": [
      "In the next sections we show how to plot electron band structures and density of states (DOSes) using the `netcdf` files produced by `ABINIT`. For the tutorial, we will use the `netcdf` files shipped with `abipy`. The function `data.ref_file` returns the absolute path of the reference `abipy` file. In your scripts, you have to replace `data.ref_file(\"abipy_filename\")` with a string specifying the location of your `netcdf` file."
     ]
    },
    {
     "cell_type": "code",
     "collapsed": false,
     "input": [
      "# Use this at the beginning of your script so that your code will be compatible with python3\n",
      "from __future__ import division, print_function\n",
      "\n",
      "from abipy import abiopen\n",
      "from abipy import abilab\n",
      "# Import abipy reference data.\n",
      "import abipy.data as data\n",
      "\n",
      "# This line configures matplotlib to show figures embedded in the notebook, instead of poping up a new window. \n",
      "# Don't use this line in your scripts!\n",
      "%pylab inline"
     ],
     "language": "python",
     "metadata": {},
     "outputs": [
      {
       "ename": "ImportError",
       "evalue": "No module named abipy",
       "output_type": "pyerr",
       "traceback": [
        "\u001b[0;31m---------------------------------------------------------------------------\u001b[0m\n\u001b[0;31mImportError\u001b[0m                               Traceback (most recent call last)",
        "\u001b[0;32m<ipython-input-2-edd03e166548>\u001b[0m in \u001b[0;36m<module>\u001b[0;34m()\u001b[0m\n\u001b[1;32m      2\u001b[0m \u001b[0;32mfrom\u001b[0m \u001b[0m__future__\u001b[0m \u001b[0;32mimport\u001b[0m \u001b[0mdivision\u001b[0m\u001b[0;34m,\u001b[0m \u001b[0mprint_function\u001b[0m\u001b[0;34m\u001b[0m\u001b[0m\n\u001b[1;32m      3\u001b[0m \u001b[0;34m\u001b[0m\u001b[0m\n\u001b[0;32m----> 4\u001b[0;31m \u001b[0;32mfrom\u001b[0m \u001b[0mabipy\u001b[0m \u001b[0;32mimport\u001b[0m \u001b[0mabiopen\u001b[0m\u001b[0;34m\u001b[0m\u001b[0m\n\u001b[0m\u001b[1;32m      5\u001b[0m \u001b[0;32mfrom\u001b[0m \u001b[0mabipy\u001b[0m \u001b[0;32mimport\u001b[0m \u001b[0mabilab\u001b[0m\u001b[0;34m\u001b[0m\u001b[0m\n\u001b[1;32m      6\u001b[0m \u001b[0;31m# Import abipy reference data.\u001b[0m\u001b[0;34m\u001b[0m\u001b[0;34m\u001b[0m\u001b[0m\n",
        "\u001b[0;31mImportError\u001b[0m: No module named abipy"
       ]
      }
     ],
     "prompt_number": 2
    },
    {
     "cell_type": "heading",
     "level": 2,
     "metadata": {},
     "source": [
      "Plotting band structures"
     ]
    },
    {
     "cell_type": "code",
     "collapsed": false,
     "input": [
      "# Open the GSR file produced by a NSCF calculation done on a high-symmetry k-path.\n",
      "nscf_file = abiopen(data.ref_file(\"si_nscf_GSR.nc\"))\n",
      "\n",
      "# Extract the electronic band structure. \n",
      "nscf_ebands = nscf_file.ebands\n",
      "\n",
      "# Plot the band energies. Note that the labels for the k-points are found in an internal database.\n",
      "figure = nscf_ebands.plot(title=\"Silicon band structure\")"
     ],
     "language": "python",
     "metadata": {},
     "outputs": [
      {
       "ename": "NameError",
       "evalue": "name 'abiopen' is not defined",
       "output_type": "pyerr",
       "traceback": [
        "\u001b[0;31m---------------------------------------------------------------------------\u001b[0m\n\u001b[0;31mNameError\u001b[0m                                 Traceback (most recent call last)",
        "\u001b[0;32m<ipython-input-3-94c5ca67dcd8>\u001b[0m in \u001b[0;36m<module>\u001b[0;34m()\u001b[0m\n\u001b[1;32m      1\u001b[0m \u001b[0;31m# Open the GSR file produced by a NSCF calculation done on a high-symmetry k-path.\u001b[0m\u001b[0;34m\u001b[0m\u001b[0;34m\u001b[0m\u001b[0m\n\u001b[0;32m----> 2\u001b[0;31m \u001b[0mnscf_file\u001b[0m \u001b[0;34m=\u001b[0m \u001b[0mabiopen\u001b[0m\u001b[0;34m(\u001b[0m\u001b[0mdata\u001b[0m\u001b[0;34m.\u001b[0m\u001b[0mref_file\u001b[0m\u001b[0;34m(\u001b[0m\u001b[0;34m\"si_nscf_GSR.nc\"\u001b[0m\u001b[0;34m)\u001b[0m\u001b[0;34m)\u001b[0m\u001b[0;34m\u001b[0m\u001b[0m\n\u001b[0m\u001b[1;32m      3\u001b[0m \u001b[0;34m\u001b[0m\u001b[0m\n\u001b[1;32m      4\u001b[0m \u001b[0;31m# Extract the electronic band structure.\u001b[0m\u001b[0;34m\u001b[0m\u001b[0;34m\u001b[0m\u001b[0m\n\u001b[1;32m      5\u001b[0m \u001b[0mnscf_ebands\u001b[0m \u001b[0;34m=\u001b[0m \u001b[0mnscf_file\u001b[0m\u001b[0;34m.\u001b[0m\u001b[0mebands\u001b[0m\u001b[0;34m\u001b[0m\u001b[0m\n",
        "\u001b[0;31mNameError\u001b[0m: name 'abiopen' is not defined"
       ]
      }
     ],
     "prompt_number": 3
    },
    {
     "cell_type": "markdown",
     "metadata": {},
     "source": [
      "The same piece of code works also if you provide the `WFK` file instead of the `GSR` file. \n",
      "The main advantage of the `GSR` file is that it is lightweight as it does not store the wavefunctions. "
     ]
    },
    {
     "cell_type": "markdown",
     "metadata": {},
     "source": [
      "Alternatively you can use the optional argument `klabels` that defines the mapping reduced_coordinates --> name of the k-point.\n",
      "and pass it to the plot method"
     ]
    },
    {
     "cell_type": "code",
     "collapsed": true,
     "input": [
      "klabels = {\n",
      "    (0.5, 0.0, 0.0): \"L\",\n",
      "    (0.0, 0.0, 0.0): \"$\\Gamma$\",\n",
      "    (0.0, 0.5, 0.5): \"X\",\n",
      "}\n",
      "\n",
      "figure = nscf_ebands.plot(title=\"Python is really awesome\", band_range=(0,5), klabels=klabels, savefig=\"/tmp/sibands.png\")"
     ],
     "language": "python",
     "metadata": {},
     "outputs": []
    },
    {
     "cell_type": "markdown",
     "metadata": {},
     "source": [
      "To access the documentation of the method, use:"
     ]
    },
    {
     "cell_type": "code",
     "collapsed": false,
     "input": [
      "print(nscf_ebands.plot.__doc__)"
     ],
     "language": "python",
     "metadata": {},
     "outputs": []
    },
    {
     "cell_type": "markdown",
     "metadata": {},
     "source": [
      "or simply use `nscf_ebands.plot?` if you are inside the `ipython` shell."
     ]
    },
    {
     "cell_type": "heading",
     "level": 2,
     "metadata": {},
     "source": [
      "Gaussian DOS with different values of the broadening"
     ]
    },
    {
     "cell_type": "markdown",
     "metadata": {},
     "source": [
      "In this section, we show how to compute the electron DOS. The file `si_scf_GSR.nc` contains the electron energies on a homogeneous sampling of the Brillouin zone."
     ]
    },
    {
     "cell_type": "code",
     "collapsed": false,
     "input": [
      "# Open the file and extract the band structure.\n",
      "gs_file = abiopen(data.ref_file(\"si_scf_GSR.nc\"))\n",
      "gs_ebands = gs_file.ebands\n",
      "\n",
      "# Compute the DOS with the Gaussian method.\n",
      "widths = [0.1, 0.2, 0.3]\n",
      "plotter = abilab.ElectronDosPlotter()\n",
      "\n",
      "for width in widths:\n",
      "   edos = gs_ebands.get_edos(method=\"gaussian\", step=0.1, width=width)\n",
      "   label=\"$\\sigma = %s$ [eV]\" % width\n",
      "   plotter.add_edos(label, edos)\n",
      "\n",
      "figure = plotter.plot(title=\"e-DOS as function of the broadening\")"
     ],
     "language": "python",
     "metadata": {},
     "outputs": []
    },
    {
     "cell_type": "markdown",
     "metadata": {},
     "source": [
      "Plotting the band structure and the DOS on the same figure is easy thanks to the great features provided by `matplotlib` "
     ]
    },
    {
     "cell_type": "code",
     "collapsed": false,
     "input": [
      "# Compute the DOS with the Gaussian method (use default values for the broadening and the linear mesh step).\n",
      "edos = gs_ebands.get_edos()\n",
      "\n",
      "# Plot bands and DOS.\n",
      "# Note that the NSCF run contains more bands that the SCF.\n",
      "# This explains why the DOS is zero for e > 10.\n",
      "figure = nscf_ebands.plot_with_edos(edos)"
     ],
     "language": "python",
     "metadata": {},
     "outputs": []
    },
    {
     "cell_type": "heading",
     "level": 2,
     "metadata": {},
     "source": [
      "Joint density of states (JDOS)"
     ]
    },
    {
     "cell_type": "markdown",
     "metadata": {},
     "source": [
      "This example shows how plot the different contributions to the electronic joint density of states of Silicon.\n",
      "Select the valence and conduction bands to include in the JDOS. Here we include valence bands from 0 to 3 and the first conduction band (4)."
     ]
    },
    {
     "cell_type": "code",
     "collapsed": false,
     "input": [
      "vrange = range(0,4)\n",
      "crange = range(4,5)\n",
      "\n",
      "# Plot data\n",
      "figure = gs_ebands.plot_ejdosvc(vrange, crange)"
     ],
     "language": "python",
     "metadata": {},
     "outputs": []
    },
    {
     "cell_type": "heading",
     "level": 2,
     "metadata": {},
     "source": [
      "Advanced features"
     ]
    },
    {
     "cell_type": "code",
     "collapsed": false,
     "input": [
      "# This example shows how to plot the so-called fatbands for electrons\n",
      "\n",
      "# Set the width \n",
      "import collections\n",
      "ones = np.ones(nscf_ebands.shape)\n",
      "\n",
      "widths = collections.OrderedDict([\n",
      "    (\"Si-3s\", ones),\n",
      "    (\"Si-3p\", 2*ones),\n",
      "])\n",
      "\n",
      "for key, value in widths.items():\n",
      "    nscf_ebands.set_width(key, value)\n",
      "\n",
      "# Plot the fatbands\n",
      "figure = nscf_ebands.plot_fatbands()"
     ],
     "language": "python",
     "metadata": {},
     "outputs": []
    }
   ],
   "metadata": {}
  }
 ]
}