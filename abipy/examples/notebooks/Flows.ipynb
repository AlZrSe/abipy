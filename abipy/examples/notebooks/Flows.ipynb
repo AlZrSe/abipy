{
 "metadata": {
  "name": "Flows"
 },
 "nbformat": 3,
 "nbformat_minor": 0,
 "worksheets": [
  {
   "cells": [
    {
     "cell_type": "heading",
     "level": 1,
     "metadata": {},
     "source": [
      "Flows, Workflows and Tasks"
     ]
    },
    {
     "cell_type": "markdown",
     "metadata": {},
     "source": [
      "Multiple datasets are handy if one wants to perform simple calculations such as convergence studies that complete quickly. Unfortunately they do not represent the best approach when we are dealing with expensive calculations involving different steps.\n",
      "Each step, indeed, might use a different MPI algorithm for the parallelization and it is very difficult to find an optimal number of processors that will lead to a good paralell efficiency in each step. For example, a GS calculation parallelized over k-points is not efficient when the numer of processors is greater than nkpt*nsppol whereas a GW calculation done with the same parameters is only limited by the number of bands. \n",
      "Moreover the overall calculation might be killed by the resource manager if the run exceeds the maximum wall time and the user is therefore forced to restart the interrupted run. Abipy tries to facilitate the execution of calculations that involve several steps...  "
     ]
    },
    {
     "cell_type": "markdown",
     "metadata": {},
     "source": [
      "The function below constructs a simple flow for the computation of the band structure calculation of Silicon."
     ]
    },
    {
     "cell_type": "code",
     "collapsed": false,
     "input": [
      "from __future__ import division, print_function\n",
      "\n",
      "import os\n",
      "from abipy import abilab\n",
      "import abipy.data as data\n",
      "\n",
      "def make_scf_nscf_inputs():\n",
      "    inp = abilab.AbiInput(pseudos=data.pseudos(\"14si.pspnc\"), ndtset=2)\n",
      "    inp.set_structure_from_file(data.cif_file(\"si.cif\"))\n",
      "\n",
      "    # Global variables\n",
      "    global_vars = dict(ecut=6,\n",
      "                       nband=8,\n",
      "                    )\n",
      "\n",
      "    inp.set_variables(**global_vars)\n",
      "\n",
      "    # Dataset 1 (GS run)\n",
      "    inp[1].set_kmesh(ngkpt=[8,8,8], shiftk=[0,0,0])\n",
      "    inp[1].set_variables(tolvrs=1e-6)\n",
      "\n",
      "    # Dataset 2 (NSCF run)\n",
      "    kptbounds = [\n",
      "        [0.5, 0.0, 0.0], # L point\n",
      "        [0.0, 0.0, 0.0], # Gamma point\n",
      "        [0.0, 0.5, 0.5], # X point\n",
      "    ]\n",
      "\n",
      "    inp[2].set_kpath(ndivsm=6, kptbounds=kptbounds)\n",
      "    inp[2].set_variables(tolwfr=1e-12)\n",
      "    \n",
      "    # Generate two input files for the GS and the NSCF run \n",
      "    scf_input, nscf_input = inp.split_datasets()\n",
      "    return scf_input, nscf_input\n"
     ],
     "language": "python",
     "metadata": {},
     "outputs": [],
     "prompt_number": 1
    },
    {
     "cell_type": "markdown",
     "metadata": {},
     "source": [
      "Now we define a helper function that constructs just to simplify the construction of the flow"
     ]
    },
    {
     "cell_type": "code",
     "collapsed": false,
     "input": [
      "def bands_flow(workdir):\n",
      "    # Create the task defining the calculation and run.\n",
      "    scf_input, nscf_input = make_scf_nscf_inputs()\n",
      "    manager = abilab.TaskManager.from_user_config()\n",
      "                                                               \n",
      "    flow = abilab.bandstructure_flow(workdir, manager, scf_input, nscf_input)\n",
      "    return flow.allocate()\n"
     ],
     "language": "python",
     "metadata": {},
     "outputs": [],
     "prompt_number": 2
    },
    {
     "cell_type": "markdown",
     "metadata": {},
     "source": [
      "At this point we can construct our band structure flow by just calling"
     ]
    },
    {
     "cell_type": "code",
     "collapsed": false,
     "input": [
      "flow = bands_flow(workdir=\"/tmp/hello_bands\")\n",
      "print(flow)\n",
      "flow.show_dependencies()"
     ],
     "language": "python",
     "metadata": {},
     "outputs": [
      {
       "output_type": "stream",
       "stream": "stdout",
       "text": [
        "<AbinitFlow, workdir=/tmp/hello_bands>\n",
        "Task #   0  1\n",
        "0            \n",
        "1        ^   \n"
       ]
      }
     ],
     "prompt_number": 3
    },
    {
     "cell_type": "markdown",
     "metadata": {},
     "source": [
      "The flow is still in memory and no file has been produced. In order to build the workflow, we have to use "
     ]
    },
    {
     "cell_type": "code",
     "collapsed": false,
     "input": [
      "flow.build_and_pickle_dump()"
     ],
     "language": "python",
     "metadata": {},
     "outputs": [
      {
       "output_type": "pyout",
       "prompt_number": 4,
       "text": [
        "0"
       ]
      }
     ],
     "prompt_number": 4
    },
    {
     "cell_type": "code",
     "collapsed": false,
     "input": [
      "!tree /tmp/hello_bands"
     ],
     "language": "python",
     "metadata": {},
     "outputs": [
      {
       "output_type": "stream",
       "stream": "stdout",
       "text": [
        "/tmp/hello_bands\r\n",
        "\u251c\u2500\u2500 __AbinitFlow__.pickle\r\n",
        "\u251c\u2500\u2500 indata\r\n",
        "\u251c\u2500\u2500 outdata\r\n",
        "\u251c\u2500\u2500 tmpdata\r\n",
        "\u2514\u2500\u2500 work_0\r\n",
        "    \u251c\u2500\u2500 indata\r\n",
        "    \u251c\u2500\u2500 outdata\r\n",
        "    \u251c\u2500\u2500 task_0\r\n",
        "    \u2502\u00a0\u00a0 \u251c\u2500\u2500 indata\r\n",
        "    \u2502\u00a0\u00a0 \u251c\u2500\u2500 job.sh\r\n",
        "    \u2502\u00a0\u00a0 \u251c\u2500\u2500 outdata\r\n",
        "    \u2502\u00a0\u00a0 \u251c\u2500\u2500 run.abi\r\n",
        "    \u2502\u00a0\u00a0 \u251c\u2500\u2500 run.files\r\n",
        "    \u2502\u00a0\u00a0 \u2514\u2500\u2500 tmpdata\r\n",
        "    \u251c\u2500\u2500 task_1\r\n",
        "    \u2502\u00a0\u00a0 \u251c\u2500\u2500 indata\r\n",
        "    \u2502\u00a0\u00a0 \u251c\u2500\u2500 job.sh\r\n",
        "    \u2502\u00a0\u00a0 \u251c\u2500\u2500 outdata\r\n",
        "    \u2502\u00a0\u00a0 \u251c\u2500\u2500 run.abi\r\n",
        "    \u2502\u00a0\u00a0 \u251c\u2500\u2500 run.files\r\n",
        "    \u2502\u00a0\u00a0 \u2514\u2500\u2500 tmpdata\r\n",
        "    \u2514\u2500\u2500 tmpdata\r\n",
        "\r\n",
        "15 directories, 7 files\r\n"
       ]
      }
     ],
     "prompt_number": 5
    }
   ],
   "metadata": {}
  }
 ]
}