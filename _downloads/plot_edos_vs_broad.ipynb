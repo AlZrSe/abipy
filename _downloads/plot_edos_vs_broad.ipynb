{
  "cells": [
    {
      "cell_type": "code",
      "execution_count": null,
      "metadata": {
        "collapsed": false
      },
      "outputs": [],
      "source": [
        "%matplotlib inline"
      ]
    },
    {
      "cell_type": "markdown",
      "metadata": {},
      "source": [
        "\nMultiple e-DOSes\n================\n\nThis example shows how to compute and plot multiple\nelectron DOSes obtained with different values of the gaussian broadening.\n\n"
      ]
    },
    {
      "cell_type": "code",
      "execution_count": null,
      "metadata": {
        "collapsed": false
      },
      "outputs": [],
      "source": [
        "import abipy.data as abidata\nfrom abipy.abilab import abiopen, ElectronDosPlotter\n\n# Open the wavefunction file computed with a homogeneous sampling of the BZ\n# and extract the band structure on the k-mesh.\nwith abiopen(abidata.ref_file(\"si_scf_WFK.nc\")) as gs_wfk:\n    gs_bands = gs_wfk.ebands\n\n# Compute the DOS with the Gaussian method.\n# Plot bands and DOS.\nwidths = [0.1, 0.2, 0.3]\nstep = 0.1\n\nplotter = ElectronDosPlotter()\n\nfor width in widths:\n    # Compute DOS and add it to the plotter.\n   edos = gs_bands.get_edos(method=\"gaussian\", step=step, width=width)\n   label = r\"$\\sigma = %s$ [eV]\" % width\n   plotter.add_edos(label, edos)\n\nplotter.combiplot()\n#plotter.animate()"
      ]
    }
  ],
  "metadata": {
    "kernelspec": {
      "display_name": "Python 3",
      "language": "python",
      "name": "python3"
    },
    "language_info": {
      "codemirror_mode": {
        "name": "ipython",
        "version": 3
      },
      "file_extension": ".py",
      "mimetype": "text/x-python",
      "name": "python",
      "nbconvert_exporter": "python",
      "pygments_lexer": "ipython3",
      "version": "3.6.1"
    }
  },
  "nbformat": 4,
  "nbformat_minor": 0
}