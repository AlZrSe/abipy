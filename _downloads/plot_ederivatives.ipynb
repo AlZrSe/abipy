{
  "cells": [
    {
      "cell_type": "code",
      "execution_count": null,
      "metadata": {
        "collapsed": false
      },
      "outputs": [],
      "source": [
        "%matplotlib inline"
      ]
    },
    {
      "cell_type": "markdown",
      "metadata": {},
      "source": [
        "\nEffective masses\n================\n\nThis example shows how to compute and plot the derivatives of the\nKS eigenvalues along a high symmetry path in K-space.\n\n"
      ]
    },
    {
      "cell_type": "code",
      "execution_count": null,
      "metadata": {
        "collapsed": false
      },
      "outputs": [],
      "source": [
        "from abipy.abilab import abiopen\nimport abipy.data as abidata\n\ngsr_file = abiopen(abidata.ref_file(\"si_nscf_GSR.nc\"))\n\nkpath = gsr_file.kpoints\n\n#print(\"ds\", kpath.ds)\n#for vers in kpath.versors:\n#    print(\"versors\", vers)\nprint(kpath)\n#print(kpath.lines)\n\n#branch = bands.get_branch(spin=0, band=3)\n#ders = kpath.finite_diff(branch, order=1)\n#ders = kpath.finite_diff(branch, order=2)\n#print(\"order2\",ders)\n\nebands = gsr_file.ebands\n\nxys = ebands.derivatives(spin=0, band=0, order=1)\nprint(\"xys\\n\", xys)\n#xys = ebands.derivatives(spin=0, band=1, order=1)\n#xys = ebands.derivatives(spin=0, band=2, order=1)\n#xys = ebands.derivatives(spin=0, band=3, order=1)\n\n#ebands.plot()\n\n#emasses = ebands.effective_masses(spin=0, band=0, acc=2)\n#print(\"emasses\", emasses)\n\n#emasses = ebands.effmass(spin=0, kpoint=[0,0,0], bands=0, acc=2)\n#print(\"emasses\", emasses)\n\n#emasses = ebands.effective_masses(spin=0, band=3, acc=2)\n#print(\"emasses\", emasses)\n\n#emasses = ebands.effective_masses(spin=0, band=4, acc=2)\n#print(\"emasses\", emasses)\n\ngsr_file.close()"
      ]
    }
  ],
  "metadata": {
    "kernelspec": {
      "display_name": "Python 3",
      "language": "python",
      "name": "python3"
    },
    "language_info": {
      "codemirror_mode": {
        "name": "ipython",
        "version": 3
      },
      "file_extension": ".py",
      "mimetype": "text/x-python",
      "name": "python",
      "nbconvert_exporter": "python",
      "pygments_lexer": "ipython3",
      "version": "3.6.1"
    }
  },
  "nbformat": 4,
  "nbformat_minor": 0
}