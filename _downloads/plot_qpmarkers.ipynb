{
  "cells": [
    {
      "cell_type": "code",
      "execution_count": null,
      "metadata": {
        "collapsed": false
      },
      "outputs": [],
      "source": [
        "%matplotlib inline"
      ]
    },
    {
      "cell_type": "markdown",
      "metadata": {},
      "source": [
        "\nAbiPy examples\n==============\n\nThis example shows how to plot the Kohn-Sham energies with\nmarkers providing a graphical representation of the GW results.\n\n"
      ]
    },
    {
      "cell_type": "code",
      "execution_count": null,
      "metadata": {
        "collapsed": false
      },
      "outputs": [],
      "source": [
        "import abipy.data as abidata\nfrom abipy.abilab import abiopen\n\nsigres = abiopen(abidata.ref_file(\"tgw1_9o_DS4_SIGRES.nc\"))\n\n# Plot the KS energies with markers whose size is proportional to the difference E_GW - E_KS\n# Multiply the difference by 1000 to make the markers more visible.\nfor qpattr in [\"qpeme0\", \"sigxme\", \"sigcmee0\"]:\n    sigres.plot_ksbands_with_qpmarkers(qpattr=qpattr, fact=100, title=qpattr)\n\n# The list of available qpattr:\n#from abipy.electrons.import QPState\n#print(QPState.get_fields)\n\nsigres.close()"
      ]
    }
  ],
  "metadata": {
    "kernelspec": {
      "display_name": "Python 3",
      "language": "python",
      "name": "python3"
    },
    "language_info": {
      "codemirror_mode": {
        "name": "ipython",
        "version": 3
      },
      "file_extension": ".py",
      "mimetype": "text/x-python",
      "name": "python",
      "nbconvert_exporter": "python",
      "pygments_lexer": "ipython3",
      "version": "3.6.1"
    }
  },
  "nbformat": 4,
  "nbformat_minor": 0
}