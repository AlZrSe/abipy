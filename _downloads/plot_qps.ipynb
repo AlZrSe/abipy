{
  "cells": [
    {
      "cell_type": "code",
      "execution_count": null,
      "metadata": {
        "collapsed": false
      },
      "outputs": [],
      "source": [
        "%matplotlib inline"
      ]
    },
    {
      "cell_type": "markdown",
      "metadata": {},
      "source": [
        "\nSIGRES file (GW)\n================\n\nThis example shows how to visualize the QP results \nstored in the SIGRES produced by the GW code (sigma run)\n\n"
      ]
    },
    {
      "cell_type": "code",
      "execution_count": null,
      "metadata": {
        "collapsed": false
      },
      "outputs": [],
      "source": [
        "import abipy.data as abidata\nfrom abipy.abilab import abiopen\n\nsigres = abiopen(abidata.ref_file(\"tgw1_9o_DS4_SIGRES.nc\"))\n\n# Printout of the QPState results\nsigres.print_qps()\n\nsigres.plot_qps_vs_e0()\n\nqp = sigres.get_qpcorr(spin=0, kpoint=(0,0,0), band=0)\nprint(qp)\n\n#qplist_spin = sigres.qplist_spin\n#qplist_spin[0].plot_qps_vs_e0(title=\"QPState corrections of Si\", exclude_fields=\"vUme\")\n\nsigres.close()"
      ]
    }
  ],
  "metadata": {
    "kernelspec": {
      "display_name": "Python 3",
      "language": "python",
      "name": "python3"
    },
    "language_info": {
      "codemirror_mode": {
        "name": "ipython",
        "version": 3
      },
      "file_extension": ".py",
      "mimetype": "text/x-python",
      "name": "python",
      "nbconvert_exporter": "python",
      "pygments_lexer": "ipython3",
      "version": "3.6.1"
    }
  },
  "nbformat": 4,
  "nbformat_minor": 0
}