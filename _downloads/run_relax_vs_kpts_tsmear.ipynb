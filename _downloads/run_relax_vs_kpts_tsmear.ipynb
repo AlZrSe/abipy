{
  "cells": [
    {
      "cell_type": "code",
      "execution_count": null,
      "metadata": {
        "collapsed": false
      },
      "outputs": [],
      "source": [
        "%matplotlib inline"
      ]
    },
    {
      "cell_type": "markdown",
      "metadata": {},
      "source": [
        "\nRelaxation of GaN with different K-meshes\n=========================================\n\nIn this example, we employ the relaxation algorithms implemented in Abinit (``ionmov`` and ``optcell``)\nto find the equilibrium configuration of GaN (atomic positions and lattice vectors).\nThe relaxation is done with different k-meshes to monitor the convergence of the results.\nYou will observe a change of the equilibrium parameters with respect to the k-point mesh.\n\nNote the we are using pseudopotentials generated with the GGA which tends to\noverestimate the lattice parameters and ecut is way too low.\nIf you replace GGA with LDA, you will observe that LDA tends to underestimate the parameters.\n\n"
      ]
    },
    {
      "cell_type": "code",
      "execution_count": null,
      "metadata": {
        "collapsed": false
      },
      "outputs": [],
      "source": [
        "from __future__ import division, print_function, unicode_literals, absolute_import\n\nimport sys\nimport os\n\nimport abipy.abilab as abilab\nimport abipy.flowtk as flowtk\nimport abipy.data as abidata\n\n\ndef relax_input(tsmear, nksmall):\n    \"\"\"\n    Crystalline aluminum: optimization of the lattice parameter\n    at fixed number of k points and broadening. Similar to tbase4_1.in with minor\n    \"\"\"\n    #structure = abilab.Structure.fcc()\n    inp = abilab.AbinitInput(structure=abidata.ucells.structure_from_ucell(\"Al\"),\n                             pseudos=abidata.pseudos(\"13al.981214.fhi\"))\n\n    # Define k-point sampling.\n    # nshiftk and shift are automatically selected from the lattice and the number of divisions\n    # for the smallest direction. nksmall 2 e.g. will automatically select\n    #   ngkpt 2 2 2\n    #   nshiftk 4\n    #   shiftk\n    #       0.5 0.5 0.5\n    #       0.5 0.0 0.0\n    #       0.0 0.5 0.0\n    #       0.0 0.0 0.5\n    inp.set_autokmesh(nksmall=nksmall)\n\n    inp.set_vars(\n        ecut=6,\n        occopt=4,\n        tsmear=tsmear,\n        toldfe=1e-6,\n        nstep=10,\n        optcell=1,    # Optimization of the lattice parameters\n        ionmov=2,\n        ntime=10,\n        dilatmx=1.05,\n        ecutsm=0.5,\n        ixc=1,\n    )\n\n    return inp\n\ndef build_flow(options):\n    \"\"\"\n    Build and return a flow performing structural relaxations with different k-point samplings.\n    \"\"\"\n    # Set working directory (default is the name of the script with '.py' removed and \"run_\" replaced by \"flow_\")\n    if not options.workdir:\n        options.workdir = os.path.basename(__file__).replace(\".py\", \"\").replace(\"run_\", \"flow_\")\n\n    # Let generate multiple inputs for different (tsmear, nksmall)\n    # Product computes the Cartesian product of input iterables.\n    # It's equivalent to nested for-loops\n    tsmear_list = (0.01, 0.02, 0.03, 0.04)\n    nksmall_list = (2, 4, 6)\n\n    from itertools import product\n    inputs = [relax_input(tsmear, nksmall) for tsmear, nksmall in product(tsmear_list, nksmall_list)]\n\n    # Build flow form inputs.\n    # As the calculations are independent, we can use Flow.from_inputs\n    # Note the Flow.from_inputs is a simplified interface that, by default, builds tasks\n    # for Ground-state calculation (GsTask).\n    # Here we are performing a structural relaxation so we have to specify the task class explicitly.\n    # AbiPy will use this piece of information to handle the restart of the RelaxTask that differs\n    # from the one provided by GsTask.\n\n    return flowtk.Flow.from_inputs(options.workdir, inputs=inputs, task_class=flowtk.RelaxTask)\n\n\n# This block generates the thumbnails in the Abipy gallery.\n# You can safely REMOVE this part if you are using this script for production runs.\nif os.getenv(\"GENERATE_SPHINX_GALLERY\", False):\n    __name__ = None\n    import tempfile\n    options = flowtk.build_flow_main_parser().parse_args([\"-w\", tempfile.mkdtemp()])\n    build_flow(options).plot_networkx(with_edge_labels=True, tight_layout=True)\n\n\n@flowtk.flow_main\ndef main(options):\n    \"\"\"\n    This is our main function that will be invoked by the script.\n    flow_main is a decorator implementing the command line interface.\n    Command line args are stored in `options`.\n    \"\"\"\n    return build_flow(options)\n\n\nif __name__ == \"__main__\":\n    sys.exit(main())"
      ]
    },
    {
      "cell_type": "markdown",
      "metadata": {},
      "source": [
        "Run the script with:\n\n     run_relax_vs_kpts_tsmear.py -s\n\n then use:\n\n     abirun.py flow_relax_vs_kpts_tsmear hist -p\n\n to print (and plot) the relaxed parameters at the end of the run.\n\n .. code-block:: bash\n\n .. code-block:: ipython\n\n\t In [1]: %matplotlib\n\t In [2]: df = robot.get_dataframe()\n\t # Let's do some math with pandas to retrieve the Abinit acell from the a lattice parameter given in Ang.\n\t In [3]: import math\n\t In [4]: from abipy import abilab\n\t In [5]: df[\"acell\"] = df[\"a\"] * math.sqrt(2) * abilab.units.ang_to_bohr\n        # and then use\n\t In [6]: robot.plot_xy_with_hue(df, \"nkpt\", \"acell\", hue=\"tsmear\")\n        # to plot the optimized acell vs nkpt for the different values of tsmear.\n\n .. image:: https://github.com/abinit/abipy_assets/blob/master/run_relax_vs_kpts_tsmear.png?raw=true\n    :alt: optimized acell as function of nkpt and tsmear\n\n"
      ]
    }
  ],
  "metadata": {
    "kernelspec": {
      "display_name": "Python 3",
      "language": "python",
      "name": "python3"
    },
    "language_info": {
      "codemirror_mode": {
        "name": "ipython",
        "version": 3
      },
      "file_extension": ".py",
      "mimetype": "text/x-python",
      "name": "python",
      "nbconvert_exporter": "python",
      "pygments_lexer": "ipython3",
      "version": "3.6.1"
    }
  },
  "nbformat": 4,
  "nbformat_minor": 0
}