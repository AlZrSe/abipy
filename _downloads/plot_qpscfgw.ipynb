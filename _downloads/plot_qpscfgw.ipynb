{
  "cells": [
    {
      "cell_type": "code",
      "execution_count": null,
      "metadata": {
        "collapsed": false
      },
      "outputs": [],
      "source": [
        "%matplotlib inline"
      ]
    },
    {
      "cell_type": "markdown",
      "metadata": {},
      "source": [
        "\nself-consistent GW\n==================\n\nThis example shows how to visualize the SCGW QP amplitudes in the KS basis set.\n\n"
      ]
    },
    {
      "cell_type": "code",
      "execution_count": null,
      "metadata": {
        "collapsed": false
      },
      "outputs": [],
      "source": [
        "import abipy.data as abidata\nfrom abipy.abilab import abiopen\n\nsigres = abiopen(abidata.ref_file(\"QPSC_SIGRES.nc\"))\n\n#print(\"calctyp\",sigres.gwcalctyp)\n#sigres.print_qps()\n\n#qp = sigres.get_qpcorr(spin=0, kpoint=(0,0,0), band=0)\n#print(qp)\n\n# Visualize matrix at the Gamma point\nsigres.plot_eigvec_qp(spin=0, kpoint=[0,0,0], title=\"<KS_b|QP_b'> components\")\n\n# Plott all k-points in SIGRES.\nsigres.plot_eigvec_qp(spin=0, kpoint=None, title=\"<KS_b|QP_b'> components\")"
      ]
    }
  ],
  "metadata": {
    "kernelspec": {
      "display_name": "Python 3",
      "language": "python",
      "name": "python3"
    },
    "language_info": {
      "codemirror_mode": {
        "name": "ipython",
        "version": 3
      },
      "file_extension": ".py",
      "mimetype": "text/x-python",
      "name": "python",
      "nbconvert_exporter": "python",
      "pygments_lexer": "ipython3",
      "version": "3.6.1"
    }
  },
  "nbformat": 4,
  "nbformat_minor": 0
}