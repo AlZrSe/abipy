{
  "cells": [
    {
      "cell_type": "code",
      "execution_count": null,
      "metadata": {
        "collapsed": false
      },
      "outputs": [],
      "source": [
        "%matplotlib inline"
      ]
    },
    {
      "cell_type": "markdown",
      "metadata": {},
      "source": [
        "\nG0W0 Flow\n=========\n\nThis script shows how to compute the G0W0 corrections in silicon.\n\n"
      ]
    },
    {
      "cell_type": "code",
      "execution_count": null,
      "metadata": {
        "collapsed": false
      },
      "outputs": [],
      "source": [
        "from __future__ import division, print_function, unicode_literals, absolute_import\n\nimport os\nimport sys\nimport abipy.data as data\nimport abipy.abilab as abilab\nfrom abipy import flowtk\n\n\ndef make_inputs(ngkpt, paral_kgb=1):\n    # Crystalline silicon\n    # Calculation of the GW correction to the direct band gap in Gamma\n    # Dataset 1: ground state calculation\n    # Dataset 2: NSCF calculation\n    # Dataset 3: calculation of the screening\n    # Dataset 4-5-6: Self-Energy matrix elements (GW corrections) with different values of nband\n\n    multi = abilab.MultiDataset(structure=data.cif_file(\"si.cif\"), pseudos=data.pseudos(\"14si.pspnc\"), ndtset=6)\n\n    # This grid is the most economical, but does not contain the Gamma point.\n    scf_kmesh = dict(\n        ngkpt=ngkpt,\n        shiftk=[0.5, 0.5, 0.5,\n                0.5, 0.0, 0.0,\n                0.0, 0.5, 0.0,\n                0.0, 0.0, 0.5]\n    )\n\n    # This grid contains the Gamma point, which is the point at which\n    # we will compute the (direct) band gap.\n    gw_kmesh = dict(\n        ngkpt=ngkpt,\n        shiftk=[0.0, 0.0, 0.0,\n                0.0, 0.5, 0.5,\n                0.5, 0.0, 0.5,\n                0.5, 0.5, 0.0]\n    )\n\n    # Global variables. gw_kmesh is used in all datasets except DATASET 1.\n    ecut = 6\n\n    multi.set_vars(\n        ecut=ecut,\n        timopt=-1,\n        istwfk=\"*1\",\n        paral_kgb=paral_kgb,\n        gwpara=2,\n    )\n    multi.set_kmesh(**gw_kmesh)\n\n    # Dataset 1 (GS run)\n    multi[0].set_kmesh(**scf_kmesh)\n    multi[0].set_vars(\n        tolvrs=1e-6,\n        nband=4,\n    )\n\n    # Dataset 2 (NSCF run)\n    # Here we select the second dataset directly with the syntax multi[1]\n    multi[1].set_vars(iscf=-2,\n                    tolwfr=1e-12,\n                    nband=35,\n                    nbdbuf=5,\n                   )\n\n    # Dataset3: Calculation of the screening.\n    multi[2].set_vars(\n        optdriver=3,\n        nband=25,\n        ecutwfn=ecut,\n        symchi=1,\n        inclvkb=0,\n        ecuteps=4.0,\n        ppmfrq=\"16.7 eV\",\n    )\n\n    # Dataset4: Calculation of the Self-Energy matrix elements (GW corrections)\n    kptgw = [\n         -2.50000000E-01, -2.50000000E-01,  0.00000000E+00,\n         -2.50000000E-01,  2.50000000E-01,  0.00000000E+00,\n          5.00000000E-01,  5.00000000E-01,  0.00000000E+00,\n         -2.50000000E-01,  5.00000000E-01,  2.50000000E-01,\n          5.00000000E-01,  0.00000000E+00,  0.00000000E+00,\n          0.00000000E+00,  0.00000000E+00,  0.00000000E+00,\n      ]\n\n    bdgw = [1,8]\n\n    for idx, nband in enumerate([10, 20, 30]):\n        multi[3+idx].set_vars(\n            optdriver=4,\n            nband=nband,\n            ecutwfn=ecut,\n            ecuteps=4.0,\n            ecutsigx=6.0,\n            symsigma=1,\n            #gw_qprange=0,\n            #nkptgw=0,\n        )\n        multi[3+idx].set_kptgw(kptgw, bdgw)\n\n    return multi.split_datasets()\n\n\ndef build_flow(options):\n    # Working directory (default is the name of the script with '.py' removed and \"run_\" replaced by \"flow_\")\n    if not options.workdir:\n        options.workdir = os.path.basename(__file__).replace(\".py\", \"\").replace(\"run_\",\"flow_\")\n\n    # Change the value of ngkpt below to perform a GW calculation with a different k-mesh.\n    scf, nscf, scr, sig1, sig2, sig3 = make_inputs(ngkpt=[2, 2, 2])\n\n    return flowtk.g0w0_flow(options.workdir, scf, nscf, scr, [sig1, sig2, sig3], manager=options.manager)\n\n\n# This block generates the thumbnails in the Abipy gallery.\n# You can safely REMOVE this part if you are using this script for production runs.\nif os.getenv(\"GENERATE_SPHINX_GALLERY\", False):\n    __name__ = None\n    import tempfile\n    options = flowtk.build_flow_main_parser().parse_args([\"-w\", tempfile.mkdtemp()])\n    build_flow(options).plot_networkx(tight_layout=True)\n\n\n@flowtk.flow_main\ndef main(options):\n    return build_flow(options)\n\n\nif __name__ == \"__main__\":\n    sys.exit(main())"
      ]
    }
  ],
  "metadata": {
    "kernelspec": {
      "display_name": "Python 3",
      "language": "python",
      "name": "python3"
    },
    "language_info": {
      "codemirror_mode": {
        "name": "ipython",
        "version": 3
      },
      "file_extension": ".py",
      "mimetype": "text/x-python",
      "name": "python",
      "nbconvert_exporter": "python",
      "pygments_lexer": "ipython3",
      "version": "3.6.1"
    }
  },
  "nbformat": 4,
  "nbformat_minor": 0
}