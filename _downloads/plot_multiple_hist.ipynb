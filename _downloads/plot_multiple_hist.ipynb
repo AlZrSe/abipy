{
  "cells": [
    {
      "cell_type": "code",
      "execution_count": null,
      "metadata": {
        "collapsed": false
      },
      "outputs": [],
      "source": [
        "%matplotlib inline"
      ]
    },
    {
      "cell_type": "markdown",
      "metadata": {},
      "source": [
        "\nMultiple Structural relaxations\n===============================\n\nThis example shows how to analyze the results of multiple \nstructure relaxations with the HIST robot.\n\n"
      ]
    },
    {
      "cell_type": "code",
      "execution_count": null,
      "metadata": {
        "collapsed": false
      },
      "outputs": [],
      "source": [
        "from abipy import abilab \nimport abipy.data as abidata\n\nfiles = [\n    abidata.ref_file(\"sic_relax_HIST.nc\"),\n    abidata.ref_file(\"sic_relax_HIST.nc\"),\n]\n\nrobot = abilab.HistRobot()\nfor i, f in enumerate(files):\n    robot.add_file(\"file %s\" % i, f)\n\n# or alternatively use:\n#\n#   robot = HistRobot.from_files(files)\n\nprint(robot.get_dataframe())\n\nfor what in robot.what_list:\n    robot.gridplot(what=what)"
      ]
    }
  ],
  "metadata": {
    "kernelspec": {
      "display_name": "Python 3",
      "language": "python",
      "name": "python3"
    },
    "language_info": {
      "codemirror_mode": {
        "name": "ipython",
        "version": 3
      },
      "file_extension": ".py",
      "mimetype": "text/x-python",
      "name": "python",
      "nbconvert_exporter": "python",
      "pygments_lexer": "ipython3",
      "version": "3.6.1"
    }
  },
  "nbformat": 4,
  "nbformat_minor": 0
}