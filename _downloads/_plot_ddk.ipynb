{
  "cells": [
    {
      "cell_type": "code",
      "execution_count": null,
      "metadata": {
        "collapsed": false
      },
      "outputs": [],
      "source": [
        "%matplotlib inline"
      ]
    },
    {
      "cell_type": "markdown",
      "metadata": {},
      "source": [
        "\nDDK.nc\n======\n\nThis example shows how to analyze DDK.nc files \ncontaining the velocity matrix elements.\n\n"
      ]
    },
    {
      "cell_type": "code",
      "execution_count": null,
      "metadata": {
        "collapsed": false
      },
      "outputs": [],
      "source": [
        "from abipy.abilab import abiopen\nimport abipy.data as abidata\n\n# Here we use the DDK.nc files shipped with abipy.\n# Replace ddk_paths with the paths to your files.\nddk_paths = abidata.ref_files(\n    \"gaas_444_dir1_DDK.nc\",\n    \"gaas_444_dir2_DDK.nc\",\n    \"gaas_444_dir3_DDK.nc\",\n)\n\nfrom abipy.electrons.ddk import DdksAnalyzer\n\nwith DdksAnalyzer(ddk_paths) as van:\n    print(van)\n    #ddk_doses = van.get_doses(method=\"gaussian\", step=0.1, width=0.2)\n    #ddk_doses.plot()\n    #ddk_doses.plot_with_ebands(ebands_kpath)"
      ]
    }
  ],
  "metadata": {
    "kernelspec": {
      "display_name": "Python 3",
      "language": "python",
      "name": "python3"
    },
    "language_info": {
      "codemirror_mode": {
        "name": "ipython",
        "version": 3
      },
      "file_extension": ".py",
      "mimetype": "text/x-python",
      "name": "python",
      "nbconvert_exporter": "python",
      "pygments_lexer": "ipython3",
      "version": "3.6.1"
    }
  },
  "nbformat": 4,
  "nbformat_minor": 0
}