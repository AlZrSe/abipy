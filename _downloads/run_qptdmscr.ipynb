{
  "cells": [
    {
      "cell_type": "code",
      "execution_count": null,
      "metadata": {
        "collapsed": false
      },
      "outputs": [],
      "source": [
        "%matplotlib inline"
      ]
    },
    {
      "cell_type": "markdown",
      "metadata": {},
      "source": [
        "\nScreening Flow with q-point parallelism\n=======================================\n\nThis example shows how to compute the SCR file by splitting the calculation of the SCR file\nover q-points with the input variables nqptdm and qptdm.\n\n"
      ]
    },
    {
      "cell_type": "code",
      "execution_count": null,
      "metadata": {
        "collapsed": false
      },
      "outputs": [],
      "source": [
        "from __future__ import division, print_function, unicode_literals, absolute_import\n\nimport sys\nimport os\nimport abipy.abilab as abilab\nimport abipy.data as data\n\nfrom abipy import flowtk\n\n\ndef all_inputs(paral_kgb=1):\n    \"\"\"\n    Build the input files of the calculation.\n    Returns: gs_input, nscf_input, scr_input, sigma_input\n    \"\"\"\n    ecut = ecutwfn = 4\n    global_vars = dict(\n        ecut=ecut,\n        istwfk=\"*1\",\n        paral_kgb=paral_kgb,\n    )\n\n    multi = abilab.MultiDataset(structure=data.cif_file(\"si.cif\"),\n                                pseudos=data.pseudos(\"14si.pspnc\"), ndtset=4)\n    multi.set_vars(global_vars)\n\n    gs, nscf, scr, sigma = multi.split_datasets()\n\n    # This grid is the most economical, but does not contain the Gamma point.\n    gs_kmesh = dict(\n        ngkpt=[2, 2, 2],\n        shiftk=[0.5, 0.5, 0.5,\n                0.5, 0.0, 0.0,\n                0.0, 0.5, 0.0,\n                0.0, 0.0, 0.5]\n    )\n\n    # This grid contains the Gamma point, which is the point at which\n    # we will compute the (direct) band gap.\n    gw_kmesh = dict(\n        ngkpt=[2, 2, 2],\n        shiftk=[0.0, 0.0, 0.0,\n                0.0, 0.5, 0.5,\n                0.5, 0.0, 0.5,\n                0.5, 0.5, 0.0]\n    )\n\n    # Dataset 1 (GS run)\n    gs.set_kmesh(**gs_kmesh)\n    gs.set_vars(tolvrs=1e-6, nband=4)\n\n    # Dataset 2 (NSCF run)\n    # Here we select the second dataset directly with the syntax inp[2]\n    nscf.set_kmesh(**gw_kmesh)\n    nscf.set_vars(iscf=-2,\n                  tolwfr=1e-10,\n                  nband=15,\n                  nbdbuf=5,\n    )\n\n    # Dataset3: Calculation of the screening.\n    scr.set_kmesh(**gw_kmesh)\n\n    scr.set_vars(\n        optdriver=3,\n        nband=6,\n        ecutwfn=ecutwfn,\n        symchi=1,\n        inclvkb=0,\n        ecuteps=2.0,\n    )\n\n    # Dataset4: Calculation of the Self-Energy matrix elements (GW corrections)\n    sigma.set_kmesh(**gw_kmesh)\n\n    sigma.set_vars(\n            optdriver=4,\n            nband=8,\n            ecutwfn=ecutwfn,\n            ecuteps=2.0,\n            ecutsigx=2.0,\n            symsigma=1,\n    )\n\n    kptgw = [\n         -2.50000000E-01, -2.50000000E-01,  0.00000000E+00,\n         -2.50000000E-01,  2.50000000E-01,  0.00000000E+00,\n          5.00000000E-01,  5.00000000E-01,  0.00000000E+00,\n         -2.50000000E-01,  5.00000000E-01,  2.50000000E-01,\n          5.00000000E-01,  0.00000000E+00,  0.00000000E+00,\n          0.00000000E+00,  0.00000000E+00,  0.00000000E+00,\n    ]\n\n    bdgw = [1, 8]\n\n    sigma.set_kptgw(kptgw, bdgw)\n\n    return multi.split_datasets()\n\n\ndef build_flow(options):\n    \"\"\"\n    Construct the flow for G0W0 calculations.\n    The calculation of the SCR file is split into nqptdm independent calculations.\n    Partial SCR files are then merged with mrgddb before starting the sigma run.\n    \"\"\"\n    # Working directory (default is the name of the script with '.py' removed and \"run_\" replaced by \"flow_\")\n    if not options.workdir:\n        options.workdir = os.path.basename(__file__).replace(\".py\", \"\").replace(\"run_\", \"flow_\")\n\n    # Build the input files for GS, NSCF, SCR and SIGMA runs.\n    gs, nscf, scr_input, sigma_input = all_inputs()\n\n    # Construct the flow.\n    return flowtk.G0W0WithQptdmFlow(options.workdir, gs, nscf, scr_input, sigma_input,\n                                    manager=options.manager)\n\n\n# This block generates the thumbnails in the Abipy gallery.\n# You can safely REMOVE this part if you are using this script for production runs.\nif os.getenv(\"GENERATE_SPHINX_GALLERY\", False):\n    __name__ = None\n    #import tempfile\n    #options = flowtk.build_flow_main_parser().parse_args([\"-w\", tempfile.mkdtemp()])\n    #build_flow(options).plot_networkx(tight_layout=True)\n\n\n@flowtk.flow_main\ndef main(options):\n    \"\"\"\n    This is our main function that will be invoked by the script.\n    flow_main is a decorator implementing the command line interface.\n    Command line args are stored in `options`.\n    \"\"\"\n    return build_flow(options)\n\n\nif __name__ == \"__main__\":\n    sys.exit(main())"
      ]
    }
  ],
  "metadata": {
    "kernelspec": {
      "display_name": "Python 3",
      "language": "python",
      "name": "python3"
    },
    "language_info": {
      "codemirror_mode": {
        "name": "ipython",
        "version": 3
      },
      "file_extension": ".py",
      "mimetype": "text/x-python",
      "name": "python",
      "nbconvert_exporter": "python",
      "pygments_lexer": "ipython3",
      "version": "3.6.1"
    }
  },
  "nbformat": 4,
  "nbformat_minor": 0
}