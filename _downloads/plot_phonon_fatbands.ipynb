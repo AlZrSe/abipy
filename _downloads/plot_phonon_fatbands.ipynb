{
  "cells": [
    {
      "cell_type": "code",
      "execution_count": null,
      "metadata": {
        "collapsed": false
      },
      "outputs": [],
      "source": [
        "%matplotlib inline"
      ]
    },
    {
      "cell_type": "markdown",
      "metadata": {},
      "source": [
        "\nPhonon fatbands\n===============\n\nThis example shows how to plot the phonon fatbands of AlAs.\nSee tutorial/lesson_rf2.html\n\n"
      ]
    },
    {
      "cell_type": "code",
      "execution_count": null,
      "metadata": {
        "collapsed": false
      },
      "outputs": [],
      "source": [
        "from abipy.abilab import abiopen\nimport abipy.data as abidata\n\n# Open the PHBST file produced by anaddb and get the phonon bands.\nwith abiopen(abidata.ref_file(\"trf2_5.out_PHBST.nc\")) as ncfile:\n    phbands = ncfile.phbands\n\n# Plot the phonon band structure.\nphbands.plot_fatbands(title=\"AlAs phonon fatbands without LO-TO splitting\") #, qlabels=qlabels)\n\n# Plot the phonon band structure + PJDOS\n# sphinx_gallery_thumbnail_number = 2\nphdos_path = abidata.ref_file(\"trf2_5.out_PHDOS.nc\")\nphbands.plot_fatbands(units=\"Thz\", phdos_file=phdos_path, title=\"AlAs phonon fatbands with PJDOS\")"
      ]
    }
  ],
  "metadata": {
    "kernelspec": {
      "display_name": "Python 3",
      "language": "python",
      "name": "python3"
    },
    "language_info": {
      "codemirror_mode": {
        "name": "ipython",
        "version": 3
      },
      "file_extension": ".py",
      "mimetype": "text/x-python",
      "name": "python",
      "nbconvert_exporter": "python",
      "pygments_lexer": "ipython3",
      "version": "3.6.1"
    }
  },
  "nbformat": 4,
  "nbformat_minor": 0
}