{
  "cells": [
    {
      "cell_type": "code",
      "execution_count": null,
      "metadata": {
        "collapsed": false
      },
      "outputs": [],
      "source": [
        "%matplotlib inline"
      ]
    },
    {
      "cell_type": "markdown",
      "metadata": {},
      "source": [
        "\nG0W0 Flow with factory functions\n================================\n\nG0W0 corrections with the HT interface.\n\n"
      ]
    },
    {
      "cell_type": "code",
      "execution_count": null,
      "metadata": {
        "collapsed": false
      },
      "outputs": [],
      "source": [
        "from __future__ import print_function, division, unicode_literals, absolute_import\n\nimport sys\nimport os\nimport abipy.data as abidata\nimport abipy.flowtk as flowtk\nfrom abipy import abilab\n\n\ndef build_flow(options):\n    # Init structure and pseudos.\n    structure = abilab.Structure.from_file(abidata.cif_file(\"si.cif\"))\n    pseudos = abidata.pseudos(\"14si.pspnc\")\n\n    # Working directory (default is the name of the script with '.py' removed and \"run_\" replaced by \"flow_\")\n    if not options.workdir:\n        options.workdir = os.path.basename(__file__).replace(\".py\", \"\").replace(\"run_\", \"flow_\")\n\n    # Initialize the flow.\n    flow = flowtk.Flow(options.workdir, manager=options.manager)\n\n    scf_kppa = 10\n    nscf_nband = 10\n    #nscf_ngkpt = [4,4,4]\n    #nscf_shiftk = [0.0, 0.0, 0.0]\n    ecut, ecuteps, ecutsigx = 4, 2, 3\n    #scr_nband = 50\n    #sigma_nband = 50\n\n    multi = abilab.g0w0_with_ppmodel_inputs(\n        structure, pseudos,\n        scf_kppa, nscf_nband, ecuteps, ecutsigx,\n        ecut=ecut, pawecutdg=None,\n        accuracy=\"normal\", spin_mode=\"unpolarized\", smearing=None,\n        #ppmodel=\"godby\", charge=0.0, scf_algorithm=None, inclvkb=2, scr_nband=None,\n        #sigma_nband=None, gw_qprange=1):\n\n    )\n    #multi.set_vars(paral_kgb=1)\n\n    scf_input, nscf_input, scr_input, sigma_input = multi.split_datasets()\n    work = flowtk.G0W0Work(scf_input, nscf_input, scr_input, sigma_input)\n    flow.register_work(work)\n\n    return flow\n\n\n# This block generates the thumbnails in the Abipy gallery.\n# You can safely REMOVE this part if you are using this script for production runs.\nif os.getenv(\"GENERATE_SPHINX_GALLERY\", False):\n    __name__ = None\n    import tempfile\n    options = flowtk.build_flow_main_parser().parse_args([\"-w\", tempfile.mkdtemp()])\n    build_flow(options).plot_networkx(tight_layout=True)\n\n\n@flowtk.flow_main\ndef main(options):\n    \"\"\"\n    This is our main function that will be invoked by the script.\n    flow_main is a decorator implementing the command line interface.\n    Command line args are stored in `options`.\n    \"\"\"\n    return build_flow(options)\n\n\nif __name__ == \"__main__\":\n    sys.exit(main())"
      ]
    }
  ],
  "metadata": {
    "kernelspec": {
      "display_name": "Python 3",
      "language": "python",
      "name": "python3"
    },
    "language_info": {
      "codemirror_mode": {
        "name": "ipython",
        "version": 3
      },
      "file_extension": ".py",
      "mimetype": "text/x-python",
      "name": "python",
      "nbconvert_exporter": "python",
      "pygments_lexer": "ipython3",
      "version": "3.6.1"
    }
  },
  "nbformat": 4,
  "nbformat_minor": 0
}