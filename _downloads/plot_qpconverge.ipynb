{
  "cells": [
    {
      "cell_type": "code",
      "execution_count": null,
      "metadata": {
        "collapsed": false
      },
      "outputs": [],
      "source": [
        "%matplotlib inline"
      ]
    },
    {
      "cell_type": "markdown",
      "metadata": {},
      "source": [
        "\nGW Convergence\n==============\n\nThis example shows how to visualize the convergence of the\nQP results stored in the SIGRES produced by the GW code (sigma run).\n\n"
      ]
    },
    {
      "cell_type": "code",
      "execution_count": null,
      "metadata": {
        "collapsed": false
      },
      "outputs": [],
      "source": [
        "from abipy.abilab import SigresPlotter\nimport abipy.data as abidata\n\n# List of SIGRES files computed with different values of nband.\nfilenames = [\n    \"si_g0w0ppm_nband10_SIGRES.nc\",\n    \"si_g0w0ppm_nband20_SIGRES.nc\",\n    \"si_g0w0ppm_nband30_SIGRES.nc\",\n]\n\nfilepaths = [abidata.ref_file(fname) for fname in filenames]\n\n# Create the plotter and add `filepaths` to the plotter.\nplotter = SigresPlotter()\nplotter.add_files(filepaths)\n\n# Plot the convergence of the QP gaps.\nplotter.plot_qpgaps(title=\"QP gaps vs sigma_nband\", hspan=0.05)\n\n# Plot the convergence of the QP energies.\nplotter.plot_qpenes(spin=0, kpoint=[0, 0, 0], title=\"QP energies vs sigma_nband\", hspan=0.05)\n\n# sphinx_gallery_thumbnail_number = 3\nplotter.plot_qps_vs_e0(tight_layout=True)"
      ]
    }
  ],
  "metadata": {
    "kernelspec": {
      "display_name": "Python 3",
      "language": "python",
      "name": "python3"
    },
    "language_info": {
      "codemirror_mode": {
        "name": "ipython",
        "version": 3
      },
      "file_extension": ".py",
      "mimetype": "text/x-python",
      "name": "python",
      "nbconvert_exporter": "python",
      "pygments_lexer": "ipython3",
      "version": "3.6.1"
    }
  },
  "nbformat": 4,
  "nbformat_minor": 0
}